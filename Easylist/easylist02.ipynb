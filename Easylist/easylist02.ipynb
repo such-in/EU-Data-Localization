{
 "cells": [
  {
   "cell_type": "markdown",
   "id": "5d6f13cd-cd49-4267-8952-e18590d88ecb",
   "metadata": {},
   "source": [
    "# 1. Import packages"
   ]
  },
  {
   "cell_type": "code",
   "execution_count": 1,
   "id": "e664de78-e052-4e74-b44c-8544cd9cf753",
   "metadata": {},
   "outputs": [],
   "source": [
    "import copy\n",
    "import numpy as np\n",
    "import os\n",
    "import pandas as pd\n",
    "import time\n",
    "\n",
    "from datetime import timedelta"
   ]
  },
  {
   "cell_type": "markdown",
   "id": "58b7b949-b5aa-43ea-a1b0-5108f614dd6a",
   "metadata": {},
   "source": [
    "# 2. Read a sample CSV"
   ]
  },
  {
   "cell_type": "markdown",
   "id": "89d1e10f-9f17-4455-a492-d76486eb896b",
   "metadata": {},
   "source": [
    "## 2.1. Change to inputs directory"
   ]
  },
  {
   "cell_type": "code",
   "execution_count": 2,
   "id": "60248de6-a3a7-4d4b-a39a-3e40e39183b2",
   "metadata": {},
   "outputs": [
    {
     "name": "stdout",
     "output_type": "stream",
     "text": [
      "/Users/immanuel/Documents/NEU/05_Spring_2022/CS7675_ResAppr/tasks/MyLab/task16_easylist\n",
      "/Users/immanuel/Documents/NEU/05_Spring_2022/CS7675_ResAppr/tasks/MyLab/task16_easylist/input\n"
     ]
    }
   ],
   "source": [
    "print(os.getcwd())\n",
    "input_path_s = \"/input/\"\n",
    "input_path_s = os.getcwd() + input_path_s\n",
    "output_path_s = \"/output/\"\n",
    "output_path_s = os.getcwd() + output_path_s\n",
    "os.chdir(input_path_s)\n",
    "print(os.getcwd())"
   ]
  },
  {
   "cell_type": "markdown",
   "id": "91397367-aa77-416f-abc7-faa90d3871be",
   "metadata": {},
   "source": [
    "## 2.2. Read CSV: 2022-08-09.csv"
   ]
  },
  {
   "cell_type": "code",
   "execution_count": 3,
   "id": "e75c65d6-3a06-4ea2-85e5-98b0137d2084",
   "metadata": {},
   "outputs": [],
   "source": [
    "csv_df = pd.read_csv(\"2022-08-09.csv\")"
   ]
  },
  {
   "cell_type": "code",
   "execution_count": 4,
   "id": "63c3330e-81b6-4b97-8313-901eaeeeea9b",
   "metadata": {},
   "outputs": [
    {
     "data": {
      "text/plain": [
       "0          p1cluster.cxense.com\n",
       "1          p1cluster.cxense.com\n",
       "2          p1cluster.cxense.com\n",
       "3          p1cluster.cxense.com\n",
       "4          p1cluster.cxense.com\n",
       "                  ...          \n",
       "56570    accounts.pinterest.com\n",
       "56571    accounts.pinterest.com\n",
       "56572    accounts.pinterest.com\n",
       "56573    accounts.pinterest.com\n",
       "56574    accounts.pinterest.com\n",
       "Name: initial_destination_IP_or_hostname, Length: 56575, dtype: object"
      ]
     },
     "execution_count": 4,
     "metadata": {},
     "output_type": "execute_result"
    }
   ],
   "source": [
    "csv_df[\"initial_destination_IP_or_hostname\"]"
   ]
  },
  {
   "cell_type": "code",
   "execution_count": 5,
   "id": "39e07027-8e5b-4c3b-8f9f-74c8a26fff33",
   "metadata": {},
   "outputs": [],
   "source": [
    "init_dest_l = csv_df[\"initial_destination_IP_or_hostname\"].values.tolist()"
   ]
  },
  {
   "cell_type": "markdown",
   "id": "8412e3f1-9208-4ede-8103-4a4a64197b4b",
   "metadata": {},
   "source": [
    "## 2.3. Read TXT: measurement_ids_kicho.txt"
   ]
  },
  {
   "cell_type": "code",
   "execution_count": 6,
   "id": "eb349549-7f4d-4928-bf63-e4c47e607c14",
   "metadata": {},
   "outputs": [],
   "source": [
    "measurement_df = pd.read_csv(\"measurement_ids_kicho.txt\", on_bad_lines=\"skip\", header=None)"
   ]
  },
  {
   "cell_type": "code",
   "execution_count": 7,
   "id": "009aa2f6-ed6a-41a4-8d08-a523d08bb9db",
   "metadata": {},
   "outputs": [
    {
     "data": {
      "text/html": [
       "<div>\n",
       "<style scoped>\n",
       "    .dataframe tbody tr th:only-of-type {\n",
       "        vertical-align: middle;\n",
       "    }\n",
       "\n",
       "    .dataframe tbody tr th {\n",
       "        vertical-align: top;\n",
       "    }\n",
       "\n",
       "    .dataframe thead th {\n",
       "        text-align: right;\n",
       "    }\n",
       "</style>\n",
       "<table border=\"1\" class=\"dataframe\">\n",
       "  <thead>\n",
       "    <tr style=\"text-align: right;\">\n",
       "      <th></th>\n",
       "      <th>0</th>\n",
       "      <th>1</th>\n",
       "      <th>2</th>\n",
       "      <th>3</th>\n",
       "    </tr>\n",
       "  </thead>\n",
       "  <tbody>\n",
       "    <tr>\n",
       "      <th>0</th>\n",
       "      <td>de</td>\n",
       "      <td>39835</td>\n",
       "      <td>www.instagram.com</td>\n",
       "      <td>42506263.0</td>\n",
       "    </tr>\n",
       "    <tr>\n",
       "      <th>1</th>\n",
       "      <td>de</td>\n",
       "      <td>39835</td>\n",
       "      <td>twitter.com</td>\n",
       "      <td>42506264.0</td>\n",
       "    </tr>\n",
       "    <tr>\n",
       "      <th>2</th>\n",
       "      <td>de</td>\n",
       "      <td>39835</td>\n",
       "      <td>s0.2mdn.net</td>\n",
       "      <td>42506265.0</td>\n",
       "    </tr>\n",
       "    <tr>\n",
       "      <th>3</th>\n",
       "      <td>de</td>\n",
       "      <td>39835</td>\n",
       "      <td>www.clarity.ms</td>\n",
       "      <td>42506266.0</td>\n",
       "    </tr>\n",
       "    <tr>\n",
       "      <th>4</th>\n",
       "      <td>de</td>\n",
       "      <td>39835</td>\n",
       "      <td>www.filmix.ac</td>\n",
       "      <td>42506267.0</td>\n",
       "    </tr>\n",
       "    <tr>\n",
       "      <th>...</th>\n",
       "      <td>...</td>\n",
       "      <td>...</td>\n",
       "      <td>...</td>\n",
       "      <td>...</td>\n",
       "    </tr>\n",
       "    <tr>\n",
       "      <th>494256</th>\n",
       "      <td>cz</td>\n",
       "      <td>44489</td>\n",
       "      <td>cdn.speedcurve.com</td>\n",
       "      <td>43832951.0</td>\n",
       "    </tr>\n",
       "    <tr>\n",
       "      <th>494257</th>\n",
       "      <td>cz</td>\n",
       "      <td>44489</td>\n",
       "      <td>img.kurzy.cz</td>\n",
       "      <td>43832953.0</td>\n",
       "    </tr>\n",
       "    <tr>\n",
       "      <th>494258</th>\n",
       "      <td>cz</td>\n",
       "      <td>44489</td>\n",
       "      <td>report.prozeny.cz</td>\n",
       "      <td>43832954.0</td>\n",
       "    </tr>\n",
       "    <tr>\n",
       "      <th>494259</th>\n",
       "      <td>cz</td>\n",
       "      <td>44489</td>\n",
       "      <td>pro.mapy.cz</td>\n",
       "      <td>43832955.0</td>\n",
       "    </tr>\n",
       "    <tr>\n",
       "      <th>494260</th>\n",
       "      <td>cz</td>\n",
       "      <td>44489</td>\n",
       "      <td>region1.analytics.google.com</td>\n",
       "      <td>43832956.0</td>\n",
       "    </tr>\n",
       "  </tbody>\n",
       "</table>\n",
       "<p>494261 rows × 4 columns</p>\n",
       "</div>"
      ],
      "text/plain": [
       "         0      1                             2           3\n",
       "0       de  39835             www.instagram.com  42506263.0\n",
       "1       de  39835                   twitter.com  42506264.0\n",
       "2       de  39835                   s0.2mdn.net  42506265.0\n",
       "3       de  39835                www.clarity.ms  42506266.0\n",
       "4       de  39835                 www.filmix.ac  42506267.0\n",
       "...     ..    ...                           ...         ...\n",
       "494256  cz  44489            cdn.speedcurve.com  43832951.0\n",
       "494257  cz  44489                  img.kurzy.cz  43832953.0\n",
       "494258  cz  44489             report.prozeny.cz  43832954.0\n",
       "494259  cz  44489                   pro.mapy.cz  43832955.0\n",
       "494260  cz  44489  region1.analytics.google.com  43832956.0\n",
       "\n",
       "[494261 rows x 4 columns]"
      ]
     },
     "execution_count": 7,
     "metadata": {},
     "output_type": "execute_result"
    }
   ],
   "source": [
    "measurement_df"
   ]
  },
  {
   "cell_type": "code",
   "execution_count": 8,
   "id": "c4e2ef14-93dd-478e-ae73-4c23675e8f2c",
   "metadata": {},
   "outputs": [],
   "source": [
    "measurement_l = measurement_df[2].values.tolist()"
   ]
  },
  {
   "cell_type": "markdown",
   "id": "3a661e06-6bb6-4926-bf62-bb0b0ef8a345",
   "metadata": {},
   "source": [
    "## 2.4. Read TXT: easyprivacy.txt"
   ]
  },
  {
   "cell_type": "code",
   "execution_count": 9,
   "id": "ab159c7f-925b-4b22-9d79-aedfab736025",
   "metadata": {},
   "outputs": [],
   "source": [
    "easyprivacy_df = pd.read_csv(\"easyprivacy.txt\", on_bad_lines=\"skip\")"
   ]
  },
  {
   "cell_type": "code",
   "execution_count": 10,
   "id": "1e1809af-c32e-40cc-8be6-986afd46be5f",
   "metadata": {},
   "outputs": [
    {
     "data": {
      "text/html": [
       "<div>\n",
       "<style scoped>\n",
       "    .dataframe tbody tr th:only-of-type {\n",
       "        vertical-align: middle;\n",
       "    }\n",
       "\n",
       "    .dataframe tbody tr th {\n",
       "        vertical-align: top;\n",
       "    }\n",
       "\n",
       "    .dataframe thead th {\n",
       "        text-align: right;\n",
       "    }\n",
       "</style>\n",
       "<table border=\"1\" class=\"dataframe\">\n",
       "  <thead>\n",
       "    <tr style=\"text-align: right;\">\n",
       "      <th></th>\n",
       "      <th>[Adblock Plus 1.1]</th>\n",
       "    </tr>\n",
       "  </thead>\n",
       "  <tbody>\n",
       "    <tr>\n",
       "      <th>0</th>\n",
       "      <td>! Version: 202208230442</td>\n",
       "    </tr>\n",
       "    <tr>\n",
       "      <th>1</th>\n",
       "      <td>! Title: EasyPrivacy</td>\n",
       "    </tr>\n",
       "    <tr>\n",
       "      <th>2</th>\n",
       "      <td>! Last modified: 23 Aug 2022 04:42 UTC</td>\n",
       "    </tr>\n",
       "    <tr>\n",
       "      <th>3</th>\n",
       "      <td>! Expires: 4 days (update frequency)</td>\n",
       "    </tr>\n",
       "    <tr>\n",
       "      <th>4</th>\n",
       "      <td>! Homepage: https://easylist.to/</td>\n",
       "    </tr>\n",
       "    <tr>\n",
       "      <th>...</th>\n",
       "      <td>...</td>\n",
       "    </tr>\n",
       "    <tr>\n",
       "      <th>27046</th>\n",
       "      <td>! ---------- Vietnamese ----------</td>\n",
       "    </tr>\n",
       "    <tr>\n",
       "      <th>27047</th>\n",
       "      <td>!</td>\n",
       "    </tr>\n",
       "    <tr>\n",
       "      <th>27048</th>\n",
       "      <td>!</td>\n",
       "    </tr>\n",
       "    <tr>\n",
       "      <th>27049</th>\n",
       "      <td>! ---------- Anti-Adblock ----------</td>\n",
       "    </tr>\n",
       "    <tr>\n",
       "      <th>27050</th>\n",
       "      <td>!</td>\n",
       "    </tr>\n",
       "  </tbody>\n",
       "</table>\n",
       "<p>27051 rows × 1 columns</p>\n",
       "</div>"
      ],
      "text/plain": [
       "                           [Adblock Plus 1.1]\n",
       "0                     ! Version: 202208230442\n",
       "1                        ! Title: EasyPrivacy\n",
       "2      ! Last modified: 23 Aug 2022 04:42 UTC\n",
       "3        ! Expires: 4 days (update frequency)\n",
       "4            ! Homepage: https://easylist.to/\n",
       "...                                       ...\n",
       "27046      ! ---------- Vietnamese ----------\n",
       "27047                                      ! \n",
       "27048                                      ! \n",
       "27049    ! ---------- Anti-Adblock ----------\n",
       "27050                                      ! \n",
       "\n",
       "[27051 rows x 1 columns]"
      ]
     },
     "execution_count": 10,
     "metadata": {},
     "output_type": "execute_result"
    }
   ],
   "source": [
    "easyprivacy_df"
   ]
  },
  {
   "cell_type": "markdown",
   "id": "74f6ee75-dbe1-45d8-bc46-e5b0eeb5bc74",
   "metadata": {},
   "source": [
    "# 3. Create a parser list"
   ]
  },
  {
   "cell_type": "code",
   "execution_count": 11,
   "id": "e8097eba-6270-46a0-8a4e-6739338abf80",
   "metadata": {},
   "outputs": [],
   "source": [
    "easyprivacy_l = easyprivacy_df[\"[Adblock Plus 1.1]\"].values.tolist()"
   ]
  },
  {
   "cell_type": "code",
   "execution_count": 12,
   "id": "ac5d27b3-5124-476b-ba6d-dc24aa9c2475",
   "metadata": {},
   "outputs": [],
   "source": [
    "parser_l = [parser for parser in easyprivacy_l if parser[0] != \"!\"]"
   ]
  },
  {
   "cell_type": "markdown",
   "id": "f014f868-a2f2-4479-931f-2b7b7b2bbf92",
   "metadata": {},
   "source": [
    "# 4. Segmentization"
   ]
  },
  {
   "cell_type": "markdown",
   "id": "3dd64939-3705-4ac3-8f7b-b8a69821545b",
   "metadata": {},
   "source": [
    "## 4.1. Function"
   ]
  },
  {
   "cell_type": "code",
   "execution_count": 13,
   "id": "75062597-6ff6-481e-9f81-a9e47a308736",
   "metadata": {},
   "outputs": [],
   "source": [
    "def show_segment(hostname_l):\n",
    "    '''\n",
    "    parameter: hostname list\n",
    "    output: a list of segments from a hostname\n",
    "    does: Parse from the second last dot to the end.\n",
    "        For example, \"a.thumbs.redditmedia.com\" becomes \"redditmedia.com\"\n",
    "    '''\n",
    "    segment_l = []\n",
    "    for hostname in hostname_l:\n",
    "        dot_count_i = hostname.count(\".\")\n",
    "        if dot_count_i <= 2:\n",
    "            segment_l.append(hostname)\n",
    "        else:\n",
    "            last_dot_index_i = hostname.rfind(\".\")\n",
    "            second_last_dot_index_i = hostname[:last_dot_index_i].rfind(\".\")\n",
    "            segment_l.append(hostname[second_last_dot_index_i+1:])\n",
    "    return segment_l"
   ]
  },
  {
   "cell_type": "markdown",
   "id": "60d229a7-e04f-4832-8405-418257c1bb38",
   "metadata": {},
   "source": [
    "## 4.2. Segment List"
   ]
  },
  {
   "cell_type": "code",
   "execution_count": 14,
   "id": "10400b94-0562-4cc4-8510-e8aa68b74703",
   "metadata": {},
   "outputs": [],
   "source": [
    "segment_csv_l = show_segment(init_dest_l)\n",
    "segment_txt_l = show_segment(measurement_l)"
   ]
  },
  {
   "cell_type": "code",
   "execution_count": 15,
   "id": "962ae936-ece9-401c-9196-11b2ba01b99e",
   "metadata": {},
   "outputs": [
    {
     "name": "stdout",
     "output_type": "stream",
     "text": [
      "56575\n",
      "56575\n"
     ]
    }
   ],
   "source": [
    "print(len(init_dest_l))\n",
    "print(len(segment_csv_l))"
   ]
  },
  {
   "cell_type": "code",
   "execution_count": 16,
   "id": "a0ffe83e-b249-4c71-b44a-117ca78e8964",
   "metadata": {},
   "outputs": [
    {
     "name": "stdout",
     "output_type": "stream",
     "text": [
      "494261\n",
      "494261\n"
     ]
    }
   ],
   "source": [
    "print(len(measurement_l))\n",
    "print(len(segment_txt_l))"
   ]
  },
  {
   "cell_type": "markdown",
   "id": "17328b8f-d897-43ab-92d7-2bc943dbf1b8",
   "metadata": {},
   "source": [
    "# 5. Parse: Pass to the parser to determine if they are a tracker or not."
   ]
  },
  {
   "cell_type": "markdown",
   "id": "150c1e2c-2d2c-4c49-b268-1cebb59b6026",
   "metadata": {},
   "source": [
    "## 5.1. CSV: 2022-08-09.csv"
   ]
  },
  {
   "cell_type": "code",
   "execution_count": 17,
   "id": "41945dcb-b556-467e-af94-2e6fc14d54b6",
   "metadata": {},
   "outputs": [
    {
     "name": "stdout",
     "output_type": "stream",
     "text": [
      "0:01:28.643251\n"
     ]
    }
   ],
   "source": [
    "start_time = time.time()\n",
    "is_tracker_csv_l = []\n",
    "for segment in segment_csv_l:\n",
    "    is_tracker = False\n",
    "    for parser in parser_l:\n",
    "        if segment in parser:\n",
    "            is_tracker = True\n",
    "    is_tracker_csv_l.append(is_tracker)\n",
    "elapsed_time = time.time() - start_time\n",
    "print(str(timedelta(seconds=elapsed_time)))"
   ]
  },
  {
   "cell_type": "code",
   "execution_count": 18,
   "id": "0e770be1-1f9e-4e80-954d-542f51e9eca2",
   "metadata": {},
   "outputs": [
    {
     "name": "stdout",
     "output_type": "stream",
     "text": [
      "56575\n",
      "56575\n",
      "11968\n",
      "21.15422% are trackers\n"
     ]
    }
   ],
   "source": [
    "print(len(segment_csv_l))\n",
    "print(len(is_tracker_csv_l))\n",
    "print(np.count_nonzero(np.array(is_tracker_csv_l)))\n",
    "print(f\"{round(np.count_nonzero(np.array(is_tracker_csv_l)) / len(is_tracker_csv_l) * 100, 5)}% are trackers\")"
   ]
  },
  {
   "cell_type": "markdown",
   "id": "3729df8a-c42a-4541-9bf6-e888dc47c194",
   "metadata": {},
   "source": [
    "## 5.2. TXT: measurement_ids_kicho.txt"
   ]
  },
  {
   "cell_type": "code",
   "execution_count": 19,
   "id": "0414b50f-5951-4e4b-b11c-a10e00e12d56",
   "metadata": {},
   "outputs": [
    {
     "name": "stdout",
     "output_type": "stream",
     "text": [
      "0:12:39.969826\n"
     ]
    }
   ],
   "source": [
    "start_time = time.time()\n",
    "is_tracker_txt_l = []\n",
    "for segment in segment_txt_l:\n",
    "    is_tracker = False\n",
    "    for parser in parser_l:\n",
    "        if segment in parser:\n",
    "            is_tracker = True\n",
    "    is_tracker_txt_l.append(is_tracker)\n",
    "elapsed_time = time.time() - start_time\n",
    "print(str(timedelta(seconds=elapsed_time)))"
   ]
  },
  {
   "cell_type": "code",
   "execution_count": 20,
   "id": "422a93a0-251b-47b6-b9e3-a46086bca0ce",
   "metadata": {},
   "outputs": [
    {
     "name": "stdout",
     "output_type": "stream",
     "text": [
      "494261\n",
      "494261\n",
      "93033\n",
      "18.82265% are trackers\n"
     ]
    }
   ],
   "source": [
    "print(len(segment_txt_l))\n",
    "print(len(is_tracker_txt_l))\n",
    "print(np.count_nonzero(np.array(is_tracker_txt_l)))\n",
    "print(f\"{round(np.count_nonzero(np.array(is_tracker_txt_l)) / len(is_tracker_txt_l) * 100, 5)}% are trackers\")"
   ]
  },
  {
   "cell_type": "markdown",
   "id": "9fbddc20-f3cc-4c50-96b9-973e52a481a4",
   "metadata": {},
   "source": [
    "# 6. Save"
   ]
  },
  {
   "cell_type": "code",
   "execution_count": 27,
   "id": "9a80335e-79d7-4dd4-a9b7-0bf79c218313",
   "metadata": {},
   "outputs": [],
   "source": [
    "os.chdir(output_path_s)"
   ]
  },
  {
   "cell_type": "markdown",
   "id": "f6f5b69b-95e5-41d7-ada9-d46321ce1f78",
   "metadata": {},
   "source": [
    "## 6.1. CSV: 2022-08-09.csv to 2022-08-09-tracker.csv"
   ]
  },
  {
   "cell_type": "code",
   "execution_count": 22,
   "id": "c603bbe5-e8cc-42f3-8eab-2d5d04d9dd79",
   "metadata": {},
   "outputs": [],
   "source": [
    "original_csv_df = copy.deepcopy(csv_df)"
   ]
  },
  {
   "cell_type": "code",
   "execution_count": 24,
   "id": "d9905270-ab9a-4c45-9176-31749c08151e",
   "metadata": {},
   "outputs": [],
   "source": [
    "csv_df['is_tracker'] = is_tracker_csv_l"
   ]
  },
  {
   "cell_type": "code",
   "execution_count": 26,
   "id": "40708ce6-cdb6-4c92-8b40-63ba43cb20ac",
   "metadata": {},
   "outputs": [],
   "source": [
    "csv_df.to_csv(f\"2022-08-09-tracker.csv\")"
   ]
  },
  {
   "cell_type": "markdown",
   "id": "f7c8967e-f1b2-4f7d-b45b-71d92c4c3df8",
   "metadata": {},
   "source": [
    "## 6.2. TXT: measurement_ids_kicho_tracker.txt"
   ]
  },
  {
   "cell_type": "code",
   "execution_count": 28,
   "id": "4ad3e725-38b6-4616-8824-407754678b5a",
   "metadata": {},
   "outputs": [
    {
     "data": {
      "text/plain": [
       "Int64Index([0, 1, 2, 3], dtype='int64')"
      ]
     },
     "execution_count": 28,
     "metadata": {},
     "output_type": "execute_result"
    }
   ],
   "source": [
    "measurement_df.columns"
   ]
  },
  {
   "cell_type": "code",
   "execution_count": 29,
   "id": "cec246cd-ae30-4334-a558-01749c5edc36",
   "metadata": {},
   "outputs": [],
   "source": [
    "original_measurement_df = copy.deepcopy(measurement_df)"
   ]
  },
  {
   "cell_type": "code",
   "execution_count": 30,
   "id": "ea41c27f-39ae-47f5-b8c3-daf70b11278d",
   "metadata": {},
   "outputs": [],
   "source": [
    "measurement_df[4] = is_tracker_txt_l"
   ]
  },
  {
   "cell_type": "code",
   "execution_count": null,
   "id": "f4dc368a-903c-4b60-afb6-ea3957187bfd",
   "metadata": {},
   "outputs": [],
   "source": [
    "measurement_df.to_csv(f\"measurement_ids_kicho_tracker.txt\", header=None)"
   ]
  },
  {
   "cell_type": "code",
   "execution_count": null,
   "id": "84a3ee46-4cc9-45a9-81ef-79091bffafa7",
   "metadata": {},
   "outputs": [],
   "source": []
  }
 ],
 "metadata": {
  "kernelspec": {
   "display_name": "Python 3 (ipykernel)",
   "language": "python",
   "name": "python3"
  },
  "language_info": {
   "codemirror_mode": {
    "name": "ipython",
    "version": 3
   },
   "file_extension": ".py",
   "mimetype": "text/x-python",
   "name": "python",
   "nbconvert_exporter": "python",
   "pygments_lexer": "ipython3",
   "version": "3.9.7"
  }
 },
 "nbformat": 4,
 "nbformat_minor": 5
}
