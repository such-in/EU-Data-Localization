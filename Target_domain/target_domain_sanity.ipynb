{
 "cells": [
  {
   "cell_type": "markdown",
   "id": "d1ce869f-2def-4748-9864-f59810c8ec1c",
   "metadata": {},
   "source": [
    "# 1. Import packages"
   ]
  },
  {
   "cell_type": "code",
   "execution_count": 1,
   "id": "43555b46-8a81-404e-987e-6d12064e2098",
   "metadata": {},
   "outputs": [],
   "source": [
    "import copy\n",
    "import os\n",
    "import pandas as pd\n",
    "\n",
    "from collections import Counter"
   ]
  },
  {
   "cell_type": "markdown",
   "id": "31ebf1cf-99cc-4e0a-bf14-5c9e4ab32fdd",
   "metadata": {},
   "source": [
    "# 2. Read a CSV"
   ]
  },
  {
   "cell_type": "markdown",
   "id": "a96bce02-2ce7-4066-b6b6-9d40fbdaa51c",
   "metadata": {},
   "source": [
    "## 2.1. Change to output directory"
   ]
  },
  {
   "cell_type": "code",
   "execution_count": 2,
   "id": "126f78a3-19b3-4572-920f-f0e8ecfe7c34",
   "metadata": {},
   "outputs": [
    {
     "name": "stdout",
     "output_type": "stream",
     "text": [
      "/Users/immanuel/Documents/NEU/05_Spring_2022/CS7675_ResAppr/tasks/MyLab/task17_target_domain\n",
      "/Users/immanuel/Documents/NEU/05_Spring_2022/CS7675_ResAppr/tasks/MyLab/task17_target_domain/output\n"
     ]
    }
   ],
   "source": [
    "print(os.getcwd())\n",
    "input_path_s = \"/input/\"\n",
    "input_path_s = os.getcwd() + input_path_s\n",
    "output_path_s = \"/output/\"\n",
    "output_path_s = os.getcwd() + output_path_s\n",
    "os.chdir(output_path_s)\n",
    "print(os.getcwd())"
   ]
  },
  {
   "cell_type": "code",
   "execution_count": 3,
   "id": "324950eb-7280-49bf-b6d7-c3adaf444326",
   "metadata": {},
   "outputs": [
    {
     "name": "stderr",
     "output_type": "stream",
     "text": [
      "/opt/anaconda3/lib/python3.9/site-packages/IPython/core/interactiveshell.py:3444: DtypeWarning: Columns (2) have mixed types.Specify dtype option on import or set low_memory=False.\n",
      "  exec(code_obj, self.user_global_ns, self.user_ns)\n",
      "/opt/anaconda3/lib/python3.9/site-packages/numpy/lib/arraysetops.py:583: FutureWarning: elementwise comparison failed; returning scalar instead, but in the future will perform elementwise comparison\n",
      "  mask |= (ar1 == a)\n"
     ]
    }
   ],
   "source": [
    "bright_data_14_df = pd.read_csv(\"domains_bright_data_14col.csv\", index_col=0)"
   ]
  },
  {
   "cell_type": "code",
   "execution_count": 4,
   "id": "2d23f92c-3fef-4db7-866c-3899d3f490ab",
   "metadata": {},
   "outputs": [
    {
     "data": {
      "text/plain": [
       "(1075319, 14)"
      ]
     },
     "execution_count": 4,
     "metadata": {},
     "output_type": "execute_result"
    }
   ],
   "source": [
    "bright_data_14_df.shape"
   ]
  },
  {
   "cell_type": "code",
   "execution_count": 5,
   "id": "5d263379-45d5-4231-8ff5-da74499d3f12",
   "metadata": {},
   "outputs": [
    {
     "data": {
      "text/html": [
       "<div>\n",
       "<style scoped>\n",
       "    .dataframe tbody tr th:only-of-type {\n",
       "        vertical-align: middle;\n",
       "    }\n",
       "\n",
       "    .dataframe tbody tr th {\n",
       "        vertical-align: top;\n",
       "    }\n",
       "\n",
       "    .dataframe thead th {\n",
       "        text-align: right;\n",
       "    }\n",
       "</style>\n",
       "<table border=\"1\" class=\"dataframe\">\n",
       "  <thead>\n",
       "    <tr style=\"text-align: right;\">\n",
       "      <th></th>\n",
       "      <th>country</th>\n",
       "      <th>asn</th>\n",
       "      <th>initial_domain_filename</th>\n",
       "      <th>target_domain</th>\n",
       "      <th>initial_domain_tld_plus_one</th>\n",
       "      <th>target_domain_tld_plus_one</th>\n",
       "      <th>tld_plus_one_first_party</th>\n",
       "      <th>as_name_first_party</th>\n",
       "      <th>as_number_first_party</th>\n",
       "      <th>org_id_first_party</th>\n",
       "      <th>org_name_first_party</th>\n",
       "      <th>first_party</th>\n",
       "      <th>is_target_domain_tracker</th>\n",
       "      <th>is_target_domain_google</th>\n",
       "    </tr>\n",
       "  </thead>\n",
       "  <tbody>\n",
       "    <tr>\n",
       "      <th>50</th>\n",
       "      <td>hr</td>\n",
       "      <td>61094</td>\n",
       "      <td>20220804-HR-61094-httpswww.tportal.hr-DNS_Requ...</td>\n",
       "      <td>www.tportal.hr</td>\n",
       "      <td>tportal.hr</td>\n",
       "      <td>tportal.hr</td>\n",
       "      <td>True</td>\n",
       "      <td>NaN</td>\n",
       "      <td>NaN</td>\n",
       "      <td>NaN</td>\n",
       "      <td>NaN</td>\n",
       "      <td>True</td>\n",
       "      <td>False</td>\n",
       "      <td>False</td>\n",
       "    </tr>\n",
       "    <tr>\n",
       "      <th>51</th>\n",
       "      <td>hr</td>\n",
       "      <td>61094</td>\n",
       "      <td>20220804-HR-61094-httpswww.poslovni.hr-DNS_Req...</td>\n",
       "      <td>hr.hit.gemius.pl</td>\n",
       "      <td>poslovni.hr</td>\n",
       "      <td>gemius.pl</td>\n",
       "      <td>NaN</td>\n",
       "      <td>True</td>\n",
       "      <td>True</td>\n",
       "      <td>True</td>\n",
       "      <td>True</td>\n",
       "      <td>True</td>\n",
       "      <td>True</td>\n",
       "      <td>False</td>\n",
       "    </tr>\n",
       "    <tr>\n",
       "      <th>52</th>\n",
       "      <td>hr</td>\n",
       "      <td>61094</td>\n",
       "      <td>20220804-HR-61094-httpswww.net.hr-DNS_Requests...</td>\n",
       "      <td>s.amazon-adsystem.com</td>\n",
       "      <td>net.hr</td>\n",
       "      <td>amazon-adsystem.com</td>\n",
       "      <td>NaN</td>\n",
       "      <td>True</td>\n",
       "      <td>True</td>\n",
       "      <td>True</td>\n",
       "      <td>True</td>\n",
       "      <td>True</td>\n",
       "      <td>False</td>\n",
       "      <td>False</td>\n",
       "    </tr>\n",
       "    <tr>\n",
       "      <th>53</th>\n",
       "      <td>hr</td>\n",
       "      <td>61094</td>\n",
       "      <td>20220804-HR-61094-httpswww.gloria.hr-DNS_Reque...</td>\n",
       "      <td>www.youtube.com</td>\n",
       "      <td>gloria.hr</td>\n",
       "      <td>youtube.com</td>\n",
       "      <td>NaN</td>\n",
       "      <td>True</td>\n",
       "      <td>True</td>\n",
       "      <td>True</td>\n",
       "      <td>True</td>\n",
       "      <td>True</td>\n",
       "      <td>True</td>\n",
       "      <td>False</td>\n",
       "    </tr>\n",
       "    <tr>\n",
       "      <th>54</th>\n",
       "      <td>hr</td>\n",
       "      <td>61094</td>\n",
       "      <td>20220804-HR-61094-httpswww.index.hr-DNS_Reques...</td>\n",
       "      <td>script.dotmetrics.net</td>\n",
       "      <td>index.hr</td>\n",
       "      <td>dotmetrics.net</td>\n",
       "      <td>NaN</td>\n",
       "      <td>NaN</td>\n",
       "      <td>NaN</td>\n",
       "      <td>NaN</td>\n",
       "      <td>NaN</td>\n",
       "      <td>NaN</td>\n",
       "      <td>True</td>\n",
       "      <td>False</td>\n",
       "    </tr>\n",
       "    <tr>\n",
       "      <th>55</th>\n",
       "      <td>hr</td>\n",
       "      <td>61094</td>\n",
       "      <td>20220804-HR-61094-httpswww.vecernji.hr-DNS_Req...</td>\n",
       "      <td>connect.facebook.net</td>\n",
       "      <td>vecernji.hr</td>\n",
       "      <td>facebook.net</td>\n",
       "      <td>NaN</td>\n",
       "      <td>True</td>\n",
       "      <td>True</td>\n",
       "      <td>True</td>\n",
       "      <td>True</td>\n",
       "      <td>True</td>\n",
       "      <td>True</td>\n",
       "      <td>False</td>\n",
       "    </tr>\n",
       "    <tr>\n",
       "      <th>56</th>\n",
       "      <td>hr</td>\n",
       "      <td>61094</td>\n",
       "      <td>20220804-HR-61094-httpswww.vecernji.hr-DNS_Req...</td>\n",
       "      <td>cdnjs.cloudflare.com</td>\n",
       "      <td>vecernji.hr</td>\n",
       "      <td>cloudflare.com</td>\n",
       "      <td>NaN</td>\n",
       "      <td>True</td>\n",
       "      <td>True</td>\n",
       "      <td>True</td>\n",
       "      <td>True</td>\n",
       "      <td>True</td>\n",
       "      <td>True</td>\n",
       "      <td>False</td>\n",
       "    </tr>\n",
       "    <tr>\n",
       "      <th>57</th>\n",
       "      <td>hr</td>\n",
       "      <td>61094</td>\n",
       "      <td>20220804-HR-61094-httpswww.jutarnji.hr-DNS_Req...</td>\n",
       "      <td>signal-beacon.s-onetag.com</td>\n",
       "      <td>jutarnji.hr</td>\n",
       "      <td>s-onetag.com</td>\n",
       "      <td>NaN</td>\n",
       "      <td>NaN</td>\n",
       "      <td>NaN</td>\n",
       "      <td>NaN</td>\n",
       "      <td>NaN</td>\n",
       "      <td>NaN</td>\n",
       "      <td>True</td>\n",
       "      <td>False</td>\n",
       "    </tr>\n",
       "    <tr>\n",
       "      <th>58</th>\n",
       "      <td>hr</td>\n",
       "      <td>61094</td>\n",
       "      <td>20220804-HR-61094-httpswww.gloria.hr-DNS_Reque...</td>\n",
       "      <td>apps.jutarnji.hr</td>\n",
       "      <td>gloria.hr</td>\n",
       "      <td>jutarnji.hr</td>\n",
       "      <td>NaN</td>\n",
       "      <td>True</td>\n",
       "      <td>True</td>\n",
       "      <td>True</td>\n",
       "      <td>True</td>\n",
       "      <td>True</td>\n",
       "      <td>True</td>\n",
       "      <td>False</td>\n",
       "    </tr>\n",
       "    <tr>\n",
       "      <th>59</th>\n",
       "      <td>hr</td>\n",
       "      <td>61094</td>\n",
       "      <td>20220804-HR-61094-httpswww.jutarnji.hr-DNS_Req...</td>\n",
       "      <td>signal-metrics-collector-beta.s-onetag.com</td>\n",
       "      <td>jutarnji.hr</td>\n",
       "      <td>s-onetag.com</td>\n",
       "      <td>NaN</td>\n",
       "      <td>NaN</td>\n",
       "      <td>NaN</td>\n",
       "      <td>NaN</td>\n",
       "      <td>NaN</td>\n",
       "      <td>NaN</td>\n",
       "      <td>True</td>\n",
       "      <td>False</td>\n",
       "    </tr>\n",
       "  </tbody>\n",
       "</table>\n",
       "</div>"
      ],
      "text/plain": [
       "   country    asn                            initial_domain_filename  \\\n",
       "50      hr  61094  20220804-HR-61094-httpswww.tportal.hr-DNS_Requ...   \n",
       "51      hr  61094  20220804-HR-61094-httpswww.poslovni.hr-DNS_Req...   \n",
       "52      hr  61094  20220804-HR-61094-httpswww.net.hr-DNS_Requests...   \n",
       "53      hr  61094  20220804-HR-61094-httpswww.gloria.hr-DNS_Reque...   \n",
       "54      hr  61094  20220804-HR-61094-httpswww.index.hr-DNS_Reques...   \n",
       "55      hr  61094  20220804-HR-61094-httpswww.vecernji.hr-DNS_Req...   \n",
       "56      hr  61094  20220804-HR-61094-httpswww.vecernji.hr-DNS_Req...   \n",
       "57      hr  61094  20220804-HR-61094-httpswww.jutarnji.hr-DNS_Req...   \n",
       "58      hr  61094  20220804-HR-61094-httpswww.gloria.hr-DNS_Reque...   \n",
       "59      hr  61094  20220804-HR-61094-httpswww.jutarnji.hr-DNS_Req...   \n",
       "\n",
       "                                 target_domain initial_domain_tld_plus_one  \\\n",
       "50                              www.tportal.hr                  tportal.hr   \n",
       "51                            hr.hit.gemius.pl                 poslovni.hr   \n",
       "52                       s.amazon-adsystem.com                      net.hr   \n",
       "53                             www.youtube.com                   gloria.hr   \n",
       "54                       script.dotmetrics.net                    index.hr   \n",
       "55                        connect.facebook.net                 vecernji.hr   \n",
       "56                        cdnjs.cloudflare.com                 vecernji.hr   \n",
       "57                  signal-beacon.s-onetag.com                 jutarnji.hr   \n",
       "58                            apps.jutarnji.hr                   gloria.hr   \n",
       "59  signal-metrics-collector-beta.s-onetag.com                 jutarnji.hr   \n",
       "\n",
       "   target_domain_tld_plus_one tld_plus_one_first_party as_name_first_party  \\\n",
       "50                 tportal.hr                     True                 NaN   \n",
       "51                  gemius.pl                      NaN                True   \n",
       "52        amazon-adsystem.com                      NaN                True   \n",
       "53                youtube.com                      NaN                True   \n",
       "54             dotmetrics.net                      NaN                 NaN   \n",
       "55               facebook.net                      NaN                True   \n",
       "56             cloudflare.com                      NaN                True   \n",
       "57               s-onetag.com                      NaN                 NaN   \n",
       "58                jutarnji.hr                      NaN                True   \n",
       "59               s-onetag.com                      NaN                 NaN   \n",
       "\n",
       "   as_number_first_party org_id_first_party org_name_first_party first_party  \\\n",
       "50                   NaN                NaN                  NaN        True   \n",
       "51                  True               True                 True        True   \n",
       "52                  True               True                 True        True   \n",
       "53                  True               True                 True        True   \n",
       "54                   NaN                NaN                  NaN         NaN   \n",
       "55                  True               True                 True        True   \n",
       "56                  True               True                 True        True   \n",
       "57                   NaN                NaN                  NaN         NaN   \n",
       "58                  True               True                 True        True   \n",
       "59                   NaN                NaN                  NaN         NaN   \n",
       "\n",
       "    is_target_domain_tracker  is_target_domain_google  \n",
       "50                     False                    False  \n",
       "51                      True                    False  \n",
       "52                     False                    False  \n",
       "53                      True                    False  \n",
       "54                      True                    False  \n",
       "55                      True                    False  \n",
       "56                      True                    False  \n",
       "57                      True                    False  \n",
       "58                      True                    False  \n",
       "59                      True                    False  "
      ]
     },
     "execution_count": 5,
     "metadata": {},
     "output_type": "execute_result"
    }
   ],
   "source": [
    "bright_data_14_df.iloc[50:60]"
   ]
  },
  {
   "cell_type": "code",
   "execution_count": 6,
   "id": "76f5f1f4-7c84-4e71-b75e-a73a0bc99ac2",
   "metadata": {},
   "outputs": [
    {
     "data": {
      "text/plain": [
       "Index(['country', 'asn', 'initial_domain_filename', 'target_domain',\n",
       "       'initial_domain_tld_plus_one', 'target_domain_tld_plus_one',\n",
       "       'tld_plus_one_first_party', 'as_name_first_party',\n",
       "       'as_number_first_party', 'org_id_first_party', 'org_name_first_party',\n",
       "       'first_party', 'is_target_domain_tracker', 'is_target_domain_google'],\n",
       "      dtype='object')"
      ]
     },
     "execution_count": 6,
     "metadata": {},
     "output_type": "execute_result"
    }
   ],
   "source": [
    "bright_data_14_df.columns"
   ]
  },
  {
   "cell_type": "markdown",
   "id": "35c509ef-e300-4df5-af18-1fc1102e247f",
   "metadata": {},
   "source": [
    "# 3. Add sanity column"
   ]
  },
  {
   "cell_type": "markdown",
   "id": "20e63811-39a9-455c-af1e-a4425836be61",
   "metadata": {},
   "source": [
    "## 3.1 first_party, is_target_domain_tracker"
   ]
  },
  {
   "cell_type": "code",
   "execution_count": 7,
   "id": "a8e4717c-c682-4b34-95ba-1383b1e2f79c",
   "metadata": {},
   "outputs": [
    {
     "name": "stdout",
     "output_type": "stream",
     "text": [
      "True    843909\n",
      "Name: first_party, dtype: int64\n",
      "\n",
      "231410 NaNs.\n",
      "78.47987% are first party.\n"
     ]
    }
   ],
   "source": [
    "print(bright_data_14_df.first_party.value_counts())\n",
    "print()\n",
    "print(f\"{sum(pd.isna(bright_data_14_df.first_party))} NaNs.\")\n",
    "print(f\"{round(float(bright_data_14_df.first_party.value_counts()) / len(bright_data_14_df) * 100.0, 5)}% are first party.\")"
   ]
  },
  {
   "cell_type": "code",
   "execution_count": 8,
   "id": "86edb323-8998-4ddf-8c6f-b41a1311890e",
   "metadata": {},
   "outputs": [
    {
     "name": "stdout",
     "output_type": "stream",
     "text": [
      "True     712815\n",
      "False    362504\n",
      "Name: is_target_domain_tracker, dtype: int64\n",
      "\n",
      "0 NaNs.\n",
      "66.2887% are tracker.\n"
     ]
    }
   ],
   "source": [
    "print(bright_data_14_df.is_target_domain_tracker.value_counts())\n",
    "print()\n",
    "print(f\"{sum(pd.isna(bright_data_14_df.is_target_domain_tracker))} NaNs.\")\n",
    "print(f\"{round(list(bright_data_14_df.is_target_domain_tracker).count(True) / len(bright_data_14_df) * 100.0, 5)}% are tracker.\")"
   ]
  },
  {
   "cell_type": "markdown",
   "id": "35539d7b-ef8b-464c-baf6-7b27ae25aa0a",
   "metadata": {},
   "source": [
    "## 3.2. not_first_party_target_domain"
   ]
  },
  {
   "cell_type": "code",
   "execution_count": 9,
   "id": "fb1a2714-150b-4972-9f38-0c47fa282e5c",
   "metadata": {},
   "outputs": [
    {
     "name": "stdout",
     "output_type": "stream",
     "text": [
      "True\n",
      "843909\n",
      "21.52013% are not a first party.\n"
     ]
    }
   ],
   "source": [
    "not_first_party_target_domain_l = []\n",
    "\n",
    "for i in range(len(bright_data_14_df)):\n",
    "    if bright_data_14_df[\"first_party\"][i] is True:\n",
    "        not_first_party_target_domain_l.append(\"first_party\")\n",
    "    else:\n",
    "        not_first_party_target_domain_l.append(bright_data_14_df[\"target_domain\"][i])\n",
    "\n",
    "print(len(not_first_party_target_domain_l) == len(bright_data_14_df))\n",
    "print(not_first_party_target_domain_l.count('first_party'))\n",
    "print(f\"{round(100 - not_first_party_target_domain_l.count('first_party') / len(bright_data_14_df) * 100, 5)}% are not a first party.\")"
   ]
  },
  {
   "cell_type": "markdown",
   "id": "34eec494-40a5-4cdd-ab75-d3b6dece5a69",
   "metadata": {},
   "source": [
    "## 3.3. not_tracker_target_domain"
   ]
  },
  {
   "cell_type": "code",
   "execution_count": 10,
   "id": "806bfd40-1912-49f1-9f76-fe9d1cc6cc31",
   "metadata": {},
   "outputs": [
    {
     "name": "stdout",
     "output_type": "stream",
     "text": [
      "True\n",
      "712815\n",
      "33.7113% are not a tracker.\n"
     ]
    }
   ],
   "source": [
    "not_tracker_target_domain_l = []\n",
    "\n",
    "for i in range(len(bright_data_14_df)):\n",
    "    if bright_data_14_df[\"is_target_domain_tracker\"][i]:\n",
    "        not_tracker_target_domain_l.append(\"tracker\")\n",
    "    else:\n",
    "        not_tracker_target_domain_l.append(bright_data_14_df[\"target_domain\"][i])\n",
    "\n",
    "print(len(not_tracker_target_domain_l) == len(bright_data_14_df))\n",
    "print(not_tracker_target_domain_l.count('tracker'))\n",
    "print(f\"{round(100 - not_tracker_target_domain_l.count('tracker') / len(bright_data_14_df) * 100, 5)}% are not a tracker.\")"
   ]
  },
  {
   "cell_type": "markdown",
   "id": "9bf515f3-907b-438f-9db8-1dec435232b1",
   "metadata": {},
   "source": [
    "## 3.4. Not Google ASN"
   ]
  },
  {
   "cell_type": "code",
   "execution_count": 11,
   "id": "3d7e8e13-5a14-4e52-a0d5-dd9db56238c9",
   "metadata": {},
   "outputs": [
    {
     "name": "stdout",
     "output_type": "stream",
     "text": [
      "637\n",
      "0.05924%\n"
     ]
    }
   ],
   "source": [
    "print(Counter(bright_data_14_df[\"asn\"])[\"google\"])\n",
    "print(f'{round(Counter(bright_data_14_df[\"asn\"])[\"google\"] / len(bright_data_14_df) * 100.00, 5)}%')"
   ]
  },
  {
   "cell_type": "markdown",
   "id": "fa2b10fb-cfaa-46f3-ab95-c480bc430374",
   "metadata": {},
   "source": [
    "## 3.5. not_first_party_and_not_tracker_l"
   ]
  },
  {
   "cell_type": "code",
   "execution_count": 22,
   "id": "1fa2c42b-b8d0-42e7-8a3f-ee53c0485aa5",
   "metadata": {},
   "outputs": [
    {
     "name": "stdout",
     "output_type": "stream",
     "text": [
      "True\n",
      "1015394\n",
      "5.572760000000002% are neither a first party nor a tracker.\n"
     ]
    }
   ],
   "source": [
    "not_first_party_and_not_tracker_l = []\n",
    "\n",
    "for i in range(len(bright_data_14_df)):\n",
    "    if bright_data_14_df[\"asn\"][i] != \"google\" and bright_data_14_df[\"first_party\"][i] is not True and not bright_data_14_df[\"is_target_domain_tracker\"][i]:\n",
    "        not_first_party_and_not_tracker_l.append(bright_data_14_df[\"target_domain_tld_plus_one\"][i])\n",
    "    else:\n",
    "        not_first_party_and_not_tracker_l.append(None)\n",
    "        \n",
    "print(len(not_first_party_and_not_tracker_l) == len(bright_data_14_df))\n",
    "print(not_first_party_and_not_tracker_l.count(None))\n",
    "print(f\"{100 - round(not_first_party_and_not_tracker_l.count(None) / len(bright_data_14_df) * 100, 5)}% are neither a first party nor a tracker.\")"
   ]
  },
  {
   "cell_type": "code",
   "execution_count": 13,
   "id": "fad2a1bf-2896-494e-aa9b-cd3df7df6a9b",
   "metadata": {},
   "outputs": [],
   "source": [
    "# Counter(not_first_party_and_not_tracker_l)"
   ]
  },
  {
   "cell_type": "markdown",
   "id": "943401c6-da2b-48d6-a2a9-d67e60b1d51a",
   "metadata": {},
   "source": [
    "# 4. Add column"
   ]
  },
  {
   "cell_type": "code",
   "execution_count": 24,
   "id": "9e579d45-847e-4fba-a4ec-e5d7e99f9b50",
   "metadata": {},
   "outputs": [
    {
     "data": {
      "text/plain": [
       "(1075319, 14)"
      ]
     },
     "execution_count": 24,
     "metadata": {},
     "output_type": "execute_result"
    }
   ],
   "source": [
    "bright_data_14_df.shape"
   ]
  },
  {
   "cell_type": "code",
   "execution_count": 25,
   "id": "5e6c705a-b511-40f2-a7e1-327c6ef1430d",
   "metadata": {},
   "outputs": [],
   "source": [
    "bright_data_15_df = copy.deepcopy(bright_data_14_df)"
   ]
  },
  {
   "cell_type": "code",
   "execution_count": 26,
   "id": "a89a7a1c-7bab-43a4-b3a5-7c40cca670fb",
   "metadata": {},
   "outputs": [],
   "source": [
    "bright_data_15_df[\"not_first_party_and_not_tracker\"] = not_first_party_and_not_tracker_l"
   ]
  },
  {
   "cell_type": "code",
   "execution_count": 27,
   "id": "8de93376-5301-4207-a39e-e8d664863a57",
   "metadata": {},
   "outputs": [
    {
     "data": {
      "text/plain": [
       "(1075319, 15)"
      ]
     },
     "execution_count": 27,
     "metadata": {},
     "output_type": "execute_result"
    }
   ],
   "source": [
    "bright_data_15_df.shape"
   ]
  },
  {
   "cell_type": "code",
   "execution_count": 30,
   "id": "ddd13b95-0d13-4e12-b8ad-7487c60b46b6",
   "metadata": {},
   "outputs": [],
   "source": [
    "bright_data_15_df.to_csv(\"domains_bright_data_15col.csv\")"
   ]
  },
  {
   "cell_type": "markdown",
   "id": "2689538e-1557-4813-8fec-d945f84ffe27",
   "metadata": {},
   "source": [
    "# 5. value_counts()"
   ]
  },
  {
   "cell_type": "code",
   "execution_count": 35,
   "id": "098334b5-cb9c-47ed-8c87-a0612310a183",
   "metadata": {},
   "outputs": [
    {
     "name": "stdout",
     "output_type": "stream",
     "text": [
      "Column Name :  country\n",
      "cz    213228\n",
      "pl    188829\n",
      "es    122239\n",
      "it    100208\n",
      "bg     67055\n",
      "nl     57309\n",
      "de     46599\n",
      "fr     43535\n",
      "ro     31315\n",
      "se     30797\n",
      "sk     29239\n",
      "hu     25544\n",
      "ie     20226\n",
      "hr     20017\n",
      "at     19572\n",
      "dk     15386\n",
      "gr     14118\n",
      "fi     13254\n",
      "be      9013\n",
      "pt      7836\n",
      "Name: country, dtype: int64\n",
      "\n",
      "Column Name :  asn\n",
      "8220      3012\n",
      "16509     2863\n",
      "6830      2843\n",
      "9009      2794\n",
      "202422    2793\n",
      "          ... \n",
      "20773      308\n",
      "42652      305\n",
      "25291      305\n",
      "15699      116\n",
      "42401       44\n",
      "Name: asn, Length: 1413, dtype: int64\n",
      "\n",
      "Column Name :  initial_domain_filename\n",
      "20220805-ES-766-httpswww.elmundo.es-DNS_Requests.txt         163\n",
      "20220806-ES-34285-httpswww.telecinco.es-DNS_Requests.txt     150\n",
      "20220805-ES-44278-httpswww.telecinco.es-DNS_Requests.txt     146\n",
      "20220805-ES-199952-httpswww.telecinco.es-DNS_Requests.txt    145\n",
      "20220805-ES-44431-httpswww.telecinco.es-DNS_Requests.txt     143\n",
      "                                                            ... \n",
      "20220806-NL-58061-httpswww.plejada.pl-DNS_Requests.txt         1\n",
      "20220806-NL-58061-httpswww.wikipedia.org-DNS_Requests.txt      1\n",
      "20220805-DK-33796-httpswww.lectio.dk-DNS_Requests.txt          1\n",
      "20220805-ES-39155-httpswww.wikipedia.org-DNS_Requests.txt      1\n",
      "20220808-DE-42652-httpswww.wikipedia.org-DNS_Requests.txt      1\n",
      "Name: initial_domain_filename, Length: 65930, dtype: int64\n",
      "\n",
      "Column Name :  target_domain\n",
      "www.googletagmanager.com                                                      24102\n",
      "www.google-analytics.com                                                      22618\n",
      "ls.hit.gemius.pl                                                              16173\n",
      "www.google.com                                                                15438\n",
      "stats.g.doubleclick.net                                                       13724\n",
      "                                                                              ...  \n",
      "b23e1484b81f04c3e9759464f4758e2c1d45992cdd799cb22eb60695.trk.sensic.net           1\n",
      "1d75ce7e607bce675650a22ad2bf4470.safeframe.googlesyndication.com                  1\n",
      "1659751731530a1a336f289491a2ab18fa960ff29cf732ec0f03a4b9.tmptrk.sensic.net        1\n",
      "447374394cfc655399214c26ef8084e4.safeframe.googlesyndication.com                  1\n",
      "4a09b27632c2a798e204bd40685577a3.safeframe.googlesyndication.com                  1\n",
      "Name: target_domain, Length: 31202, dtype: int64\n",
      "\n",
      "Column Name :  initial_domain_tld_plus_one\n",
      "jbzd.com.pl       27975\n",
      "tiktok.com        24516\n",
      "naszemiasto.pl    24263\n",
      "telecinco.es      18276\n",
      "aktualne.cz       16256\n",
      "                  ...  \n",
      "winbank.gr           19\n",
      "unizg.hr             19\n",
      "vrisko.gr            19\n",
      "alfavita.gr          19\n",
      "supersport.hr        19\n",
      "Name: initial_domain_tld_plus_one, Length: 533, dtype: int64\n",
      "\n",
      "Column Name :  target_domain_tld_plus_one\n",
      "doubleclick.net          42765\n",
      "google.com               38678\n",
      "gemius.pl                36642\n",
      "google-analytics.com     31008\n",
      "googlesyndication.com    27016\n",
      "                         ...  \n",
      "ysucej.com                   1\n",
      "es.io                        1\n",
      "plus.pl                      1\n",
      "ngacm.com                    1\n",
      "trustx.org                   1\n",
      "Name: target_domain_tld_plus_one, Length: 1838, dtype: int64\n",
      "\n",
      "Column Name :  tld_plus_one_first_party\n",
      "True    176550\n",
      "Name: tld_plus_one_first_party, dtype: int64\n",
      "\n",
      "Column Name :  as_name_first_party\n",
      "True    789841\n",
      "Name: as_name_first_party, dtype: int64\n",
      "\n",
      "Column Name :  as_number_first_party\n",
      "True    789841\n",
      "Name: as_number_first_party, dtype: int64\n",
      "\n",
      "Column Name :  org_id_first_party\n",
      "True    793573\n",
      "Name: org_id_first_party, dtype: int64\n",
      "\n",
      "Column Name :  org_name_first_party\n",
      "True    793573\n",
      "Name: org_name_first_party, dtype: int64\n",
      "\n",
      "Column Name :  first_party\n",
      "True    843909\n",
      "Name: first_party, dtype: int64\n",
      "\n",
      "Column Name :  is_target_domain_tracker\n",
      "True     712815\n",
      "False    362504\n",
      "Name: is_target_domain_tracker, dtype: int64\n",
      "\n",
      "Column Name :  is_target_domain_google\n",
      "False    936415\n",
      "True     138904\n",
      "Name: is_target_domain_google, dtype: int64\n",
      "\n",
      "Column Name :  not_first_party_and_not_tracker\n",
      "twimg.com               2830\n",
      "rbxcdn.com              2791\n",
      "amazon-adsystem.com     1991\n",
      "captcha-delivery.com    1836\n",
      "rubiconproject.com      1789\n",
      "                        ... \n",
      "google.ge                  1\n",
      "adguard.org                1\n",
      "ipredictive.com            1\n",
      "sonobi.com                 1\n",
      "sklik.cz                   1\n",
      "Name: not_first_party_and_not_tracker, Length: 357, dtype: int64\n",
      "\n"
     ]
    }
   ],
   "source": [
    "for (column_name, column_data) in bright_data_15_df.iteritems():\n",
    "    print('Column Name : ', column_name)\n",
    "    print(bright_data_15_df[column_name].value_counts())\n",
    "    print()"
   ]
  },
  {
   "cell_type": "code",
   "execution_count": 37,
   "id": "525c63cf-6284-407d-a537-24a194b1b65b",
   "metadata": {},
   "outputs": [
    {
     "data": {
      "text/plain": [
       "(1075319, 15)"
      ]
     },
     "execution_count": 37,
     "metadata": {},
     "output_type": "execute_result"
    }
   ],
   "source": [
    "bright_data_15_df.shape"
   ]
  },
  {
   "cell_type": "code",
   "execution_count": 41,
   "id": "423e9260-6580-4455-ba37-ce081bbbc6f3",
   "metadata": {},
   "outputs": [
    {
     "name": "stdout",
     "output_type": "stream",
     "text": [
      "898769\n",
      "285478\n",
      "281746\n"
     ]
    }
   ],
   "source": [
    "print(bright_data_15_df.shape[0] - 176550)\n",
    "print(bright_data_15_df.shape[0] - 789841)\n",
    "print(bright_data_15_df.shape[0] - 793573)"
   ]
  },
  {
   "cell_type": "code",
   "execution_count": 43,
   "id": "a4b86915-c602-48bd-8b5e-9ba3daa7b864",
   "metadata": {},
   "outputs": [
    {
     "data": {
      "text/plain": [
       "True"
      ]
     },
     "execution_count": 43,
     "metadata": {},
     "output_type": "execute_result"
    }
   ],
   "source": [
    "712815 + 362504 == bright_data_15_df.shape[0]"
   ]
  },
  {
   "cell_type": "code",
   "execution_count": 44,
   "id": "ba3df6ef-949e-4b9a-b8c0-15365daca8fa",
   "metadata": {},
   "outputs": [
    {
     "data": {
      "text/plain": [
       "Counter({None: 1015394,\n",
       "         'rbxcdn.com': 2791,\n",
       "         'unizg.hr': 19,\n",
       "         'erato.hr': 19,\n",
       "         'midas-network.com': 57,\n",
       "         'openx.net': 435,\n",
       "         'npttech.com': 43,\n",
       "         'adpushup.com': 46,\n",
       "         'creativecdn.com': 1422,\n",
       "         'zagreb.info': 19,\n",
       "         '4dex.io': 298,\n",
       "         'sysbee.net': 19,\n",
       "         'rubiconproject.com': 1789,\n",
       "         'linker.hr': 95,\n",
       "         'adrecover.com': 72,\n",
       "         'twimg.com': 2830,\n",
       "         'adsafeprotected.com': 342,\n",
       "         '7dnevno.hr': 19,\n",
       "         'googletagservices.com': 1710,\n",
       "         '234doo.com': 38,\n",
       "         'moatads.com': 211,\n",
       "         'smartadserver.com': 733,\n",
       "         'google.hr': 76,\n",
       "         'bootstrapcdn.com': 250,\n",
       "         'polyfill.io': 354,\n",
       "         'w-x.co': 186,\n",
       "         'adnetwork.agency': 153,\n",
       "         'amazon-adsystem.com': 1991,\n",
       "         'mookie1.com': 279,\n",
       "         'adnxs.com': 1274,\n",
       "         'webhosting-wmd.hr': 19,\n",
       "         'cxpublic.com': 19,\n",
       "         'yieldlove.com': 19,\n",
       "         'arkoselabs.com': 542,\n",
       "         'a-mo.net': 74,\n",
       "         'optmn.cloud': 19,\n",
       "         'pubmatic.com': 929,\n",
       "         'wtg-ads.com': 230,\n",
       "         'jquery.com': 245,\n",
       "         'cdn-apple.com': 928,\n",
       "         'jwplatform.com': 56,\n",
       "         'adingo.jp': 18,\n",
       "         'povijest.hr': 19,\n",
       "         'connectad.io': 205,\n",
       "         'adpone.com': 1,\n",
       "         'indexww.com': 304,\n",
       "         'insightexpressai.com': 7,\n",
       "         'samplicio.us': 8,\n",
       "         'dotomi.com': 25,\n",
       "         '3lift.com': 177,\n",
       "         'innovid.com': 8,\n",
       "         'teads.tv': 103,\n",
       "         '2mdn.net': 252,\n",
       "         'uuidksinc.net': 3,\n",
       "         'tremorhub.com': 3,\n",
       "         'adentifi.com': 26,\n",
       "         'gumgum.com': 3,\n",
       "         'servenobid.com': 2,\n",
       "         'omnitagjs.com': 1,\n",
       "         'extend.tv': 21,\n",
       "         'sonobi.com': 1,\n",
       "         'emxdgt.com': 4,\n",
       "         'ipredictive.com': 1,\n",
       "         'zemanta.com': 32,\n",
       "         '1rx.io': 4,\n",
       "         'contextweb.com': 2,\n",
       "         'adgrx.com': 30,\n",
       "         '360yield.com': 77,\n",
       "         'technoratimedia.com': 1,\n",
       "         'deepintent.com': 20,\n",
       "         'gvt1.com': 3,\n",
       "         'tribalfusion.com': 8,\n",
       "         'inmobi.com': 4,\n",
       "         'chocolateplatform.com': 4,\n",
       "         'yieldmo.com': 1,\n",
       "         'clickcertain.com': 4,\n",
       "         'smaato.net': 3,\n",
       "         'newspark.ca': 20,\n",
       "         'cookielaw.org': 1553,\n",
       "         'fontawesome.com': 207,\n",
       "         's-bol.com': 80,\n",
       "         'belgium.be': 20,\n",
       "         'globalnoticias.pt': 84,\n",
       "         'impresa.pt': 58,\n",
       "         'weborama.fr': 64,\n",
       "         'jwplayer.com': 73,\n",
       "         'globalmediagroup.pt': 72,\n",
       "         'recaptcha.net': 12,\n",
       "         'captcha-delivery.com': 1836,\n",
       "         'insurads.com': 1643,\n",
       "         'protecmedia.com': 24,\n",
       "         'supercasa.pt': 24,\n",
       "         'weborama.design': 12,\n",
       "         'jwpcdn.com': 10,\n",
       "         'cookiebot.com': 252,\n",
       "         'jwpltx.com': 17,\n",
       "         'cdninstagram.com': 12,\n",
       "         'crm4d.com': 2,\n",
       "         'grxchange.gr': 15,\n",
       "         'adman.gr': 72,\n",
       "         'orangeclickmedia.com': 19,\n",
       "         'realtimely.io': 31,\n",
       "         '24media.gr': 38,\n",
       "         'google.gr': 19,\n",
       "         'sport24.gr': 19,\n",
       "         'ow.gr': 19,\n",
       "         'google.it': 688,\n",
       "         'technomar.gr': 1,\n",
       "         'google.ro': 99,\n",
       "         'olxcdn.com': 1377,\n",
       "         'nocookie.net': 428,\n",
       "         'iw.ro': 54,\n",
       "         'tiqcdn.com': 522,\n",
       "         'olx.org': 596,\n",
       "         'demand.supply': 54,\n",
       "         'contributors.ro': 54,\n",
       "         'almamedia.tech': 66,\n",
       "         'cookiereports.com': 33,\n",
       "         'supersaa.fi': 33,\n",
       "         'almatalent.fi': 66,\n",
       "         'sp-prod.net': 33,\n",
       "         'richie.app': 33,\n",
       "         'bowencraggs.com': 33,\n",
       "         'euroland.com': 33,\n",
       "         'privacy-mgmt.com': 369,\n",
       "         'almamedia.net': 26,\n",
       "         'fmi.fi': 33,\n",
       "         'mediadelivery.fi': 33,\n",
       "         'amplience.net': 29,\n",
       "         'gravito.net': 2,\n",
       "         'ggpht.com': 115,\n",
       "         'arukereso.hu': 26,\n",
       "         'google.hu': 57,\n",
       "         'adverticum.net': 207,\n",
       "         'ytimg.com': 115,\n",
       "         'adskeeper.com': 155,\n",
       "         'origos.hu': 10,\n",
       "         'adskeeper.co.uk': 156,\n",
       "         'bbelements.com': 272,\n",
       "         'hirstart.hu': 48,\n",
       "         'projectagoraservices.com': 90,\n",
       "         'hvgrt.hu': 26,\n",
       "         'projectagora-adtag-library.com': 90,\n",
       "         'p3k.hu': 52,\n",
       "         'p3g.hu': 26,\n",
       "         'medija.hu': 52,\n",
       "         'filmvilag.org': 26,\n",
       "         'adocean.pl': 165,\n",
       "         'themoviedb.org': 26,\n",
       "         'jofogas.hu': 26,\n",
       "         'kdaimo.com': 84,\n",
       "         'pagefair.net': 12,\n",
       "         'worldgravity.com': 26,\n",
       "         't-online.hu': 26,\n",
       "         'patgsrv.com': 26,\n",
       "         'atmedia.hu': 26,\n",
       "         '4cdn.hu': 26,\n",
       "         'pushwize.com': 25,\n",
       "         'publisher1st.com': 13,\n",
       "         'adomik.com': 19,\n",
       "         'gexperiments1.com': 1,\n",
       "         'gexperiments2.com': 1,\n",
       "         nan: 18,\n",
       "         'zscloud.net': 1,\n",
       "         'heureka.sk': 66,\n",
       "         'google.sk': 33,\n",
       "         'lidl-shop.com': 33,\n",
       "         'joj.sk': 33,\n",
       "         'kukaj.to': 99,\n",
       "         'dobremedia.sk': 33,\n",
       "         'erstegroup.com': 89,\n",
       "         'searchhub.io': 33,\n",
       "         'adscale.de': 400,\n",
       "         'assets.lidl': 33,\n",
       "         'sdn.cz': 838,\n",
       "         'strossle.com': 33,\n",
       "         'aimatch.com': 290,\n",
       "         'im9.cz': 33,\n",
       "         'web2media.sk': 21,\n",
       "         'adspirit.de': 7,\n",
       "         'etargetnet.com': 76,\n",
       "         'blismedia.com': 1,\n",
       "         'mtg-api.com': 111,\n",
       "         'disco-api.com': 38,\n",
       "         'viaplay.tv': 37,\n",
       "         'fobs.dk': 74,\n",
       "         'e-boks.com': 37,\n",
       "         'ads-twitter.com': 220,\n",
       "         'hsforms.net': 37,\n",
       "         'frontimg.dk': 37,\n",
       "         'webcontentassessor.com': 37,\n",
       "         'keppet.com': 37,\n",
       "         'pdst.fm': 37,\n",
       "         'spotifycdn.com': 37,\n",
       "         'aptoma.no': 37,\n",
       "         'adnami.io': 37,\n",
       "         'cookieinformation.com': 37,\n",
       "         'google.dk': 37,\n",
       "         'jwpsrv.com': 25,\n",
       "         'viaplay.com': 2,\n",
       "         'fwmrm.net': 33,\n",
       "         'app.link': 5,\n",
       "         'dmgmediaprivacy.co.uk': 35,\n",
       "         'mhtr.be': 70,\n",
       "         'fusio.dev': 35,\n",
       "         'mediahuis.be': 35,\n",
       "         'metweb.ie': 70,\n",
       "         'openstreetmap.org': 105,\n",
       "         'guardianapis.com': 35,\n",
       "         'proper.io': 35,\n",
       "         'amlimg.com': 35,\n",
       "         'guardianapps.co.uk': 35,\n",
       "         'anm.co.uk': 35,\n",
       "         'flip-pay.com': 35,\n",
       "         'dsch.ie': 35,\n",
       "         'guim.co.uk': 140,\n",
       "         'journalmedia.ie': 35,\n",
       "         'associates-amazon.com': 35,\n",
       "         'convergeselect.net': 35,\n",
       "         'google.ie': 71,\n",
       "         'live-video.net': 5,\n",
       "         'ad.gt': 12,\n",
       "         'sail-personalize.com': 2,\n",
       "         'prebid.org': 1,\n",
       "         'torchad.com': 3,\n",
       "         'fksnk.com': 2,\n",
       "         'ctfassets.net': 55,\n",
       "         'svenskaspel.net': 55,\n",
       "         'cdn-expressen.se': 55,\n",
       "         'bn.nr': 55,\n",
       "         'ip-only.net': 55,\n",
       "         'footprint.net': 55,\n",
       "         'bonnier.news': 87,\n",
       "         'qubit.com': 55,\n",
       "         'vgtv.no': 55,\n",
       "         'contentful.com': 55,\n",
       "         'bonad.io': 55,\n",
       "         'vgc.no': 55,\n",
       "         'ohoy.io': 40,\n",
       "         'adnxs-simple.com': 7,\n",
       "         'google.se': 1,\n",
       "         'privacymanager.io': 278,\n",
       "         'adition.com': 112,\n",
       "         'yieldlab.net': 28,\n",
       "         'wettercomassets.com': 401,\n",
       "         'adroll.com': 21,\n",
       "         'loopme.me': 33,\n",
       "         'brand-display.com': 30,\n",
       "         'bgonair.bg': 128,\n",
       "         'adsco.re': 531,\n",
       "         'cmestatic.com': 64,\n",
       "         'intelligenceadx.com': 120,\n",
       "         'bttrack.com': 20,\n",
       "         'twpasol.com': 64,\n",
       "         'google.bg': 320,\n",
       "         'mailchimp.com': 64,\n",
       "         'az-jenata.bg': 64,\n",
       "         'deliverysapgoblet.com': 64,\n",
       "         'id24.bg': 128,\n",
       "         'moonicorn.network': 64,\n",
       "         'btv.bg': 192,\n",
       "         'bweb.bg': 128,\n",
       "         'netinfo.bg': 128,\n",
       "         'tialoto.bg': 128,\n",
       "         'focus.bg': 64,\n",
       "         'ibg.bg': 128,\n",
       "         'gol.bg': 128,\n",
       "         'puls.bg': 64,\n",
       "         'dmca.com': 64,\n",
       "         'zencdn.net': 64,\n",
       "         'offerista.com': 64,\n",
       "         'investor.bg': 64,\n",
       "         '7rtb.com': 64,\n",
       "         'marktjagd.com': 64,\n",
       "         'besafe.global': 1,\n",
       "         'adotmob.com': 21,\n",
       "         'eqads.com': 26,\n",
       "         'stickyadstv.com': 79,\n",
       "         'adhash.com': 6,\n",
       "         'e-volution.ai': 1,\n",
       "         'sharethrough.com': 2,\n",
       "         'google.com.tr': 1,\n",
       "         'adswizz.com': 146,\n",
       "         'prensaiberica.es': 444,\n",
       "         'richaudience.com': 280,\n",
       "         'amazon.fr': 148,\n",
       "         'google.es': 396,\n",
       "         'besoccerapps.com': 148,\n",
       "         'wemass.com': 147,\n",
       "         'abcstatics.com': 444,\n",
       "         'unidadeditorial.es': 296,\n",
       "         'tmall.ru': 103,\n",
       "         'vocstatic.com': 148,\n",
       "         'abcimg.es': 147,\n",
       "         'socy.es': 296,\n",
       "         'aliapp.org': 98,\n",
       "         'aliexpress.ru': 113,\n",
       "         'orange.es': 2,\n",
       "         'adnuntius.delivery': 1,\n",
       "         'lkqd.net': 3,\n",
       "         'admanmedia.com': 2,\n",
       "         'ravenjs.com': 1,\n",
       "         'eu-1-id5-sync.com': 1,\n",
       "         'spotxchange.com': 73,\n",
       "         'e-planning.net': 1,\n",
       "         'adguard.org': 1,\n",
       "         'cloudflarestream.com': 42,\n",
       "         'polarcdn-engine.com': 45,\n",
       "         'polarcdn-terrax.com': 45,\n",
       "         'polarcdn.com': 46,\n",
       "         'prismamediadigital.com': 108,\n",
       "         'smilewanted.com': 158,\n",
       "         'prismamedia.com': 162,\n",
       "         'doctolib.com': 81,\n",
       "         'zxcvads.com': 16,\n",
       "         'francetelevisions.fr': 23,\n",
       "         'ftven.fr': 23,\n",
       "         'google.com.sv': 18,\n",
       "         'mediasquare.fr': 2,\n",
       "         'irsdn.net': 2,\n",
       "         'wpcdn.pl': 1222,\n",
       "         'im-g.pl': 896,\n",
       "         'ringpublishing.com': 964,\n",
       "         'google.nl': 99,\n",
       "         'olxssa.com': 453,\n",
       "         'pulsembed.eu': 451,\n",
       "         'notoria.pl': 452,\n",
       "         'agora.pl': 308,\n",
       "         'wpimg.pl': 453,\n",
       "         'qwtag.com': 324,\n",
       "         'naanalle.pl': 3,\n",
       "         'google.ge': 1,\n",
       "         'rcs.it': 198,\n",
       "         'gedistatic.it': 225,\n",
       "         'gedi.it': 211,\n",
       "         'aaxads.com': 343,\n",
       "         'ticdn.it': 127,\n",
       "         'medallia.eu': 126,\n",
       "         'spreaker.com': 113,\n",
       "         'stbm.it': 113,\n",
       "         'mediaset.net': 113,\n",
       "         'google.si': 1,\n",
       "         'google.pl': 337,\n",
       "         'google.by': 14,\n",
       "         'allegrostatic.com': 3,\n",
       "         'allegroimg.com': 2,\n",
       "         'stroeerws.de': 730,\n",
       "         'img-bahn.de': 146,\n",
       "         'idealo.com': 146,\n",
       "         'static-bahn.de': 292,\n",
       "         'toi.de': 146,\n",
       "         'cmp-resources.link': 24,\n",
       "         'trackad.cz': 240,\n",
       "         'pmgstatic.com': 518,\n",
       "         'caroda.io': 510,\n",
       "         'szn.cz': 761,\n",
       "         'mapy.cz': 516,\n",
       "         'im.cz': 258,\n",
       "         'sklik.cz': 1})"
      ]
     },
     "execution_count": 44,
     "metadata": {},
     "output_type": "execute_result"
    }
   ],
   "source": [
    "Counter(bright_data_15_df.not_first_party_and_not_tracker)"
   ]
  },
  {
   "cell_type": "code",
   "execution_count": null,
   "id": "a39e149a-02c5-48f1-a812-9d1ec9347c64",
   "metadata": {},
   "outputs": [],
   "source": []
  }
 ],
 "metadata": {
  "kernelspec": {
   "display_name": "Python 3 (ipykernel)",
   "language": "python",
   "name": "python3"
  },
  "language_info": {
   "codemirror_mode": {
    "name": "ipython",
    "version": 3
   },
   "file_extension": ".py",
   "mimetype": "text/x-python",
   "name": "python",
   "nbconvert_exporter": "python",
   "pygments_lexer": "ipython3",
   "version": "3.9.7"
  }
 },
 "nbformat": 4,
 "nbformat_minor": 5
}
