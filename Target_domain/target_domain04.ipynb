{
 "cells": [
  {
   "cell_type": "markdown",
   "id": "5d6f13cd-cd49-4267-8952-e18590d88ecb",
   "metadata": {},
   "source": [
    "# 1. Import packages"
   ]
  },
  {
   "cell_type": "code",
   "execution_count": 1,
   "id": "e664de78-e052-4e74-b44c-8544cd9cf753",
   "metadata": {},
   "outputs": [],
   "source": [
    "import copy\n",
    "import ipaddress\n",
    "import math\n",
    "import numpy as np\n",
    "import os\n",
    "import pandas as pd\n",
    "import re\n",
    "import time\n",
    "\n",
    "from datetime import timedelta"
   ]
  },
  {
   "cell_type": "markdown",
   "id": "58b7b949-b5aa-43ea-a1b0-5108f614dd6a",
   "metadata": {},
   "source": [
    "# 2. Read a sample CSV"
   ]
  },
  {
   "cell_type": "markdown",
   "id": "89d1e10f-9f17-4455-a492-d76486eb896b",
   "metadata": {},
   "source": [
    "## 2.1. Change to inputs directory"
   ]
  },
  {
   "cell_type": "code",
   "execution_count": 2,
   "id": "60248de6-a3a7-4d4b-a39a-3e40e39183b2",
   "metadata": {},
   "outputs": [
    {
     "name": "stdout",
     "output_type": "stream",
     "text": [
      "/Users/immanuel/Documents/NEU/05_Spring_2022/CS7675_ResAppr/tasks/MyLab/task17_target_domain\n",
      "/Users/immanuel/Documents/NEU/05_Spring_2022/CS7675_ResAppr/tasks/MyLab/task17_target_domain/input\n"
     ]
    }
   ],
   "source": [
    "print(os.getcwd())\n",
    "input_path_s = \"/input/\"\n",
    "input_path_s = os.getcwd() + input_path_s\n",
    "output_path_s = \"/output/\"\n",
    "output_path_s = os.getcwd() + output_path_s\n",
    "os.chdir(input_path_s)\n",
    "print(os.getcwd())"
   ]
  },
  {
   "cell_type": "markdown",
   "id": "91397367-aa77-416f-abc7-faa90d3871be",
   "metadata": {},
   "source": [
    "## 2.2. Read CSV: 2022-08-09.csv"
   ]
  },
  {
   "cell_type": "code",
   "execution_count": 3,
   "id": "e75c65d6-3a06-4ea2-85e5-98b0137d2084",
   "metadata": {},
   "outputs": [
    {
     "name": "stderr",
     "output_type": "stream",
     "text": [
      "/opt/anaconda3/lib/python3.9/site-packages/IPython/core/interactiveshell.py:3444: DtypeWarning: Columns (1) have mixed types.Specify dtype option on import or set low_memory=False.\n",
      "  exec(code_obj, self.user_global_ns, self.user_ns)\n"
     ]
    }
   ],
   "source": [
    "bright_data_df = pd.read_csv(\"domains_bright_data.csv\")"
   ]
  },
  {
   "cell_type": "code",
   "execution_count": 4,
   "id": "63c3330e-81b6-4b97-8313-901eaeeeea9b",
   "metadata": {},
   "outputs": [
    {
     "data": {
      "text/html": [
       "<div>\n",
       "<style scoped>\n",
       "    .dataframe tbody tr th:only-of-type {\n",
       "        vertical-align: middle;\n",
       "    }\n",
       "\n",
       "    .dataframe tbody tr th {\n",
       "        vertical-align: top;\n",
       "    }\n",
       "\n",
       "    .dataframe thead th {\n",
       "        text-align: right;\n",
       "    }\n",
       "</style>\n",
       "<table border=\"1\" class=\"dataframe\">\n",
       "  <thead>\n",
       "    <tr style=\"text-align: right;\">\n",
       "      <th></th>\n",
       "      <th>country</th>\n",
       "      <th>asn</th>\n",
       "      <th>initial_domain_filename</th>\n",
       "      <th>target_domain</th>\n",
       "    </tr>\n",
       "  </thead>\n",
       "  <tbody>\n",
       "    <tr>\n",
       "      <th>20</th>\n",
       "      <td>hr</td>\n",
       "      <td>google</td>\n",
       "      <td>20220804-HR-google-httpswww.google.hr-DNS_Requ...</td>\n",
       "      <td>www.google.hr</td>\n",
       "    </tr>\n",
       "    <tr>\n",
       "      <th>21</th>\n",
       "      <td>hr</td>\n",
       "      <td>google</td>\n",
       "      <td>20220804-HR-google-httpswww.google.hr-DNS_Requ...</td>\n",
       "      <td>apis.google.com</td>\n",
       "    </tr>\n",
       "    <tr>\n",
       "      <th>22</th>\n",
       "      <td>hr</td>\n",
       "      <td>google</td>\n",
       "      <td>20220804-HR-google-httpswww.google.hr-DNS_Requ...</td>\n",
       "      <td>ogs.google.hr</td>\n",
       "    </tr>\n",
       "    <tr>\n",
       "      <th>23</th>\n",
       "      <td>hr</td>\n",
       "      <td>61094</td>\n",
       "      <td>20220804-HR-61094-httpswww.njuskalo.hr-DNS_Req...</td>\n",
       "      <td>ls.hit.gemius.pl</td>\n",
       "    </tr>\n",
       "    <tr>\n",
       "      <th>24</th>\n",
       "      <td>hr</td>\n",
       "      <td>61094</td>\n",
       "      <td>20220804-HR-61094-httpswww.24sata.hr-DNS_Reque...</td>\n",
       "      <td>aax-eu.amazon-adsystem.com</td>\n",
       "    </tr>\n",
       "    <tr>\n",
       "      <th>25</th>\n",
       "      <td>hr</td>\n",
       "      <td>61094</td>\n",
       "      <td>20220804-HR-61094-httpswww.24sata.hr-DNS_Reque...</td>\n",
       "      <td>buy.tinypass.com</td>\n",
       "    </tr>\n",
       "    <tr>\n",
       "      <th>26</th>\n",
       "      <td>hr</td>\n",
       "      <td>61094</td>\n",
       "      <td>20220804-HR-61094-httpswww.roblox.com-DNS_Requ...</td>\n",
       "      <td>static.rbxcdn.com</td>\n",
       "    </tr>\n",
       "    <tr>\n",
       "      <th>27</th>\n",
       "      <td>hr</td>\n",
       "      <td>61094</td>\n",
       "      <td>20220804-HR-61094-httpswww.gloria.hr-DNS_Reque...</td>\n",
       "      <td>cdn.ampproject.org</td>\n",
       "    </tr>\n",
       "    <tr>\n",
       "      <th>28</th>\n",
       "      <td>hr</td>\n",
       "      <td>61094</td>\n",
       "      <td>20220804-HR-61094-httpswww.24sata.hr-DNS_Reque...</td>\n",
       "      <td>ads.yahoo.com</td>\n",
       "    </tr>\n",
       "    <tr>\n",
       "      <th>29</th>\n",
       "      <td>hr</td>\n",
       "      <td>61094</td>\n",
       "      <td>20220804-HR-61094-httpswww.srce.hr-DNS_Request...</td>\n",
       "      <td>www.srce.unizg.hr</td>\n",
       "    </tr>\n",
       "  </tbody>\n",
       "</table>\n",
       "</div>"
      ],
      "text/plain": [
       "   country     asn                            initial_domain_filename  \\\n",
       "20      hr  google  20220804-HR-google-httpswww.google.hr-DNS_Requ...   \n",
       "21      hr  google  20220804-HR-google-httpswww.google.hr-DNS_Requ...   \n",
       "22      hr  google  20220804-HR-google-httpswww.google.hr-DNS_Requ...   \n",
       "23      hr   61094  20220804-HR-61094-httpswww.njuskalo.hr-DNS_Req...   \n",
       "24      hr   61094  20220804-HR-61094-httpswww.24sata.hr-DNS_Reque...   \n",
       "25      hr   61094  20220804-HR-61094-httpswww.24sata.hr-DNS_Reque...   \n",
       "26      hr   61094  20220804-HR-61094-httpswww.roblox.com-DNS_Requ...   \n",
       "27      hr   61094  20220804-HR-61094-httpswww.gloria.hr-DNS_Reque...   \n",
       "28      hr   61094  20220804-HR-61094-httpswww.24sata.hr-DNS_Reque...   \n",
       "29      hr   61094  20220804-HR-61094-httpswww.srce.hr-DNS_Request...   \n",
       "\n",
       "                 target_domain  \n",
       "20               www.google.hr  \n",
       "21             apis.google.com  \n",
       "22               ogs.google.hr  \n",
       "23            ls.hit.gemius.pl  \n",
       "24  aax-eu.amazon-adsystem.com  \n",
       "25            buy.tinypass.com  \n",
       "26           static.rbxcdn.com  \n",
       "27          cdn.ampproject.org  \n",
       "28               ads.yahoo.com  \n",
       "29           www.srce.unizg.hr  "
      ]
     },
     "execution_count": 4,
     "metadata": {},
     "output_type": "execute_result"
    }
   ],
   "source": [
    "bright_data_df.iloc[20:30]"
   ]
  },
  {
   "cell_type": "code",
   "execution_count": 5,
   "id": "d5bde822-7fce-4cfb-893e-da79765b3652",
   "metadata": {},
   "outputs": [
    {
     "data": {
      "text/plain": [
       "(1075319, 4)"
      ]
     },
     "execution_count": 5,
     "metadata": {},
     "output_type": "execute_result"
    }
   ],
   "source": [
    "bright_data_df.shape"
   ]
  },
  {
   "cell_type": "markdown",
   "id": "5fb64457-9099-43d0-9683-97131dd86705",
   "metadata": {},
   "source": [
    "# 3. Column 5 and 6."
   ]
  },
  {
   "cell_type": "raw",
   "id": "bcb051ce-87ce-4470-91d2-80e7202c84fc",
   "metadata": {},
   "source": [
    "# Column 5: TLD+1 of initial_domain_filename\n",
    "# Column 6: The TLD+1 of the target domain."
   ]
  },
  {
   "cell_type": "code",
   "execution_count": 6,
   "id": "e8097eba-6270-46a0-8a4e-6739338abf80",
   "metadata": {},
   "outputs": [],
   "source": [
    "original_bright_data_df = copy.deepcopy(bright_data_df)"
   ]
  },
  {
   "cell_type": "code",
   "execution_count": 7,
   "id": "147e2633-5cb2-49a2-af3c-a1e5a6ad9d43",
   "metadata": {},
   "outputs": [],
   "source": [
    "# I am aware that looping through a dataframe is not the best way.\n",
    "# However, a data maninuplation onto a million row of data leads Python crash.\n",
    "# Please, let me know how I can improve my code. Thanks."
   ]
  },
  {
   "cell_type": "markdown",
   "id": "bb42cd15-5a87-4759-8c8a-b2dd345d914a",
   "metadata": {},
   "source": [
    "## 3.1. Create TLD + 1"
   ]
  },
  {
   "cell_type": "code",
   "execution_count": 8,
   "id": "14b5e82a-7a08-4d47-82c3-ebf7165a97fe",
   "metadata": {},
   "outputs": [],
   "source": [
    "initial_domain_tld_plus_one_l = []\n",
    "target_domain_tld_plus_one_l = []\n",
    "\n",
    "\n",
    "for i in range(len(bright_data_df)):\n",
    "    if bright_data_df[\"asn\"][i] == \"google\":\n",
    "        initial_domain_tld_plus_one_l.append(None)\n",
    "        target_domain_tld_plus_one_l.append(None)\n",
    "    else:\n",
    "        # I am pretty sure there is a better way to regex once, but I am doing regex twice.\n",
    "        initial_domain_tld_plus_one_s = re.search(\"\\.(.*)-DNS_Requests.txt\", bright_data_df[\"initial_domain_filename\"][i]).group(1)\n",
    "        initial_domain_tld_plus_one_s = re.search(\"(\\w+\\.\\w+)$\", initial_domain_tld_plus_one_s).group(1)\n",
    "        initial_domain_tld_plus_one_l.append(initial_domain_tld_plus_one_s)\n",
    "        target_domain_tld_plus_one_s = re.search(\"(\\w+\\.\\w+)$\", bright_data_df[\"target_domain\"][i]).group(1)\n",
    "        target_domain_tld_plus_one_l.append(target_domain_tld_plus_one_s)"
   ]
  },
  {
   "cell_type": "markdown",
   "id": "f95bd331-c1fa-43b9-a6e6-2cb85f952720",
   "metadata": {},
   "source": [
    "## 3.2. Check whether there is only one dot or not"
   ]
  },
  {
   "cell_type": "code",
   "execution_count": 9,
   "id": "65be4c89-5339-4cac-b5b6-22762e2e2f1e",
   "metadata": {},
   "outputs": [],
   "source": [
    "# It is good if nothing is printed.\n",
    "for tld_plus_one in initial_domain_tld_plus_one_l:\n",
    "    try:\n",
    "        dot_count_i = tld_plus_one.count(\".\")\n",
    "        if dot_count_i > 1:\n",
    "            print(tld_plus_one)\n",
    "    except:\n",
    "        pass"
   ]
  },
  {
   "cell_type": "code",
   "execution_count": 10,
   "id": "4a73129d-0503-482b-adfe-0cab733b141d",
   "metadata": {},
   "outputs": [],
   "source": [
    "# It is good if nothing is printed.\n",
    "for tld_plus_one in target_domain_tld_plus_one_l:\n",
    "    try:\n",
    "        dot_count_i = tld_plus_one.count(\".\")\n",
    "        if dot_count_i > 1:\n",
    "            print(tld_plus_one)\n",
    "    except:\n",
    "        pass"
   ]
  },
  {
   "cell_type": "markdown",
   "id": "640f7aa6-2047-47f2-9ba7-3f767099d201",
   "metadata": {},
   "source": [
    "## 3.3. Add new columns"
   ]
  },
  {
   "cell_type": "code",
   "execution_count": 11,
   "id": "d1cc1134-32cc-4fd8-97aa-e7a5c2d318c3",
   "metadata": {},
   "outputs": [],
   "source": [
    "bright_data_df[\"initial_domain_tld_plus_one\"] = initial_domain_tld_plus_one_l\n",
    "bright_data_df[\"target_domain_tld_plus_one\"] = target_domain_tld_plus_one_l"
   ]
  },
  {
   "cell_type": "code",
   "execution_count": 12,
   "id": "3e780a6b-48c2-48a0-b192-25c08852fcb0",
   "metadata": {},
   "outputs": [
    {
     "data": {
      "text/html": [
       "<div>\n",
       "<style scoped>\n",
       "    .dataframe tbody tr th:only-of-type {\n",
       "        vertical-align: middle;\n",
       "    }\n",
       "\n",
       "    .dataframe tbody tr th {\n",
       "        vertical-align: top;\n",
       "    }\n",
       "\n",
       "    .dataframe thead th {\n",
       "        text-align: right;\n",
       "    }\n",
       "</style>\n",
       "<table border=\"1\" class=\"dataframe\">\n",
       "  <thead>\n",
       "    <tr style=\"text-align: right;\">\n",
       "      <th></th>\n",
       "      <th>country</th>\n",
       "      <th>asn</th>\n",
       "      <th>initial_domain_filename</th>\n",
       "      <th>target_domain</th>\n",
       "      <th>initial_domain_tld_plus_one</th>\n",
       "      <th>target_domain_tld_plus_one</th>\n",
       "    </tr>\n",
       "  </thead>\n",
       "  <tbody>\n",
       "    <tr>\n",
       "      <th>20</th>\n",
       "      <td>hr</td>\n",
       "      <td>google</td>\n",
       "      <td>20220804-HR-google-httpswww.google.hr-DNS_Requ...</td>\n",
       "      <td>www.google.hr</td>\n",
       "      <td>None</td>\n",
       "      <td>None</td>\n",
       "    </tr>\n",
       "    <tr>\n",
       "      <th>21</th>\n",
       "      <td>hr</td>\n",
       "      <td>google</td>\n",
       "      <td>20220804-HR-google-httpswww.google.hr-DNS_Requ...</td>\n",
       "      <td>apis.google.com</td>\n",
       "      <td>None</td>\n",
       "      <td>None</td>\n",
       "    </tr>\n",
       "    <tr>\n",
       "      <th>22</th>\n",
       "      <td>hr</td>\n",
       "      <td>google</td>\n",
       "      <td>20220804-HR-google-httpswww.google.hr-DNS_Requ...</td>\n",
       "      <td>ogs.google.hr</td>\n",
       "      <td>None</td>\n",
       "      <td>None</td>\n",
       "    </tr>\n",
       "    <tr>\n",
       "      <th>23</th>\n",
       "      <td>hr</td>\n",
       "      <td>61094</td>\n",
       "      <td>20220804-HR-61094-httpswww.njuskalo.hr-DNS_Req...</td>\n",
       "      <td>ls.hit.gemius.pl</td>\n",
       "      <td>njuskalo.hr</td>\n",
       "      <td>gemius.pl</td>\n",
       "    </tr>\n",
       "    <tr>\n",
       "      <th>24</th>\n",
       "      <td>hr</td>\n",
       "      <td>61094</td>\n",
       "      <td>20220804-HR-61094-httpswww.24sata.hr-DNS_Reque...</td>\n",
       "      <td>aax-eu.amazon-adsystem.com</td>\n",
       "      <td>24sata.hr</td>\n",
       "      <td>adsystem.com</td>\n",
       "    </tr>\n",
       "    <tr>\n",
       "      <th>25</th>\n",
       "      <td>hr</td>\n",
       "      <td>61094</td>\n",
       "      <td>20220804-HR-61094-httpswww.24sata.hr-DNS_Reque...</td>\n",
       "      <td>buy.tinypass.com</td>\n",
       "      <td>24sata.hr</td>\n",
       "      <td>tinypass.com</td>\n",
       "    </tr>\n",
       "    <tr>\n",
       "      <th>26</th>\n",
       "      <td>hr</td>\n",
       "      <td>61094</td>\n",
       "      <td>20220804-HR-61094-httpswww.roblox.com-DNS_Requ...</td>\n",
       "      <td>static.rbxcdn.com</td>\n",
       "      <td>roblox.com</td>\n",
       "      <td>rbxcdn.com</td>\n",
       "    </tr>\n",
       "    <tr>\n",
       "      <th>27</th>\n",
       "      <td>hr</td>\n",
       "      <td>61094</td>\n",
       "      <td>20220804-HR-61094-httpswww.gloria.hr-DNS_Reque...</td>\n",
       "      <td>cdn.ampproject.org</td>\n",
       "      <td>gloria.hr</td>\n",
       "      <td>ampproject.org</td>\n",
       "    </tr>\n",
       "    <tr>\n",
       "      <th>28</th>\n",
       "      <td>hr</td>\n",
       "      <td>61094</td>\n",
       "      <td>20220804-HR-61094-httpswww.24sata.hr-DNS_Reque...</td>\n",
       "      <td>ads.yahoo.com</td>\n",
       "      <td>24sata.hr</td>\n",
       "      <td>yahoo.com</td>\n",
       "    </tr>\n",
       "    <tr>\n",
       "      <th>29</th>\n",
       "      <td>hr</td>\n",
       "      <td>61094</td>\n",
       "      <td>20220804-HR-61094-httpswww.srce.hr-DNS_Request...</td>\n",
       "      <td>www.srce.unizg.hr</td>\n",
       "      <td>srce.hr</td>\n",
       "      <td>unizg.hr</td>\n",
       "    </tr>\n",
       "  </tbody>\n",
       "</table>\n",
       "</div>"
      ],
      "text/plain": [
       "   country     asn                            initial_domain_filename  \\\n",
       "20      hr  google  20220804-HR-google-httpswww.google.hr-DNS_Requ...   \n",
       "21      hr  google  20220804-HR-google-httpswww.google.hr-DNS_Requ...   \n",
       "22      hr  google  20220804-HR-google-httpswww.google.hr-DNS_Requ...   \n",
       "23      hr   61094  20220804-HR-61094-httpswww.njuskalo.hr-DNS_Req...   \n",
       "24      hr   61094  20220804-HR-61094-httpswww.24sata.hr-DNS_Reque...   \n",
       "25      hr   61094  20220804-HR-61094-httpswww.24sata.hr-DNS_Reque...   \n",
       "26      hr   61094  20220804-HR-61094-httpswww.roblox.com-DNS_Requ...   \n",
       "27      hr   61094  20220804-HR-61094-httpswww.gloria.hr-DNS_Reque...   \n",
       "28      hr   61094  20220804-HR-61094-httpswww.24sata.hr-DNS_Reque...   \n",
       "29      hr   61094  20220804-HR-61094-httpswww.srce.hr-DNS_Request...   \n",
       "\n",
       "                 target_domain initial_domain_tld_plus_one  \\\n",
       "20               www.google.hr                        None   \n",
       "21             apis.google.com                        None   \n",
       "22               ogs.google.hr                        None   \n",
       "23            ls.hit.gemius.pl                 njuskalo.hr   \n",
       "24  aax-eu.amazon-adsystem.com                   24sata.hr   \n",
       "25            buy.tinypass.com                   24sata.hr   \n",
       "26           static.rbxcdn.com                  roblox.com   \n",
       "27          cdn.ampproject.org                   gloria.hr   \n",
       "28               ads.yahoo.com                   24sata.hr   \n",
       "29           www.srce.unizg.hr                     srce.hr   \n",
       "\n",
       "   target_domain_tld_plus_one  \n",
       "20                       None  \n",
       "21                       None  \n",
       "22                       None  \n",
       "23                  gemius.pl  \n",
       "24               adsystem.com  \n",
       "25               tinypass.com  \n",
       "26                 rbxcdn.com  \n",
       "27             ampproject.org  \n",
       "28                  yahoo.com  \n",
       "29                   unizg.hr  "
      ]
     },
     "execution_count": 12,
     "metadata": {},
     "output_type": "execute_result"
    }
   ],
   "source": [
    "bright_data_df.iloc[20:30]"
   ]
  },
  {
   "cell_type": "code",
   "execution_count": 13,
   "id": "4c6f00b4-c1d7-41a1-b5d6-a1e6919647b0",
   "metadata": {},
   "outputs": [
    {
     "data": {
      "text/plain": [
       "(1075319, 6)"
      ]
     },
     "execution_count": 13,
     "metadata": {},
     "output_type": "execute_result"
    }
   ],
   "source": [
    "bright_data_df.shape"
   ]
  },
  {
   "cell_type": "markdown",
   "id": "e112955b-52e9-4e2e-88d1-89501a15b3cc",
   "metadata": {},
   "source": [
    "# 4. Internet Measurement Tools"
   ]
  },
  {
   "cell_type": "markdown",
   "id": "12065477-bb94-442b-90d5-211f15950948",
   "metadata": {},
   "source": [
    "## 4.1. dig: (url to) hostname to ip"
   ]
  },
  {
   "cell_type": "code",
   "execution_count": 14,
   "id": "b58cbd5c-0c29-4a96-953d-33aafe147383",
   "metadata": {},
   "outputs": [],
   "source": [
    "initial_domain_hostname_set = set(bright_data_df[\"initial_domain_tld_plus_one\"])\n",
    "target_domain_hostname_set = set(bright_data_df[\"target_domain_tld_plus_one\"])"
   ]
  },
  {
   "cell_type": "code",
   "execution_count": 80,
   "id": "90b02cb1-925a-4862-a0bd-2fb02a7dd4b3",
   "metadata": {},
   "outputs": [
    {
     "data": {
      "text/plain": [
       "False"
      ]
     },
     "execution_count": 80,
     "metadata": {},
     "output_type": "execute_result"
    }
   ],
   "source": [
    "initial_domain_hostname_set == target_domain_hostname_set"
   ]
  },
  {
   "cell_type": "code",
   "execution_count": 15,
   "id": "63147ca0-844f-4ee0-9234-1030c7205889",
   "metadata": {},
   "outputs": [
    {
     "name": "stdout",
     "output_type": "stream",
     "text": [
      "0:01:48.862133\n",
      "[('kuleuven.be', ['134.58.64.15']), ('mundodeportivo.com', ['51.68.114.63', '51.77.228.215']), ('pravda.sk', ['217.67.31.48']), ('meteo.be', ['193.190.231.166']), ('futbol24.com', ['213.227.146.165', '213.227.146.161', '213.227.146.163']), ('makeleio.gr', ['62.38.6.97']), ('voici.fr', ['54.73.86.40']), ('marica.bg', ['172.67.73.120', '104.26.4.228', '104.26.5.228']), ('sverigesradio.se', ['134.25.4.140']), ('femina.hu', ['194.143.245.39', '213.181.199.14', '213.181.199.15', '213.181.199.16', '213.181.199.17', '81.0.120.157', '81.0.120.158'])]\n"
     ]
    }
   ],
   "source": [
    "start_time = time.time()\n",
    "initial_domain_hostname_ip_d = {}\n",
    "\n",
    "for hostname_s in initial_domain_hostname_set:\n",
    "    initial_domain_hostname_ip_d[hostname_s] = []\n",
    "\n",
    "    if hostname_s is not None:\n",
    "        cmd = \"dig +short \" + hostname_s\n",
    "        ip_l = os.popen(cmd).read().split(\"\\n\")\n",
    "\n",
    "        for ip in ip_l:\n",
    "            if ip != \"\":\n",
    "                try:\n",
    "                    ipaddress.ip_address(ip)\n",
    "                    initial_domain_hostname_ip_d[hostname_s].append(ip)\n",
    "                except ValueError:\n",
    "                    print(f\"{hostname_s} has an invalid address/netmask at {ip}\")\n",
    "                except:\n",
    "                    print(\"Usage : %s  ip\" % ip)\n",
    "                \n",
    "\n",
    "elapsed_time = time.time() - start_time\n",
    "print(str(timedelta(seconds=elapsed_time)))\n",
    "print(list(initial_domain_hostname_ip_d.items())[:10])"
   ]
  },
  {
   "cell_type": "code",
   "execution_count": 16,
   "id": "a94d422b-9e48-4b2e-947c-5b9052c9c791",
   "metadata": {},
   "outputs": [
    {
     "name": "stdout",
     "output_type": "stream",
     "text": [
      "0:04:34.105650\n",
      "[('kuleuven.be', ['134.58.64.15']), ('mundodeportivo.com', ['51.77.228.215', '51.68.114.63']), ('onetrust.io', []), ('ingatlantajolo.hu', ['54.75.179.111', '52.51.212.20']), ('rmbl.ws', ['151.139.128.10']), ('advangelists.com', ['166.62.107.20']), ('metweb.ie', ['172.105.245.48']), ('pdst.fm', ['216.239.38.21', '216.239.32.21', '216.239.34.21', '216.239.36.21']), ('radiantmediatechs.com', ['172.67.8.9', '104.22.62.150', '104.22.63.150']), ('voici.fr', ['54.73.86.40'])]\n"
     ]
    }
   ],
   "source": [
    "start_time = time.time()\n",
    "target_domain_hostname_ip_d = {}\n",
    "\n",
    "for hostname_s in target_domain_hostname_set:\n",
    "    target_domain_hostname_ip_d[hostname_s] = []\n",
    "\n",
    "    if hostname_s is not None:\n",
    "        cmd = \"dig +short \" + hostname_s\n",
    "        ip_l = os.popen(cmd).read().split(\"\\n\")\n",
    "\n",
    "        for ip in ip_l:\n",
    "            if ip != \"\":\n",
    "                try:\n",
    "                    ipaddress.ip_address(ip)\n",
    "                    target_domain_hostname_ip_d[hostname_s].append(ip)\n",
    "                except ValueError:\n",
    "                    print(f\"{hostname_s} has an invalid address/netmask at {ip}\")\n",
    "                except:\n",
    "                    print(\"Usage : %s  ip\" % ip)\n",
    "                \n",
    "\n",
    "elapsed_time = time.time() - start_time\n",
    "print(str(timedelta(seconds=elapsed_time)))\n",
    "print(list(target_domain_hostname_ip_d.items())[:10])"
   ]
  },
  {
   "cell_type": "markdown",
   "id": "f298c992-ab17-401b-a15f-6f304034a6ed",
   "metadata": {},
   "source": [
    "## 4.2. whois: ip to AS Number (ASN) and AS Name (AS)"
   ]
  },
  {
   "cell_type": "code",
   "execution_count": 50,
   "id": "a11ef476-c14d-4191-9a74-27256ee0916d",
   "metadata": {},
   "outputs": [
    {
     "name": "stdout",
     "output_type": "stream",
     "text": [
      "True\n",
      "True\n"
     ]
    }
   ],
   "source": [
    "print(len(initial_domain_hostname_set) == len(initial_domain_hostname_ip_d.keys()))\n",
    "print(len(target_domain_hostname_set) == len(target_domain_hostname_ip_d.keys()))"
   ]
  },
  {
   "cell_type": "code",
   "execution_count": 53,
   "id": "f5ef9cfe-5c06-4fdc-9e93-7526668d7e40",
   "metadata": {},
   "outputs": [
    {
     "name": "stdout",
     "output_type": "stream",
     "text": [
      "0:03:04.862925\n",
      "[('kuleuven.be', ['2611']), ('mundodeportivo.com', ['16276', '16276']), ('pravda.sk', ['5578']), ('meteo.be', ['2611']), ('futbol24.com', ['60781', '60781', '60781']), ('makeleio.gr', ['3329']), ('voici.fr', ['16509']), ('marica.bg', ['13335', '13335', '13335']), ('sverigesradio.se', ['47708']), ('femina.hu', ['12301', '42371', '42371', '42371', '42371', '12301', '12301'])]\n",
      "[('kuleuven.be', ['BELNET, BE']), ('mundodeportivo.com', ['OVH, FR', 'OVH, FR']), ('pravda.sk', ['AS-BENESTRA Bratislava, Slovak Republic, SK']), ('meteo.be', ['BELNET, BE']), ('futbol24.com', ['LEASEWEB-NL-AMS-01 Netherlands, NL', 'LEASEWEB-NL-AMS-01 Netherlands, NL', 'LEASEWEB-NL-AMS-01 Netherlands, NL']), ('makeleio.gr', ['HOL-GR Athens, Greece, GR']), ('voici.fr', ['AMAZON-02, US']), ('marica.bg', ['CLOUDFLARENET, US', 'CLOUDFLARENET, US', 'CLOUDFLARENET, US']), ('sverigesradio.se', ['SVERIGES-RADIO Sveriges Radio AB, SE']), ('femina.hu', ['INVITECH, HU', 'AS_MAGEX, HU', 'AS_MAGEX, HU', 'AS_MAGEX, HU', 'AS_MAGEX, HU', 'INVITECH, HU', 'INVITECH, HU'])]\n"
     ]
    }
   ],
   "source": [
    "start_time = time.time()\n",
    "initial_domain_hostname_asn_d = {}\n",
    "initial_domain_hostname_as_d = {}\n",
    "\n",
    "for hostname, ip_l in initial_domain_hostname_ip_d.items():\n",
    "\n",
    "    # Sanity check.\n",
    "    # If ever the length of ASN and AS do not match, then break this loop\n",
    "    if len(initial_domain_hostname_asn_d.values()) != len(initial_domain_hostname_as_d.values()):\n",
    "        print(hostname, ip)\n",
    "        break\n",
    "\n",
    "    initial_domain_hostname_asn_d[hostname] = []\n",
    "    initial_domain_hostname_as_d[hostname] = []\n",
    "    \n",
    "    for ip in ip_l:\n",
    "        cmd = f\"whois -h whois.cymru.com {ip}\"\n",
    "        # try:\n",
    "        cymru_l = os.popen(cmd).read().split(\"\\n\")[1].split(\"|\")\n",
    "\n",
    "        for index, item in enumerate(cymru_l):\n",
    "            if index == 0:\n",
    "                initial_domain_hostname_asn_d[hostname].append(item.strip())\n",
    "            if index == 2:\n",
    "                initial_domain_hostname_as_d[hostname].append(item.strip())\n",
    "        # except:\n",
    "        #     cymru_l = os.popen(cmd).read()\n",
    "        #     print(cymru_l)\n",
    "        #     break\n",
    "\n",
    "\n",
    "\n",
    "elapsed_time = time.time() - start_time\n",
    "print(str(timedelta(seconds=elapsed_time)))\n",
    "print(list(initial_domain_hostname_asn_d.items())[:10])\n",
    "print(list(initial_domain_hostname_as_d.items())[:10])"
   ]
  },
  {
   "cell_type": "code",
   "execution_count": 54,
   "id": "cd03db22-8c79-44e6-9d47-f6b7716cad00",
   "metadata": {},
   "outputs": [
    {
     "name": "stdout",
     "output_type": "stream",
     "text": [
      "0:08:28.462231\n",
      "[('kuleuven.be', ['2611']), ('mundodeportivo.com', ['16276', '16276']), ('onetrust.io', []), ('ingatlantajolo.hu', ['16509', '16509']), ('rmbl.ws', ['20446']), ('advangelists.com', ['398101']), ('metweb.ie', ['63949']), ('pdst.fm', ['15169', '15169', '15169', '15169']), ('radiantmediatechs.com', ['13335', '13335', '13335']), ('voici.fr', ['16509'])]\n",
      "[('kuleuven.be', ['BELNET, BE']), ('mundodeportivo.com', ['OVH, FR', 'OVH, FR']), ('onetrust.io', []), ('ingatlantajolo.hu', ['AMAZON-02, US', 'AMAZON-02, US']), ('rmbl.ws', ['STACKPATH-CDN, US']), ('advangelists.com', ['GO-DADDY-COM-LLC, US']), ('metweb.ie', ['LINODE-AP Linode, LLC, US']), ('pdst.fm', ['GOOGLE, US', 'GOOGLE, US', 'GOOGLE, US', 'GOOGLE, US']), ('radiantmediatechs.com', ['CLOUDFLARENET, US', 'CLOUDFLARENET, US', 'CLOUDFLARENET, US']), ('voici.fr', ['AMAZON-02, US'])]\n"
     ]
    }
   ],
   "source": [
    "start_time = time.time()\n",
    "target_domain_hostname_asn_d = {}\n",
    "target_domain_hostname_as_d = {}\n",
    "\n",
    "for hostname, ip_l in target_domain_hostname_ip_d.items():\n",
    "\n",
    "    # Sanity check.\n",
    "    # If ever the length of ASN and AS do not match, then break this loop\n",
    "    if len(target_domain_hostname_asn_d.values()) != len(target_domain_hostname_as_d.values()):\n",
    "        print(hostname, ip)\n",
    "        break\n",
    "\n",
    "    target_domain_hostname_asn_d[hostname] = []\n",
    "    target_domain_hostname_as_d[hostname] = []\n",
    "    \n",
    "    for ip in ip_l:\n",
    "        cmd = f\"whois -h whois.cymru.com {ip}\"\n",
    "        # try:\n",
    "        cymru_l = os.popen(cmd).read().split(\"\\n\")[1].split(\"|\")\n",
    "\n",
    "        for index, item in enumerate(cymru_l):\n",
    "            if index == 0:\n",
    "                target_domain_hostname_asn_d[hostname].append(item.strip())\n",
    "            if index == 2:\n",
    "                target_domain_hostname_as_d[hostname].append(item.strip())\n",
    "        # except:\n",
    "        #     cymru_l = os.popen(cmd).read()\n",
    "        #     print(cymru_l)\n",
    "        #     break\n",
    "\n",
    "\n",
    "\n",
    "elapsed_time = time.time() - start_time\n",
    "print(str(timedelta(seconds=elapsed_time)))\n",
    "print(list(target_domain_hostname_asn_d.items())[:10])\n",
    "print(list(target_domain_hostname_as_d.items())[:10])"
   ]
  },
  {
   "cell_type": "markdown",
   "id": "ece3294d-fdc3-4a09-b049-98c3e374cd87",
   "metadata": {},
   "source": [
    "## 4.3. AS Number to AS2Org_OrgID"
   ]
  },
  {
   "cell_type": "raw",
   "id": "1f92f5a5-0c8e-4fd4-93da-c317dbea21f4",
   "metadata": {},
   "source": [
    "# https://publicdata.caida.org/datasets/as-organizations/"
   ]
  },
  {
   "cell_type": "code",
   "execution_count": 61,
   "id": "297826e7-fd23-4981-ae19-33f1c74e23d5",
   "metadata": {},
   "outputs": [
    {
     "name": "stdout",
     "output_type": "stream",
     "text": [
      "[(1, 'LPL-141-ARIN'), (2, 'UNIVER-19-ARIN'), (3, 'MIT-2-ARIN'), (4, 'USC-32-ARIN'), (5, 'WGL-117-ARIN'), (6, 'ATOS-Z-ARIN'), (7, 'ORG-TDSA4-RIPE'), (8, 'RICEUN-ARIN'), (9, 'CARNEG-Z-ARIN'), (10, 'CCICC-ARIN')]\n",
      "\n",
      "[('111S-ARIN', 'One Eleven Internet Services'), ('1800CO-2-ARIN', '1-800 Contacts, Inc.'), ('1800FL-ARIN', '1-800-Flowers.com, Inc.'), ('1800H-ARIN', '1-800-HOSTING, Inc.'), ('1881CS-ARIN', '1881CS/XPC'), ('1FBU-ARIN', '1st Financial Bank USA'), ('1GPUC-ARIN', '1798 Global Partners (USA), Corp.'), ('1STP-ARIN', 'FIRST STEP INTERNET, LLC'), ('1UWEB-ARIN', '1U Web, INC.'), ('280INC-ARIN', '280, Inc.')]\n"
     ]
    }
   ],
   "source": [
    "asn_orgid_d = {}\n",
    "orgid_orgname_d = {}\n",
    "\n",
    "with open('./20220701.as-org2info.txt', 'r') as caida_file:\n",
    "    for line in caida_file.readlines():\n",
    "        if not line.startswith(\"#\"):\n",
    "            items = line.strip().split(\"|\")\n",
    "            if len(items) == 5:\n",
    "                orgid_orgname_d[items[0]] = items[2]\n",
    "            elif len(items) == 6:\n",
    "                asn_orgid_d[int(items[0])] = items[3]\n",
    "            else:\n",
    "                assert False\n",
    "                \n",
    "print(list(asn_orgid_d.items())[:10])\n",
    "print()\n",
    "print(list(orgid_orgname_d.items())[:10])"
   ]
  },
  {
   "cell_type": "code",
   "execution_count": 63,
   "id": "742ed4b0-e903-4d86-b847-2bf296aada81",
   "metadata": {},
   "outputs": [
    {
     "name": "stdout",
     "output_type": "stream",
     "text": [
      "AS number NA does not exist\n",
      "AS number NA does not exist\n",
      "AS number NA does not exist\n",
      "AS number NA does not exist\n",
      "AS number NA does not exist\n",
      "AS number NA does not exist\n",
      "AS number NA does not exist\n",
      "AS number NA does not exist\n",
      "AS number NA does not exist\n",
      "True\n",
      "[('kuleuven.be', {'ORG-BA5-RIPE'}), ('mundodeportivo.com', {'ORG-OS3-RIPE'}), ('pravda.sk', {'ORG-SPA43-RIPE'}), ('meteo.be', {'ORG-BA5-RIPE'}), ('futbol24.com', {'ORG-OB3-RIPE'}), ('makeleio.gr', {'ORG-PS3-RIPE'}), ('voici.fr', {'AMAZON-4-ARIN'}), ('marica.bg', {'CLOUD14-ARIN'}), ('sverigesradio.se', {'ORG-SR18-RIPE'}), ('femina.hu', {'ORG-MSK7-RIPE', 'ORG-DC2-RIPE'})]\n",
      "True\n",
      "[('kuleuven.be', {'BELNET'}), ('mundodeportivo.com', {'OVH SAS'}), ('pravda.sk', {'SWAN, a.s.'}), ('meteo.be', {'BELNET'}), ('futbol24.com', {'LeaseWeb Netherlands B.V.'}), ('makeleio.gr', {'VODAFONE-PANAFON HELLENIC TELECOMMUNICATIONS COMPANY SA'}), ('voici.fr', {'Amazon.com, Inc.'}), ('marica.bg', {'Cloudflare, Inc.'}), ('sverigesradio.se', {'Sveriges Radio AB'}), ('femina.hu', {'Invitech ICT Services Kft.', 'MAGEX Solutions Kft.'})]\n"
     ]
    }
   ],
   "source": [
    "initial_domain_hostname_orgid_d = {}\n",
    "initial_domain_hostname_orgname_d = {}\n",
    "\n",
    "for hostname, asn_l in initial_domain_hostname_asn_d.items():\n",
    "\n",
    "    initial_domain_hostname_orgid_d[hostname] = set()\n",
    "    initial_domain_hostname_orgname_d[hostname] = set()\n",
    "\n",
    "    for asn in asn_l:        \n",
    "        try:\n",
    "            initial_domain_hostname_orgid_d[hostname].add(asn_orgid_d[int(asn)])\n",
    "            initial_domain_hostname_orgname_d[hostname].add(orgid_orgname_d[asn_orgid_d[int(asn)]])\n",
    "        except:\n",
    "            print(f\"AS number {asn} does not exist\")\n",
    "    \n",
    "print(len(initial_domain_hostname_asn_d.values()) == len(initial_domain_hostname_orgid_d.values()))\n",
    "print(list(initial_domain_hostname_orgid_d.items())[:10])\n",
    "print(len(initial_domain_hostname_asn_d.values()) == len(initial_domain_hostname_orgname_d.values()))\n",
    "print(list(initial_domain_hostname_orgname_d.items())[:10])"
   ]
  },
  {
   "cell_type": "code",
   "execution_count": 64,
   "id": "4e9c11bc-b82e-4e2b-a20b-99e6fa5b93ed",
   "metadata": {},
   "outputs": [
    {
     "name": "stdout",
     "output_type": "stream",
     "text": [
      "AS number NA does not exist\n",
      "AS number NA does not exist\n",
      "AS number NA does not exist\n",
      "AS number NA does not exist\n",
      "AS number NA does not exist\n",
      "AS number NA does not exist\n",
      "AS number NA does not exist\n",
      "AS number NA does not exist\n",
      "AS number NA does not exist\n",
      "AS number NA does not exist\n",
      "AS number 60922 does not exist\n",
      "AS number NA does not exist\n",
      "AS number NA does not exist\n",
      "AS number NA does not exist\n",
      "AS number NA does not exist\n",
      "AS number NA does not exist\n",
      "AS number NA does not exist\n",
      "AS number NA does not exist\n",
      "AS number NA does not exist\n",
      "AS number NA does not exist\n",
      "AS number NA does not exist\n",
      "AS number NA does not exist\n",
      "True\n",
      "[('kuleuven.be', {'ORG-BA5-RIPE'}), ('mundodeportivo.com', {'ORG-OS3-RIPE'}), ('onetrust.io', set()), ('ingatlantajolo.hu', {'AMAZON-4-ARIN'}), ('rmbl.ws', {'SL-892-ARIN'}), ('advangelists.com', {'GODAD-ARIN'}), ('metweb.ie', {'ORG-LL3-AP-APNIC'}), ('pdst.fm', {'GOGL-ARIN'}), ('radiantmediatechs.com', {'CLOUD14-ARIN'}), ('voici.fr', {'AMAZON-4-ARIN'})]\n",
      "True\n",
      "[('kuleuven.be', {'BELNET'}), ('mundodeportivo.com', {'OVH SAS'}), ('onetrust.io', set()), ('ingatlantajolo.hu', {'Amazon.com, Inc.'}), ('rmbl.ws', {'StackPath, LLC.'}), ('advangelists.com', {'GoDaddy.com, LLC'}), ('metweb.ie', {'Linode, LLC'}), ('pdst.fm', {'Google LLC'}), ('radiantmediatechs.com', {'Cloudflare, Inc.'}), ('voici.fr', {'Amazon.com, Inc.'})]\n"
     ]
    }
   ],
   "source": [
    "target_domain_hostname_orgid_d = {}\n",
    "target_domain_hostname_orgname_d = {}\n",
    "\n",
    "for hostname, asn_l in target_domain_hostname_asn_d.items():\n",
    "\n",
    "    target_domain_hostname_orgid_d[hostname] = set()\n",
    "    target_domain_hostname_orgname_d[hostname] = set()\n",
    "\n",
    "    for asn in asn_l:        \n",
    "        try:\n",
    "            target_domain_hostname_orgid_d[hostname].add(asn_orgid_d[int(asn)])\n",
    "            target_domain_hostname_orgname_d[hostname].add(orgid_orgname_d[asn_orgid_d[int(asn)]])\n",
    "        except:\n",
    "            print(f\"AS number {asn} does not exist\")\n",
    "    \n",
    "print(len(target_domain_hostname_asn_d.values()) == len(target_domain_hostname_orgid_d.values()))\n",
    "print(list(target_domain_hostname_orgid_d.items())[:10])\n",
    "print(len(target_domain_hostname_asn_d.values()) == len(target_domain_hostname_orgname_d.values()))\n",
    "print(list(target_domain_hostname_orgname_d.items())[:10])"
   ]
  },
  {
   "cell_type": "markdown",
   "id": "82a9e585-36ee-44cc-b140-f9d90905d0f1",
   "metadata": {},
   "source": [
    "# 5. First Party vs Third Party"
   ]
  },
  {
   "cell_type": "markdown",
   "id": "4f05bc33-0592-47d3-9f89-f25dd095e821",
   "metadata": {},
   "source": [
    "## 5.1. Method: TLD+1 matching"
   ]
  },
  {
   "cell_type": "code",
   "execution_count": 24,
   "id": "d84580a3-9074-4a61-9096-9521db2ab4cc",
   "metadata": {},
   "outputs": [
    {
     "name": "stdout",
     "output_type": "stream",
     "text": [
      "True\n",
      "True\n"
     ]
    }
   ],
   "source": [
    "print(len(initial_domain_tld_plus_one_l) == len(target_domain_tld_plus_one_l))\n",
    "print(len(initial_domain_tld_plus_one_l) == bright_data_df.shape[0])"
   ]
  },
  {
   "cell_type": "code",
   "execution_count": 175,
   "id": "eebc1270-e022-4858-ad24-2ade6140243f",
   "metadata": {},
   "outputs": [
    {
     "name": "stdout",
     "output_type": "stream",
     "text": [
      "True\n",
      "177982\n",
      "At least 16.55155 % is 1st party.\n",
      "[None, None, None, None, None, None, None, None, None, None, None, None, None, None, None, None, None, None, None, None, None, None, None, None, None, None, None, None, None, None, None, None, None, None, None, None, None, None, None, None, None, None, None, None, None, None, None, None, None, None, True, None, None, None, None, None, None, None, None, None, None, None, None, None, None, None, None, None, None, None, None, None, None, None, None, True, None, None, True, None, None, None, True, None, None, None, True, None, None, None, True, None, True, None, None, None, None, None, None, None]\n"
     ]
    }
   ],
   "source": [
    "tld_plus_one_first_party_l = bright_data_df.shape[0] * [None]\n",
    "\n",
    "for i in range(len(initial_domain_tld_plus_one_l)):\n",
    "    if initial_domain_tld_plus_one_l[i] is not None and target_domain_tld_plus_one_l[i] is not None and initial_domain_tld_plus_one_l[i] == target_domain_tld_plus_one_l[i]:\n",
    "        tld_plus_one_first_party_l[i] = True\n",
    "        \n",
    "print(len(tld_plus_one_first_party_l) == len(initial_domain_tld_plus_one_l))\n",
    "print(tld_plus_one_first_party_l.count(True))\n",
    "print(f\"At least {round(tld_plus_one_first_party_l.count(True) / len(tld_plus_one_first_party_l) * 100, 5)} % is 1st party.\")\n",
    "print(tld_plus_one_first_party_l[:100])"
   ]
  },
  {
   "cell_type": "markdown",
   "id": "529376bf-87ca-4e9f-a357-4f74401b33ad",
   "metadata": {},
   "source": [
    "## 5.2. Method: AS (AS Name)"
   ]
  },
  {
   "cell_type": "code",
   "execution_count": 70,
   "id": "cd097570-2bf7-4eab-b9fb-17d47aad34bb",
   "metadata": {},
   "outputs": [
    {
     "name": "stdout",
     "output_type": "stream",
     "text": [
      "True\n",
      "[('kuleuven.be', True), ('mundodeportivo.com', True), ('pravda.sk', True), ('meteo.be', True), ('futbol24.com', True), ('makeleio.gr', True), ('voici.fr', True), ('marica.bg', True), ('sverigesradio.se', True), ('mbank.pl', True)]\n"
     ]
    }
   ],
   "source": [
    "match_hostname_as_d = {}\n",
    "\n",
    "for initial_hostname, initial_as in initial_domain_hostname_as_d.items():\n",
    "    if target_domain_hostname_as_d[initial_hostname] == initial_as:\n",
    "        match_hostname_as_d[initial_hostname] = True\n",
    "        \n",
    "print(len(match_hostname_as_d) < len(initial_domain_hostname_as_d))\n",
    "print(list(match_hostname_as_d.items())[:10])"
   ]
  },
  {
   "cell_type": "markdown",
   "id": "541a234b-2dd6-41ca-bc54-91b16beda0d2",
   "metadata": {},
   "source": [
    "## 5.3. Method: ASN (AS Number)"
   ]
  },
  {
   "cell_type": "code",
   "execution_count": 71,
   "id": "a070989f-dfb9-4c68-be04-6851f1be4703",
   "metadata": {},
   "outputs": [
    {
     "name": "stdout",
     "output_type": "stream",
     "text": [
      "True\n",
      "[('kuleuven.be', True), ('mundodeportivo.com', True), ('pravda.sk', True), ('meteo.be', True), ('futbol24.com', True), ('makeleio.gr', True), ('voici.fr', True), ('marica.bg', True), ('sverigesradio.se', True), ('mbank.pl', True)]\n"
     ]
    }
   ],
   "source": [
    "match_hostname_asn_d = {}\n",
    "\n",
    "for initial_hostname, initial_asn in initial_domain_hostname_asn_d.items():\n",
    "    if target_domain_hostname_asn_d[initial_hostname] == initial_asn:\n",
    "        match_hostname_asn_d[initial_hostname] = True\n",
    "        \n",
    "print(len(match_hostname_asn_d) < len(initial_domain_hostname_asn_d))\n",
    "print(list(match_hostname_asn_d.items())[:10])"
   ]
  },
  {
   "cell_type": "markdown",
   "id": "b1dacdcc-7d7b-4e30-9f99-93912e92bafb",
   "metadata": {},
   "source": [
    "## 5.4. Method: Org ID"
   ]
  },
  {
   "cell_type": "code",
   "execution_count": 76,
   "id": "75d348b8-4590-4560-afc2-5348d1ccb703",
   "metadata": {},
   "outputs": [
    {
     "name": "stdout",
     "output_type": "stream",
     "text": [
      "True\n",
      "[('kuleuven.be', True), ('mundodeportivo.com', True), ('pravda.sk', True), ('meteo.be', True), ('futbol24.com', True), ('makeleio.gr', True), ('voici.fr', True), ('marica.bg', True), ('sverigesradio.se', True), ('femina.hu', True)]\n"
     ]
    }
   ],
   "source": [
    "match_hostname_orgid_d = {}\n",
    "\n",
    "for initial_hostname, initial_orgid in initial_domain_hostname_orgid_d.items():\n",
    "    if target_domain_hostname_orgid_d[initial_hostname] == initial_orgid:\n",
    "        match_hostname_orgid_d[initial_hostname] = True\n",
    "        \n",
    "print(len(match_hostname_orgid_d) <= len(initial_domain_hostname_orgid_d))\n",
    "print(list(match_hostname_orgid_d.items())[:10])"
   ]
  },
  {
   "cell_type": "markdown",
   "id": "16dbd94a-f003-4e4b-95dd-e4b0567c0510",
   "metadata": {},
   "source": [
    "## 5.5. Method: Org Name"
   ]
  },
  {
   "cell_type": "code",
   "execution_count": 77,
   "id": "64b1bf72-8192-465f-b74a-78fde842602d",
   "metadata": {},
   "outputs": [
    {
     "name": "stdout",
     "output_type": "stream",
     "text": [
      "True\n",
      "[('kuleuven.be', True), ('mundodeportivo.com', True), ('pravda.sk', True), ('meteo.be', True), ('futbol24.com', True), ('makeleio.gr', True), ('voici.fr', True), ('marica.bg', True), ('sverigesradio.se', True), ('femina.hu', True)]\n"
     ]
    }
   ],
   "source": [
    "match_hostname_orgname_d = {}\n",
    "\n",
    "for initial_hostname, initial_orgname in initial_domain_hostname_orgname_d.items():\n",
    "    if target_domain_hostname_orgname_d[initial_hostname] == initial_orgname:\n",
    "        match_hostname_orgname_d[initial_hostname] = True\n",
    "        \n",
    "print(len(match_hostname_orgname_d) <= len(initial_domain_hostname_orgname_d))\n",
    "print(list(match_hostname_orgname_d.items())[:10])"
   ]
  },
  {
   "cell_type": "markdown",
   "id": "3ceca66f-63af-4ed6-a5eb-84d75bd5f64e",
   "metadata": {},
   "source": [
    "# 6. A combined df: Add columns"
   ]
  },
  {
   "cell_type": "markdown",
   "id": "7895b520-f4dc-436e-87cc-490899a06585",
   "metadata": {},
   "source": [
    "## 6.1. tld_plus_one_first_party_l"
   ]
  },
  {
   "cell_type": "code",
   "execution_count": 86,
   "id": "f9700ae4-b759-4060-959b-5ae55b22c54d",
   "metadata": {},
   "outputs": [],
   "source": [
    "bright_data_6col_df = copy.deepcopy(bright_data_df)"
   ]
  },
  {
   "cell_type": "code",
   "execution_count": 89,
   "id": "687ba992-3fff-4c34-bd88-297911af17e7",
   "metadata": {},
   "outputs": [
    {
     "data": {
      "text/html": [
       "<div>\n",
       "<style scoped>\n",
       "    .dataframe tbody tr th:only-of-type {\n",
       "        vertical-align: middle;\n",
       "    }\n",
       "\n",
       "    .dataframe tbody tr th {\n",
       "        vertical-align: top;\n",
       "    }\n",
       "\n",
       "    .dataframe thead th {\n",
       "        text-align: right;\n",
       "    }\n",
       "</style>\n",
       "<table border=\"1\" class=\"dataframe\">\n",
       "  <thead>\n",
       "    <tr style=\"text-align: right;\">\n",
       "      <th></th>\n",
       "      <th>country</th>\n",
       "      <th>asn</th>\n",
       "      <th>initial_domain_filename</th>\n",
       "      <th>target_domain</th>\n",
       "      <th>initial_domain_tld_plus_one</th>\n",
       "      <th>target_domain_tld_plus_one</th>\n",
       "    </tr>\n",
       "  </thead>\n",
       "  <tbody>\n",
       "    <tr>\n",
       "      <th>20</th>\n",
       "      <td>hr</td>\n",
       "      <td>google</td>\n",
       "      <td>20220804-HR-google-httpswww.google.hr-DNS_Requ...</td>\n",
       "      <td>www.google.hr</td>\n",
       "      <td>None</td>\n",
       "      <td>None</td>\n",
       "    </tr>\n",
       "    <tr>\n",
       "      <th>21</th>\n",
       "      <td>hr</td>\n",
       "      <td>google</td>\n",
       "      <td>20220804-HR-google-httpswww.google.hr-DNS_Requ...</td>\n",
       "      <td>apis.google.com</td>\n",
       "      <td>None</td>\n",
       "      <td>None</td>\n",
       "    </tr>\n",
       "    <tr>\n",
       "      <th>22</th>\n",
       "      <td>hr</td>\n",
       "      <td>google</td>\n",
       "      <td>20220804-HR-google-httpswww.google.hr-DNS_Requ...</td>\n",
       "      <td>ogs.google.hr</td>\n",
       "      <td>None</td>\n",
       "      <td>None</td>\n",
       "    </tr>\n",
       "    <tr>\n",
       "      <th>23</th>\n",
       "      <td>hr</td>\n",
       "      <td>61094</td>\n",
       "      <td>20220804-HR-61094-httpswww.njuskalo.hr-DNS_Req...</td>\n",
       "      <td>ls.hit.gemius.pl</td>\n",
       "      <td>njuskalo.hr</td>\n",
       "      <td>gemius.pl</td>\n",
       "    </tr>\n",
       "    <tr>\n",
       "      <th>24</th>\n",
       "      <td>hr</td>\n",
       "      <td>61094</td>\n",
       "      <td>20220804-HR-61094-httpswww.24sata.hr-DNS_Reque...</td>\n",
       "      <td>aax-eu.amazon-adsystem.com</td>\n",
       "      <td>24sata.hr</td>\n",
       "      <td>adsystem.com</td>\n",
       "    </tr>\n",
       "    <tr>\n",
       "      <th>25</th>\n",
       "      <td>hr</td>\n",
       "      <td>61094</td>\n",
       "      <td>20220804-HR-61094-httpswww.24sata.hr-DNS_Reque...</td>\n",
       "      <td>buy.tinypass.com</td>\n",
       "      <td>24sata.hr</td>\n",
       "      <td>tinypass.com</td>\n",
       "    </tr>\n",
       "    <tr>\n",
       "      <th>26</th>\n",
       "      <td>hr</td>\n",
       "      <td>61094</td>\n",
       "      <td>20220804-HR-61094-httpswww.roblox.com-DNS_Requ...</td>\n",
       "      <td>static.rbxcdn.com</td>\n",
       "      <td>roblox.com</td>\n",
       "      <td>rbxcdn.com</td>\n",
       "    </tr>\n",
       "    <tr>\n",
       "      <th>27</th>\n",
       "      <td>hr</td>\n",
       "      <td>61094</td>\n",
       "      <td>20220804-HR-61094-httpswww.gloria.hr-DNS_Reque...</td>\n",
       "      <td>cdn.ampproject.org</td>\n",
       "      <td>gloria.hr</td>\n",
       "      <td>ampproject.org</td>\n",
       "    </tr>\n",
       "    <tr>\n",
       "      <th>28</th>\n",
       "      <td>hr</td>\n",
       "      <td>61094</td>\n",
       "      <td>20220804-HR-61094-httpswww.24sata.hr-DNS_Reque...</td>\n",
       "      <td>ads.yahoo.com</td>\n",
       "      <td>24sata.hr</td>\n",
       "      <td>yahoo.com</td>\n",
       "    </tr>\n",
       "    <tr>\n",
       "      <th>29</th>\n",
       "      <td>hr</td>\n",
       "      <td>61094</td>\n",
       "      <td>20220804-HR-61094-httpswww.srce.hr-DNS_Request...</td>\n",
       "      <td>www.srce.unizg.hr</td>\n",
       "      <td>srce.hr</td>\n",
       "      <td>unizg.hr</td>\n",
       "    </tr>\n",
       "  </tbody>\n",
       "</table>\n",
       "</div>"
      ],
      "text/plain": [
       "   country     asn                            initial_domain_filename  \\\n",
       "20      hr  google  20220804-HR-google-httpswww.google.hr-DNS_Requ...   \n",
       "21      hr  google  20220804-HR-google-httpswww.google.hr-DNS_Requ...   \n",
       "22      hr  google  20220804-HR-google-httpswww.google.hr-DNS_Requ...   \n",
       "23      hr   61094  20220804-HR-61094-httpswww.njuskalo.hr-DNS_Req...   \n",
       "24      hr   61094  20220804-HR-61094-httpswww.24sata.hr-DNS_Reque...   \n",
       "25      hr   61094  20220804-HR-61094-httpswww.24sata.hr-DNS_Reque...   \n",
       "26      hr   61094  20220804-HR-61094-httpswww.roblox.com-DNS_Requ...   \n",
       "27      hr   61094  20220804-HR-61094-httpswww.gloria.hr-DNS_Reque...   \n",
       "28      hr   61094  20220804-HR-61094-httpswww.24sata.hr-DNS_Reque...   \n",
       "29      hr   61094  20220804-HR-61094-httpswww.srce.hr-DNS_Request...   \n",
       "\n",
       "                 target_domain initial_domain_tld_plus_one  \\\n",
       "20               www.google.hr                        None   \n",
       "21             apis.google.com                        None   \n",
       "22               ogs.google.hr                        None   \n",
       "23            ls.hit.gemius.pl                 njuskalo.hr   \n",
       "24  aax-eu.amazon-adsystem.com                   24sata.hr   \n",
       "25            buy.tinypass.com                   24sata.hr   \n",
       "26           static.rbxcdn.com                  roblox.com   \n",
       "27          cdn.ampproject.org                   gloria.hr   \n",
       "28               ads.yahoo.com                   24sata.hr   \n",
       "29           www.srce.unizg.hr                     srce.hr   \n",
       "\n",
       "   target_domain_tld_plus_one  \n",
       "20                       None  \n",
       "21                       None  \n",
       "22                       None  \n",
       "23                  gemius.pl  \n",
       "24               adsystem.com  \n",
       "25               tinypass.com  \n",
       "26                 rbxcdn.com  \n",
       "27             ampproject.org  \n",
       "28                  yahoo.com  \n",
       "29                   unizg.hr  "
      ]
     },
     "execution_count": 89,
     "metadata": {},
     "output_type": "execute_result"
    }
   ],
   "source": [
    "bright_data_df.iloc[20:30]"
   ]
  },
  {
   "cell_type": "code",
   "execution_count": 176,
   "id": "5c6089f0-7181-4c9e-9738-4d2f6b2c6933",
   "metadata": {},
   "outputs": [],
   "source": [
    "bright_data_df[\"tld_plus_one_first_party\"] = tld_plus_one_first_party_l"
   ]
  },
  {
   "cell_type": "code",
   "execution_count": 119,
   "id": "f043682f-f233-4906-944b-5c1015f49b48",
   "metadata": {},
   "outputs": [
    {
     "data": {
      "text/html": [
       "<div>\n",
       "<style scoped>\n",
       "    .dataframe tbody tr th:only-of-type {\n",
       "        vertical-align: middle;\n",
       "    }\n",
       "\n",
       "    .dataframe tbody tr th {\n",
       "        vertical-align: top;\n",
       "    }\n",
       "\n",
       "    .dataframe thead th {\n",
       "        text-align: right;\n",
       "    }\n",
       "</style>\n",
       "<table border=\"1\" class=\"dataframe\">\n",
       "  <thead>\n",
       "    <tr style=\"text-align: right;\">\n",
       "      <th></th>\n",
       "      <th>country</th>\n",
       "      <th>asn</th>\n",
       "      <th>initial_domain_filename</th>\n",
       "      <th>target_domain</th>\n",
       "      <th>initial_domain_tld_plus_one</th>\n",
       "      <th>target_domain_tld_plus_one</th>\n",
       "      <th>tld_plus_one_first_party</th>\n",
       "    </tr>\n",
       "  </thead>\n",
       "  <tbody>\n",
       "    <tr>\n",
       "      <th>50</th>\n",
       "      <td>hr</td>\n",
       "      <td>61094</td>\n",
       "      <td>20220804-HR-61094-httpswww.tportal.hr-DNS_Requ...</td>\n",
       "      <td>www.tportal.hr</td>\n",
       "      <td>tportal.hr</td>\n",
       "      <td>tportal.hr</td>\n",
       "      <td>True</td>\n",
       "    </tr>\n",
       "    <tr>\n",
       "      <th>51</th>\n",
       "      <td>hr</td>\n",
       "      <td>61094</td>\n",
       "      <td>20220804-HR-61094-httpswww.poslovni.hr-DNS_Req...</td>\n",
       "      <td>hr.hit.gemius.pl</td>\n",
       "      <td>poslovni.hr</td>\n",
       "      <td>gemius.pl</td>\n",
       "      <td>None</td>\n",
       "    </tr>\n",
       "    <tr>\n",
       "      <th>52</th>\n",
       "      <td>hr</td>\n",
       "      <td>61094</td>\n",
       "      <td>20220804-HR-61094-httpswww.net.hr-DNS_Requests...</td>\n",
       "      <td>s.amazon-adsystem.com</td>\n",
       "      <td>net.hr</td>\n",
       "      <td>adsystem.com</td>\n",
       "      <td>None</td>\n",
       "    </tr>\n",
       "    <tr>\n",
       "      <th>53</th>\n",
       "      <td>hr</td>\n",
       "      <td>61094</td>\n",
       "      <td>20220804-HR-61094-httpswww.gloria.hr-DNS_Reque...</td>\n",
       "      <td>www.youtube.com</td>\n",
       "      <td>gloria.hr</td>\n",
       "      <td>youtube.com</td>\n",
       "      <td>None</td>\n",
       "    </tr>\n",
       "    <tr>\n",
       "      <th>54</th>\n",
       "      <td>hr</td>\n",
       "      <td>61094</td>\n",
       "      <td>20220804-HR-61094-httpswww.index.hr-DNS_Reques...</td>\n",
       "      <td>script.dotmetrics.net</td>\n",
       "      <td>index.hr</td>\n",
       "      <td>dotmetrics.net</td>\n",
       "      <td>None</td>\n",
       "    </tr>\n",
       "    <tr>\n",
       "      <th>55</th>\n",
       "      <td>hr</td>\n",
       "      <td>61094</td>\n",
       "      <td>20220804-HR-61094-httpswww.vecernji.hr-DNS_Req...</td>\n",
       "      <td>connect.facebook.net</td>\n",
       "      <td>vecernji.hr</td>\n",
       "      <td>facebook.net</td>\n",
       "      <td>None</td>\n",
       "    </tr>\n",
       "    <tr>\n",
       "      <th>56</th>\n",
       "      <td>hr</td>\n",
       "      <td>61094</td>\n",
       "      <td>20220804-HR-61094-httpswww.vecernji.hr-DNS_Req...</td>\n",
       "      <td>cdnjs.cloudflare.com</td>\n",
       "      <td>vecernji.hr</td>\n",
       "      <td>cloudflare.com</td>\n",
       "      <td>None</td>\n",
       "    </tr>\n",
       "    <tr>\n",
       "      <th>57</th>\n",
       "      <td>hr</td>\n",
       "      <td>61094</td>\n",
       "      <td>20220804-HR-61094-httpswww.jutarnji.hr-DNS_Req...</td>\n",
       "      <td>signal-beacon.s-onetag.com</td>\n",
       "      <td>jutarnji.hr</td>\n",
       "      <td>onetag.com</td>\n",
       "      <td>None</td>\n",
       "    </tr>\n",
       "    <tr>\n",
       "      <th>58</th>\n",
       "      <td>hr</td>\n",
       "      <td>61094</td>\n",
       "      <td>20220804-HR-61094-httpswww.gloria.hr-DNS_Reque...</td>\n",
       "      <td>apps.jutarnji.hr</td>\n",
       "      <td>gloria.hr</td>\n",
       "      <td>jutarnji.hr</td>\n",
       "      <td>None</td>\n",
       "    </tr>\n",
       "    <tr>\n",
       "      <th>59</th>\n",
       "      <td>hr</td>\n",
       "      <td>61094</td>\n",
       "      <td>20220804-HR-61094-httpswww.jutarnji.hr-DNS_Req...</td>\n",
       "      <td>signal-metrics-collector-beta.s-onetag.com</td>\n",
       "      <td>jutarnji.hr</td>\n",
       "      <td>onetag.com</td>\n",
       "      <td>None</td>\n",
       "    </tr>\n",
       "  </tbody>\n",
       "</table>\n",
       "</div>"
      ],
      "text/plain": [
       "   country    asn                            initial_domain_filename  \\\n",
       "50      hr  61094  20220804-HR-61094-httpswww.tportal.hr-DNS_Requ...   \n",
       "51      hr  61094  20220804-HR-61094-httpswww.poslovni.hr-DNS_Req...   \n",
       "52      hr  61094  20220804-HR-61094-httpswww.net.hr-DNS_Requests...   \n",
       "53      hr  61094  20220804-HR-61094-httpswww.gloria.hr-DNS_Reque...   \n",
       "54      hr  61094  20220804-HR-61094-httpswww.index.hr-DNS_Reques...   \n",
       "55      hr  61094  20220804-HR-61094-httpswww.vecernji.hr-DNS_Req...   \n",
       "56      hr  61094  20220804-HR-61094-httpswww.vecernji.hr-DNS_Req...   \n",
       "57      hr  61094  20220804-HR-61094-httpswww.jutarnji.hr-DNS_Req...   \n",
       "58      hr  61094  20220804-HR-61094-httpswww.gloria.hr-DNS_Reque...   \n",
       "59      hr  61094  20220804-HR-61094-httpswww.jutarnji.hr-DNS_Req...   \n",
       "\n",
       "                                 target_domain initial_domain_tld_plus_one  \\\n",
       "50                              www.tportal.hr                  tportal.hr   \n",
       "51                            hr.hit.gemius.pl                 poslovni.hr   \n",
       "52                       s.amazon-adsystem.com                      net.hr   \n",
       "53                             www.youtube.com                   gloria.hr   \n",
       "54                       script.dotmetrics.net                    index.hr   \n",
       "55                        connect.facebook.net                 vecernji.hr   \n",
       "56                        cdnjs.cloudflare.com                 vecernji.hr   \n",
       "57                  signal-beacon.s-onetag.com                 jutarnji.hr   \n",
       "58                            apps.jutarnji.hr                   gloria.hr   \n",
       "59  signal-metrics-collector-beta.s-onetag.com                 jutarnji.hr   \n",
       "\n",
       "   target_domain_tld_plus_one tld_plus_one_first_party  \n",
       "50                 tportal.hr                     True  \n",
       "51                  gemius.pl                     None  \n",
       "52               adsystem.com                     None  \n",
       "53                youtube.com                     None  \n",
       "54             dotmetrics.net                     None  \n",
       "55               facebook.net                     None  \n",
       "56             cloudflare.com                     None  \n",
       "57                 onetag.com                     None  \n",
       "58                jutarnji.hr                     None  \n",
       "59                 onetag.com                     None  "
      ]
     },
     "execution_count": 119,
     "metadata": {},
     "output_type": "execute_result"
    }
   ],
   "source": [
    "bright_data_df.iloc[50:60]"
   ]
  },
  {
   "cell_type": "markdown",
   "id": "0ad43960-e5d1-4197-b383-86348fc465db",
   "metadata": {},
   "source": [
    "## 6.2. as_name_first_party_l"
   ]
  },
  {
   "cell_type": "code",
   "execution_count": 120,
   "id": "2fe5a549-d2e7-4e34-8d4d-00a13c9df862",
   "metadata": {},
   "outputs": [],
   "source": [
    "bright_data_7col_df = copy.deepcopy(bright_data_df)"
   ]
  },
  {
   "cell_type": "code",
   "execution_count": 147,
   "id": "3d5fc965-e201-4c0a-b926-5061c8d028d8",
   "metadata": {},
   "outputs": [
    {
     "name": "stdout",
     "output_type": "stream",
     "text": [
      "True\n",
      "98.06457% is the first party based on AS.\n"
     ]
    }
   ],
   "source": [
    "as_name_first_party_l = bright_data_df.shape[0] * [None]\n",
    "match_as_name_set = set(match_hostname_as_d.keys())\n",
    "match_as_name_set.remove(None)\n",
    "\n",
    "for i in range(len(initial_domain_tld_plus_one_l)):\n",
    "    if initial_domain_tld_plus_one_l[i] in match_as_name_set:\n",
    "        as_name_first_party_l[i] = True\n",
    "        \n",
    "print(as_name_first_party_l.count(None) + as_name_first_party_l.count(True) == bright_data_df.shape[0])\n",
    "print(f\"{round(as_name_first_party_l.count(True) / bright_data_df.shape[0] * 100, 5)}% is the first party based on AS.\")"
   ]
  },
  {
   "cell_type": "code",
   "execution_count": 142,
   "id": "bafcda60-d25b-4dbd-b751-d6b381ea14aa",
   "metadata": {},
   "outputs": [],
   "source": [
    "bright_data_df[\"as_name_first_party\"] = as_name_first_party_l"
   ]
  },
  {
   "cell_type": "code",
   "execution_count": 143,
   "id": "2c04bccb-5ebd-47cb-ba16-cbde22c8418a",
   "metadata": {},
   "outputs": [
    {
     "data": {
      "text/html": [
       "<div>\n",
       "<style scoped>\n",
       "    .dataframe tbody tr th:only-of-type {\n",
       "        vertical-align: middle;\n",
       "    }\n",
       "\n",
       "    .dataframe tbody tr th {\n",
       "        vertical-align: top;\n",
       "    }\n",
       "\n",
       "    .dataframe thead th {\n",
       "        text-align: right;\n",
       "    }\n",
       "</style>\n",
       "<table border=\"1\" class=\"dataframe\">\n",
       "  <thead>\n",
       "    <tr style=\"text-align: right;\">\n",
       "      <th></th>\n",
       "      <th>country</th>\n",
       "      <th>asn</th>\n",
       "      <th>initial_domain_filename</th>\n",
       "      <th>target_domain</th>\n",
       "      <th>initial_domain_tld_plus_one</th>\n",
       "      <th>target_domain_tld_plus_one</th>\n",
       "      <th>tld_plus_one_first_party</th>\n",
       "      <th>as_name_first_party</th>\n",
       "    </tr>\n",
       "  </thead>\n",
       "  <tbody>\n",
       "    <tr>\n",
       "      <th>50</th>\n",
       "      <td>hr</td>\n",
       "      <td>61094</td>\n",
       "      <td>20220804-HR-61094-httpswww.tportal.hr-DNS_Requ...</td>\n",
       "      <td>www.tportal.hr</td>\n",
       "      <td>tportal.hr</td>\n",
       "      <td>tportal.hr</td>\n",
       "      <td>True</td>\n",
       "      <td>True</td>\n",
       "    </tr>\n",
       "    <tr>\n",
       "      <th>51</th>\n",
       "      <td>hr</td>\n",
       "      <td>61094</td>\n",
       "      <td>20220804-HR-61094-httpswww.poslovni.hr-DNS_Req...</td>\n",
       "      <td>hr.hit.gemius.pl</td>\n",
       "      <td>poslovni.hr</td>\n",
       "      <td>gemius.pl</td>\n",
       "      <td>None</td>\n",
       "      <td>True</td>\n",
       "    </tr>\n",
       "    <tr>\n",
       "      <th>52</th>\n",
       "      <td>hr</td>\n",
       "      <td>61094</td>\n",
       "      <td>20220804-HR-61094-httpswww.net.hr-DNS_Requests...</td>\n",
       "      <td>s.amazon-adsystem.com</td>\n",
       "      <td>net.hr</td>\n",
       "      <td>adsystem.com</td>\n",
       "      <td>None</td>\n",
       "      <td>True</td>\n",
       "    </tr>\n",
       "    <tr>\n",
       "      <th>53</th>\n",
       "      <td>hr</td>\n",
       "      <td>61094</td>\n",
       "      <td>20220804-HR-61094-httpswww.gloria.hr-DNS_Reque...</td>\n",
       "      <td>www.youtube.com</td>\n",
       "      <td>gloria.hr</td>\n",
       "      <td>youtube.com</td>\n",
       "      <td>None</td>\n",
       "      <td>True</td>\n",
       "    </tr>\n",
       "    <tr>\n",
       "      <th>54</th>\n",
       "      <td>hr</td>\n",
       "      <td>61094</td>\n",
       "      <td>20220804-HR-61094-httpswww.index.hr-DNS_Reques...</td>\n",
       "      <td>script.dotmetrics.net</td>\n",
       "      <td>index.hr</td>\n",
       "      <td>dotmetrics.net</td>\n",
       "      <td>None</td>\n",
       "      <td>True</td>\n",
       "    </tr>\n",
       "    <tr>\n",
       "      <th>55</th>\n",
       "      <td>hr</td>\n",
       "      <td>61094</td>\n",
       "      <td>20220804-HR-61094-httpswww.vecernji.hr-DNS_Req...</td>\n",
       "      <td>connect.facebook.net</td>\n",
       "      <td>vecernji.hr</td>\n",
       "      <td>facebook.net</td>\n",
       "      <td>None</td>\n",
       "      <td>True</td>\n",
       "    </tr>\n",
       "    <tr>\n",
       "      <th>56</th>\n",
       "      <td>hr</td>\n",
       "      <td>61094</td>\n",
       "      <td>20220804-HR-61094-httpswww.vecernji.hr-DNS_Req...</td>\n",
       "      <td>cdnjs.cloudflare.com</td>\n",
       "      <td>vecernji.hr</td>\n",
       "      <td>cloudflare.com</td>\n",
       "      <td>None</td>\n",
       "      <td>True</td>\n",
       "    </tr>\n",
       "    <tr>\n",
       "      <th>57</th>\n",
       "      <td>hr</td>\n",
       "      <td>61094</td>\n",
       "      <td>20220804-HR-61094-httpswww.jutarnji.hr-DNS_Req...</td>\n",
       "      <td>signal-beacon.s-onetag.com</td>\n",
       "      <td>jutarnji.hr</td>\n",
       "      <td>onetag.com</td>\n",
       "      <td>None</td>\n",
       "      <td>True</td>\n",
       "    </tr>\n",
       "    <tr>\n",
       "      <th>58</th>\n",
       "      <td>hr</td>\n",
       "      <td>61094</td>\n",
       "      <td>20220804-HR-61094-httpswww.gloria.hr-DNS_Reque...</td>\n",
       "      <td>apps.jutarnji.hr</td>\n",
       "      <td>gloria.hr</td>\n",
       "      <td>jutarnji.hr</td>\n",
       "      <td>None</td>\n",
       "      <td>True</td>\n",
       "    </tr>\n",
       "    <tr>\n",
       "      <th>59</th>\n",
       "      <td>hr</td>\n",
       "      <td>61094</td>\n",
       "      <td>20220804-HR-61094-httpswww.jutarnji.hr-DNS_Req...</td>\n",
       "      <td>signal-metrics-collector-beta.s-onetag.com</td>\n",
       "      <td>jutarnji.hr</td>\n",
       "      <td>onetag.com</td>\n",
       "      <td>None</td>\n",
       "      <td>True</td>\n",
       "    </tr>\n",
       "  </tbody>\n",
       "</table>\n",
       "</div>"
      ],
      "text/plain": [
       "   country    asn                            initial_domain_filename  \\\n",
       "50      hr  61094  20220804-HR-61094-httpswww.tportal.hr-DNS_Requ...   \n",
       "51      hr  61094  20220804-HR-61094-httpswww.poslovni.hr-DNS_Req...   \n",
       "52      hr  61094  20220804-HR-61094-httpswww.net.hr-DNS_Requests...   \n",
       "53      hr  61094  20220804-HR-61094-httpswww.gloria.hr-DNS_Reque...   \n",
       "54      hr  61094  20220804-HR-61094-httpswww.index.hr-DNS_Reques...   \n",
       "55      hr  61094  20220804-HR-61094-httpswww.vecernji.hr-DNS_Req...   \n",
       "56      hr  61094  20220804-HR-61094-httpswww.vecernji.hr-DNS_Req...   \n",
       "57      hr  61094  20220804-HR-61094-httpswww.jutarnji.hr-DNS_Req...   \n",
       "58      hr  61094  20220804-HR-61094-httpswww.gloria.hr-DNS_Reque...   \n",
       "59      hr  61094  20220804-HR-61094-httpswww.jutarnji.hr-DNS_Req...   \n",
       "\n",
       "                                 target_domain initial_domain_tld_plus_one  \\\n",
       "50                              www.tportal.hr                  tportal.hr   \n",
       "51                            hr.hit.gemius.pl                 poslovni.hr   \n",
       "52                       s.amazon-adsystem.com                      net.hr   \n",
       "53                             www.youtube.com                   gloria.hr   \n",
       "54                       script.dotmetrics.net                    index.hr   \n",
       "55                        connect.facebook.net                 vecernji.hr   \n",
       "56                        cdnjs.cloudflare.com                 vecernji.hr   \n",
       "57                  signal-beacon.s-onetag.com                 jutarnji.hr   \n",
       "58                            apps.jutarnji.hr                   gloria.hr   \n",
       "59  signal-metrics-collector-beta.s-onetag.com                 jutarnji.hr   \n",
       "\n",
       "   target_domain_tld_plus_one tld_plus_one_first_party as_name_first_party  \n",
       "50                 tportal.hr                     True                True  \n",
       "51                  gemius.pl                     None                True  \n",
       "52               adsystem.com                     None                True  \n",
       "53                youtube.com                     None                True  \n",
       "54             dotmetrics.net                     None                True  \n",
       "55               facebook.net                     None                True  \n",
       "56             cloudflare.com                     None                True  \n",
       "57                 onetag.com                     None                True  \n",
       "58                jutarnji.hr                     None                True  \n",
       "59                 onetag.com                     None                True  "
      ]
     },
     "execution_count": 143,
     "metadata": {},
     "output_type": "execute_result"
    }
   ],
   "source": [
    "bright_data_df.iloc[50:60]"
   ]
  },
  {
   "cell_type": "code",
   "execution_count": 144,
   "id": "71cd049b-7454-4181-b707-738ee986d286",
   "metadata": {},
   "outputs": [
    {
     "data": {
      "text/plain": [
       "(1075319, 8)"
      ]
     },
     "execution_count": 144,
     "metadata": {},
     "output_type": "execute_result"
    }
   ],
   "source": [
    "bright_data_df.shape"
   ]
  },
  {
   "cell_type": "markdown",
   "id": "ac72e29e-115b-44c6-bd0a-bc83957a1f48",
   "metadata": {},
   "source": [
    "## 6.3. as_number_first_party_l"
   ]
  },
  {
   "cell_type": "code",
   "execution_count": 145,
   "id": "1dc5fd51-4540-4553-b2bc-2d05c551046e",
   "metadata": {},
   "outputs": [],
   "source": [
    "bright_data_8col_df = copy.deepcopy(bright_data_df)"
   ]
  },
  {
   "cell_type": "code",
   "execution_count": 154,
   "id": "2024d193-33f6-4ef2-bf97-51b0a1badda0",
   "metadata": {},
   "outputs": [
    {
     "name": "stdout",
     "output_type": "stream",
     "text": [
      "True\n",
      "98.06457% is the first party based on ASN.\n"
     ]
    }
   ],
   "source": [
    "as_number_first_party_l = bright_data_df.shape[0] * [None]\n",
    "match_as_number_set = set(match_hostname_asn_d.keys())\n",
    "match_as_number_set.remove(None)\n",
    "\n",
    "for i in range(len(initial_domain_tld_plus_one_l)):\n",
    "    if initial_domain_tld_plus_one_l[i] in match_as_number_set:\n",
    "        as_number_first_party_l[i] = True\n",
    "        \n",
    "print(as_number_first_party_l.count(None) + as_number_first_party_l.count(True) == bright_data_df.shape[0])\n",
    "print(f\"{round(as_number_first_party_l.count(True) / bright_data_df.shape[0] * 100, 5)}% is the first party based on ASN.\")"
   ]
  },
  {
   "cell_type": "code",
   "execution_count": 149,
   "id": "c4a130e8-a296-40b6-86d2-b3e3d98121ff",
   "metadata": {},
   "outputs": [],
   "source": [
    "bright_data_df[\"as_number_first_party\"] = as_number_first_party_l"
   ]
  },
  {
   "cell_type": "code",
   "execution_count": 150,
   "id": "5d43afb1-5c8e-4e17-b474-26f1b43d5052",
   "metadata": {},
   "outputs": [
    {
     "data": {
      "text/html": [
       "<div>\n",
       "<style scoped>\n",
       "    .dataframe tbody tr th:only-of-type {\n",
       "        vertical-align: middle;\n",
       "    }\n",
       "\n",
       "    .dataframe tbody tr th {\n",
       "        vertical-align: top;\n",
       "    }\n",
       "\n",
       "    .dataframe thead th {\n",
       "        text-align: right;\n",
       "    }\n",
       "</style>\n",
       "<table border=\"1\" class=\"dataframe\">\n",
       "  <thead>\n",
       "    <tr style=\"text-align: right;\">\n",
       "      <th></th>\n",
       "      <th>country</th>\n",
       "      <th>asn</th>\n",
       "      <th>initial_domain_filename</th>\n",
       "      <th>target_domain</th>\n",
       "      <th>initial_domain_tld_plus_one</th>\n",
       "      <th>target_domain_tld_plus_one</th>\n",
       "      <th>tld_plus_one_first_party</th>\n",
       "      <th>as_name_first_party</th>\n",
       "      <th>as_number_first_party</th>\n",
       "    </tr>\n",
       "  </thead>\n",
       "  <tbody>\n",
       "    <tr>\n",
       "      <th>50</th>\n",
       "      <td>hr</td>\n",
       "      <td>61094</td>\n",
       "      <td>20220804-HR-61094-httpswww.tportal.hr-DNS_Requ...</td>\n",
       "      <td>www.tportal.hr</td>\n",
       "      <td>tportal.hr</td>\n",
       "      <td>tportal.hr</td>\n",
       "      <td>True</td>\n",
       "      <td>True</td>\n",
       "      <td>True</td>\n",
       "    </tr>\n",
       "    <tr>\n",
       "      <th>51</th>\n",
       "      <td>hr</td>\n",
       "      <td>61094</td>\n",
       "      <td>20220804-HR-61094-httpswww.poslovni.hr-DNS_Req...</td>\n",
       "      <td>hr.hit.gemius.pl</td>\n",
       "      <td>poslovni.hr</td>\n",
       "      <td>gemius.pl</td>\n",
       "      <td>None</td>\n",
       "      <td>True</td>\n",
       "      <td>True</td>\n",
       "    </tr>\n",
       "    <tr>\n",
       "      <th>52</th>\n",
       "      <td>hr</td>\n",
       "      <td>61094</td>\n",
       "      <td>20220804-HR-61094-httpswww.net.hr-DNS_Requests...</td>\n",
       "      <td>s.amazon-adsystem.com</td>\n",
       "      <td>net.hr</td>\n",
       "      <td>adsystem.com</td>\n",
       "      <td>None</td>\n",
       "      <td>True</td>\n",
       "      <td>True</td>\n",
       "    </tr>\n",
       "    <tr>\n",
       "      <th>53</th>\n",
       "      <td>hr</td>\n",
       "      <td>61094</td>\n",
       "      <td>20220804-HR-61094-httpswww.gloria.hr-DNS_Reque...</td>\n",
       "      <td>www.youtube.com</td>\n",
       "      <td>gloria.hr</td>\n",
       "      <td>youtube.com</td>\n",
       "      <td>None</td>\n",
       "      <td>True</td>\n",
       "      <td>True</td>\n",
       "    </tr>\n",
       "    <tr>\n",
       "      <th>54</th>\n",
       "      <td>hr</td>\n",
       "      <td>61094</td>\n",
       "      <td>20220804-HR-61094-httpswww.index.hr-DNS_Reques...</td>\n",
       "      <td>script.dotmetrics.net</td>\n",
       "      <td>index.hr</td>\n",
       "      <td>dotmetrics.net</td>\n",
       "      <td>None</td>\n",
       "      <td>True</td>\n",
       "      <td>True</td>\n",
       "    </tr>\n",
       "    <tr>\n",
       "      <th>55</th>\n",
       "      <td>hr</td>\n",
       "      <td>61094</td>\n",
       "      <td>20220804-HR-61094-httpswww.vecernji.hr-DNS_Req...</td>\n",
       "      <td>connect.facebook.net</td>\n",
       "      <td>vecernji.hr</td>\n",
       "      <td>facebook.net</td>\n",
       "      <td>None</td>\n",
       "      <td>True</td>\n",
       "      <td>True</td>\n",
       "    </tr>\n",
       "    <tr>\n",
       "      <th>56</th>\n",
       "      <td>hr</td>\n",
       "      <td>61094</td>\n",
       "      <td>20220804-HR-61094-httpswww.vecernji.hr-DNS_Req...</td>\n",
       "      <td>cdnjs.cloudflare.com</td>\n",
       "      <td>vecernji.hr</td>\n",
       "      <td>cloudflare.com</td>\n",
       "      <td>None</td>\n",
       "      <td>True</td>\n",
       "      <td>True</td>\n",
       "    </tr>\n",
       "    <tr>\n",
       "      <th>57</th>\n",
       "      <td>hr</td>\n",
       "      <td>61094</td>\n",
       "      <td>20220804-HR-61094-httpswww.jutarnji.hr-DNS_Req...</td>\n",
       "      <td>signal-beacon.s-onetag.com</td>\n",
       "      <td>jutarnji.hr</td>\n",
       "      <td>onetag.com</td>\n",
       "      <td>None</td>\n",
       "      <td>True</td>\n",
       "      <td>True</td>\n",
       "    </tr>\n",
       "    <tr>\n",
       "      <th>58</th>\n",
       "      <td>hr</td>\n",
       "      <td>61094</td>\n",
       "      <td>20220804-HR-61094-httpswww.gloria.hr-DNS_Reque...</td>\n",
       "      <td>apps.jutarnji.hr</td>\n",
       "      <td>gloria.hr</td>\n",
       "      <td>jutarnji.hr</td>\n",
       "      <td>None</td>\n",
       "      <td>True</td>\n",
       "      <td>True</td>\n",
       "    </tr>\n",
       "    <tr>\n",
       "      <th>59</th>\n",
       "      <td>hr</td>\n",
       "      <td>61094</td>\n",
       "      <td>20220804-HR-61094-httpswww.jutarnji.hr-DNS_Req...</td>\n",
       "      <td>signal-metrics-collector-beta.s-onetag.com</td>\n",
       "      <td>jutarnji.hr</td>\n",
       "      <td>onetag.com</td>\n",
       "      <td>None</td>\n",
       "      <td>True</td>\n",
       "      <td>True</td>\n",
       "    </tr>\n",
       "  </tbody>\n",
       "</table>\n",
       "</div>"
      ],
      "text/plain": [
       "   country    asn                            initial_domain_filename  \\\n",
       "50      hr  61094  20220804-HR-61094-httpswww.tportal.hr-DNS_Requ...   \n",
       "51      hr  61094  20220804-HR-61094-httpswww.poslovni.hr-DNS_Req...   \n",
       "52      hr  61094  20220804-HR-61094-httpswww.net.hr-DNS_Requests...   \n",
       "53      hr  61094  20220804-HR-61094-httpswww.gloria.hr-DNS_Reque...   \n",
       "54      hr  61094  20220804-HR-61094-httpswww.index.hr-DNS_Reques...   \n",
       "55      hr  61094  20220804-HR-61094-httpswww.vecernji.hr-DNS_Req...   \n",
       "56      hr  61094  20220804-HR-61094-httpswww.vecernji.hr-DNS_Req...   \n",
       "57      hr  61094  20220804-HR-61094-httpswww.jutarnji.hr-DNS_Req...   \n",
       "58      hr  61094  20220804-HR-61094-httpswww.gloria.hr-DNS_Reque...   \n",
       "59      hr  61094  20220804-HR-61094-httpswww.jutarnji.hr-DNS_Req...   \n",
       "\n",
       "                                 target_domain initial_domain_tld_plus_one  \\\n",
       "50                              www.tportal.hr                  tportal.hr   \n",
       "51                            hr.hit.gemius.pl                 poslovni.hr   \n",
       "52                       s.amazon-adsystem.com                      net.hr   \n",
       "53                             www.youtube.com                   gloria.hr   \n",
       "54                       script.dotmetrics.net                    index.hr   \n",
       "55                        connect.facebook.net                 vecernji.hr   \n",
       "56                        cdnjs.cloudflare.com                 vecernji.hr   \n",
       "57                  signal-beacon.s-onetag.com                 jutarnji.hr   \n",
       "58                            apps.jutarnji.hr                   gloria.hr   \n",
       "59  signal-metrics-collector-beta.s-onetag.com                 jutarnji.hr   \n",
       "\n",
       "   target_domain_tld_plus_one tld_plus_one_first_party as_name_first_party  \\\n",
       "50                 tportal.hr                     True                True   \n",
       "51                  gemius.pl                     None                True   \n",
       "52               adsystem.com                     None                True   \n",
       "53                youtube.com                     None                True   \n",
       "54             dotmetrics.net                     None                True   \n",
       "55               facebook.net                     None                True   \n",
       "56             cloudflare.com                     None                True   \n",
       "57                 onetag.com                     None                True   \n",
       "58                jutarnji.hr                     None                True   \n",
       "59                 onetag.com                     None                True   \n",
       "\n",
       "   as_number_first_party  \n",
       "50                  True  \n",
       "51                  True  \n",
       "52                  True  \n",
       "53                  True  \n",
       "54                  True  \n",
       "55                  True  \n",
       "56                  True  \n",
       "57                  True  \n",
       "58                  True  \n",
       "59                  True  "
      ]
     },
     "execution_count": 150,
     "metadata": {},
     "output_type": "execute_result"
    }
   ],
   "source": [
    "bright_data_df.iloc[50:60]"
   ]
  },
  {
   "cell_type": "code",
   "execution_count": 151,
   "id": "26778705-ad9a-4182-8452-1f7af385ba6d",
   "metadata": {},
   "outputs": [
    {
     "data": {
      "text/plain": [
       "(1075319, 9)"
      ]
     },
     "execution_count": 151,
     "metadata": {},
     "output_type": "execute_result"
    }
   ],
   "source": [
    "bright_data_df.shape"
   ]
  },
  {
   "cell_type": "markdown",
   "id": "e10e92bd-66c8-4618-ac7e-b34be9b47b12",
   "metadata": {},
   "source": [
    "## 6.4. org_id_first_party_l"
   ]
  },
  {
   "cell_type": "code",
   "execution_count": 152,
   "id": "a6662c49-96e3-4485-8eb9-200783e15bb6",
   "metadata": {},
   "outputs": [],
   "source": [
    "bright_data_9col_df = copy.deepcopy(bright_data_df)"
   ]
  },
  {
   "cell_type": "code",
   "execution_count": 155,
   "id": "1e31eb71-6857-4739-8d5e-af95bc2cfb07",
   "metadata": {},
   "outputs": [
    {
     "name": "stdout",
     "output_type": "stream",
     "text": [
      "True\n",
      "99.94076% is the first party based on Org ID.\n"
     ]
    }
   ],
   "source": [
    "org_id_first_party_l = bright_data_df.shape[0] * [None]\n",
    "match_orgid_set = set(match_hostname_orgid_d.keys())\n",
    "match_orgid_set.remove(None)\n",
    "\n",
    "for i in range(len(initial_domain_tld_plus_one_l)):\n",
    "    if initial_domain_tld_plus_one_l[i] in match_orgid_set:\n",
    "        org_id_first_party_l[i] = True\n",
    "        \n",
    "print(org_id_first_party_l.count(None) + org_id_first_party_l.count(True) == bright_data_df.shape[0])\n",
    "print(f\"{round(org_id_first_party_l.count(True) / bright_data_df.shape[0] * 100, 5)}% is the first party based on Org ID.\")"
   ]
  },
  {
   "cell_type": "code",
   "execution_count": 156,
   "id": "335132bd-fba9-47ed-8a6f-00337fa50e21",
   "metadata": {},
   "outputs": [],
   "source": [
    "bright_data_df[\"org_id_first_party\"] = org_id_first_party_l"
   ]
  },
  {
   "cell_type": "code",
   "execution_count": 157,
   "id": "9145978f-b8ff-40ee-afcd-617403e2fbb2",
   "metadata": {},
   "outputs": [
    {
     "data": {
      "text/html": [
       "<div>\n",
       "<style scoped>\n",
       "    .dataframe tbody tr th:only-of-type {\n",
       "        vertical-align: middle;\n",
       "    }\n",
       "\n",
       "    .dataframe tbody tr th {\n",
       "        vertical-align: top;\n",
       "    }\n",
       "\n",
       "    .dataframe thead th {\n",
       "        text-align: right;\n",
       "    }\n",
       "</style>\n",
       "<table border=\"1\" class=\"dataframe\">\n",
       "  <thead>\n",
       "    <tr style=\"text-align: right;\">\n",
       "      <th></th>\n",
       "      <th>country</th>\n",
       "      <th>asn</th>\n",
       "      <th>initial_domain_filename</th>\n",
       "      <th>target_domain</th>\n",
       "      <th>initial_domain_tld_plus_one</th>\n",
       "      <th>target_domain_tld_plus_one</th>\n",
       "      <th>tld_plus_one_first_party</th>\n",
       "      <th>as_name_first_party</th>\n",
       "      <th>as_number_first_party</th>\n",
       "      <th>org_id_first_party</th>\n",
       "    </tr>\n",
       "  </thead>\n",
       "  <tbody>\n",
       "    <tr>\n",
       "      <th>50</th>\n",
       "      <td>hr</td>\n",
       "      <td>61094</td>\n",
       "      <td>20220804-HR-61094-httpswww.tportal.hr-DNS_Requ...</td>\n",
       "      <td>www.tportal.hr</td>\n",
       "      <td>tportal.hr</td>\n",
       "      <td>tportal.hr</td>\n",
       "      <td>True</td>\n",
       "      <td>True</td>\n",
       "      <td>True</td>\n",
       "      <td>True</td>\n",
       "    </tr>\n",
       "    <tr>\n",
       "      <th>51</th>\n",
       "      <td>hr</td>\n",
       "      <td>61094</td>\n",
       "      <td>20220804-HR-61094-httpswww.poslovni.hr-DNS_Req...</td>\n",
       "      <td>hr.hit.gemius.pl</td>\n",
       "      <td>poslovni.hr</td>\n",
       "      <td>gemius.pl</td>\n",
       "      <td>None</td>\n",
       "      <td>True</td>\n",
       "      <td>True</td>\n",
       "      <td>True</td>\n",
       "    </tr>\n",
       "    <tr>\n",
       "      <th>52</th>\n",
       "      <td>hr</td>\n",
       "      <td>61094</td>\n",
       "      <td>20220804-HR-61094-httpswww.net.hr-DNS_Requests...</td>\n",
       "      <td>s.amazon-adsystem.com</td>\n",
       "      <td>net.hr</td>\n",
       "      <td>adsystem.com</td>\n",
       "      <td>None</td>\n",
       "      <td>True</td>\n",
       "      <td>True</td>\n",
       "      <td>True</td>\n",
       "    </tr>\n",
       "    <tr>\n",
       "      <th>53</th>\n",
       "      <td>hr</td>\n",
       "      <td>61094</td>\n",
       "      <td>20220804-HR-61094-httpswww.gloria.hr-DNS_Reque...</td>\n",
       "      <td>www.youtube.com</td>\n",
       "      <td>gloria.hr</td>\n",
       "      <td>youtube.com</td>\n",
       "      <td>None</td>\n",
       "      <td>True</td>\n",
       "      <td>True</td>\n",
       "      <td>True</td>\n",
       "    </tr>\n",
       "    <tr>\n",
       "      <th>54</th>\n",
       "      <td>hr</td>\n",
       "      <td>61094</td>\n",
       "      <td>20220804-HR-61094-httpswww.index.hr-DNS_Reques...</td>\n",
       "      <td>script.dotmetrics.net</td>\n",
       "      <td>index.hr</td>\n",
       "      <td>dotmetrics.net</td>\n",
       "      <td>None</td>\n",
       "      <td>True</td>\n",
       "      <td>True</td>\n",
       "      <td>True</td>\n",
       "    </tr>\n",
       "    <tr>\n",
       "      <th>55</th>\n",
       "      <td>hr</td>\n",
       "      <td>61094</td>\n",
       "      <td>20220804-HR-61094-httpswww.vecernji.hr-DNS_Req...</td>\n",
       "      <td>connect.facebook.net</td>\n",
       "      <td>vecernji.hr</td>\n",
       "      <td>facebook.net</td>\n",
       "      <td>None</td>\n",
       "      <td>True</td>\n",
       "      <td>True</td>\n",
       "      <td>True</td>\n",
       "    </tr>\n",
       "    <tr>\n",
       "      <th>56</th>\n",
       "      <td>hr</td>\n",
       "      <td>61094</td>\n",
       "      <td>20220804-HR-61094-httpswww.vecernji.hr-DNS_Req...</td>\n",
       "      <td>cdnjs.cloudflare.com</td>\n",
       "      <td>vecernji.hr</td>\n",
       "      <td>cloudflare.com</td>\n",
       "      <td>None</td>\n",
       "      <td>True</td>\n",
       "      <td>True</td>\n",
       "      <td>True</td>\n",
       "    </tr>\n",
       "    <tr>\n",
       "      <th>57</th>\n",
       "      <td>hr</td>\n",
       "      <td>61094</td>\n",
       "      <td>20220804-HR-61094-httpswww.jutarnji.hr-DNS_Req...</td>\n",
       "      <td>signal-beacon.s-onetag.com</td>\n",
       "      <td>jutarnji.hr</td>\n",
       "      <td>onetag.com</td>\n",
       "      <td>None</td>\n",
       "      <td>True</td>\n",
       "      <td>True</td>\n",
       "      <td>True</td>\n",
       "    </tr>\n",
       "    <tr>\n",
       "      <th>58</th>\n",
       "      <td>hr</td>\n",
       "      <td>61094</td>\n",
       "      <td>20220804-HR-61094-httpswww.gloria.hr-DNS_Reque...</td>\n",
       "      <td>apps.jutarnji.hr</td>\n",
       "      <td>gloria.hr</td>\n",
       "      <td>jutarnji.hr</td>\n",
       "      <td>None</td>\n",
       "      <td>True</td>\n",
       "      <td>True</td>\n",
       "      <td>True</td>\n",
       "    </tr>\n",
       "    <tr>\n",
       "      <th>59</th>\n",
       "      <td>hr</td>\n",
       "      <td>61094</td>\n",
       "      <td>20220804-HR-61094-httpswww.jutarnji.hr-DNS_Req...</td>\n",
       "      <td>signal-metrics-collector-beta.s-onetag.com</td>\n",
       "      <td>jutarnji.hr</td>\n",
       "      <td>onetag.com</td>\n",
       "      <td>None</td>\n",
       "      <td>True</td>\n",
       "      <td>True</td>\n",
       "      <td>True</td>\n",
       "    </tr>\n",
       "  </tbody>\n",
       "</table>\n",
       "</div>"
      ],
      "text/plain": [
       "   country    asn                            initial_domain_filename  \\\n",
       "50      hr  61094  20220804-HR-61094-httpswww.tportal.hr-DNS_Requ...   \n",
       "51      hr  61094  20220804-HR-61094-httpswww.poslovni.hr-DNS_Req...   \n",
       "52      hr  61094  20220804-HR-61094-httpswww.net.hr-DNS_Requests...   \n",
       "53      hr  61094  20220804-HR-61094-httpswww.gloria.hr-DNS_Reque...   \n",
       "54      hr  61094  20220804-HR-61094-httpswww.index.hr-DNS_Reques...   \n",
       "55      hr  61094  20220804-HR-61094-httpswww.vecernji.hr-DNS_Req...   \n",
       "56      hr  61094  20220804-HR-61094-httpswww.vecernji.hr-DNS_Req...   \n",
       "57      hr  61094  20220804-HR-61094-httpswww.jutarnji.hr-DNS_Req...   \n",
       "58      hr  61094  20220804-HR-61094-httpswww.gloria.hr-DNS_Reque...   \n",
       "59      hr  61094  20220804-HR-61094-httpswww.jutarnji.hr-DNS_Req...   \n",
       "\n",
       "                                 target_domain initial_domain_tld_plus_one  \\\n",
       "50                              www.tportal.hr                  tportal.hr   \n",
       "51                            hr.hit.gemius.pl                 poslovni.hr   \n",
       "52                       s.amazon-adsystem.com                      net.hr   \n",
       "53                             www.youtube.com                   gloria.hr   \n",
       "54                       script.dotmetrics.net                    index.hr   \n",
       "55                        connect.facebook.net                 vecernji.hr   \n",
       "56                        cdnjs.cloudflare.com                 vecernji.hr   \n",
       "57                  signal-beacon.s-onetag.com                 jutarnji.hr   \n",
       "58                            apps.jutarnji.hr                   gloria.hr   \n",
       "59  signal-metrics-collector-beta.s-onetag.com                 jutarnji.hr   \n",
       "\n",
       "   target_domain_tld_plus_one tld_plus_one_first_party as_name_first_party  \\\n",
       "50                 tportal.hr                     True                True   \n",
       "51                  gemius.pl                     None                True   \n",
       "52               adsystem.com                     None                True   \n",
       "53                youtube.com                     None                True   \n",
       "54             dotmetrics.net                     None                True   \n",
       "55               facebook.net                     None                True   \n",
       "56             cloudflare.com                     None                True   \n",
       "57                 onetag.com                     None                True   \n",
       "58                jutarnji.hr                     None                True   \n",
       "59                 onetag.com                     None                True   \n",
       "\n",
       "   as_number_first_party org_id_first_party  \n",
       "50                  True               True  \n",
       "51                  True               True  \n",
       "52                  True               True  \n",
       "53                  True               True  \n",
       "54                  True               True  \n",
       "55                  True               True  \n",
       "56                  True               True  \n",
       "57                  True               True  \n",
       "58                  True               True  \n",
       "59                  True               True  "
      ]
     },
     "execution_count": 157,
     "metadata": {},
     "output_type": "execute_result"
    }
   ],
   "source": [
    "bright_data_df.iloc[50:60]"
   ]
  },
  {
   "cell_type": "code",
   "execution_count": 158,
   "id": "e535f965-23aa-4cee-852b-f9788a5b3a1a",
   "metadata": {},
   "outputs": [
    {
     "data": {
      "text/plain": [
       "(1075319, 10)"
      ]
     },
     "execution_count": 158,
     "metadata": {},
     "output_type": "execute_result"
    }
   ],
   "source": [
    "bright_data_df.shape"
   ]
  },
  {
   "cell_type": "markdown",
   "id": "5b6da8a8-6cf8-429b-9131-e3a9ccc923d0",
   "metadata": {},
   "source": [
    "## 6.5. org_name_first_party_l"
   ]
  },
  {
   "cell_type": "code",
   "execution_count": 159,
   "id": "bd05a65e-d8ab-4d6c-9c2f-5b26f22ab8ab",
   "metadata": {},
   "outputs": [],
   "source": [
    "bright_data_10col_df = copy.deepcopy(bright_data_df)"
   ]
  },
  {
   "cell_type": "code",
   "execution_count": 160,
   "id": "9b405881-318d-4ad0-b4a7-d9b520a30ac1",
   "metadata": {},
   "outputs": [
    {
     "name": "stdout",
     "output_type": "stream",
     "text": [
      "True\n",
      "99.94076% is the first party based on Org ID.\n"
     ]
    }
   ],
   "source": [
    "org_name_first_party_l = bright_data_df.shape[0] * [None]\n",
    "match_orgid_set = set(match_hostname_orgname_d.keys())\n",
    "match_orgid_set.remove(None)\n",
    "\n",
    "for i in range(len(initial_domain_tld_plus_one_l)):\n",
    "    if initial_domain_tld_plus_one_l[i] in match_orgid_set:\n",
    "        org_name_first_party_l[i] = True\n",
    "        \n",
    "print(org_name_first_party_l.count(None) + org_name_first_party_l.count(True) == bright_data_df.shape[0])\n",
    "print(f\"{round(org_name_first_party_l.count(True) / bright_data_df.shape[0] * 100, 5)}% are the first party based on Org Name.\")"
   ]
  },
  {
   "cell_type": "code",
   "execution_count": 161,
   "id": "20b70f5a-6aae-4fb5-8d49-f06d81bd2036",
   "metadata": {},
   "outputs": [],
   "source": [
    "bright_data_df[\"org_name_first_party\"] = org_name_first_party_l"
   ]
  },
  {
   "cell_type": "code",
   "execution_count": 162,
   "id": "00226e9a-a799-4dff-b6de-62bb668fa85c",
   "metadata": {},
   "outputs": [
    {
     "data": {
      "text/html": [
       "<div>\n",
       "<style scoped>\n",
       "    .dataframe tbody tr th:only-of-type {\n",
       "        vertical-align: middle;\n",
       "    }\n",
       "\n",
       "    .dataframe tbody tr th {\n",
       "        vertical-align: top;\n",
       "    }\n",
       "\n",
       "    .dataframe thead th {\n",
       "        text-align: right;\n",
       "    }\n",
       "</style>\n",
       "<table border=\"1\" class=\"dataframe\">\n",
       "  <thead>\n",
       "    <tr style=\"text-align: right;\">\n",
       "      <th></th>\n",
       "      <th>country</th>\n",
       "      <th>asn</th>\n",
       "      <th>initial_domain_filename</th>\n",
       "      <th>target_domain</th>\n",
       "      <th>initial_domain_tld_plus_one</th>\n",
       "      <th>target_domain_tld_plus_one</th>\n",
       "      <th>tld_plus_one_first_party</th>\n",
       "      <th>as_name_first_party</th>\n",
       "      <th>as_number_first_party</th>\n",
       "      <th>org_id_first_party</th>\n",
       "      <th>org_name_first_party</th>\n",
       "    </tr>\n",
       "  </thead>\n",
       "  <tbody>\n",
       "    <tr>\n",
       "      <th>50</th>\n",
       "      <td>hr</td>\n",
       "      <td>61094</td>\n",
       "      <td>20220804-HR-61094-httpswww.tportal.hr-DNS_Requ...</td>\n",
       "      <td>www.tportal.hr</td>\n",
       "      <td>tportal.hr</td>\n",
       "      <td>tportal.hr</td>\n",
       "      <td>True</td>\n",
       "      <td>True</td>\n",
       "      <td>True</td>\n",
       "      <td>True</td>\n",
       "      <td>True</td>\n",
       "    </tr>\n",
       "    <tr>\n",
       "      <th>51</th>\n",
       "      <td>hr</td>\n",
       "      <td>61094</td>\n",
       "      <td>20220804-HR-61094-httpswww.poslovni.hr-DNS_Req...</td>\n",
       "      <td>hr.hit.gemius.pl</td>\n",
       "      <td>poslovni.hr</td>\n",
       "      <td>gemius.pl</td>\n",
       "      <td>None</td>\n",
       "      <td>True</td>\n",
       "      <td>True</td>\n",
       "      <td>True</td>\n",
       "      <td>True</td>\n",
       "    </tr>\n",
       "    <tr>\n",
       "      <th>52</th>\n",
       "      <td>hr</td>\n",
       "      <td>61094</td>\n",
       "      <td>20220804-HR-61094-httpswww.net.hr-DNS_Requests...</td>\n",
       "      <td>s.amazon-adsystem.com</td>\n",
       "      <td>net.hr</td>\n",
       "      <td>adsystem.com</td>\n",
       "      <td>None</td>\n",
       "      <td>True</td>\n",
       "      <td>True</td>\n",
       "      <td>True</td>\n",
       "      <td>True</td>\n",
       "    </tr>\n",
       "    <tr>\n",
       "      <th>53</th>\n",
       "      <td>hr</td>\n",
       "      <td>61094</td>\n",
       "      <td>20220804-HR-61094-httpswww.gloria.hr-DNS_Reque...</td>\n",
       "      <td>www.youtube.com</td>\n",
       "      <td>gloria.hr</td>\n",
       "      <td>youtube.com</td>\n",
       "      <td>None</td>\n",
       "      <td>True</td>\n",
       "      <td>True</td>\n",
       "      <td>True</td>\n",
       "      <td>True</td>\n",
       "    </tr>\n",
       "    <tr>\n",
       "      <th>54</th>\n",
       "      <td>hr</td>\n",
       "      <td>61094</td>\n",
       "      <td>20220804-HR-61094-httpswww.index.hr-DNS_Reques...</td>\n",
       "      <td>script.dotmetrics.net</td>\n",
       "      <td>index.hr</td>\n",
       "      <td>dotmetrics.net</td>\n",
       "      <td>None</td>\n",
       "      <td>True</td>\n",
       "      <td>True</td>\n",
       "      <td>True</td>\n",
       "      <td>True</td>\n",
       "    </tr>\n",
       "    <tr>\n",
       "      <th>55</th>\n",
       "      <td>hr</td>\n",
       "      <td>61094</td>\n",
       "      <td>20220804-HR-61094-httpswww.vecernji.hr-DNS_Req...</td>\n",
       "      <td>connect.facebook.net</td>\n",
       "      <td>vecernji.hr</td>\n",
       "      <td>facebook.net</td>\n",
       "      <td>None</td>\n",
       "      <td>True</td>\n",
       "      <td>True</td>\n",
       "      <td>True</td>\n",
       "      <td>True</td>\n",
       "    </tr>\n",
       "    <tr>\n",
       "      <th>56</th>\n",
       "      <td>hr</td>\n",
       "      <td>61094</td>\n",
       "      <td>20220804-HR-61094-httpswww.vecernji.hr-DNS_Req...</td>\n",
       "      <td>cdnjs.cloudflare.com</td>\n",
       "      <td>vecernji.hr</td>\n",
       "      <td>cloudflare.com</td>\n",
       "      <td>None</td>\n",
       "      <td>True</td>\n",
       "      <td>True</td>\n",
       "      <td>True</td>\n",
       "      <td>True</td>\n",
       "    </tr>\n",
       "    <tr>\n",
       "      <th>57</th>\n",
       "      <td>hr</td>\n",
       "      <td>61094</td>\n",
       "      <td>20220804-HR-61094-httpswww.jutarnji.hr-DNS_Req...</td>\n",
       "      <td>signal-beacon.s-onetag.com</td>\n",
       "      <td>jutarnji.hr</td>\n",
       "      <td>onetag.com</td>\n",
       "      <td>None</td>\n",
       "      <td>True</td>\n",
       "      <td>True</td>\n",
       "      <td>True</td>\n",
       "      <td>True</td>\n",
       "    </tr>\n",
       "    <tr>\n",
       "      <th>58</th>\n",
       "      <td>hr</td>\n",
       "      <td>61094</td>\n",
       "      <td>20220804-HR-61094-httpswww.gloria.hr-DNS_Reque...</td>\n",
       "      <td>apps.jutarnji.hr</td>\n",
       "      <td>gloria.hr</td>\n",
       "      <td>jutarnji.hr</td>\n",
       "      <td>None</td>\n",
       "      <td>True</td>\n",
       "      <td>True</td>\n",
       "      <td>True</td>\n",
       "      <td>True</td>\n",
       "    </tr>\n",
       "    <tr>\n",
       "      <th>59</th>\n",
       "      <td>hr</td>\n",
       "      <td>61094</td>\n",
       "      <td>20220804-HR-61094-httpswww.jutarnji.hr-DNS_Req...</td>\n",
       "      <td>signal-metrics-collector-beta.s-onetag.com</td>\n",
       "      <td>jutarnji.hr</td>\n",
       "      <td>onetag.com</td>\n",
       "      <td>None</td>\n",
       "      <td>True</td>\n",
       "      <td>True</td>\n",
       "      <td>True</td>\n",
       "      <td>True</td>\n",
       "    </tr>\n",
       "  </tbody>\n",
       "</table>\n",
       "</div>"
      ],
      "text/plain": [
       "   country    asn                            initial_domain_filename  \\\n",
       "50      hr  61094  20220804-HR-61094-httpswww.tportal.hr-DNS_Requ...   \n",
       "51      hr  61094  20220804-HR-61094-httpswww.poslovni.hr-DNS_Req...   \n",
       "52      hr  61094  20220804-HR-61094-httpswww.net.hr-DNS_Requests...   \n",
       "53      hr  61094  20220804-HR-61094-httpswww.gloria.hr-DNS_Reque...   \n",
       "54      hr  61094  20220804-HR-61094-httpswww.index.hr-DNS_Reques...   \n",
       "55      hr  61094  20220804-HR-61094-httpswww.vecernji.hr-DNS_Req...   \n",
       "56      hr  61094  20220804-HR-61094-httpswww.vecernji.hr-DNS_Req...   \n",
       "57      hr  61094  20220804-HR-61094-httpswww.jutarnji.hr-DNS_Req...   \n",
       "58      hr  61094  20220804-HR-61094-httpswww.gloria.hr-DNS_Reque...   \n",
       "59      hr  61094  20220804-HR-61094-httpswww.jutarnji.hr-DNS_Req...   \n",
       "\n",
       "                                 target_domain initial_domain_tld_plus_one  \\\n",
       "50                              www.tportal.hr                  tportal.hr   \n",
       "51                            hr.hit.gemius.pl                 poslovni.hr   \n",
       "52                       s.amazon-adsystem.com                      net.hr   \n",
       "53                             www.youtube.com                   gloria.hr   \n",
       "54                       script.dotmetrics.net                    index.hr   \n",
       "55                        connect.facebook.net                 vecernji.hr   \n",
       "56                        cdnjs.cloudflare.com                 vecernji.hr   \n",
       "57                  signal-beacon.s-onetag.com                 jutarnji.hr   \n",
       "58                            apps.jutarnji.hr                   gloria.hr   \n",
       "59  signal-metrics-collector-beta.s-onetag.com                 jutarnji.hr   \n",
       "\n",
       "   target_domain_tld_plus_one tld_plus_one_first_party as_name_first_party  \\\n",
       "50                 tportal.hr                     True                True   \n",
       "51                  gemius.pl                     None                True   \n",
       "52               adsystem.com                     None                True   \n",
       "53                youtube.com                     None                True   \n",
       "54             dotmetrics.net                     None                True   \n",
       "55               facebook.net                     None                True   \n",
       "56             cloudflare.com                     None                True   \n",
       "57                 onetag.com                     None                True   \n",
       "58                jutarnji.hr                     None                True   \n",
       "59                 onetag.com                     None                True   \n",
       "\n",
       "   as_number_first_party org_id_first_party org_name_first_party  \n",
       "50                  True               True                 True  \n",
       "51                  True               True                 True  \n",
       "52                  True               True                 True  \n",
       "53                  True               True                 True  \n",
       "54                  True               True                 True  \n",
       "55                  True               True                 True  \n",
       "56                  True               True                 True  \n",
       "57                  True               True                 True  \n",
       "58                  True               True                 True  \n",
       "59                  True               True                 True  "
      ]
     },
     "execution_count": 162,
     "metadata": {},
     "output_type": "execute_result"
    }
   ],
   "source": [
    "bright_data_df.iloc[50:60]"
   ]
  },
  {
   "cell_type": "code",
   "execution_count": 163,
   "id": "00459765-412c-49b6-a3b6-999af611e544",
   "metadata": {},
   "outputs": [
    {
     "data": {
      "text/plain": [
       "(1075319, 11)"
      ]
     },
     "execution_count": 163,
     "metadata": {},
     "output_type": "execute_result"
    }
   ],
   "source": [
    "bright_data_df.shape"
   ]
  },
  {
   "cell_type": "markdown",
   "id": "c1decaa6-30cd-457e-b181-40351291ebc9",
   "metadata": {},
   "source": [
    "## 6.6. Altogether"
   ]
  },
  {
   "cell_type": "code",
   "execution_count": 164,
   "id": "5793ee7e-0316-4f33-b4c5-19e486bb5afb",
   "metadata": {},
   "outputs": [],
   "source": [
    "bright_data_11col_df = copy.deepcopy(bright_data_df)"
   ]
  },
  {
   "cell_type": "code",
   "execution_count": 196,
   "id": "ea7755d9-1c8b-42b8-a78f-bfb97cb86575",
   "metadata": {},
   "outputs": [],
   "source": [
    "bright_data_df['first_party'] = np.select([bright_data_df.iloc[:, 6:10].any(axis=\"columns\")], [True], default=None)"
   ]
  },
  {
   "cell_type": "code",
   "execution_count": 208,
   "id": "5e742e35-5564-4f9a-888f-42b952c16f63",
   "metadata": {},
   "outputs": [
    {
     "name": "stdout",
     "output_type": "stream",
     "text": [
      "99.94076% is the first party overall.\n"
     ]
    }
   ],
   "source": [
    "print(f\"{round(list(bright_data_df['first_party']).count(True) / bright_data_df.shape[0] * 100, 5)}% is the first party overall.\")"
   ]
  },
  {
   "cell_type": "code",
   "execution_count": 201,
   "id": "8d921801-7368-46ce-aa59-2d745f6ed8ae",
   "metadata": {},
   "outputs": [
    {
     "data": {
      "text/html": [
       "<div>\n",
       "<style scoped>\n",
       "    .dataframe tbody tr th:only-of-type {\n",
       "        vertical-align: middle;\n",
       "    }\n",
       "\n",
       "    .dataframe tbody tr th {\n",
       "        vertical-align: top;\n",
       "    }\n",
       "\n",
       "    .dataframe thead th {\n",
       "        text-align: right;\n",
       "    }\n",
       "</style>\n",
       "<table border=\"1\" class=\"dataframe\">\n",
       "  <thead>\n",
       "    <tr style=\"text-align: right;\">\n",
       "      <th></th>\n",
       "      <th>country</th>\n",
       "      <th>asn</th>\n",
       "      <th>initial_domain_filename</th>\n",
       "      <th>target_domain</th>\n",
       "      <th>initial_domain_tld_plus_one</th>\n",
       "      <th>target_domain_tld_plus_one</th>\n",
       "      <th>tld_plus_one_first_party</th>\n",
       "      <th>as_name_first_party</th>\n",
       "      <th>as_number_first_party</th>\n",
       "      <th>org_id_first_party</th>\n",
       "      <th>org_name_first_party</th>\n",
       "      <th>first_party</th>\n",
       "    </tr>\n",
       "  </thead>\n",
       "  <tbody>\n",
       "    <tr>\n",
       "      <th>20</th>\n",
       "      <td>hr</td>\n",
       "      <td>google</td>\n",
       "      <td>20220804-HR-google-httpswww.google.hr-DNS_Requ...</td>\n",
       "      <td>www.google.hr</td>\n",
       "      <td>None</td>\n",
       "      <td>None</td>\n",
       "      <td>None</td>\n",
       "      <td>None</td>\n",
       "      <td>None</td>\n",
       "      <td>None</td>\n",
       "      <td>None</td>\n",
       "      <td>None</td>\n",
       "    </tr>\n",
       "    <tr>\n",
       "      <th>21</th>\n",
       "      <td>hr</td>\n",
       "      <td>google</td>\n",
       "      <td>20220804-HR-google-httpswww.google.hr-DNS_Requ...</td>\n",
       "      <td>apis.google.com</td>\n",
       "      <td>None</td>\n",
       "      <td>None</td>\n",
       "      <td>None</td>\n",
       "      <td>None</td>\n",
       "      <td>None</td>\n",
       "      <td>None</td>\n",
       "      <td>None</td>\n",
       "      <td>None</td>\n",
       "    </tr>\n",
       "    <tr>\n",
       "      <th>22</th>\n",
       "      <td>hr</td>\n",
       "      <td>google</td>\n",
       "      <td>20220804-HR-google-httpswww.google.hr-DNS_Requ...</td>\n",
       "      <td>ogs.google.hr</td>\n",
       "      <td>None</td>\n",
       "      <td>None</td>\n",
       "      <td>None</td>\n",
       "      <td>None</td>\n",
       "      <td>None</td>\n",
       "      <td>None</td>\n",
       "      <td>None</td>\n",
       "      <td>None</td>\n",
       "    </tr>\n",
       "    <tr>\n",
       "      <th>23</th>\n",
       "      <td>hr</td>\n",
       "      <td>61094</td>\n",
       "      <td>20220804-HR-61094-httpswww.njuskalo.hr-DNS_Req...</td>\n",
       "      <td>ls.hit.gemius.pl</td>\n",
       "      <td>njuskalo.hr</td>\n",
       "      <td>gemius.pl</td>\n",
       "      <td>None</td>\n",
       "      <td>True</td>\n",
       "      <td>True</td>\n",
       "      <td>True</td>\n",
       "      <td>True</td>\n",
       "      <td>True</td>\n",
       "    </tr>\n",
       "    <tr>\n",
       "      <th>24</th>\n",
       "      <td>hr</td>\n",
       "      <td>61094</td>\n",
       "      <td>20220804-HR-61094-httpswww.24sata.hr-DNS_Reque...</td>\n",
       "      <td>aax-eu.amazon-adsystem.com</td>\n",
       "      <td>24sata.hr</td>\n",
       "      <td>adsystem.com</td>\n",
       "      <td>None</td>\n",
       "      <td>True</td>\n",
       "      <td>True</td>\n",
       "      <td>True</td>\n",
       "      <td>True</td>\n",
       "      <td>True</td>\n",
       "    </tr>\n",
       "    <tr>\n",
       "      <th>25</th>\n",
       "      <td>hr</td>\n",
       "      <td>61094</td>\n",
       "      <td>20220804-HR-61094-httpswww.24sata.hr-DNS_Reque...</td>\n",
       "      <td>buy.tinypass.com</td>\n",
       "      <td>24sata.hr</td>\n",
       "      <td>tinypass.com</td>\n",
       "      <td>None</td>\n",
       "      <td>True</td>\n",
       "      <td>True</td>\n",
       "      <td>True</td>\n",
       "      <td>True</td>\n",
       "      <td>True</td>\n",
       "    </tr>\n",
       "    <tr>\n",
       "      <th>26</th>\n",
       "      <td>hr</td>\n",
       "      <td>61094</td>\n",
       "      <td>20220804-HR-61094-httpswww.roblox.com-DNS_Requ...</td>\n",
       "      <td>static.rbxcdn.com</td>\n",
       "      <td>roblox.com</td>\n",
       "      <td>rbxcdn.com</td>\n",
       "      <td>None</td>\n",
       "      <td>True</td>\n",
       "      <td>True</td>\n",
       "      <td>True</td>\n",
       "      <td>True</td>\n",
       "      <td>True</td>\n",
       "    </tr>\n",
       "    <tr>\n",
       "      <th>27</th>\n",
       "      <td>hr</td>\n",
       "      <td>61094</td>\n",
       "      <td>20220804-HR-61094-httpswww.gloria.hr-DNS_Reque...</td>\n",
       "      <td>cdn.ampproject.org</td>\n",
       "      <td>gloria.hr</td>\n",
       "      <td>ampproject.org</td>\n",
       "      <td>None</td>\n",
       "      <td>True</td>\n",
       "      <td>True</td>\n",
       "      <td>True</td>\n",
       "      <td>True</td>\n",
       "      <td>True</td>\n",
       "    </tr>\n",
       "    <tr>\n",
       "      <th>28</th>\n",
       "      <td>hr</td>\n",
       "      <td>61094</td>\n",
       "      <td>20220804-HR-61094-httpswww.24sata.hr-DNS_Reque...</td>\n",
       "      <td>ads.yahoo.com</td>\n",
       "      <td>24sata.hr</td>\n",
       "      <td>yahoo.com</td>\n",
       "      <td>None</td>\n",
       "      <td>True</td>\n",
       "      <td>True</td>\n",
       "      <td>True</td>\n",
       "      <td>True</td>\n",
       "      <td>True</td>\n",
       "    </tr>\n",
       "    <tr>\n",
       "      <th>29</th>\n",
       "      <td>hr</td>\n",
       "      <td>61094</td>\n",
       "      <td>20220804-HR-61094-httpswww.srce.hr-DNS_Request...</td>\n",
       "      <td>www.srce.unizg.hr</td>\n",
       "      <td>srce.hr</td>\n",
       "      <td>unizg.hr</td>\n",
       "      <td>None</td>\n",
       "      <td>True</td>\n",
       "      <td>True</td>\n",
       "      <td>True</td>\n",
       "      <td>True</td>\n",
       "      <td>True</td>\n",
       "    </tr>\n",
       "  </tbody>\n",
       "</table>\n",
       "</div>"
      ],
      "text/plain": [
       "   country     asn                            initial_domain_filename  \\\n",
       "20      hr  google  20220804-HR-google-httpswww.google.hr-DNS_Requ...   \n",
       "21      hr  google  20220804-HR-google-httpswww.google.hr-DNS_Requ...   \n",
       "22      hr  google  20220804-HR-google-httpswww.google.hr-DNS_Requ...   \n",
       "23      hr   61094  20220804-HR-61094-httpswww.njuskalo.hr-DNS_Req...   \n",
       "24      hr   61094  20220804-HR-61094-httpswww.24sata.hr-DNS_Reque...   \n",
       "25      hr   61094  20220804-HR-61094-httpswww.24sata.hr-DNS_Reque...   \n",
       "26      hr   61094  20220804-HR-61094-httpswww.roblox.com-DNS_Requ...   \n",
       "27      hr   61094  20220804-HR-61094-httpswww.gloria.hr-DNS_Reque...   \n",
       "28      hr   61094  20220804-HR-61094-httpswww.24sata.hr-DNS_Reque...   \n",
       "29      hr   61094  20220804-HR-61094-httpswww.srce.hr-DNS_Request...   \n",
       "\n",
       "                 target_domain initial_domain_tld_plus_one  \\\n",
       "20               www.google.hr                        None   \n",
       "21             apis.google.com                        None   \n",
       "22               ogs.google.hr                        None   \n",
       "23            ls.hit.gemius.pl                 njuskalo.hr   \n",
       "24  aax-eu.amazon-adsystem.com                   24sata.hr   \n",
       "25            buy.tinypass.com                   24sata.hr   \n",
       "26           static.rbxcdn.com                  roblox.com   \n",
       "27          cdn.ampproject.org                   gloria.hr   \n",
       "28               ads.yahoo.com                   24sata.hr   \n",
       "29           www.srce.unizg.hr                     srce.hr   \n",
       "\n",
       "   target_domain_tld_plus_one tld_plus_one_first_party as_name_first_party  \\\n",
       "20                       None                     None                None   \n",
       "21                       None                     None                None   \n",
       "22                       None                     None                None   \n",
       "23                  gemius.pl                     None                True   \n",
       "24               adsystem.com                     None                True   \n",
       "25               tinypass.com                     None                True   \n",
       "26                 rbxcdn.com                     None                True   \n",
       "27             ampproject.org                     None                True   \n",
       "28                  yahoo.com                     None                True   \n",
       "29                   unizg.hr                     None                True   \n",
       "\n",
       "   as_number_first_party org_id_first_party org_name_first_party first_party  \n",
       "20                  None               None                 None        None  \n",
       "21                  None               None                 None        None  \n",
       "22                  None               None                 None        None  \n",
       "23                  True               True                 True        True  \n",
       "24                  True               True                 True        True  \n",
       "25                  True               True                 True        True  \n",
       "26                  True               True                 True        True  \n",
       "27                  True               True                 True        True  \n",
       "28                  True               True                 True        True  \n",
       "29                  True               True                 True        True  "
      ]
     },
     "execution_count": 201,
     "metadata": {},
     "output_type": "execute_result"
    }
   ],
   "source": [
    "bright_data_df.iloc[20:30]"
   ]
  },
  {
   "cell_type": "code",
   "execution_count": 212,
   "id": "77dac83b-b8ef-4e91-8e43-91f7e31c41a8",
   "metadata": {},
   "outputs": [],
   "source": [
    "bright_data_12col_df = copy.deepcopy(bright_data_df)"
   ]
  },
  {
   "cell_type": "code",
   "execution_count": null,
   "id": "41d23895-29b0-452a-8ce8-3cce61dbc1ee",
   "metadata": {},
   "outputs": [],
   "source": [
    "os.chdir(output_path_s)\n",
    "print(os.getcwd())\n",
    "bright_data_df.to_csv(\"domains_bright_data_11col.csv\")"
   ]
  },
  {
   "cell_type": "markdown",
   "id": "1d5089a4-2f48-4ebd-a8e1-d739f8fcbf3b",
   "metadata": {},
   "source": [
    "# 7. Parser list for trackers"
   ]
  },
  {
   "cell_type": "markdown",
   "id": "d599b4e7-796f-44e1-b714-952e91cbee32",
   "metadata": {},
   "source": [
    "## 7.1. Read TXT: easyprivacy.txt"
   ]
  },
  {
   "cell_type": "code",
   "execution_count": 213,
   "id": "7a024150-3af1-4953-b7f2-213a017ce08f",
   "metadata": {},
   "outputs": [
    {
     "name": "stdout",
     "output_type": "stream",
     "text": [
      "/Users/immanuel/Documents/NEU/05_Spring_2022/CS7675_ResAppr/tasks/MyLab/task17_target_domain/input\n"
     ]
    }
   ],
   "source": [
    "os.chdir(input_path_s)\n",
    "print(os.getcwd())"
   ]
  },
  {
   "cell_type": "code",
   "execution_count": 214,
   "id": "339a6cf9-3ae5-45c0-8daa-fb7812bb3d35",
   "metadata": {},
   "outputs": [],
   "source": [
    "easyprivacy_df = pd.read_csv(\"easyprivacy.txt\", on_bad_lines=\"skip\")"
   ]
  },
  {
   "cell_type": "code",
   "execution_count": 215,
   "id": "dfcd61ab-a135-4bee-a22f-b856d5e6924a",
   "metadata": {},
   "outputs": [],
   "source": [
    "easyprivacy_l = easyprivacy_df[\"[Adblock Plus 1.1]\"].values.tolist()"
   ]
  },
  {
   "cell_type": "code",
   "execution_count": 222,
   "id": "52443069-4db8-4e92-9f5d-3ed2514b3f20",
   "metadata": {},
   "outputs": [],
   "source": [
    "parser_l = [parser for parser in easyprivacy_l if parser[0] != \"!\"]"
   ]
  },
  {
   "cell_type": "markdown",
   "id": "5a4de90e-fdab-490a-bddc-3ee960dcbad5",
   "metadata": {},
   "source": [
    "## 7.2. Parse"
   ]
  },
  {
   "cell_type": "code",
   "execution_count": 232,
   "id": "0f6bbe34-cdf7-4397-bfbc-3a7287a9b30b",
   "metadata": {},
   "outputs": [
    {
     "name": "stdout",
     "output_type": "stream",
     "text": [
      "0:29:00.977789\n"
     ]
    }
   ],
   "source": [
    "start_time = time.time()\n",
    "is_target_domain_tracker_l = []\n",
    "\n",
    "for tld_plus_one in target_domain_tld_plus_one_l:\n",
    "    is_tracker = False\n",
    "    if tld_plus_one is not None:        \n",
    "        for parser in parser_l:\n",
    "            if tld_plus_one in parser:\n",
    "                is_tracker = True\n",
    "    is_target_domain_tracker_l.append(is_tracker)\n",
    "\n",
    "elapsed_time = time.time() - start_time\n",
    "print(str(timedelta(seconds=elapsed_time)))"
   ]
  },
  {
   "cell_type": "code",
   "execution_count": 365,
   "id": "29bae32c-12e0-4e6f-84be-859f7bc56a36",
   "metadata": {},
   "outputs": [
    {
     "name": "stdout",
     "output_type": "stream",
     "text": [
      "True\n",
      "[False, False, False, True, False, True, False, True, True, False]\n",
      "67.959% of target domains are trackers.\n"
     ]
    }
   ],
   "source": [
    "print(len(target_domain_tld_plus_one_l) == len(is_target_domain_tracker_l))\n",
    "print(is_target_domain_tracker_l[20:30])\n",
    "print(f\"{round(np.count_nonzero(np.array(is_target_domain_tracker_l)) / len(is_target_domain_tracker_l) * 100, 5)}% of target domains are trackers.\")"
   ]
  },
  {
   "cell_type": "markdown",
   "id": "e11a9f01-c23e-455e-a6f3-996c61976de8",
   "metadata": {},
   "source": [
    "## 7.3. Add a column"
   ]
  },
  {
   "cell_type": "code",
   "execution_count": 240,
   "id": "ff3b802b-4205-40a4-8874-d467224f3365",
   "metadata": {},
   "outputs": [],
   "source": [
    "bright_data_df[\"is_target_domain_tracker\"] = is_target_domain_tracker_l"
   ]
  },
  {
   "cell_type": "code",
   "execution_count": 241,
   "id": "f49097b9-a02f-43a7-9e33-871ada5e8f71",
   "metadata": {},
   "outputs": [
    {
     "data": {
      "text/plain": [
       "(1075319, 13)"
      ]
     },
     "execution_count": 241,
     "metadata": {},
     "output_type": "execute_result"
    }
   ],
   "source": [
    "bright_data_df.shape"
   ]
  },
  {
   "cell_type": "code",
   "execution_count": 244,
   "id": "50749533-bd48-404e-9f3d-d9e78f2a3aa7",
   "metadata": {},
   "outputs": [
    {
     "data": {
      "text/html": [
       "<div>\n",
       "<style scoped>\n",
       "    .dataframe tbody tr th:only-of-type {\n",
       "        vertical-align: middle;\n",
       "    }\n",
       "\n",
       "    .dataframe tbody tr th {\n",
       "        vertical-align: top;\n",
       "    }\n",
       "\n",
       "    .dataframe thead th {\n",
       "        text-align: right;\n",
       "    }\n",
       "</style>\n",
       "<table border=\"1\" class=\"dataframe\">\n",
       "  <thead>\n",
       "    <tr style=\"text-align: right;\">\n",
       "      <th></th>\n",
       "      <th>country</th>\n",
       "      <th>asn</th>\n",
       "      <th>initial_domain_filename</th>\n",
       "      <th>target_domain</th>\n",
       "      <th>initial_domain_tld_plus_one</th>\n",
       "      <th>target_domain_tld_plus_one</th>\n",
       "      <th>tld_plus_one_first_party</th>\n",
       "      <th>as_name_first_party</th>\n",
       "      <th>as_number_first_party</th>\n",
       "      <th>org_id_first_party</th>\n",
       "      <th>org_name_first_party</th>\n",
       "      <th>first_party</th>\n",
       "      <th>is_target_domain_tracker</th>\n",
       "    </tr>\n",
       "  </thead>\n",
       "  <tbody>\n",
       "    <tr>\n",
       "      <th>20</th>\n",
       "      <td>hr</td>\n",
       "      <td>google</td>\n",
       "      <td>20220804-HR-google-httpswww.google.hr-DNS_Requ...</td>\n",
       "      <td>www.google.hr</td>\n",
       "      <td>None</td>\n",
       "      <td>None</td>\n",
       "      <td>None</td>\n",
       "      <td>None</td>\n",
       "      <td>None</td>\n",
       "      <td>None</td>\n",
       "      <td>None</td>\n",
       "      <td>None</td>\n",
       "      <td>False</td>\n",
       "    </tr>\n",
       "    <tr>\n",
       "      <th>21</th>\n",
       "      <td>hr</td>\n",
       "      <td>google</td>\n",
       "      <td>20220804-HR-google-httpswww.google.hr-DNS_Requ...</td>\n",
       "      <td>apis.google.com</td>\n",
       "      <td>None</td>\n",
       "      <td>None</td>\n",
       "      <td>None</td>\n",
       "      <td>None</td>\n",
       "      <td>None</td>\n",
       "      <td>None</td>\n",
       "      <td>None</td>\n",
       "      <td>None</td>\n",
       "      <td>False</td>\n",
       "    </tr>\n",
       "    <tr>\n",
       "      <th>22</th>\n",
       "      <td>hr</td>\n",
       "      <td>google</td>\n",
       "      <td>20220804-HR-google-httpswww.google.hr-DNS_Requ...</td>\n",
       "      <td>ogs.google.hr</td>\n",
       "      <td>None</td>\n",
       "      <td>None</td>\n",
       "      <td>None</td>\n",
       "      <td>None</td>\n",
       "      <td>None</td>\n",
       "      <td>None</td>\n",
       "      <td>None</td>\n",
       "      <td>None</td>\n",
       "      <td>False</td>\n",
       "    </tr>\n",
       "    <tr>\n",
       "      <th>23</th>\n",
       "      <td>hr</td>\n",
       "      <td>61094</td>\n",
       "      <td>20220804-HR-61094-httpswww.njuskalo.hr-DNS_Req...</td>\n",
       "      <td>ls.hit.gemius.pl</td>\n",
       "      <td>njuskalo.hr</td>\n",
       "      <td>gemius.pl</td>\n",
       "      <td>None</td>\n",
       "      <td>True</td>\n",
       "      <td>True</td>\n",
       "      <td>True</td>\n",
       "      <td>True</td>\n",
       "      <td>True</td>\n",
       "      <td>True</td>\n",
       "    </tr>\n",
       "    <tr>\n",
       "      <th>24</th>\n",
       "      <td>hr</td>\n",
       "      <td>61094</td>\n",
       "      <td>20220804-HR-61094-httpswww.24sata.hr-DNS_Reque...</td>\n",
       "      <td>aax-eu.amazon-adsystem.com</td>\n",
       "      <td>24sata.hr</td>\n",
       "      <td>adsystem.com</td>\n",
       "      <td>None</td>\n",
       "      <td>True</td>\n",
       "      <td>True</td>\n",
       "      <td>True</td>\n",
       "      <td>True</td>\n",
       "      <td>True</td>\n",
       "      <td>False</td>\n",
       "    </tr>\n",
       "    <tr>\n",
       "      <th>25</th>\n",
       "      <td>hr</td>\n",
       "      <td>61094</td>\n",
       "      <td>20220804-HR-61094-httpswww.24sata.hr-DNS_Reque...</td>\n",
       "      <td>buy.tinypass.com</td>\n",
       "      <td>24sata.hr</td>\n",
       "      <td>tinypass.com</td>\n",
       "      <td>None</td>\n",
       "      <td>True</td>\n",
       "      <td>True</td>\n",
       "      <td>True</td>\n",
       "      <td>True</td>\n",
       "      <td>True</td>\n",
       "      <td>True</td>\n",
       "    </tr>\n",
       "    <tr>\n",
       "      <th>26</th>\n",
       "      <td>hr</td>\n",
       "      <td>61094</td>\n",
       "      <td>20220804-HR-61094-httpswww.roblox.com-DNS_Requ...</td>\n",
       "      <td>static.rbxcdn.com</td>\n",
       "      <td>roblox.com</td>\n",
       "      <td>rbxcdn.com</td>\n",
       "      <td>None</td>\n",
       "      <td>True</td>\n",
       "      <td>True</td>\n",
       "      <td>True</td>\n",
       "      <td>True</td>\n",
       "      <td>True</td>\n",
       "      <td>False</td>\n",
       "    </tr>\n",
       "    <tr>\n",
       "      <th>27</th>\n",
       "      <td>hr</td>\n",
       "      <td>61094</td>\n",
       "      <td>20220804-HR-61094-httpswww.gloria.hr-DNS_Reque...</td>\n",
       "      <td>cdn.ampproject.org</td>\n",
       "      <td>gloria.hr</td>\n",
       "      <td>ampproject.org</td>\n",
       "      <td>None</td>\n",
       "      <td>True</td>\n",
       "      <td>True</td>\n",
       "      <td>True</td>\n",
       "      <td>True</td>\n",
       "      <td>True</td>\n",
       "      <td>True</td>\n",
       "    </tr>\n",
       "    <tr>\n",
       "      <th>28</th>\n",
       "      <td>hr</td>\n",
       "      <td>61094</td>\n",
       "      <td>20220804-HR-61094-httpswww.24sata.hr-DNS_Reque...</td>\n",
       "      <td>ads.yahoo.com</td>\n",
       "      <td>24sata.hr</td>\n",
       "      <td>yahoo.com</td>\n",
       "      <td>None</td>\n",
       "      <td>True</td>\n",
       "      <td>True</td>\n",
       "      <td>True</td>\n",
       "      <td>True</td>\n",
       "      <td>True</td>\n",
       "      <td>True</td>\n",
       "    </tr>\n",
       "    <tr>\n",
       "      <th>29</th>\n",
       "      <td>hr</td>\n",
       "      <td>61094</td>\n",
       "      <td>20220804-HR-61094-httpswww.srce.hr-DNS_Request...</td>\n",
       "      <td>www.srce.unizg.hr</td>\n",
       "      <td>srce.hr</td>\n",
       "      <td>unizg.hr</td>\n",
       "      <td>None</td>\n",
       "      <td>True</td>\n",
       "      <td>True</td>\n",
       "      <td>True</td>\n",
       "      <td>True</td>\n",
       "      <td>True</td>\n",
       "      <td>False</td>\n",
       "    </tr>\n",
       "  </tbody>\n",
       "</table>\n",
       "</div>"
      ],
      "text/plain": [
       "   country     asn                            initial_domain_filename  \\\n",
       "20      hr  google  20220804-HR-google-httpswww.google.hr-DNS_Requ...   \n",
       "21      hr  google  20220804-HR-google-httpswww.google.hr-DNS_Requ...   \n",
       "22      hr  google  20220804-HR-google-httpswww.google.hr-DNS_Requ...   \n",
       "23      hr   61094  20220804-HR-61094-httpswww.njuskalo.hr-DNS_Req...   \n",
       "24      hr   61094  20220804-HR-61094-httpswww.24sata.hr-DNS_Reque...   \n",
       "25      hr   61094  20220804-HR-61094-httpswww.24sata.hr-DNS_Reque...   \n",
       "26      hr   61094  20220804-HR-61094-httpswww.roblox.com-DNS_Requ...   \n",
       "27      hr   61094  20220804-HR-61094-httpswww.gloria.hr-DNS_Reque...   \n",
       "28      hr   61094  20220804-HR-61094-httpswww.24sata.hr-DNS_Reque...   \n",
       "29      hr   61094  20220804-HR-61094-httpswww.srce.hr-DNS_Request...   \n",
       "\n",
       "                 target_domain initial_domain_tld_plus_one  \\\n",
       "20               www.google.hr                        None   \n",
       "21             apis.google.com                        None   \n",
       "22               ogs.google.hr                        None   \n",
       "23            ls.hit.gemius.pl                 njuskalo.hr   \n",
       "24  aax-eu.amazon-adsystem.com                   24sata.hr   \n",
       "25            buy.tinypass.com                   24sata.hr   \n",
       "26           static.rbxcdn.com                  roblox.com   \n",
       "27          cdn.ampproject.org                   gloria.hr   \n",
       "28               ads.yahoo.com                   24sata.hr   \n",
       "29           www.srce.unizg.hr                     srce.hr   \n",
       "\n",
       "   target_domain_tld_plus_one tld_plus_one_first_party as_name_first_party  \\\n",
       "20                       None                     None                None   \n",
       "21                       None                     None                None   \n",
       "22                       None                     None                None   \n",
       "23                  gemius.pl                     None                True   \n",
       "24               adsystem.com                     None                True   \n",
       "25               tinypass.com                     None                True   \n",
       "26                 rbxcdn.com                     None                True   \n",
       "27             ampproject.org                     None                True   \n",
       "28                  yahoo.com                     None                True   \n",
       "29                   unizg.hr                     None                True   \n",
       "\n",
       "   as_number_first_party org_id_first_party org_name_first_party first_party  \\\n",
       "20                  None               None                 None        None   \n",
       "21                  None               None                 None        None   \n",
       "22                  None               None                 None        None   \n",
       "23                  True               True                 True        True   \n",
       "24                  True               True                 True        True   \n",
       "25                  True               True                 True        True   \n",
       "26                  True               True                 True        True   \n",
       "27                  True               True                 True        True   \n",
       "28                  True               True                 True        True   \n",
       "29                  True               True                 True        True   \n",
       "\n",
       "    is_target_domain_tracker  \n",
       "20                     False  \n",
       "21                     False  \n",
       "22                     False  \n",
       "23                      True  \n",
       "24                     False  \n",
       "25                      True  \n",
       "26                     False  \n",
       "27                      True  \n",
       "28                      True  \n",
       "29                     False  "
      ]
     },
     "execution_count": 244,
     "metadata": {},
     "output_type": "execute_result"
    }
   ],
   "source": [
    "bright_data_df.iloc[20:30]"
   ]
  },
  {
   "cell_type": "code",
   "execution_count": 242,
   "id": "f56ecc94-984a-45d0-8031-a4b7e6ec088e",
   "metadata": {},
   "outputs": [],
   "source": [
    "bright_data_13col_df = copy.deepcopy(bright_data_df)"
   ]
  },
  {
   "cell_type": "code",
   "execution_count": 247,
   "id": "6c387199-09df-492a-97ff-734635496154",
   "metadata": {},
   "outputs": [
    {
     "name": "stdout",
     "output_type": "stream",
     "text": [
      "/Users/immanuel/Documents/NEU/05_Spring_2022/CS7675_ResAppr/tasks/MyLab/task17_target_domain/output\n"
     ]
    }
   ],
   "source": [
    "os.chdir(output_path_s)\n",
    "print(os.getcwd())\n",
    "bright_data_df.to_csv(\"domains_bright_data_12col.csv\")"
   ]
  },
  {
   "cell_type": "markdown",
   "id": "12fe66ff-545c-4bb5-8c51-bdf39bfb1f53",
   "metadata": {},
   "source": [
    "# 8. Functions for Google"
   ]
  },
  {
   "cell_type": "code",
   "execution_count": 250,
   "id": "b9754edb-0187-4529-881a-9a2a74c1be66",
   "metadata": {},
   "outputs": [],
   "source": [
    "def whois(ip_l):\n",
    "    as_name_l = []\n",
    "    as_number_l = []\n",
    "    \n",
    "    for ip in ip_l:\n",
    "        cmd = f\"whois -h whois.cymru.com {ip}\"\n",
    "        try:\n",
    "            cymru_l = os.popen(cmd).read().split(\"\\n\")[1].split(\"|\")\n",
    "\n",
    "            for index, item in enumerate(cymru_l):\n",
    "                if index == 0:\n",
    "                    as_number_l.append(item.strip())\n",
    "                if index == 2:\n",
    "                    as_name_l.append(item.strip())\n",
    "        except:\n",
    "            print(f\"Run whois again for this ip: {ip}\")\n",
    "                \n",
    "    return as_name_l, as_number_l "
   ]
  },
  {
   "cell_type": "code",
   "execution_count": 252,
   "id": "6fd878b3-e5c0-4015-a71d-83e6f1f3fd6d",
   "metadata": {},
   "outputs": [],
   "source": [
    "def get_descriptive_statistics_about_as_name_and_as_number(as_name_l, as_number_l):\n",
    "    print(f\"The length of AS Name is {len(as_name_l)}\\n\")\n",
    "        \n",
    "    print(f\"The length of AS Number is {len(as_number_l)}\\n\")\n",
    "    \n",
    "    if len(as_name_l) == len(as_number_l):\n",
    "        print(\"AS Name and AS Number have the same length.\\n\")\n",
    "    elif len(as_name_l) > len(as_number_l):\n",
    "        print(\"AS Name has a longer length than AS Number.\\n\")\n",
    "    else:\n",
    "        print(\"AS Number has a longer length than AS Name.\\n\")\n",
    "   \n",
    "    if len(as_name_l) == len(set(as_name_l)):\n",
    "        print(\"No duplicates in AS Name.\\n\")\n",
    "    else:\n",
    "        print(f\"Duplicates in AS Name. set(as_name_l) = {set(as_name_l)}\\n\")\n",
    "\n",
    "    if len(as_number_l) == len(set(as_number_l)):\n",
    "        print(\"No duplicates in AS Number.\\n\")\n",
    "    else:\n",
    "        print(f\"Duplicates in AS Number. set(as_number_l) = {set(as_number_l)}\\n\")"
   ]
  },
  {
   "cell_type": "markdown",
   "id": "cc50633e-4e44-40f9-91be-7086e3336d08",
   "metadata": {},
   "source": [
    "# 9. Google.com"
   ]
  },
  {
   "cell_type": "code",
   "execution_count": 248,
   "id": "f271f663-7f4a-43f2-ae14-7d450a3828ea",
   "metadata": {},
   "outputs": [
    {
     "name": "stdout",
     "output_type": "stream",
     "text": [
      "/Users/immanuel/Documents/NEU/05_Spring_2022/CS7675_ResAppr/tasks/MyLab/task17_target_domain/input\n"
     ]
    }
   ],
   "source": [
    "os.chdir(input_path_s)\n",
    "print(os.getcwd())"
   ]
  },
  {
   "cell_type": "markdown",
   "id": "a195d309-0cba-401a-994b-f66f77d59460",
   "metadata": {},
   "source": [
    "## 9.1. dig: hostname to ip"
   ]
  },
  {
   "cell_type": "code",
   "execution_count": 258,
   "id": "1bc38304-8f1f-4672-a7b1-dbd03464557d",
   "metadata": {},
   "outputs": [
    {
     "name": "stdout",
     "output_type": "stream",
     "text": [
      "['142.250.188.238']\n"
     ]
    }
   ],
   "source": [
    "google_ip_l = []\n",
    "\n",
    "hostname_s = \"google.com\"\n",
    "\n",
    "cmd = \"dig +short \" + hostname_s\n",
    "ip_ll = os.popen(cmd).read().split(\"\\n\")\n",
    "\n",
    "for index, ip in enumerate(ip_ll):\n",
    "    if ip != \"\":\n",
    "        google_ip_l.append(ip)\n",
    "    \n",
    "print(google_ip_l)"
   ]
  },
  {
   "cell_type": "markdown",
   "id": "91264158-62b3-4f2a-9b2e-cd53e0a2cdea",
   "metadata": {},
   "source": [
    "## 9.2. whois: ip to AS Number and AS Name"
   ]
  },
  {
   "cell_type": "code",
   "execution_count": 251,
   "id": "579a6a1d-e87f-4123-a67d-8bbd0014ace5",
   "metadata": {},
   "outputs": [],
   "source": [
    "google_as_name_l, google_as_number_l = whois(google_ip_l)"
   ]
  },
  {
   "cell_type": "code",
   "execution_count": 253,
   "id": "8bc7d646-4c0d-449e-93ec-a7119233e34d",
   "metadata": {},
   "outputs": [
    {
     "name": "stdout",
     "output_type": "stream",
     "text": [
      "The length of AS Name is 1\n",
      "\n",
      "The length of AS Number is 1\n",
      "\n",
      "AS Name and AS Number have the same length.\n",
      "\n",
      "No duplicates in AS Name.\n",
      "\n",
      "No duplicates in AS Number.\n",
      "\n"
     ]
    }
   ],
   "source": [
    "get_descriptive_statistics_about_as_name_and_as_number(google_as_name_l, google_as_number_l)"
   ]
  },
  {
   "cell_type": "code",
   "execution_count": 259,
   "id": "dc35505c-46e0-4296-9c98-2675829218af",
   "metadata": {},
   "outputs": [],
   "source": [
    "google_as_name_set, google_as_number_set = set(google_as_name_l), set(google_as_number_l)"
   ]
  },
  {
   "cell_type": "markdown",
   "id": "b59b93a2-9049-4a96-8082-79a1a2da128e",
   "metadata": {},
   "source": [
    "## 9.3. AS Number to AS2Org_OrgID"
   ]
  },
  {
   "cell_type": "code",
   "execution_count": 265,
   "id": "0c1fb870-4459-4add-9ebd-d7d9faad51ea",
   "metadata": {},
   "outputs": [],
   "source": [
    "# asn_orgid_d\n",
    "# orgid_orgname_d"
   ]
  },
  {
   "cell_type": "code",
   "execution_count": 285,
   "id": "2bef1251-446d-4874-bda1-e4ca65b01c49",
   "metadata": {},
   "outputs": [
    {
     "name": "stdout",
     "output_type": "stream",
     "text": [
      "['GOGL-ARIN']\n"
     ]
    }
   ],
   "source": [
    "google_orgname_l = []\n",
    "\n",
    "for as_numbrer in google_as_number_l:\n",
    "    google_orgname_l.append(asn_orgid_d[int(as_numbrer)])\n",
    "\n",
    "print(google_orgname_l)"
   ]
  },
  {
   "cell_type": "code",
   "execution_count": 287,
   "id": "87460074-3e52-4a0a-8117-107fbae628d5",
   "metadata": {},
   "outputs": [],
   "source": [
    "google_orgname_set = set(google_orgname_l)"
   ]
  },
  {
   "cell_type": "markdown",
   "id": "3e3cad87-73db-4e34-b01f-59d4ea673a5a",
   "metadata": {},
   "source": [
    "## 9.4. Summary"
   ]
  },
  {
   "cell_type": "code",
   "execution_count": 288,
   "id": "24ee015f-8f9b-47de-88a5-fd41feb3fa00",
   "metadata": {},
   "outputs": [
    {
     "name": "stdout",
     "output_type": "stream",
     "text": [
      "['142.250.188.238']\n",
      "{'GOOGLE, US'}\n",
      "{'15169'}\n",
      "{'GOGL-ARIN'}\n"
     ]
    }
   ],
   "source": [
    "print(google_ip_l)\n",
    "print(google_as_name_set)\n",
    "print(google_as_number_set)\n",
    "print(google_orgname_set)"
   ]
  },
  {
   "cell_type": "markdown",
   "id": "f88b461d-0ec9-43ae-b633-606d9598a028",
   "metadata": {},
   "source": [
    "## 9.5. Convert a set into a string, since a set has only 1 elements"
   ]
  },
  {
   "cell_type": "code",
   "execution_count": 293,
   "id": "6b1dff48-e531-4339-8eec-b3c1e25ae05e",
   "metadata": {},
   "outputs": [],
   "source": [
    "for google_as_name in google_as_name_set:\n",
    "    google_as_name_s = google_as_name"
   ]
  },
  {
   "cell_type": "code",
   "execution_count": 294,
   "id": "210b5f28-7df9-40e9-ba85-86ea75bc152e",
   "metadata": {},
   "outputs": [],
   "source": [
    "for google_as_number in google_as_number_set:\n",
    "    google_as_number_s = google_as_number"
   ]
  },
  {
   "cell_type": "code",
   "execution_count": 295,
   "id": "fbf57405-86f5-4e17-8b46-8c8ed68d565d",
   "metadata": {},
   "outputs": [],
   "source": [
    "for google_orgname in google_orgname_set:\n",
    "    google_orgname_s = google_orgname"
   ]
  },
  {
   "cell_type": "code",
   "execution_count": 296,
   "id": "1ddaacfd-9ebd-4e6c-9a88-dc8ed780fca2",
   "metadata": {},
   "outputs": [
    {
     "name": "stdout",
     "output_type": "stream",
     "text": [
      "GOOGLE, US\n",
      "15169\n",
      "GOGL-ARIN\n"
     ]
    }
   ],
   "source": [
    "print(google_as_name_s)\n",
    "print(google_as_number_s)\n",
    "print(google_orgname_s)"
   ]
  },
  {
   "cell_type": "markdown",
   "id": "05086e25-0be6-4073-9ed1-633a01053aba",
   "metadata": {},
   "source": [
    "# 10. Google Match"
   ]
  },
  {
   "cell_type": "markdown",
   "id": "9588522c-605c-4e36-b6ed-0f27d92f47c6",
   "metadata": {},
   "source": [
    "## 10.1. Include asn == \"google\". The initial status."
   ]
  },
  {
   "cell_type": "code",
   "execution_count": 349,
   "id": "d3dea055-cf4a-4fc9-90da-642d4699ad1f",
   "metadata": {},
   "outputs": [
    {
     "name": "stdout",
     "output_type": "stream",
     "text": [
      "True\n"
     ]
    }
   ],
   "source": [
    "is_target_domain_google_l = len(target_domain_tld_plus_one_l) * [False]\n",
    "print(len(is_target_domain_google_l) == bright_data_df.shape[0])"
   ]
  },
  {
   "cell_type": "code",
   "execution_count": 350,
   "id": "8174d7dd-0927-4497-bab7-9f1301b0be10",
   "metadata": {},
   "outputs": [
    {
     "name": "stdout",
     "output_type": "stream",
     "text": [
      "True\n",
      "0.05924% of target domain is Google. This is what the initial dataset is given to me.\n"
     ]
    }
   ],
   "source": [
    "index_not_to_check_set = set()\n",
    "\n",
    "for i in range(len(is_target_domain_google_l)):\n",
    "    if bright_data_df[\"asn\"][i] == \"google\":\n",
    "        is_target_domain_google_l[i] = True\n",
    "        index_not_to_check_set.add(i)\n",
    "\n",
    "print(is_target_domain_google_l.count(True) == len(index_not_to_check_set))\n",
    "print(f\"{round(is_target_domain_google_l.count(True) / len(is_target_domain_google_l) * 100, 5)}% of target domain is Google. This is what the initial dataset is given to me.\")"
   ]
  },
  {
   "cell_type": "markdown",
   "id": "bd80b3c9-bffa-4b5c-a4cc-8063fa79b1d8",
   "metadata": {},
   "source": [
    "## 10.2. Method: AS (AS Name)"
   ]
  },
  {
   "cell_type": "code",
   "execution_count": 351,
   "id": "ffb79b9f-9fce-4f02-b854-e2f3e643988e",
   "metadata": {},
   "outputs": [
    {
     "name": "stdout",
     "output_type": "stream",
     "text": [
      "True\n",
      "21.17139% of target domain is Google.\n"
     ]
    }
   ],
   "source": [
    "for hostname, as_name_l in target_domain_hostname_as_d.items():\n",
    "    if google_as_name_s in as_name_l:\n",
    "        for index, tld_plus_one in enumerate(target_domain_tld_plus_one_l):\n",
    "            if tld_plus_one == hostname and index not in index_not_to_check_set:\n",
    "                is_target_domain_google_l[index] = True\n",
    "                index_not_to_check_set.add(index)\n",
    "\n",
    "print(is_target_domain_google_l.count(True) == len(index_not_to_check_set))\n",
    "print(f\"{round(is_target_domain_google_l.count(True) / len(is_target_domain_google_l) * 100, 5)}% of target domain is Google.\")"
   ]
  },
  {
   "cell_type": "markdown",
   "id": "b66f7f8e-a7ef-4d0e-b2cb-f865bcce1ffc",
   "metadata": {},
   "source": [
    "## 10.3. Method: ASN (AS Number)"
   ]
  },
  {
   "cell_type": "code",
   "execution_count": 352,
   "id": "d3b8679e-bf7b-4639-901e-a910d5baf873",
   "metadata": {},
   "outputs": [
    {
     "name": "stdout",
     "output_type": "stream",
     "text": [
      "True\n",
      "21.17139% of target domain is Google.\n"
     ]
    }
   ],
   "source": [
    "for hostname, as_number_l in target_domain_hostname_asn_d.items():\n",
    "    if google_as_name_s in as_number_l:\n",
    "        for index, tld_plus_one in enumerate(target_domain_tld_plus_one_l):\n",
    "            if tld_plus_one == hostname and index not in index_not_to_check_set:\n",
    "                is_target_domain_google_l[index] = True\n",
    "                index_not_to_check_set.add(index)\n",
    "\n",
    "print(is_target_domain_google_l.count(True) == len(index_not_to_check_set))\n",
    "print(f\"{round(is_target_domain_google_l.count(True) / len(is_target_domain_google_l) * 100, 5)}% of target domain is Google.\")"
   ]
  },
  {
   "cell_type": "markdown",
   "id": "e6248391-8482-400a-9dc2-eabd9cf1f63f",
   "metadata": {},
   "source": [
    "## 10.4."
   ]
  },
  {
   "cell_type": "markdown",
   "id": "3e091388-0866-4082-9153-2f665caa89e1",
   "metadata": {},
   "source": [
    "## 10.5. Method: Org Name"
   ]
  },
  {
   "cell_type": "code",
   "execution_count": 353,
   "id": "3c667f8c-437e-415b-bfd5-af94237088e0",
   "metadata": {},
   "outputs": [
    {
     "name": "stdout",
     "output_type": "stream",
     "text": [
      "True\n",
      "21.17139% of target domain is Google.\n"
     ]
    }
   ],
   "source": [
    "for hostname, orgname_l in target_domain_hostname_orgname_d.items():\n",
    "    if google_as_name_s in orgname_l:\n",
    "        for index, tld_plus_one in enumerate(target_domain_tld_plus_one_l):\n",
    "            if tld_plus_one == hostname and index not in index_not_to_check_set:\n",
    "                is_target_domain_google_l[index] = True\n",
    "                index_not_to_check_set.add(index)\n",
    "\n",
    "print(is_target_domain_google_l.count(True) == len(index_not_to_check_set))\n",
    "print(f\"{round(is_target_domain_google_l.count(True) / len(is_target_domain_google_l) * 100, 5)}% of target domain is Google.\")"
   ]
  },
  {
   "cell_type": "code",
   "execution_count": 354,
   "id": "ae5d9684-85ab-43ff-89b5-e3c7aa20605f",
   "metadata": {},
   "outputs": [
    {
     "data": {
      "text/plain": [
       "[True, True, True, False, False, False, False, True, False, False]"
      ]
     },
     "execution_count": 354,
     "metadata": {},
     "output_type": "execute_result"
    }
   ],
   "source": [
    "is_target_domain_google_l[20:30]"
   ]
  },
  {
   "cell_type": "markdown",
   "id": "a4146df6-2263-4623-9e21-12faa1a53e6d",
   "metadata": {},
   "source": [
    "## 10.6. Add a column"
   ]
  },
  {
   "cell_type": "code",
   "execution_count": 355,
   "id": "c25b6992-6a9b-4f76-8e1b-dc261bd0da21",
   "metadata": {},
   "outputs": [],
   "source": [
    "bright_data_df[\"is_target_domain_google\"] = is_target_domain_google_l"
   ]
  },
  {
   "cell_type": "code",
   "execution_count": 356,
   "id": "64249509-6cf1-43ff-bf59-5d0f66495fd4",
   "metadata": {},
   "outputs": [
    {
     "data": {
      "text/plain": [
       "(1075319, 14)"
      ]
     },
     "execution_count": 356,
     "metadata": {},
     "output_type": "execute_result"
    }
   ],
   "source": [
    "bright_data_df.shape"
   ]
  },
  {
   "cell_type": "code",
   "execution_count": 359,
   "id": "b285a9d9-0c7b-4884-91cb-85da8791524d",
   "metadata": {},
   "outputs": [
    {
     "data": {
      "text/html": [
       "<div>\n",
       "<style scoped>\n",
       "    .dataframe tbody tr th:only-of-type {\n",
       "        vertical-align: middle;\n",
       "    }\n",
       "\n",
       "    .dataframe tbody tr th {\n",
       "        vertical-align: top;\n",
       "    }\n",
       "\n",
       "    .dataframe thead th {\n",
       "        text-align: right;\n",
       "    }\n",
       "</style>\n",
       "<table border=\"1\" class=\"dataframe\">\n",
       "  <thead>\n",
       "    <tr style=\"text-align: right;\">\n",
       "      <th></th>\n",
       "      <th>country</th>\n",
       "      <th>asn</th>\n",
       "      <th>initial_domain_filename</th>\n",
       "      <th>target_domain</th>\n",
       "      <th>initial_domain_tld_plus_one</th>\n",
       "      <th>target_domain_tld_plus_one</th>\n",
       "      <th>tld_plus_one_first_party</th>\n",
       "      <th>as_name_first_party</th>\n",
       "      <th>as_number_first_party</th>\n",
       "      <th>org_id_first_party</th>\n",
       "      <th>org_name_first_party</th>\n",
       "      <th>first_party</th>\n",
       "      <th>is_target_domain_tracker</th>\n",
       "      <th>is_target_domain_google</th>\n",
       "    </tr>\n",
       "  </thead>\n",
       "  <tbody>\n",
       "    <tr>\n",
       "      <th>20</th>\n",
       "      <td>hr</td>\n",
       "      <td>google</td>\n",
       "      <td>20220804-HR-google-httpswww.google.hr-DNS_Requ...</td>\n",
       "      <td>www.google.hr</td>\n",
       "      <td>None</td>\n",
       "      <td>None</td>\n",
       "      <td>None</td>\n",
       "      <td>None</td>\n",
       "      <td>None</td>\n",
       "      <td>None</td>\n",
       "      <td>None</td>\n",
       "      <td>None</td>\n",
       "      <td>False</td>\n",
       "      <td>True</td>\n",
       "    </tr>\n",
       "    <tr>\n",
       "      <th>21</th>\n",
       "      <td>hr</td>\n",
       "      <td>google</td>\n",
       "      <td>20220804-HR-google-httpswww.google.hr-DNS_Requ...</td>\n",
       "      <td>apis.google.com</td>\n",
       "      <td>None</td>\n",
       "      <td>None</td>\n",
       "      <td>None</td>\n",
       "      <td>None</td>\n",
       "      <td>None</td>\n",
       "      <td>None</td>\n",
       "      <td>None</td>\n",
       "      <td>None</td>\n",
       "      <td>False</td>\n",
       "      <td>True</td>\n",
       "    </tr>\n",
       "    <tr>\n",
       "      <th>22</th>\n",
       "      <td>hr</td>\n",
       "      <td>google</td>\n",
       "      <td>20220804-HR-google-httpswww.google.hr-DNS_Requ...</td>\n",
       "      <td>ogs.google.hr</td>\n",
       "      <td>None</td>\n",
       "      <td>None</td>\n",
       "      <td>None</td>\n",
       "      <td>None</td>\n",
       "      <td>None</td>\n",
       "      <td>None</td>\n",
       "      <td>None</td>\n",
       "      <td>None</td>\n",
       "      <td>False</td>\n",
       "      <td>True</td>\n",
       "    </tr>\n",
       "    <tr>\n",
       "      <th>23</th>\n",
       "      <td>hr</td>\n",
       "      <td>61094</td>\n",
       "      <td>20220804-HR-61094-httpswww.njuskalo.hr-DNS_Req...</td>\n",
       "      <td>ls.hit.gemius.pl</td>\n",
       "      <td>njuskalo.hr</td>\n",
       "      <td>gemius.pl</td>\n",
       "      <td>None</td>\n",
       "      <td>True</td>\n",
       "      <td>True</td>\n",
       "      <td>True</td>\n",
       "      <td>True</td>\n",
       "      <td>True</td>\n",
       "      <td>True</td>\n",
       "      <td>False</td>\n",
       "    </tr>\n",
       "    <tr>\n",
       "      <th>24</th>\n",
       "      <td>hr</td>\n",
       "      <td>61094</td>\n",
       "      <td>20220804-HR-61094-httpswww.24sata.hr-DNS_Reque...</td>\n",
       "      <td>aax-eu.amazon-adsystem.com</td>\n",
       "      <td>24sata.hr</td>\n",
       "      <td>adsystem.com</td>\n",
       "      <td>None</td>\n",
       "      <td>True</td>\n",
       "      <td>True</td>\n",
       "      <td>True</td>\n",
       "      <td>True</td>\n",
       "      <td>True</td>\n",
       "      <td>False</td>\n",
       "      <td>False</td>\n",
       "    </tr>\n",
       "    <tr>\n",
       "      <th>25</th>\n",
       "      <td>hr</td>\n",
       "      <td>61094</td>\n",
       "      <td>20220804-HR-61094-httpswww.24sata.hr-DNS_Reque...</td>\n",
       "      <td>buy.tinypass.com</td>\n",
       "      <td>24sata.hr</td>\n",
       "      <td>tinypass.com</td>\n",
       "      <td>None</td>\n",
       "      <td>True</td>\n",
       "      <td>True</td>\n",
       "      <td>True</td>\n",
       "      <td>True</td>\n",
       "      <td>True</td>\n",
       "      <td>True</td>\n",
       "      <td>False</td>\n",
       "    </tr>\n",
       "    <tr>\n",
       "      <th>26</th>\n",
       "      <td>hr</td>\n",
       "      <td>61094</td>\n",
       "      <td>20220804-HR-61094-httpswww.roblox.com-DNS_Requ...</td>\n",
       "      <td>static.rbxcdn.com</td>\n",
       "      <td>roblox.com</td>\n",
       "      <td>rbxcdn.com</td>\n",
       "      <td>None</td>\n",
       "      <td>True</td>\n",
       "      <td>True</td>\n",
       "      <td>True</td>\n",
       "      <td>True</td>\n",
       "      <td>True</td>\n",
       "      <td>False</td>\n",
       "      <td>False</td>\n",
       "    </tr>\n",
       "    <tr>\n",
       "      <th>27</th>\n",
       "      <td>hr</td>\n",
       "      <td>61094</td>\n",
       "      <td>20220804-HR-61094-httpswww.gloria.hr-DNS_Reque...</td>\n",
       "      <td>cdn.ampproject.org</td>\n",
       "      <td>gloria.hr</td>\n",
       "      <td>ampproject.org</td>\n",
       "      <td>None</td>\n",
       "      <td>True</td>\n",
       "      <td>True</td>\n",
       "      <td>True</td>\n",
       "      <td>True</td>\n",
       "      <td>True</td>\n",
       "      <td>True</td>\n",
       "      <td>True</td>\n",
       "    </tr>\n",
       "    <tr>\n",
       "      <th>28</th>\n",
       "      <td>hr</td>\n",
       "      <td>61094</td>\n",
       "      <td>20220804-HR-61094-httpswww.24sata.hr-DNS_Reque...</td>\n",
       "      <td>ads.yahoo.com</td>\n",
       "      <td>24sata.hr</td>\n",
       "      <td>yahoo.com</td>\n",
       "      <td>None</td>\n",
       "      <td>True</td>\n",
       "      <td>True</td>\n",
       "      <td>True</td>\n",
       "      <td>True</td>\n",
       "      <td>True</td>\n",
       "      <td>True</td>\n",
       "      <td>False</td>\n",
       "    </tr>\n",
       "    <tr>\n",
       "      <th>29</th>\n",
       "      <td>hr</td>\n",
       "      <td>61094</td>\n",
       "      <td>20220804-HR-61094-httpswww.srce.hr-DNS_Request...</td>\n",
       "      <td>www.srce.unizg.hr</td>\n",
       "      <td>srce.hr</td>\n",
       "      <td>unizg.hr</td>\n",
       "      <td>None</td>\n",
       "      <td>True</td>\n",
       "      <td>True</td>\n",
       "      <td>True</td>\n",
       "      <td>True</td>\n",
       "      <td>True</td>\n",
       "      <td>False</td>\n",
       "      <td>False</td>\n",
       "    </tr>\n",
       "  </tbody>\n",
       "</table>\n",
       "</div>"
      ],
      "text/plain": [
       "   country     asn                            initial_domain_filename  \\\n",
       "20      hr  google  20220804-HR-google-httpswww.google.hr-DNS_Requ...   \n",
       "21      hr  google  20220804-HR-google-httpswww.google.hr-DNS_Requ...   \n",
       "22      hr  google  20220804-HR-google-httpswww.google.hr-DNS_Requ...   \n",
       "23      hr   61094  20220804-HR-61094-httpswww.njuskalo.hr-DNS_Req...   \n",
       "24      hr   61094  20220804-HR-61094-httpswww.24sata.hr-DNS_Reque...   \n",
       "25      hr   61094  20220804-HR-61094-httpswww.24sata.hr-DNS_Reque...   \n",
       "26      hr   61094  20220804-HR-61094-httpswww.roblox.com-DNS_Requ...   \n",
       "27      hr   61094  20220804-HR-61094-httpswww.gloria.hr-DNS_Reque...   \n",
       "28      hr   61094  20220804-HR-61094-httpswww.24sata.hr-DNS_Reque...   \n",
       "29      hr   61094  20220804-HR-61094-httpswww.srce.hr-DNS_Request...   \n",
       "\n",
       "                 target_domain initial_domain_tld_plus_one  \\\n",
       "20               www.google.hr                        None   \n",
       "21             apis.google.com                        None   \n",
       "22               ogs.google.hr                        None   \n",
       "23            ls.hit.gemius.pl                 njuskalo.hr   \n",
       "24  aax-eu.amazon-adsystem.com                   24sata.hr   \n",
       "25            buy.tinypass.com                   24sata.hr   \n",
       "26           static.rbxcdn.com                  roblox.com   \n",
       "27          cdn.ampproject.org                   gloria.hr   \n",
       "28               ads.yahoo.com                   24sata.hr   \n",
       "29           www.srce.unizg.hr                     srce.hr   \n",
       "\n",
       "   target_domain_tld_plus_one tld_plus_one_first_party as_name_first_party  \\\n",
       "20                       None                     None                None   \n",
       "21                       None                     None                None   \n",
       "22                       None                     None                None   \n",
       "23                  gemius.pl                     None                True   \n",
       "24               adsystem.com                     None                True   \n",
       "25               tinypass.com                     None                True   \n",
       "26                 rbxcdn.com                     None                True   \n",
       "27             ampproject.org                     None                True   \n",
       "28                  yahoo.com                     None                True   \n",
       "29                   unizg.hr                     None                True   \n",
       "\n",
       "   as_number_first_party org_id_first_party org_name_first_party first_party  \\\n",
       "20                  None               None                 None        None   \n",
       "21                  None               None                 None        None   \n",
       "22                  None               None                 None        None   \n",
       "23                  True               True                 True        True   \n",
       "24                  True               True                 True        True   \n",
       "25                  True               True                 True        True   \n",
       "26                  True               True                 True        True   \n",
       "27                  True               True                 True        True   \n",
       "28                  True               True                 True        True   \n",
       "29                  True               True                 True        True   \n",
       "\n",
       "    is_target_domain_tracker  is_target_domain_google  \n",
       "20                     False                     True  \n",
       "21                     False                     True  \n",
       "22                     False                     True  \n",
       "23                      True                    False  \n",
       "24                     False                    False  \n",
       "25                      True                    False  \n",
       "26                     False                    False  \n",
       "27                      True                     True  \n",
       "28                      True                    False  \n",
       "29                     False                    False  "
      ]
     },
     "execution_count": 359,
     "metadata": {},
     "output_type": "execute_result"
    }
   ],
   "source": [
    "bright_data_df.iloc[20:30]"
   ]
  },
  {
   "cell_type": "code",
   "execution_count": 360,
   "id": "98663395-7793-41c4-a0bf-a3b54853c6e9",
   "metadata": {},
   "outputs": [],
   "source": [
    "bright_data_14col_df = copy.deepcopy(bright_data_df)"
   ]
  },
  {
   "cell_type": "code",
   "execution_count": 361,
   "id": "4c8c3928-8623-44c2-8bc3-471cbcb912da",
   "metadata": {},
   "outputs": [
    {
     "name": "stdout",
     "output_type": "stream",
     "text": [
      "/Users/immanuel/Documents/NEU/05_Spring_2022/CS7675_ResAppr/tasks/MyLab/task17_target_domain/output\n"
     ]
    }
   ],
   "source": [
    "os.chdir(output_path_s)\n",
    "print(os.getcwd())\n",
    "bright_data_df.to_csv(\"domains_bright_data_14col.csv\")"
   ]
  },
  {
   "cell_type": "markdown",
   "id": "a1e3cc8c-4a52-4f11-ac4c-53f3abcd511a",
   "metadata": {},
   "source": [
    "# 11. Important Statistics"
   ]
  },
  {
   "cell_type": "code",
   "execution_count": 368,
   "id": "2ed703b5-bc83-4c3a-9fe6-32ed232a6b6c",
   "metadata": {},
   "outputs": [
    {
     "name": "stdout",
     "output_type": "stream",
     "text": [
      "98.06457% are the first party based on AS.\n",
      "98.06457% are the first party based on ASN.\n",
      "99.94076% are the first party based on Org ID.\n",
      "99.94076% are the first party based on Org Name.\n"
     ]
    }
   ],
   "source": [
    "print(f\"{round(as_name_first_party_l.count(True) / bright_data_df.shape[0] * 100, 5)}% are the first party based on AS.\")\n",
    "print(f\"{round(as_number_first_party_l.count(True) / bright_data_df.shape[0] * 100, 5)}% are the first party based on ASN.\")\n",
    "print(f\"{round(org_id_first_party_l.count(True) / bright_data_df.shape[0] * 100, 5)}% are the first party based on Org ID.\")\n",
    "print(f\"{round(org_name_first_party_l.count(True) / bright_data_df.shape[0] * 100, 5)}% are the first party based on Org Name.\")"
   ]
  },
  {
   "cell_type": "code",
   "execution_count": 364,
   "id": "d242bb88-ded2-4c13-80b2-9dab176b988e",
   "metadata": {},
   "outputs": [
    {
     "name": "stdout",
     "output_type": "stream",
     "text": [
      "67.959% of target domain are trackers.\n",
      "21.17139% of target domain are Google.\n"
     ]
    }
   ],
   "source": [
    "print(f\"{round(np.count_nonzero(np.array(is_target_domain_tracker_l)) / len(is_target_domain_tracker_l) * 100, 5)}% of target domain are trackers.\")\n",
    "print(f\"{round(is_target_domain_google_l.count(True) / len(is_target_domain_google_l) * 100, 5)}% of target domain are Google.\")"
   ]
  },
  {
   "cell_type": "code",
   "execution_count": null,
   "id": "6c85d979-1cff-46f3-80c6-8580ed0fc9cf",
   "metadata": {},
   "outputs": [],
   "source": []
  }
 ],
 "metadata": {
  "kernelspec": {
   "display_name": "Python 3 (ipykernel)",
   "language": "python",
   "name": "python3"
  },
  "language_info": {
   "codemirror_mode": {
    "name": "ipython",
    "version": 3
   },
   "file_extension": ".py",
   "mimetype": "text/x-python",
   "name": "python",
   "nbconvert_exporter": "python",
   "pygments_lexer": "ipython3",
   "version": "3.9.7"
  }
 },
 "nbformat": 4,
 "nbformat_minor": 5
}
