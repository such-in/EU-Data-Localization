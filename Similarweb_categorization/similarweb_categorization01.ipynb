{
 "cells": [
  {
   "cell_type": "markdown",
   "id": "bright-siemens",
   "metadata": {},
   "source": [
    "# 1. Import packages"
   ]
  },
  {
   "cell_type": "code",
   "execution_count": 1,
   "id": "romance-reflection",
   "metadata": {},
   "outputs": [],
   "source": [
    "import glob\n",
    "import os\n",
    "import pandas as pd\n",
    "import re"
   ]
  },
  {
   "cell_type": "markdown",
   "id": "unavailable-steam",
   "metadata": {},
   "source": [
    "# 2. EU countries"
   ]
  },
  {
   "cell_type": "markdown",
   "id": "7462ea0b-d8c7-4cfe-8a9e-f651fc6c2924",
   "metadata": {},
   "source": [
    "## 2.1. 20 out of 27 EU countries from Similarweb"
   ]
  },
  {
   "cell_type": "code",
   "execution_count": 2,
   "id": "amazing-soccer",
   "metadata": {},
   "outputs": [
    {
     "name": "stdout",
     "output_type": "stream",
     "text": [
      "27\n"
     ]
    }
   ],
   "source": [
    "eu_country_d = {'at': 'Austria'\n",
    "                ,'be': 'Belgium'\n",
    "                ,'bg': 'Bulgaria'\n",
    "                ,'hr': 'Croatia'\n",
    "                ,'cy': 'Cyprus'\n",
    "                ,'cz': 'Czech'\n",
    "                ,'dk': 'Denmark'\n",
    "                ,'ee': 'Estonia'\n",
    "                ,'fi': 'Finland'\n",
    "                ,'fr': 'France'\n",
    "                ,'de': 'Germany'\n",
    "                ,'gr': 'Greece'\n",
    "                ,'hu': 'Hungary'\n",
    "                ,'ie': 'Ireland'\n",
    "                ,'it': 'Italy'\n",
    "                ,'lv': 'Latvia'\n",
    "                ,'lt': 'Lithuania'\n",
    "                ,'lu': 'Luxembourg'\n",
    "                ,'mt': 'Malta'\n",
    "                ,'nl': 'Netherlands'\n",
    "                ,'pl': 'Poland'\n",
    "                ,'pt': 'Portugal'\n",
    "                ,'ro': 'Romania'\n",
    "                ,'sk': 'Slovakia'\n",
    "                ,'si': 'Slovenia'\n",
    "                ,'es': 'Spain'\n",
    "                ,'se': 'Sweden'\n",
    "#                ,'gb': ''\n",
    "#                ,'is': 'Iceland'\n",
    "#                ,'li': 'Liechtenstein'\n",
    "#                ,'no': 'Norway'\n",
    "#                ,'ch': 'Switzerland'\n",
    "               }\n",
    "print(len(eu_country_d))"
   ]
  },
  {
   "cell_type": "code",
   "execution_count": 3,
   "id": "respiratory-politics",
   "metadata": {},
   "outputs": [
    {
     "name": "stdout",
     "output_type": "stream",
     "text": [
      "## 2.1. Austria\t\tsimilarweb_at\n",
      "## 2.2. Belgium\t\tsimilarweb_be\n",
      "## 2.3. Bulgaria\t\tsimilarweb_bg\n",
      "## 2.4. Croatia\t\tsimilarweb_hr\n",
      "## 2.5. Cyprus\t\tsimilarweb_cy\n",
      "## 2.6. Czech\t\tsimilarweb_cz\n",
      "## 2.7. Denmark\t\tsimilarweb_dk\n",
      "## 2.8. Estonia\t\tsimilarweb_ee\n",
      "## 2.9. Finland\t\tsimilarweb_fi\n",
      "## 2.10. France\t\tsimilarweb_fr\n",
      "## 2.11. Germany\t\tsimilarweb_de\n",
      "## 2.12. Greece\t\tsimilarweb_gr\n",
      "## 2.13. Hungary\t\tsimilarweb_hu\n",
      "## 2.14. Ireland\t\tsimilarweb_ie\n",
      "## 2.15. Italy\t\tsimilarweb_it\n",
      "## 2.16. Latvia\t\tsimilarweb_lv\n",
      "## 2.17. Lithuania\t\tsimilarweb_lt\n",
      "## 2.18. Luxembourg\t\tsimilarweb_lu\n",
      "## 2.19. Malta\t\tsimilarweb_mt\n",
      "## 2.20. Netherlands\t\tsimilarweb_nl\n",
      "## 2.21. Poland\t\tsimilarweb_pl\n",
      "## 2.22. Portugal\t\tsimilarweb_pt\n",
      "## 2.23. Romania\t\tsimilarweb_ro\n",
      "## 2.24. Slovakia\t\tsimilarweb_sk\n",
      "## 2.25. Slovenia\t\tsimilarweb_si\n",
      "## 2.26. Spain\t\tsimilarweb_es\n",
      "## 2.27. Sweden\t\tsimilarweb_se\n"
     ]
    }
   ],
   "source": [
    "for index, key in enumerate(eu_country_d, start=1):\n",
    "    print(f\"## 2.{index}. {eu_country_d[key]}\\t\\tsimilarweb_{key}\")"
   ]
  },
  {
   "cell_type": "markdown",
   "id": "northern-sheep",
   "metadata": {},
   "source": [
    "## 2.2. Read subpaths"
   ]
  },
  {
   "cell_type": "code",
   "execution_count": 4,
   "id": "154c84b4-d30b-4aa4-8b04-77f52ca92ec0",
   "metadata": {},
   "outputs": [
    {
     "name": "stdout",
     "output_type": "stream",
     "text": [
      "/Users/immanuel/Documents/NEU/05_Spring_2022/CS7675_ResAppr/tasks/MyLab/task11_Similarweb_categorization\n"
     ]
    }
   ],
   "source": [
    "top_path_s = os.getcwd() \n",
    "print(top_path_s)"
   ]
  },
  {
   "cell_type": "code",
   "execution_count": 5,
   "id": "5ca61c6b-0c96-4220-82fc-89ac154a73a1",
   "metadata": {},
   "outputs": [],
   "source": [
    "for subpath in os.walk(top_path_s):\n",
    "    if subpath[0][-10:] == \"inputs/all\":\n",
    "        all_category_input_path_s = subpath[0]\n",
    "    elif subpath[0][-12:] == \"inputs/adult\":\n",
    "        adult_category_input_path_s = subpath[0]"
   ]
  },
  {
   "cell_type": "code",
   "execution_count": 6,
   "id": "ef670900-e471-4c15-ae7d-777e9b203060",
   "metadata": {},
   "outputs": [
    {
     "name": "stdout",
     "output_type": "stream",
     "text": [
      "/Users/immanuel/Documents/NEU/05_Spring_2022/CS7675_ResAppr/tasks/MyLab/task11_Similarweb_categorization/inputs/all\n",
      "/Users/immanuel/Documents/NEU/05_Spring_2022/CS7675_ResAppr/tasks/MyLab/task11_Similarweb_categorization/inputs/adult\n"
     ]
    }
   ],
   "source": [
    "print(all_category_input_path_s)\n",
    "print(adult_category_input_path_s)"
   ]
  },
  {
   "cell_type": "markdown",
   "id": "0b7753fa-d25c-4764-afc3-02e1b58d019b",
   "metadata": {},
   "source": [
    "## 2.3. Create output paths"
   ]
  },
  {
   "cell_type": "code",
   "execution_count": 7,
   "id": "2acf8bda-f0a5-4498-94f4-5f5e545c6a57",
   "metadata": {},
   "outputs": [],
   "source": [
    "def create_output_paths(path_to_check_s):\n",
    "    if os.path.exists(path_to_check_s):\n",
    "        print(f\"{path_to_check_s} already exists.\")\n",
    "    else:\n",
    "        os.makedirs(path_to_check_s)\n",
    "        print(f\"{path_to_check_s} is created.\")"
   ]
  },
  {
   "cell_type": "code",
   "execution_count": 8,
   "id": "30c106b2-9ceb-4bd1-9efc-8cfbca1baa43",
   "metadata": {},
   "outputs": [
    {
     "name": "stdout",
     "output_type": "stream",
     "text": [
      "/Users/immanuel/Documents/NEU/05_Spring_2022/CS7675_ResAppr/tasks/MyLab/task11_Similarweb_categorization/outputs already exists.\n"
     ]
    }
   ],
   "source": [
    "path_to_check_s = f\"{top_path_s}/outputs\"\n",
    "create_output_paths(path_to_check_s)"
   ]
  },
  {
   "cell_type": "code",
   "execution_count": 9,
   "id": "5c4b6137-ba14-4eda-ab05-0783a1460a0a",
   "metadata": {},
   "outputs": [
    {
     "name": "stdout",
     "output_type": "stream",
     "text": [
      "/Users/immanuel/Documents/NEU/05_Spring_2022/CS7675_ResAppr/tasks/MyLab/task11_Similarweb_categorization/outputs/all already exists.\n"
     ]
    }
   ],
   "source": [
    "path_to_check_s = f\"{top_path_s}/outputs/all\"\n",
    "create_output_paths(path_to_check_s)"
   ]
  },
  {
   "cell_type": "code",
   "execution_count": 10,
   "id": "e7bbeae0-c0a4-427c-90cb-fa5f9b3e9c53",
   "metadata": {},
   "outputs": [
    {
     "name": "stdout",
     "output_type": "stream",
     "text": [
      "/Users/immanuel/Documents/NEU/05_Spring_2022/CS7675_ResAppr/tasks/MyLab/task11_Similarweb_categorization/outputs/adult already exists.\n"
     ]
    }
   ],
   "source": [
    "path_to_check_s = f\"{top_path_s}/outputs/adult\"\n",
    "create_output_paths(path_to_check_s)"
   ]
  },
  {
   "cell_type": "code",
   "execution_count": 11,
   "id": "f93fdea5-d597-413a-995d-a2bd847d07d1",
   "metadata": {},
   "outputs": [],
   "source": [
    "for subpath in os.walk(top_path_s):\n",
    "    if subpath[0][-11:] == \"outputs/all\":\n",
    "        all_category_output_path_s = subpath[0]\n",
    "    elif subpath[0][-13:] == \"outputs/adult\":\n",
    "        adult_category_output_path_s = subpath[0]"
   ]
  },
  {
   "cell_type": "code",
   "execution_count": 12,
   "id": "76065fe3-a487-4a49-a16b-70a110c2fb26",
   "metadata": {},
   "outputs": [
    {
     "name": "stdout",
     "output_type": "stream",
     "text": [
      "/Users/immanuel/Documents/NEU/05_Spring_2022/CS7675_ResAppr/tasks/MyLab/task11_Similarweb_categorization/outputs/all\n",
      "/Users/immanuel/Documents/NEU/05_Spring_2022/CS7675_ResAppr/tasks/MyLab/task11_Similarweb_categorization/outputs/adult\n"
     ]
    }
   ],
   "source": [
    "print(all_category_output_path_s)\n",
    "print(adult_category_output_path_s)"
   ]
  },
  {
   "cell_type": "markdown",
   "id": "c45b87d5-fc51-47c4-ac04-50e8627a437d",
   "metadata": {},
   "source": [
    "# 3. Functions"
   ]
  },
  {
   "cell_type": "code",
   "execution_count": 13,
   "id": "f02c0350-9598-48d1-8bc5-09f640070edb",
   "metadata": {},
   "outputs": [],
   "source": [
    "def chdir(path):\n",
    "    '''\n",
    "    parameter: path\n",
    "    output: None\n",
    "    does: Change directory and print the status\n",
    "    '''\n",
    "    try:\n",
    "        os.chdir(path)\n",
    "        print(\"Current working directory: {0}\".format(os.getcwd()))\n",
    "    except FileNotFoundError:\n",
    "        print(\"Directory: {0} does not exist\".format(path))\n",
    "    except NotADirectoryError:\n",
    "        print(\"{0} is not a directory\".format(path))\n",
    "    except PermissionError:\n",
    "        print(\"You do not have permissions to change to {0}\".format(path))"
   ]
  },
  {
   "cell_type": "code",
   "execution_count": 14,
   "id": "f0f8d549-c8c0-47a9-a56d-d33b8b19f82c",
   "metadata": {},
   "outputs": [],
   "source": [
    "def show_all_files_in_path(path):\n",
    "    '''\n",
    "    parameter: path of txt files\n",
    "    output: list of txt files\n",
    "    does: Read all txt files in the path and creates a list of them\n",
    "    '''\n",
    "    for (dirpath, dirname, filename_l) in os.walk(path):\n",
    "        return filename_l"
   ]
  },
  {
   "cell_type": "code",
   "execution_count": 15,
   "id": "92df553e-54d5-4660-9419-51f2a3244f57",
   "metadata": {},
   "outputs": [],
   "source": [
    "def read_txt_as_str(txt_file):\n",
    "    '''\n",
    "    parameter: txt file\n",
    "    output: a string object\n",
    "    does: Convert a txt file into a string object\n",
    "    '''\n",
    "    #open text file in read mode\n",
    "    text_file = open(txt_file, \"r\")\n",
    "\n",
    "    #read whole file to a string\n",
    "    string = text_file.read()\n",
    "\n",
    "    #close file\n",
    "    text_file.close()\n",
    "    \n",
    "    #return\n",
    "    return string"
   ]
  },
  {
   "cell_type": "code",
   "execution_count": 16,
   "id": "2fc12b36-6020-4844-9111-de2522d5eb2a",
   "metadata": {},
   "outputs": [],
   "source": [
    "def extract_top_websites(string):\n",
    "    '''\n",
    "    parameter: a string object\n",
    "    output: a list of top websites\n",
    "    does: Read a string object and convert into a list of top websites\n",
    "    '''\n",
    "    top_website_website_l = re.findall(\"/website/.*\", string)\n",
    "    top_website_l = []\n",
    "    \n",
    "    for website_website in top_website_website_l:\n",
    "        website = website_website.replace(\"/website/\", \"\").replace('\"', '')\n",
    "        \n",
    "        # Check whether there is invalid website or not\n",
    "        # If not, then append to the list.\n",
    "        if \"<\" in website:\n",
    "            pass\n",
    "        else:\n",
    "            top_website_l.append(website)\n",
    "\n",
    "    return top_website_l"
   ]
  },
  {
   "cell_type": "code",
   "execution_count": 17,
   "id": "aa341965-ce4b-44f7-b25b-f02ac46db773",
   "metadata": {},
   "outputs": [],
   "source": [
    "def save_as_csv(top_website_l, output_filename, output_path):\n",
    "    '''\n",
    "    parameter: a list of top websites, output file name\n",
    "    output: None. A CSV file will be saved in a local directory.\n",
    "    does: Convert a list of top websites into a CSV file.\n",
    "    '''\n",
    "    # Change directory\n",
    "    chdir(output_path)\n",
    "    \n",
    "    # Check whether the output_filename has an extension or not.\n",
    "    # If so, then remove.\n",
    "    if \".\" in output_filename:\n",
    "        output_filename = output_filename[:-4]\n",
    "    \n",
    "    # Save as CSV\n",
    "    pd.DataFrame(top_website_l).to_csv(f\"{output_filename}.csv\", header=False)\n",
    "    print(f\"{output_filename}.csv is created.\")"
   ]
  },
  {
   "cell_type": "code",
   "execution_count": 18,
   "id": "287f3889-a316-4a70-b671-24483d8b50ec",
   "metadata": {},
   "outputs": [],
   "source": [
    "def run_all_func(input_path, output_path):\n",
    "    '''\n",
    "    parameter: input path, output path\n",
    "    output: None.\n",
    "    does: Combine all the functions above and run them.\n",
    "    '''\n",
    "    txt_l = show_all_files_in_path(input_path)\n",
    "    for txt_s in txt_l:\n",
    "        html_s = read_txt_as_str(f\"{input_path}/{txt_s}\")\n",
    "        website_l = extract_top_websites(html_s)\n",
    "        save_as_csv(website_l, txt_s, output_path)"
   ]
  },
  {
   "cell_type": "markdown",
   "id": "7a4ef933-10b7-49f3-bfbf-f250e92a1e6d",
   "metadata": {},
   "source": [
    "# 4. Extract top websites"
   ]
  },
  {
   "cell_type": "markdown",
   "id": "606c83e9-7d7c-441f-8155-b11e3a284361",
   "metadata": {},
   "source": [
    "## 4.1. All category"
   ]
  },
  {
   "cell_type": "code",
   "execution_count": 19,
   "id": "23344a77-124f-46f3-b19e-093fa4405d0a",
   "metadata": {},
   "outputs": [
    {
     "name": "stdout",
     "output_type": "stream",
     "text": [
      "Current working directory: /Users/immanuel/Documents/NEU/05_Spring_2022/CS7675_ResAppr/tasks/MyLab/task11_Similarweb_categorization/outputs/all\n",
      "se_all.csv is created.\n",
      "Current working directory: /Users/immanuel/Documents/NEU/05_Spring_2022/CS7675_ResAppr/tasks/MyLab/task11_Similarweb_categorization/outputs/all\n",
      "hu_all.csv is created.\n",
      "Current working directory: /Users/immanuel/Documents/NEU/05_Spring_2022/CS7675_ResAppr/tasks/MyLab/task11_Similarweb_categorization/outputs/all\n",
      "dk_all.csv is created.\n",
      "Current working directory: /Users/immanuel/Documents/NEU/05_Spring_2022/CS7675_ResAppr/tasks/MyLab/task11_Similarweb_categorization/outputs/all\n",
      "it_all.csv is created.\n",
      "Current working directory: /Users/immanuel/Documents/NEU/05_Spring_2022/CS7675_ResAppr/tasks/MyLab/task11_Similarweb_categorization/outputs/all\n",
      "ro_all.csv is created.\n",
      "Current working directory: /Users/immanuel/Documents/NEU/05_Spring_2022/CS7675_ResAppr/tasks/MyLab/task11_Similarweb_categorization/outputs/all\n",
      "fr_all.csv is created.\n",
      "Current working directory: /Users/immanuel/Documents/NEU/05_Spring_2022/CS7675_ResAppr/tasks/MyLab/task11_Similarweb_categorization/outputs/all\n",
      "gr_all.csv is created.\n",
      "Current working directory: /Users/immanuel/Documents/NEU/05_Spring_2022/CS7675_ResAppr/tasks/MyLab/task11_Similarweb_categorization/outputs/all\n",
      "pt_all.csv is created.\n",
      "Current working directory: /Users/immanuel/Documents/NEU/05_Spring_2022/CS7675_ResAppr/tasks/MyLab/task11_Similarweb_categorization/outputs/all\n",
      "at_all.csv is created.\n",
      "Current working directory: /Users/immanuel/Documents/NEU/05_Spring_2022/CS7675_ResAppr/tasks/MyLab/task11_Similarweb_categorization/outputs/all\n",
      "hr_all.csv is created.\n",
      "Current working directory: /Users/immanuel/Documents/NEU/05_Spring_2022/CS7675_ResAppr/tasks/MyLab/task11_Similarweb_categorization/outputs/all\n",
      "sk_all.csv is created.\n",
      "Current working directory: /Users/immanuel/Documents/NEU/05_Spring_2022/CS7675_ResAppr/tasks/MyLab/task11_Similarweb_categorization/outputs/all\n",
      "de_all.csv is created.\n",
      "Current working directory: /Users/immanuel/Documents/NEU/05_Spring_2022/CS7675_ResAppr/tasks/MyLab/task11_Similarweb_categorization/outputs/all\n",
      "nl_all.csv is created.\n",
      "Current working directory: /Users/immanuel/Documents/NEU/05_Spring_2022/CS7675_ResAppr/tasks/MyLab/task11_Similarweb_categorization/outputs/all\n",
      "bg_all.csv is created.\n",
      "Current working directory: /Users/immanuel/Documents/NEU/05_Spring_2022/CS7675_ResAppr/tasks/MyLab/task11_Similarweb_categorization/outputs/all\n",
      "pl_all.csv is created.\n",
      "Current working directory: /Users/immanuel/Documents/NEU/05_Spring_2022/CS7675_ResAppr/tasks/MyLab/task11_Similarweb_categorization/outputs/all\n",
      "cz_all.csv is created.\n",
      "Current working directory: /Users/immanuel/Documents/NEU/05_Spring_2022/CS7675_ResAppr/tasks/MyLab/task11_Similarweb_categorization/outputs/all\n",
      "fi_all.csv is created.\n",
      "Current working directory: /Users/immanuel/Documents/NEU/05_Spring_2022/CS7675_ResAppr/tasks/MyLab/task11_Similarweb_categorization/outputs/all\n",
      "es_all.csv is created.\n",
      "Current working directory: /Users/immanuel/Documents/NEU/05_Spring_2022/CS7675_ResAppr/tasks/MyLab/task11_Similarweb_categorization/outputs/all\n",
      "ie_all.csv is created.\n",
      "Current working directory: /Users/immanuel/Documents/NEU/05_Spring_2022/CS7675_ResAppr/tasks/MyLab/task11_Similarweb_categorization/outputs/all\n",
      "be_all.csv is created.\n"
     ]
    }
   ],
   "source": [
    "run_all_func(all_category_input_path_s, all_category_output_path_s)"
   ]
  },
  {
   "cell_type": "markdown",
   "id": "257866e0-7c41-4f70-96f0-11c0ed829fbc",
   "metadata": {},
   "source": [
    "## 4.2. Adult category"
   ]
  },
  {
   "cell_type": "code",
   "execution_count": 20,
   "id": "443b714a-0350-4f40-8bae-a6fcdc28fa60",
   "metadata": {},
   "outputs": [
    {
     "name": "stdout",
     "output_type": "stream",
     "text": [
      "Current working directory: /Users/immanuel/Documents/NEU/05_Spring_2022/CS7675_ResAppr/tasks/MyLab/task11_Similarweb_categorization/outputs/adult\n",
      "gr_adult.csv is created.\n",
      "Current working directory: /Users/immanuel/Documents/NEU/05_Spring_2022/CS7675_ResAppr/tasks/MyLab/task11_Similarweb_categorization/outputs/adult\n",
      "es_adult.csv is created.\n",
      "Current working directory: /Users/immanuel/Documents/NEU/05_Spring_2022/CS7675_ResAppr/tasks/MyLab/task11_Similarweb_categorization/outputs/adult\n",
      "hu_adult.csv is created.\n",
      "Current working directory: /Users/immanuel/Documents/NEU/05_Spring_2022/CS7675_ResAppr/tasks/MyLab/task11_Similarweb_categorization/outputs/adult\n",
      "ro_adult.csv is created.\n",
      "Current working directory: /Users/immanuel/Documents/NEU/05_Spring_2022/CS7675_ResAppr/tasks/MyLab/task11_Similarweb_categorization/outputs/adult\n",
      "bg_adult.csv is created.\n",
      "Current working directory: /Users/immanuel/Documents/NEU/05_Spring_2022/CS7675_ResAppr/tasks/MyLab/task11_Similarweb_categorization/outputs/adult\n",
      "sk_adult.csv is created.\n",
      "Current working directory: /Users/immanuel/Documents/NEU/05_Spring_2022/CS7675_ResAppr/tasks/MyLab/task11_Similarweb_categorization/outputs/adult\n",
      "hr_adult.csv is created.\n",
      "Current working directory: /Users/immanuel/Documents/NEU/05_Spring_2022/CS7675_ResAppr/tasks/MyLab/task11_Similarweb_categorization/outputs/adult\n",
      "fi_adult.csv is created.\n",
      "Current working directory: /Users/immanuel/Documents/NEU/05_Spring_2022/CS7675_ResAppr/tasks/MyLab/task11_Similarweb_categorization/outputs/adult\n",
      "ie_adult.csv is created.\n",
      "Current working directory: /Users/immanuel/Documents/NEU/05_Spring_2022/CS7675_ResAppr/tasks/MyLab/task11_Similarweb_categorization/outputs/adult\n",
      "cz_adult.csv is created.\n",
      "Current working directory: /Users/immanuel/Documents/NEU/05_Spring_2022/CS7675_ResAppr/tasks/MyLab/task11_Similarweb_categorization/outputs/adult\n",
      "de_adult.csv is created.\n",
      "Current working directory: /Users/immanuel/Documents/NEU/05_Spring_2022/CS7675_ResAppr/tasks/MyLab/task11_Similarweb_categorization/outputs/adult\n",
      "nl_adult.csv is created.\n",
      "Current working directory: /Users/immanuel/Documents/NEU/05_Spring_2022/CS7675_ResAppr/tasks/MyLab/task11_Similarweb_categorization/outputs/adult\n",
      "be_adult.csv is created.\n",
      "Current working directory: /Users/immanuel/Documents/NEU/05_Spring_2022/CS7675_ResAppr/tasks/MyLab/task11_Similarweb_categorization/outputs/adult\n",
      "dk_adult.csv is created.\n",
      "Current working directory: /Users/immanuel/Documents/NEU/05_Spring_2022/CS7675_ResAppr/tasks/MyLab/task11_Similarweb_categorization/outputs/adult\n",
      "pl_adult.csv is created.\n",
      "Current working directory: /Users/immanuel/Documents/NEU/05_Spring_2022/CS7675_ResAppr/tasks/MyLab/task11_Similarweb_categorization/outputs/adult\n",
      "fr_adult.csv is created.\n",
      "Current working directory: /Users/immanuel/Documents/NEU/05_Spring_2022/CS7675_ResAppr/tasks/MyLab/task11_Similarweb_categorization/outputs/adult\n",
      "pt_adult.csv is created.\n",
      "Current working directory: /Users/immanuel/Documents/NEU/05_Spring_2022/CS7675_ResAppr/tasks/MyLab/task11_Similarweb_categorization/outputs/adult\n",
      "it_adult.csv is created.\n",
      "Current working directory: /Users/immanuel/Documents/NEU/05_Spring_2022/CS7675_ResAppr/tasks/MyLab/task11_Similarweb_categorization/outputs/adult\n",
      "at_adult.csv is created.\n",
      "Current working directory: /Users/immanuel/Documents/NEU/05_Spring_2022/CS7675_ResAppr/tasks/MyLab/task11_Similarweb_categorization/outputs/adult\n",
      "se_adult.csv is created.\n"
     ]
    }
   ],
   "source": [
    "run_all_func(adult_category_input_path_s, adult_category_output_path_s)"
   ]
  },
  {
   "cell_type": "markdown",
   "id": "c9141ca0-4e27-4edd-97fd-e0aeea087b66",
   "metadata": {},
   "source": [
    "# 5. Blacklist"
   ]
  },
  {
   "cell_type": "markdown",
   "id": "b5c4a947-f851-4b12-87ef-49c05e666026",
   "metadata": {},
   "source": [
    "## 5.1. Blacklist from Bightdata"
   ]
  },
  {
   "cell_type": "code",
   "execution_count": 21,
   "id": "53c0c33b-d0d5-4349-b39c-c82e5f252b8c",
   "metadata": {},
   "outputs": [],
   "source": [
    "initial_blacklist_set = set([\"xhamster.com\", \"netflix.com\", \"pornhub.com\", \"twitch.tv\", \"whatsapp.com\", \"xnxx.com\", \"xvideos.com\"])"
   ]
  },
  {
   "cell_type": "code",
   "execution_count": 22,
   "id": "aa120021-d339-4efd-9d54-f9849c6ed23d",
   "metadata": {},
   "outputs": [],
   "source": [
    "def concat_blacklist(input_path, blacklist_set):\n",
    "    '''\n",
    "    parameter: input path, output path, blacklist\n",
    "    output: Updated blacklist\n",
    "    does: Concatenate blacklist from adult category top websites.\n",
    "        Sort of inherited from run_all_func().\n",
    "    '''\n",
    "    txt_l = show_all_files_in_path(input_path)\n",
    "    \n",
    "    for txt_s in txt_l:\n",
    "        html_s = read_txt_as_str(f\"{input_path}/{txt_s}\")\n",
    "        website_l = extract_top_websites(html_s)\n",
    "        \n",
    "        # Check whether the item 0 is a valid website or not\n",
    "        # If not, then start from the item 1.\n",
    "        if \"<\" in website_l[0]:\n",
    "            blacklist_set.update(website_l[1:])\n",
    "        else:\n",
    "            blacklist_set.update(website_l)\n",
    "        \n",
    "    return blacklist_set"
   ]
  },
  {
   "cell_type": "code",
   "execution_count": 23,
   "id": "8f633307-a488-4921-a1f4-c29a052e25bd",
   "metadata": {},
   "outputs": [],
   "source": [
    "blacklist_set = concat_blacklist(adult_category_input_path_s, initial_blacklist_set)"
   ]
  },
  {
   "cell_type": "code",
   "execution_count": 24,
   "id": "003fedda-6cd8-4bd5-b0c0-70aa7d4ea209",
   "metadata": {},
   "outputs": [
    {
     "data": {
      "text/plain": [
       "{'adamieva.info',\n",
       " 'amateri.com',\n",
       " 'amateur.tv',\n",
       " 'chaturbate.com',\n",
       " 'fabswingers.com',\n",
       " 'fansly.com',\n",
       " 'freevideo.cz',\n",
       " 'ixxx.com',\n",
       " 'netflix.com',\n",
       " 'pornhub.com',\n",
       " 'rosszlanyok.hu',\n",
       " 'stripchat.com',\n",
       " 'twinrdsrv.com',\n",
       " 'twitch.tv',\n",
       " 'whatsapp.com',\n",
       " 'xcams.cam',\n",
       " 'xhamster.com',\n",
       " 'xnxx.com',\n",
       " 'xvideos.com'}"
      ]
     },
     "execution_count": 24,
     "metadata": {},
     "output_type": "execute_result"
    }
   ],
   "source": [
    "blacklist_set"
   ]
  },
  {
   "cell_type": "markdown",
   "id": "e68e2f82-aff2-4263-998c-b3e7bbceb596",
   "metadata": {},
   "source": [
    "## 5.2. Save blacklist"
   ]
  },
  {
   "cell_type": "code",
   "execution_count": 25,
   "id": "b29232a6-b79a-40b7-a636-478412ab6a03",
   "metadata": {},
   "outputs": [
    {
     "name": "stdout",
     "output_type": "stream",
     "text": [
      "Current working directory: /Users/immanuel/Documents/NEU/05_Spring_2022/CS7675_ResAppr/tasks/MyLab/task11_Similarweb_categorization/outputs/adult\n"
     ]
    }
   ],
   "source": [
    "chdir(adult_category_output_path_s)"
   ]
  },
  {
   "cell_type": "code",
   "execution_count": 26,
   "id": "32e506e2-5e8c-4258-9ee2-c6adffa6cf30",
   "metadata": {},
   "outputs": [
    {
     "name": "stdout",
     "output_type": "stream",
     "text": [
      "Current working directory: /Users/immanuel/Documents/NEU/05_Spring_2022/CS7675_ResAppr/tasks/MyLab/task11_Similarweb_categorization/outputs\n"
     ]
    }
   ],
   "source": [
    "# Up one path\n",
    "parent_path = os.path.dirname(adult_category_output_path_s)\n",
    "chdir(parent_path)"
   ]
  },
  {
   "cell_type": "code",
   "execution_count": 27,
   "id": "4605ce9c-5e56-428c-92cc-e8da0259394f",
   "metadata": {},
   "outputs": [],
   "source": [
    "pd.DataFrame(blacklist_set).to_csv(\"blacklist.csv\", header=False)"
   ]
  },
  {
   "cell_type": "markdown",
   "id": "nonprofit-withdrawal",
   "metadata": {},
   "source": [
    "# 6. Google VS Not"
   ]
  },
  {
   "cell_type": "raw",
   "id": "87634093-4a4e-4789-baf3-0f6a10ef237b",
   "metadata": {},
   "source": [
    "# https://docs.google.com/document/d/1z1I2mAGxY8m4ptpKvGM3KtgtNKApp7NIA6ASWD05-9s"
   ]
  },
  {
   "cell_type": "markdown",
   "id": "097ba563-15a7-4a0f-a937-2938a5e7c1f9",
   "metadata": {},
   "source": [
    "## 6.1. Google vs Not"
   ]
  },
  {
   "cell_type": "code",
   "execution_count": 28,
   "id": "piano-trace",
   "metadata": {},
   "outputs": [],
   "source": [
    "google_l = [\"google.com\"\n",
    ", \"youtube.com\"\n",
    ", \"google.com.br\"\n",
    ", \"google.pl\"\n",
    ", \"google.gr\"\n",
    ", \"google.nl\"\n",
    ", \"google.fr\"\n",
    ", \"google.ie\"\n",
    ", \"google.de\"\n",
    ", \"news.google.com\"\n",
    ", \"google.es\"\n",
    ", \"google.co.id\"\n",
    ", \"google.ro\"\n",
    ", \"google.hu\"\n",
    ", \"google.dk\"\n",
    ", \"google.sk\"\n",
    ", \"google.be\"\n",
    ", \"google.hr\"\n",
    ", \"google.ru\"\n",
    ", \"google.fi\"\n",
    ", \"google.se\"\n",
    ", \"google.at\"\n",
    ", \"google.com.ua\"\n",
    ", \"google.cz\"\n",
    ", \"google.it\"\n",
    ", \"google.bg\"\n",
    ", \"google.co.uk\"\n",
    ", \"google.pt\"]"
   ]
  },
  {
   "cell_type": "code",
   "execution_count": 29,
   "id": "6d67c5e6-2072-45ca-b898-774e5ec8e683",
   "metadata": {},
   "outputs": [],
   "source": [
    "# Use this list to exclude URLs\n",
    "not_google_l = [\"marktplaats.nl\"\n",
    ", \"tradera.com\"\n",
    ", \"zalando.nl\"\n",
    ", \"lequipe.fr\"\n",
    ", \"diretta.it\"\n",
    ", \"oe24.at\"\n",
    ", \"start-pl.com\"\n",
    ", \"2dehands.be\"\n",
    ", \"ebay-kleinanzeigen.de\"\n",
    ", \"zalando.dk\"\n",
    ", \"vi.nl\"\n",
    ", \"verkkokauppa.com\"\n",
    ", \"zalando.be\"]"
   ]
  },
  {
   "cell_type": "markdown",
   "id": "33ccb42f-7ac7-4f91-84c6-455e5f7ab956",
   "metadata": {},
   "source": [
    "## 6.2. Functions"
   ]
  },
  {
   "cell_type": "code",
   "execution_count": 30,
   "id": "57176bb2-e9d4-417b-9305-6f518f6ebf7e",
   "metadata": {},
   "outputs": [],
   "source": [
    "def save_as_csv_v2(dictionary, output_filename, output_path):\n",
    "    '''\n",
    "    parameter: a list of top websites, output file name\n",
    "    output: None. A CSV file will be saved in a local directory.\n",
    "    does: Convert a list of top websites into a CSV file.\n",
    "    '''\n",
    "    # Change directory\n",
    "    chdir(output_path)\n",
    "    \n",
    "    # Check whether the output_filename has an extension or not.\n",
    "    # If so, then remove.\n",
    "    if \".\" in output_filename:\n",
    "        output_filename = output_filename[:-4]\n",
    "    \n",
    "    # Save as CSV\n",
    "    pd.DataFrame(dictionary).to_csv(f\"{output_filename}.csv\")\n",
    "    print(f\"{output_filename}.csv is created.\")"
   ]
  },
  {
   "cell_type": "code",
   "execution_count": 31,
   "id": "ba7dc29c-7b98-45d9-9698-41f0b4dd87fb",
   "metadata": {},
   "outputs": [],
   "source": [
    "def identify_google_vs_not(input_path, output_path, google_l, not_google_l):\n",
    "    '''\n",
    "    parameter: input path, output path\n",
    "    output: None.\n",
    "    does: Combine all the functions above and run them.\n",
    "        Sort of inherited from run_all_func().\n",
    "    '''\n",
    "    txt_l = show_all_files_in_path(input_path)\n",
    "    for txt_s in txt_l:\n",
    "        html_s = read_txt_as_str(f\"{input_path}/{txt_s}\")\n",
    "        website_l = extract_top_websites(html_s)\n",
    "        is_google_l = []\n",
    "        is_not_google_l = []\n",
    "        for website in website_l:\n",
    "            if website in google_l:\n",
    "                is_google_l.append(True)\n",
    "            else:\n",
    "                is_google_l.append(None)\n",
    "            if website in not_google_l:\n",
    "                is_not_google_l.append(True)\n",
    "            else:\n",
    "                is_not_google_l.append(None)\n",
    "        website_d = {\"website\": website_l, \"google\": is_google_l, \"not_google\": is_not_google_l}\n",
    "        save_as_csv_v2(website_d, txt_s, output_path)"
   ]
  },
  {
   "cell_type": "markdown",
   "id": "4a3c8371-c68c-46f2-8c93-809fc44d604b",
   "metadata": {},
   "source": [
    "## 6.3. Identify Google vs Not"
   ]
  },
  {
   "cell_type": "code",
   "execution_count": 32,
   "id": "74a06be4-f228-4b1f-82d5-8291c35ddadf",
   "metadata": {},
   "outputs": [
    {
     "name": "stdout",
     "output_type": "stream",
     "text": [
      "Current working directory: /Users/immanuel/Documents/NEU/05_Spring_2022/CS7675_ResAppr/tasks/MyLab/task11_Similarweb_categorization/outputs/all\n",
      "se_all.csv is created.\n",
      "Current working directory: /Users/immanuel/Documents/NEU/05_Spring_2022/CS7675_ResAppr/tasks/MyLab/task11_Similarweb_categorization/outputs/all\n",
      "hu_all.csv is created.\n",
      "Current working directory: /Users/immanuel/Documents/NEU/05_Spring_2022/CS7675_ResAppr/tasks/MyLab/task11_Similarweb_categorization/outputs/all\n",
      "dk_all.csv is created.\n",
      "Current working directory: /Users/immanuel/Documents/NEU/05_Spring_2022/CS7675_ResAppr/tasks/MyLab/task11_Similarweb_categorization/outputs/all\n",
      "it_all.csv is created.\n",
      "Current working directory: /Users/immanuel/Documents/NEU/05_Spring_2022/CS7675_ResAppr/tasks/MyLab/task11_Similarweb_categorization/outputs/all\n",
      "ro_all.csv is created.\n",
      "Current working directory: /Users/immanuel/Documents/NEU/05_Spring_2022/CS7675_ResAppr/tasks/MyLab/task11_Similarweb_categorization/outputs/all\n",
      "fr_all.csv is created.\n",
      "Current working directory: /Users/immanuel/Documents/NEU/05_Spring_2022/CS7675_ResAppr/tasks/MyLab/task11_Similarweb_categorization/outputs/all\n",
      "gr_all.csv is created.\n",
      "Current working directory: /Users/immanuel/Documents/NEU/05_Spring_2022/CS7675_ResAppr/tasks/MyLab/task11_Similarweb_categorization/outputs/all\n",
      "pt_all.csv is created.\n",
      "Current working directory: /Users/immanuel/Documents/NEU/05_Spring_2022/CS7675_ResAppr/tasks/MyLab/task11_Similarweb_categorization/outputs/all\n",
      "at_all.csv is created.\n",
      "Current working directory: /Users/immanuel/Documents/NEU/05_Spring_2022/CS7675_ResAppr/tasks/MyLab/task11_Similarweb_categorization/outputs/all\n",
      "hr_all.csv is created.\n",
      "Current working directory: /Users/immanuel/Documents/NEU/05_Spring_2022/CS7675_ResAppr/tasks/MyLab/task11_Similarweb_categorization/outputs/all\n",
      "sk_all.csv is created.\n",
      "Current working directory: /Users/immanuel/Documents/NEU/05_Spring_2022/CS7675_ResAppr/tasks/MyLab/task11_Similarweb_categorization/outputs/all\n",
      "de_all.csv is created.\n",
      "Current working directory: /Users/immanuel/Documents/NEU/05_Spring_2022/CS7675_ResAppr/tasks/MyLab/task11_Similarweb_categorization/outputs/all\n",
      "nl_all.csv is created.\n",
      "Current working directory: /Users/immanuel/Documents/NEU/05_Spring_2022/CS7675_ResAppr/tasks/MyLab/task11_Similarweb_categorization/outputs/all\n",
      "bg_all.csv is created.\n",
      "Current working directory: /Users/immanuel/Documents/NEU/05_Spring_2022/CS7675_ResAppr/tasks/MyLab/task11_Similarweb_categorization/outputs/all\n",
      "pl_all.csv is created.\n",
      "Current working directory: /Users/immanuel/Documents/NEU/05_Spring_2022/CS7675_ResAppr/tasks/MyLab/task11_Similarweb_categorization/outputs/all\n",
      "cz_all.csv is created.\n",
      "Current working directory: /Users/immanuel/Documents/NEU/05_Spring_2022/CS7675_ResAppr/tasks/MyLab/task11_Similarweb_categorization/outputs/all\n",
      "fi_all.csv is created.\n",
      "Current working directory: /Users/immanuel/Documents/NEU/05_Spring_2022/CS7675_ResAppr/tasks/MyLab/task11_Similarweb_categorization/outputs/all\n",
      "es_all.csv is created.\n",
      "Current working directory: /Users/immanuel/Documents/NEU/05_Spring_2022/CS7675_ResAppr/tasks/MyLab/task11_Similarweb_categorization/outputs/all\n",
      "ie_all.csv is created.\n",
      "Current working directory: /Users/immanuel/Documents/NEU/05_Spring_2022/CS7675_ResAppr/tasks/MyLab/task11_Similarweb_categorization/outputs/all\n",
      "be_all.csv is created.\n"
     ]
    }
   ],
   "source": [
    "identify_google_vs_not(all_category_input_path_s, all_category_output_path_s, google_l, not_google_l)"
   ]
  }
 ],
 "metadata": {
  "kernelspec": {
   "display_name": "Python 3 (ipykernel)",
   "language": "python",
   "name": "python3"
  },
  "language_info": {
   "codemirror_mode": {
    "name": "ipython",
    "version": 3
   },
   "file_extension": ".py",
   "mimetype": "text/x-python",
   "name": "python",
   "nbconvert_exporter": "python",
   "pygments_lexer": "ipython3",
   "version": "3.9.7"
  }
 },
 "nbformat": 4,
 "nbformat_minor": 5
}
