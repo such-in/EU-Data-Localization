{
 "cells": [
  {
   "cell_type": "markdown",
   "id": "8768089a-36c3-4697-bb31-178ad7d1daac",
   "metadata": {},
   "source": [
    "# 1. Import packages"
   ]
  },
  {
   "cell_type": "code",
   "execution_count": 1,
   "id": "714332ee-6ee2-43fd-936e-c063f03a679d",
   "metadata": {},
   "outputs": [],
   "source": [
    "import glob\n",
    "import json\n",
    "import os\n",
    "import pandas as pd"
   ]
  },
  {
   "cell_type": "markdown",
   "id": "46f3026a-cdb3-4e26-bd52-9a38649b5e71",
   "metadata": {},
   "source": [
    "# 2. Read a txt file with URL analysis"
   ]
  },
  {
   "cell_type": "markdown",
   "id": "44c946e6-3134-4da5-83af-e1971ce0317a",
   "metadata": {},
   "source": [
    "## 2.1. Change to inputs directory"
   ]
  },
  {
   "cell_type": "code",
   "execution_count": 3,
   "id": "2c00f736-21c4-4f41-b18a-4d85310e489c",
   "metadata": {},
   "outputs": [
    {
     "name": "stdout",
     "output_type": "stream",
     "text": [
      "/Users/immanuel/Documents/NEU/05_Spring_2022/CS7675_ResAppr/tasks/MyLab/task12_AS_from_task06\n",
      "/Users/immanuel/Documents/NEU/05_Spring_2022/CS7675_ResAppr/tasks/MyLab/task12_AS_from_task06/inputs\n"
     ]
    }
   ],
   "source": [
    "print(os.getcwd())\n",
    "input_path_s = \"/inputs\"\n",
    "input_path_s = os.getcwd() + input_path_s\n",
    "output_path_s = \"/outputs\"\n",
    "output_path_s = os.getcwd() + output_path_s\n",
    "os.chdir(input_path_s)\n",
    "print(os.getcwd())"
   ]
  },
  {
   "cell_type": "markdown",
   "id": "f8f21ead-5613-4936-a4b5-512f98ec5e42",
   "metadata": {},
   "source": [
    "## 2.2. Read all txt files"
   ]
  },
  {
   "cell_type": "code",
   "execution_count": 4,
   "id": "ac287a7e-bccd-4c6c-9b6c-9222d5148253",
   "metadata": {},
   "outputs": [
    {
     "name": "stdout",
     "output_type": "stream",
     "text": [
      "13\n",
      "13\n"
     ]
    }
   ],
   "source": [
    "txt_filename_l = []\n",
    "df_l = []\n",
    "\n",
    "for file in glob.glob(\"*.txt\"):\n",
    "    # Get the txt filename without the extension\n",
    "    txt_filename = os.path.splitext(file)[0][4:]\n",
    "    # If there is a number at the end of the filename, then remove.\n",
    "    if txt_filename[-1].isdigit():\n",
    "        txt_filename = txt_filename[:-1]\n",
    "    txt_filename_l.append(txt_filename)\n",
    "    df_l.append(pd.read_csv(file, sep=\":\", header=None))\n",
    "    \n",
    "print(len(txt_filename_l))\n",
    "print(len(df_l))"
   ]
  },
  {
   "cell_type": "markdown",
   "id": "1648eecc-5ae1-45a5-bc6e-095f2075d5e5",
   "metadata": {},
   "source": [
    "## 2.3. eu_country_d"
   ]
  },
  {
   "cell_type": "code",
   "execution_count": 5,
   "id": "5114e3c5-5f7c-4290-9ac2-e016a947c8cf",
   "metadata": {},
   "outputs": [
    {
     "name": "stdout",
     "output_type": "stream",
     "text": [
      "27\n"
     ]
    }
   ],
   "source": [
    "eu_country_d = {'at': 'Austria'\n",
    "                ,'be': 'Belgium'\n",
    "                ,'bg': 'Bulgaria'\n",
    "                ,'hr': 'Croatia'\n",
    "                ,'cy': 'Cyprus'\n",
    "                ,'cz': 'Czech'\n",
    "                ,'dk': 'Denmark'\n",
    "                ,'ee': 'Estonia'\n",
    "                ,'fi': 'Finland'\n",
    "                ,'fr': 'France'\n",
    "                ,'de': 'Germany'\n",
    "                ,'gr': 'Greece'\n",
    "                ,'hu': 'Hungary'\n",
    "                ,'ie': 'Ireland'\n",
    "                ,'it': 'Italy'\n",
    "                ,'lv': 'Latvia'\n",
    "                ,'lt': 'Lithuania'\n",
    "                ,'lu': 'Luxembourg'\n",
    "                ,'mt': 'Malta'\n",
    "                ,'nl': 'Netherlands'\n",
    "                ,'pl': 'Poland'\n",
    "                ,'pt': 'Portugal'\n",
    "                ,'ro': 'Romania'\n",
    "                ,'sk': 'Slovakia'\n",
    "                ,'si': 'Slovenia'\n",
    "                ,'es': 'Spain'\n",
    "                ,'se': 'Sweden'\n",
    "#                ,'gb': ''\n",
    "#                ,'is': 'Iceland'\n",
    "#                ,'li': 'Liechtenstein'\n",
    "#                ,'no': 'Norway'\n",
    "#                ,'ch': 'Switzerland'\n",
    "               }\n",
    "print(len(eu_country_d))"
   ]
  },
  {
   "cell_type": "code",
   "execution_count": 6,
   "id": "063571b8-04a9-438d-aff7-533d78e9687b",
   "metadata": {},
   "outputs": [
    {
     "name": "stdout",
     "output_type": "stream",
     "text": [
      "{'austria': 'at', 'belgium': 'be', 'bulgaria': 'bg', 'croatia': 'hr', 'cyprus': 'cy', 'czech': 'cz', 'denmark': 'dk', 'estonia': 'ee', 'finland': 'fi', 'france': 'fr', 'germany': 'de', 'greece': 'gr', 'hungary': 'hu', 'ireland': 'ie', 'italy': 'it', 'latvia': 'lv', 'lithuania': 'lt', 'luxembourg': 'lu', 'malta': 'mt', 'netherlands': 'nl', 'poland': 'pl', 'portugal': 'pt', 'romania': 'ro', 'slovakia': 'sk', 'slovenia': 'si', 'spain': 'es', 'sweden': 'se'}\n"
     ]
    }
   ],
   "source": [
    "eu_country_d = dict([(value.lower(), key) for key, value in eu_country_d.items()])\n",
    "print(eu_country_d)"
   ]
  },
  {
   "cell_type": "markdown",
   "id": "a0a54091-cddc-4b33-808e-8b9dbd2138d4",
   "metadata": {},
   "source": [
    "## 2.4. Create df names based on txt names (Assign df into country_df)"
   ]
  },
  {
   "cell_type": "code",
   "execution_count": 7,
   "id": "6effd173-3637-4599-8fab-edbf01fc9780",
   "metadata": {},
   "outputs": [
    {
     "name": "stdout",
     "output_type": "stream",
     "text": [
      "13\n",
      "['gr_df', 'it_df', 'se_df', 'ro_df', 'fr_df', 'pl_df', 'es_df', 'nl_df', 'at_df', 'cz_df', 'de_df', 'sk_df', 'hu_df']\n"
     ]
    }
   ],
   "source": [
    "df_name_l = []\n",
    "\n",
    "for i in range(len(txt_filename_l)):\n",
    "    df_name = eu_country_d[txt_filename_l[i]] + \"_df\"\n",
    "    df_name_l.append(df_name)\n",
    "    locals()[df_name] = df_l[i]\n",
    "    \n",
    "print(len(df_name_l))\n",
    "print(df_name_l)"
   ]
  },
  {
   "cell_type": "markdown",
   "id": "d0eebff3-bdf7-48a6-ae52-9298c7974b0b",
   "metadata": {},
   "source": [
    "# 3. Parse to get IPs"
   ]
  },
  {
   "cell_type": "code",
   "execution_count": 9,
   "id": "3feece1f-c1a2-4992-acb8-e9118a2bbb6d",
   "metadata": {},
   "outputs": [
    {
     "name": "stdout",
     "output_type": "stream",
     "text": [
      "gr\n",
      "160\n",
      "No Dupe\n",
      "\n",
      "it\n",
      "1002\n",
      "No Dupe\n",
      "\n",
      "se\n",
      "384\n",
      "No Dupe\n",
      "\n",
      "ro\n",
      "229\n",
      "No Dupe\n",
      "\n",
      "fr\n",
      "2494\n",
      "No Dupe\n",
      "\n",
      "pl\n",
      "596\n",
      "No Dupe\n",
      "\n",
      "es\n",
      "2307\n",
      "No Dupe\n",
      "\n",
      "nl\n",
      "914\n",
      "No Dupe\n",
      "\n",
      "at\n",
      "217\n",
      "No Dupe\n",
      "\n",
      "cz\n",
      "494\n",
      "No Dupe\n",
      "\n",
      "de\n",
      "1002\n",
      "No Dupe\n",
      "\n",
      "sk\n",
      "327\n",
      "No Dupe\n",
      "\n",
      "hu\n",
      "208\n",
      "No Dupe\n",
      "\n",
      "13\n"
     ]
    }
   ],
   "source": [
    "ip_d = {}\n",
    "\n",
    "for index, country_df in enumerate(df_l):\n",
    "    ip_ser = country_df.loc[:, 2]\n",
    "    \n",
    "    ip_l = []\n",
    "    \n",
    "    country_code_s = eu_country_d[txt_filename_l[index]]\n",
    "\n",
    "    for ip_column in ip_ser:\n",
    "        ip_l.append(ip_column.split(\"-\")[-1])\n",
    "\n",
    "    # Assign country code as a dictionary key\n",
    "    # Assign ip list as a dictionary value\n",
    "    country_code_s = eu_country_d[txt_filename_l[index]]\n",
    "    ip_d[country_code_s] = ip_l\n",
    "\n",
    "    print(country_code_s)\n",
    "    print(len(ip_l))\n",
    "    print({True: \"No Dupe\", False: \"Yes Dupe\"}[len(ip_l) == len(set(ip_l))])\n",
    "    print()\n",
    "\n",
    "print(len(ip_d))"
   ]
  },
  {
   "cell_type": "markdown",
   "id": "0a05efe1-5baf-4cc3-a67b-3c579d916d61",
   "metadata": {},
   "source": [
    "# 4. IP to AS Name and AS Number"
   ]
  },
  {
   "cell_type": "code",
   "execution_count": 12,
   "id": "277522a7-a184-42b8-9c9d-5e80ffe89225",
   "metadata": {},
   "outputs": [],
   "source": [
    "def get_descriptive_statistics_about_as_name_and_as_number(as_name_l, as_number_l):\n",
    "    print(f\"The length of AS Name is {len(as_name_l)}\")\n",
    "        \n",
    "    print(f\"The length of AS Number is {len(as_number_l)}\")\n",
    "    \n",
    "    if len(as_name_l) == len(as_number_l):\n",
    "        print(\"AS Name and AS Number have the same length.\")\n",
    "    elif len(as_name_l) > len(as_number_l):\n",
    "        print(\"AS Name has a longer length than AS Number.\")\n",
    "    else:\n",
    "        print(\"AS Number has a longer length than AS Name.\")\n",
    "   \n",
    "    if len(as_name_l) == len(set(as_name_l)):\n",
    "        print(\"No duplicates in AS Name.\")\n",
    "    else:\n",
    "        print(f\"Duplicates in AS Name. The length of AS Name without duplicates is {len(set(as_name_l))}\")\n",
    "\n",
    "    if len(as_number_l) == len(set(as_number_l)):\n",
    "        print(\"No duplicates in AS Number.\")\n",
    "    else:\n",
    "        print(f\"Duplicates in AS Number. The length of AS Number without duplicates is {len(set(as_number_l))}\")"
   ]
  },
  {
   "cell_type": "code",
   "execution_count": 13,
   "id": "b31603bf-080d-48b2-afe2-64a8a3bfda7b",
   "metadata": {},
   "outputs": [],
   "source": [
    "as_d = {}\n",
    "for key in ip_d.keys():\n",
    "    as_d[key] = {}"
   ]
  },
  {
   "cell_type": "code",
   "execution_count": 14,
   "id": "75d4d5a1-15f0-4340-8191-dfc5999f6f8c",
   "metadata": {},
   "outputs": [
    {
     "name": "stdout",
     "output_type": "stream",
     "text": [
      "gr\n",
      "The length of AS Name is 160\n",
      "The length of AS Number is 160\n",
      "AS Name and AS Number have the same length.\n",
      "Duplicates in AS Name. The length of AS Name without duplicates is 1\n",
      "Duplicates in AS Number. The length of AS Number without duplicates is 1\n",
      "\n",
      "it\n",
      "The length of AS Name is 1002\n",
      "The length of AS Number is 1002\n",
      "AS Name and AS Number have the same length.\n",
      "Duplicates in AS Name. The length of AS Name without duplicates is 1\n",
      "Duplicates in AS Number. The length of AS Number without duplicates is 1\n",
      "\n",
      "se\n",
      "The length of AS Name is 384\n",
      "The length of AS Number is 384\n",
      "AS Name and AS Number have the same length.\n",
      "Duplicates in AS Name. The length of AS Name without duplicates is 1\n",
      "Duplicates in AS Number. The length of AS Number without duplicates is 1\n",
      "\n",
      "ro\n",
      "The length of AS Name is 229\n",
      "The length of AS Number is 229\n",
      "AS Name and AS Number have the same length.\n",
      "Duplicates in AS Name. The length of AS Name without duplicates is 1\n",
      "Duplicates in AS Number. The length of AS Number without duplicates is 1\n",
      "\n",
      "fr\n",
      "The length of AS Name is 2494\n",
      "The length of AS Number is 2494\n",
      "AS Name and AS Number have the same length.\n",
      "Duplicates in AS Name. The length of AS Name without duplicates is 2\n",
      "Duplicates in AS Number. The length of AS Number without duplicates is 2\n",
      "\n",
      "pl\n",
      "whois -h whois.cymru.com 31.204.52.39\n",
      "The length of AS Name is 215\n",
      "The length of AS Number is 215\n",
      "AS Name and AS Number have the same length.\n",
      "Duplicates in AS Name. The length of AS Name without duplicates is 1\n",
      "Duplicates in AS Number. The length of AS Number without duplicates is 1\n",
      "\n",
      "es\n",
      "whois -h whois.cymru.com 78.41.84.30\n",
      "The length of AS Name is 0\n",
      "The length of AS Number is 0\n",
      "AS Name and AS Number have the same length.\n",
      "No duplicates in AS Name.\n",
      "No duplicates in AS Number.\n",
      "\n",
      "nl\n",
      "The length of AS Name is 914\n",
      "The length of AS Number is 914\n",
      "AS Name and AS Number have the same length.\n",
      "Duplicates in AS Name. The length of AS Name without duplicates is 1\n",
      "Duplicates in AS Number. The length of AS Number without duplicates is 1\n",
      "\n",
      "at\n",
      "The length of AS Name is 217\n",
      "The length of AS Number is 217\n",
      "AS Name and AS Number have the same length.\n",
      "Duplicates in AS Name. The length of AS Name without duplicates is 1\n",
      "Duplicates in AS Number. The length of AS Number without duplicates is 1\n",
      "\n",
      "cz\n",
      "The length of AS Name is 494\n",
      "The length of AS Number is 494\n",
      "AS Name and AS Number have the same length.\n",
      "Duplicates in AS Name. The length of AS Name without duplicates is 1\n",
      "Duplicates in AS Number. The length of AS Number without duplicates is 1\n",
      "\n",
      "de\n",
      "The length of AS Name is 1002\n",
      "The length of AS Number is 1002\n",
      "AS Name and AS Number have the same length.\n",
      "Duplicates in AS Name. The length of AS Name without duplicates is 2\n",
      "Duplicates in AS Number. The length of AS Number without duplicates is 2\n",
      "\n",
      "sk\n",
      "The length of AS Name is 327\n",
      "The length of AS Number is 327\n",
      "AS Name and AS Number have the same length.\n",
      "Duplicates in AS Name. The length of AS Name without duplicates is 1\n",
      "Duplicates in AS Number. The length of AS Number without duplicates is 1\n",
      "\n",
      "hu\n",
      "The length of AS Name is 208\n",
      "The length of AS Number is 208\n",
      "AS Name and AS Number have the same length.\n",
      "Duplicates in AS Name. The length of AS Name without duplicates is 1\n",
      "Duplicates in AS Number. The length of AS Number without duplicates is 1\n",
      "\n"
     ]
    }
   ],
   "source": [
    "for country_code, ip_l in ip_d.items():\n",
    "    print(country_code)\n",
    "\n",
    "    as_number_l = []\n",
    "    as_name_l = []\n",
    "\n",
    "    for ip in ip_l:\n",
    "        cmd = f\"whois -h whois.cymru.com {ip}\"\n",
    "        try:\n",
    "            cymru_l = os.popen(cmd).read().split(\"\\n\")[1].split(\"|\")\n",
    "        except:\n",
    "            print(cmd)\n",
    "            break\n",
    "\n",
    "        for index, item in enumerate(cymru_l):\n",
    "            if index == 0:\n",
    "                as_number_l.append(item.strip())\n",
    "            if index == 2:\n",
    "                as_name_l.append(item.strip())\n",
    "                \n",
    "    unique_as_number_l = list(set(as_number_l))\n",
    "    unique_as_name_l = list(set(as_name_l))\n",
    "    \n",
    "    as_d[country_code][\"unique_as_number\"] = unique_as_number_l\n",
    "    as_d[country_code][\"unique_as_name\"] = unique_as_name_l\n",
    "\n",
    "    get_descriptive_statistics_about_as_name_and_as_number(as_name_l, as_number_l)\n",
    "    print()"
   ]
  },
  {
   "cell_type": "markdown",
   "id": "21c872a4-31d3-4f6d-a44a-4223077e5cba",
   "metadata": {},
   "source": [
    "# 5. JSON"
   ]
  },
  {
   "cell_type": "code",
   "execution_count": 15,
   "id": "037e1d82-adc4-4946-ad72-444884df4557",
   "metadata": {},
   "outputs": [
    {
     "data": {
      "text/plain": [
       "{'gr': {'unique_as_number': ['11325'], 'unique_as_name': ['AS11325, US']},\n",
       " 'it': {'unique_as_number': ['9009'], 'unique_as_name': ['M247, GB']},\n",
       " 'se': {'unique_as_number': ['9009'], 'unique_as_name': ['M247, GB']},\n",
       " 'ro': {'unique_as_number': ['9009'], 'unique_as_name': ['M247, GB']},\n",
       " 'fr': {'unique_as_number': ['209372', '9009'],\n",
       "  'unique_as_name': ['WSTELECOM_CUSTOMERS, LV', 'M247, GB']},\n",
       " 'pl': {'unique_as_number': ['9009'], 'unique_as_name': ['M247, GB']},\n",
       " 'es': {'unique_as_number': [], 'unique_as_name': []},\n",
       " 'nl': {'unique_as_number': ['9009'], 'unique_as_name': ['M247, GB']},\n",
       " 'at': {'unique_as_number': ['9009'], 'unique_as_name': ['M247, GB']},\n",
       " 'cz': {'unique_as_number': ['9009'], 'unique_as_name': ['M247, GB']},\n",
       " 'de': {'unique_as_number': ['209372', '9009'],\n",
       "  'unique_as_name': ['WSTELECOM_CUSTOMERS, LV', 'M247, GB']},\n",
       " 'sk': {'unique_as_number': ['11325'], 'unique_as_name': ['AS11325, US']},\n",
       " 'hu': {'unique_as_number': ['9009'], 'unique_as_name': ['M247, GB']}}"
      ]
     },
     "execution_count": 15,
     "metadata": {},
     "output_type": "execute_result"
    }
   ],
   "source": [
    "as_d"
   ]
  },
  {
   "cell_type": "code",
   "execution_count": 16,
   "id": "49bd8675-07fb-402e-9596-a3ae935774a4",
   "metadata": {},
   "outputs": [],
   "source": [
    "os.chdir(output_path_s)"
   ]
  },
  {
   "cell_type": "code",
   "execution_count": 17,
   "id": "c90d2a2c-6f3e-483c-b5f6-07bf17b178cb",
   "metadata": {},
   "outputs": [],
   "source": [
    "with open('country_as.json', 'w', encoding='utf-8') as f:\n",
    "    json.dump(as_d, f, ensure_ascii=False, indent=4)"
   ]
  },
  {
   "cell_type": "code",
   "execution_count": null,
   "id": "0365313d-3aad-4e98-81cd-eb1130e03276",
   "metadata": {},
   "outputs": [],
   "source": []
  }
 ],
 "metadata": {
  "kernelspec": {
   "display_name": "Python 3 (ipykernel)",
   "language": "python",
   "name": "python3"
  },
  "language_info": {
   "codemirror_mode": {
    "name": "ipython",
    "version": 3
   },
   "file_extension": ".py",
   "mimetype": "text/x-python",
   "name": "python",
   "nbconvert_exporter": "python",
   "pygments_lexer": "ipython3",
   "version": "3.9.7"
  }
 },
 "nbformat": 4,
 "nbformat_minor": 5
}
