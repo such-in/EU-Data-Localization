{
 "cells": [
  {
   "cell_type": "markdown",
   "id": "790f4bc2-13a6-4442-9046-a16d388e3a2d",
   "metadata": {},
   "source": [
    "# 1. Import packages"
   ]
  },
  {
   "cell_type": "code",
   "execution_count": 1,
   "id": "46e31b02-cee2-48f2-a080-bc9002d9eab2",
   "metadata": {},
   "outputs": [],
   "source": [
    "import glob\n",
    "import json\n",
    "import os\n",
    "import pandas as pd"
   ]
  },
  {
   "cell_type": "markdown",
   "id": "29aa2c4c-18b0-4e4f-9973-41f0aca66637",
   "metadata": {},
   "source": [
    "# 2. Read a txt file"
   ]
  },
  {
   "cell_type": "markdown",
   "id": "0b39d166-44bb-4bd8-94f3-94cf14b48926",
   "metadata": {},
   "source": [
    "## 2.1. Change to inputs directory"
   ]
  },
  {
   "cell_type": "code",
   "execution_count": 2,
   "id": "14a728eb-5ed9-4c0e-b528-7c0ada2dbca4",
   "metadata": {},
   "outputs": [
    {
     "name": "stdout",
     "output_type": "stream",
     "text": [
      "/Users/immanuel/Documents/NEU/05_Spring_2022/CS7675_ResAppr/tasks/MyLab/task15_EU_BrightData\n",
      "/Users/immanuel/Documents/NEU/05_Spring_2022/CS7675_ResAppr/tasks/MyLab/task15_EU_BrightData/inputs/logs\n"
     ]
    }
   ],
   "source": [
    "print(os.getcwd())\n",
    "input_path_s = \"/inputs/logs/\"\n",
    "input_path_s = os.getcwd() + input_path_s\n",
    "output_path_s = \"/outputs/logs/\"\n",
    "output_path_s = os.getcwd() + output_path_s\n",
    "os.chdir(input_path_s)\n",
    "print(os.getcwd())"
   ]
  },
  {
   "cell_type": "markdown",
   "id": "3899de9c-1a89-4afd-ac82-4dc9b479369f",
   "metadata": {},
   "source": [
    "## 2.2. Country List"
   ]
  },
  {
   "cell_type": "code",
   "execution_count": 3,
   "id": "f0fd0ab2-2aaa-455e-9807-dee1de260fa1",
   "metadata": {},
   "outputs": [],
   "source": [
    "country_l = next(os.walk('.'))[1]"
   ]
  },
  {
   "cell_type": "markdown",
   "id": "da202bed-75c7-4e64-baec-beea4c776ed9",
   "metadata": {},
   "source": [
    "# 3. Functions"
   ]
  },
  {
   "cell_type": "markdown",
   "id": "e460e1df-de0e-476a-9c23-4090224f450a",
   "metadata": {},
   "source": [
    "## 3.1. Read all txt log files and collect them in a dictionary"
   ]
  },
  {
   "cell_type": "code",
   "execution_count": 4,
   "id": "7293e8b2-5472-4a3a-b312-5eed9eeeedae",
   "metadata": {},
   "outputs": [],
   "source": [
    "def produce_log_dict():\n",
    "    '''\n",
    "    parameter: none\n",
    "    output: log dictionary\n",
    "    does: Read all txt log files and collect them in a dictionary\n",
    "    '''\n",
    "    log_d = dict()\n",
    "\n",
    "    for file in glob.glob(\"*.txt\"):\n",
    "\n",
    "        # Get the txt filename without the extension\n",
    "        txt_filename = os.path.splitext(file)[0]\n",
    "\n",
    "        if txt_filename[:1].isdigit():\n",
    "\n",
    "            # Parse AS number from txt_filename\n",
    "            dot_loc_i = txt_filename.find(\".\")\n",
    "            as_number_s = txt_filename[:dot_loc_i]\n",
    "\n",
    "            # If there is a number at the end of the filename, then remove.\n",
    "            if txt_filename[-1].isdigit():\n",
    "                txt_filename = txt_filename[:-1]\n",
    "\n",
    "            # Try whether txt_filename is in the dictionary\n",
    "            # If not, then assign into the dictionary\n",
    "            try:\n",
    "                log_d[txt_filename]\n",
    "                print(f\"DUPLICATE LOG FILE: {txt_filename}\")\n",
    "            except:\n",
    "                if os.path.getsize(file) > 500:\n",
    "                    log_d[txt_filename] = pd.read_csv(file, sep=\"\\n\", header=None, on_bad_lines='skip')\n",
    "                else:\n",
    "                    log_d[txt_filename] = pd.DataFrame()\n",
    "\n",
    "    print(f\"The length of log is: {len(log_d)}\")\n",
    "    return log_d"
   ]
  },
  {
   "cell_type": "markdown",
   "id": "f11bd0b2-38d8-4fd4-8248-1760a897496f",
   "metadata": {},
   "source": [
    "## 3.2. Count Request URL: FQDN"
   ]
  },
  {
   "cell_type": "code",
   "execution_count": 5,
   "id": "d3047b8d-687a-4733-9c9f-97d0d6c48012",
   "metadata": {},
   "outputs": [],
   "source": [
    "def produce_fqdn(request_series):\n",
    "    '''\n",
    "    parameter: Series of request queries\n",
    "    output: A set of FQDN and is_error binary file\n",
    "    does:\n",
    "    '''\n",
    "    fqdn_set = set()\n",
    "    is_error = False\n",
    "    # Loop through each request query\n",
    "    for req in request_series:\n",
    "        # If a request query is reached, then the it should start with \"{'request url':\"\n",
    "        if req[:15] == \"{'request url':\":\n",
    "            slash_loc_i = req.find(\"/\")\n",
    "            comma_loc_i = req.find(\",\")\n",
    "            url = req[slash_loc_i+2:comma_loc_i-1]\n",
    "\n",
    "            slash_loc_i = url.find(\"/\")\n",
    "            if slash_loc_i > 0:\n",
    "                url = url[:slash_loc_i]\n",
    "\n",
    "            question_mark_loc_i = url.find(\"?\")\n",
    "            if question_mark_loc_i > 0:\n",
    "                url = url[:question_mark_loc_i]\n",
    "\n",
    "            if \".\" in url:\n",
    "                fqdn_set.add(url)\n",
    "        else:\n",
    "            # Check whether a request inquery is <unknown or not>\n",
    "            if req[-9:] == \"<unknown>\":\n",
    "                is_error = True\n",
    "            \n",
    "    return fqdn_set, is_error"
   ]
  },
  {
   "cell_type": "markdown",
   "id": "b82a929a-fbf3-4427-adfe-be0bdc19ac6e",
   "metadata": {},
   "source": [
    "## 3.3. Collect and Run"
   ]
  },
  {
   "cell_type": "code",
   "execution_count": 6,
   "id": "4128ddbf-b75b-484c-a117-2cdff749f2e4",
   "metadata": {},
   "outputs": [],
   "source": [
    "def collect_and_run():\n",
    "    '''\n",
    "    parameter: Series of request queries\n",
    "    output: A set of FQDN and is_error binary file\n",
    "    does:\n",
    "    '''\n",
    "    log_d = produce_log_dict()\n",
    "    country_l = []\n",
    "    domain_l = []\n",
    "    as_number_l = []\n",
    "    n_fqdn_response_l = []\n",
    "    is_error_l = []\n",
    "    is_empty_l = []\n",
    "    \n",
    "    for log_name, resp_df in log_d.items():\n",
    "        # Parse country, target domain, and AS number based on log_name\n",
    "        dot_loc_i = log_name.find(\".\")\n",
    "        as_number_i = int(log_name[:dot_loc_i])\n",
    "        country_s = log_name[dot_loc_i+1:dot_loc_i+3]\n",
    "        domain_s = log_name[dot_loc_i+4:]\n",
    "\n",
    "        if resp_df.empty:\n",
    "            fqdn_set = set()\n",
    "            is_empty = True\n",
    "            is_error = False\n",
    "        else:\n",
    "            is_empty = False\n",
    "            # Please note that the column name in DataFrame is 0.\n",
    "            if len(resp_df[0]) > 1:\n",
    "                # Squeeze multiple Series into a Series\n",
    "                resp_ser = resp_df[0].squeeze()\n",
    "                fqdn_set, is_error = produce_fqdn(resp_ser)\n",
    "            else:\n",
    "                fqdn_set, is_error = produce_fqdn(resp_df[0])\n",
    "\n",
    "        # Collect into lists\n",
    "        country_l.append(country_s)\n",
    "        domain_l.append(domain_s)\n",
    "        as_number_l.append(as_number_i)\n",
    "        n_fqdn_response_l.append(len(fqdn_set))\n",
    "        is_error_l.append(is_error)\n",
    "        is_empty_l.append(is_empty)\n",
    "    \n",
    "    return country_l, domain_l, as_number_l, n_fqdn_response_l, is_error_l, is_empty_l"
   ]
  },
  {
   "cell_type": "markdown",
   "id": "f48d06b2-ec9f-43fd-9b58-a7376f37de26",
   "metadata": {},
   "source": [
    "## 3.4. Save"
   ]
  },
  {
   "cell_type": "code",
   "execution_count": 7,
   "id": "14d1057b-c577-4352-8de3-524bb7e58b3f",
   "metadata": {},
   "outputs": [],
   "source": [
    "def save(country, country_l, domain_l, as_number_l, n_fqdn_response_l, is_error_l, is_empty_l):\n",
    "    '''\n",
    "    parameter: country string\n",
    "    output: Save as CSV\n",
    "    does: Change directory to the right country one and then save DF as CSV\n",
    "    '''\n",
    "    col_l = [\"country\", \"target_domain\", \"as_number\", \"#fqdn_in_response\", \"is_error\", \"is_empty\"]\n",
    "    df = pd.DataFrame(list(zip(country_l, domain_l, as_number_l, n_fqdn_response_l, is_error_l, is_empty_l)), columns = col_l)\n",
    "    \n",
    "    country_output_path_s = output_path_s + country\n",
    "    is_path_exist = os.path.exists(country_output_path_s)\n",
    "    \n",
    "    if not is_path_exist:\n",
    "        # Create a new directory because it does not exist \n",
    "        os.makedirs(country_output_path_s)\n",
    "        print(\"The new directory is created!\")\n",
    "    \n",
    "    os.chdir(country_output_path_s)\n",
    "    print(os.getcwd())\n",
    "    \n",
    "    df.to_csv(f\"{country}.csv\", index=False)"
   ]
  },
  {
   "cell_type": "markdown",
   "id": "4369376d-09fb-4a0b-a48f-dc506df96cfb",
   "metadata": {},
   "source": [
    "# 4. Run"
   ]
  },
  {
   "cell_type": "code",
   "execution_count": 9,
   "id": "2b199a02-cf3c-4616-9035-e35ffa26db3d",
   "metadata": {},
   "outputs": [
    {
     "name": "stdout",
     "output_type": "stream",
     "text": [
      "=== === === cz === === ===\n",
      "/Users/immanuel/Documents/NEU/05_Spring_2022/CS7675_ResAppr/tasks/MyLab/task15_EU_BrightData/inputs/logs/cz\n",
      "The length of log is: 5200\n",
      "The new directory is created!\n",
      "/Users/immanuel/Documents/NEU/05_Spring_2022/CS7675_ResAppr/tasks/MyLab/task15_EU_BrightData/outputs/logs/cz\n"
     ]
    }
   ],
   "source": [
    "for country in country_l:\n",
    "    print(f\"=== === === {country} === === ===\")\n",
    "    country_input_path_s = input_path_s + country\n",
    "    os.chdir(country_input_path_s)\n",
    "    print(os.getcwd())\n",
    "   \n",
    "    country_l, domain_l, as_number_l, n_fqdn_response_l, is_error_l, is_empty_l = collect_and_run()\n",
    "    save(country, country_l, domain_l, as_number_l, n_fqdn_response_l, is_error_l, is_empty_l)"
   ]
  },
  {
   "cell_type": "markdown",
   "id": "694e184a-2ef0-4fa2-8d11-e69dc6d34332",
   "metadata": {},
   "source": [
    "# 5. Statistics"
   ]
  },
  {
   "cell_type": "code",
   "execution_count": 16,
   "id": "c6a2fe19-7be5-46e9-ba7e-0fe0f38ecfe9",
   "metadata": {},
   "outputs": [],
   "source": [
    "concise_country_l = []\n",
    "response_rate_l = []\n",
    "error_rate_l = []\n",
    "empty_rate_l = []\n",
    "n_query_l = []\n",
    "n_response_l = []"
   ]
  },
  {
   "cell_type": "code",
   "execution_count": 17,
   "id": "c5296c7e-4cb3-45ce-9fe1-35e776614714",
   "metadata": {},
   "outputs": [
    {
     "name": "stdout",
     "output_type": "stream",
     "text": [
      "=== === === sk === === ===\n",
      "/Users/immanuel/Documents/NEU/05_Spring_2022/CS7675_ResAppr/tasks/MyLab/task15_EU_BrightData/outputs/logs/sk\n",
      "=== === === se === === ===\n",
      "/Users/immanuel/Documents/NEU/05_Spring_2022/CS7675_ResAppr/tasks/MyLab/task15_EU_BrightData/outputs/logs/se\n",
      "=== === === pl === === ===\n",
      "/Users/immanuel/Documents/NEU/05_Spring_2022/CS7675_ResAppr/tasks/MyLab/task15_EU_BrightData/outputs/logs/pl\n",
      "=== === === mt === === ===\n",
      "/Users/immanuel/Documents/NEU/05_Spring_2022/CS7675_ResAppr/tasks/MyLab/task15_EU_BrightData/outputs/logs/mt\n",
      "=== === === be === === ===\n",
      "/Users/immanuel/Documents/NEU/05_Spring_2022/CS7675_ResAppr/tasks/MyLab/task15_EU_BrightData/outputs/logs/be\n",
      "=== === === gr === === ===\n",
      "/Users/immanuel/Documents/NEU/05_Spring_2022/CS7675_ResAppr/tasks/MyLab/task15_EU_BrightData/outputs/logs/gr\n",
      "=== === === ee === === ===\n",
      "/Users/immanuel/Documents/NEU/05_Spring_2022/CS7675_ResAppr/tasks/MyLab/task15_EU_BrightData/outputs/logs/ee\n",
      "=== === === lv === === ===\n",
      "/Users/immanuel/Documents/NEU/05_Spring_2022/CS7675_ResAppr/tasks/MyLab/task15_EU_BrightData/outputs/logs/lv\n",
      "=== === === it === === ===\n",
      "/Users/immanuel/Documents/NEU/05_Spring_2022/CS7675_ResAppr/tasks/MyLab/task15_EU_BrightData/outputs/logs/it\n",
      "=== === === cz === === ===\n",
      "/Users/immanuel/Documents/NEU/05_Spring_2022/CS7675_ResAppr/tasks/MyLab/task15_EU_BrightData/outputs/logs/cz\n",
      "=== === === ro === === ===\n",
      "/Users/immanuel/Documents/NEU/05_Spring_2022/CS7675_ResAppr/tasks/MyLab/task15_EU_BrightData/outputs/logs/ro\n",
      "=== === === pt === === ===\n",
      "/Users/immanuel/Documents/NEU/05_Spring_2022/CS7675_ResAppr/tasks/MyLab/task15_EU_BrightData/outputs/logs/pt\n",
      "=== === === si === === ===\n",
      "/Users/immanuel/Documents/NEU/05_Spring_2022/CS7675_ResAppr/tasks/MyLab/task15_EU_BrightData/outputs/logs/si\n",
      "=== === === hr === === ===\n",
      "/Users/immanuel/Documents/NEU/05_Spring_2022/CS7675_ResAppr/tasks/MyLab/task15_EU_BrightData/outputs/logs/hr\n",
      "=== === === hu === === ===\n",
      "/Users/immanuel/Documents/NEU/05_Spring_2022/CS7675_ResAppr/tasks/MyLab/task15_EU_BrightData/outputs/logs/hu\n",
      "=== === === nl === === ===\n",
      "/Users/immanuel/Documents/NEU/05_Spring_2022/CS7675_ResAppr/tasks/MyLab/task15_EU_BrightData/outputs/logs/nl\n",
      "=== === === bg === === ===\n",
      "/Users/immanuel/Documents/NEU/05_Spring_2022/CS7675_ResAppr/tasks/MyLab/task15_EU_BrightData/outputs/logs/bg\n",
      "=== === === at === === ===\n",
      "/Users/immanuel/Documents/NEU/05_Spring_2022/CS7675_ResAppr/tasks/MyLab/task15_EU_BrightData/outputs/logs/at\n",
      "=== === === de === === ===\n",
      "/Users/immanuel/Documents/NEU/05_Spring_2022/CS7675_ResAppr/tasks/MyLab/task15_EU_BrightData/outputs/logs/de\n",
      "=== === === dk === === ===\n",
      "/Users/immanuel/Documents/NEU/05_Spring_2022/CS7675_ResAppr/tasks/MyLab/task15_EU_BrightData/outputs/logs/dk\n",
      "=== === === fi === === ===\n",
      "/Users/immanuel/Documents/NEU/05_Spring_2022/CS7675_ResAppr/tasks/MyLab/task15_EU_BrightData/outputs/logs/fi\n",
      "=== === === lu === === ===\n",
      "/Users/immanuel/Documents/NEU/05_Spring_2022/CS7675_ResAppr/tasks/MyLab/task15_EU_BrightData/outputs/logs/lu\n",
      "=== === === fr === === ===\n",
      "/Users/immanuel/Documents/NEU/05_Spring_2022/CS7675_ResAppr/tasks/MyLab/task15_EU_BrightData/outputs/logs/fr\n",
      "=== === === es === === ===\n",
      "/Users/immanuel/Documents/NEU/05_Spring_2022/CS7675_ResAppr/tasks/MyLab/task15_EU_BrightData/outputs/logs/es\n",
      "=== === === ie === === ===\n",
      "/Users/immanuel/Documents/NEU/05_Spring_2022/CS7675_ResAppr/tasks/MyLab/task15_EU_BrightData/outputs/logs/ie\n",
      "=== === === lt === === ===\n",
      "/Users/immanuel/Documents/NEU/05_Spring_2022/CS7675_ResAppr/tasks/MyLab/task15_EU_BrightData/outputs/logs/lt\n",
      "=== === === cy === === ===\n",
      "/Users/immanuel/Documents/NEU/05_Spring_2022/CS7675_ResAppr/tasks/MyLab/task15_EU_BrightData/outputs/logs/cy\n"
     ]
    }
   ],
   "source": [
    "for country in country_l:\n",
    "    print(f\"=== === === {country} === === ===\")\n",
    "    country_output_path_s = output_path_s + country\n",
    "    os.chdir(country_output_path_s)\n",
    "    print(os.getcwd())\n",
    "    \n",
    "    df = pd.read_csv(f\"{country}.csv\")\n",
    "\n",
    "    is_response_i = sum(df[\"#fqdn_in_response\"] != 0)\n",
    "    is_not_response_i = sum(df[\"#fqdn_in_response\"] == 0)\n",
    "    is_error_i = sum(df[\"is_error\"] == True)\n",
    "    is_not_error_i = sum(df[\"is_error\"] == False)\n",
    "    is_empty_i = sum(df[\"is_empty\"] == True)\n",
    "    is_not_empty_i = sum(df[\"is_empty\"] == False)\n",
    "    n_query_i = len(df[\"country\"])\n",
    "    \n",
    "    if is_response_i + is_not_response_i != n_query_i:\n",
    "        print(\"response row count is incorrect!\")\n",
    "    if is_error_i + is_not_error_i != n_query_i:\n",
    "        print(\"error row count is incorrect!\")\n",
    "    if is_empty_i + is_not_empty_i != n_query_i:\n",
    "        print(\"empty row count is incorrect!\")\n",
    "\n",
    "    concise_country_l.append(country)\n",
    "    n_query_l.append(n_query_i)\n",
    "    n_response_l.append(sum(df[\"#fqdn_in_response\"]))\n",
    "    if n_query_i == 0:\n",
    "        response_rate_l.append(\"\")\n",
    "        error_rate_l.append(\"\")\n",
    "        empty_rate_l.append(\"\")\n",
    "    else:\n",
    "        response_rate_l.append(\"{:.5f}\".format(is_response_i / n_query_i * 100) + \" %\")\n",
    "        error_rate_l.append(\"{:.5f}\".format(is_error_i / n_query_i * 100) + \" %\")\n",
    "        empty_rate_l.append(\"{:.5f}\".format(is_empty_i / n_query_i * 100) + \" %\")"
   ]
  },
  {
   "cell_type": "code",
   "execution_count": 18,
   "id": "1265068a-639f-4c0c-ac50-7f1de4bb356f",
   "metadata": {},
   "outputs": [
    {
     "name": "stdout",
     "output_type": "stream",
     "text": [
      "/Users/immanuel/Documents/NEU/05_Spring_2022/CS7675_ResAppr/tasks/MyLab/task15_EU_BrightData/outputs/logs\n"
     ]
    }
   ],
   "source": [
    "col_l = [\"country\", \"response_rate\", \"error_rate\", \"empty_rate\", \"number_of_queries\", \"number_of_responses\"]\n",
    "df = pd.DataFrame(list(zip(concise_country_l, response_rate_l, error_rate_l, empty_rate_l, n_query_l, n_response_l)), columns = col_l)\n",
    "\n",
    "os.chdir(output_path_s)\n",
    "print(os.getcwd())\n",
    "\n",
    "df.to_csv(f\"statistics.csv\", index=False)"
   ]
  },
  {
   "cell_type": "code",
   "execution_count": null,
   "id": "da3ad673-c878-4bba-9578-d2371ce7a17f",
   "metadata": {},
   "outputs": [],
   "source": []
  }
 ],
 "metadata": {
  "kernelspec": {
   "display_name": "Python 3 (ipykernel)",
   "language": "python",
   "name": "python3"
  },
  "language_info": {
   "codemirror_mode": {
    "name": "ipython",
    "version": 3
   },
   "file_extension": ".py",
   "mimetype": "text/x-python",
   "name": "python",
   "nbconvert_exporter": "python",
   "pygments_lexer": "ipython3",
   "version": "3.9.7"
  }
 },
 "nbformat": 4,
 "nbformat_minor": 5
}
