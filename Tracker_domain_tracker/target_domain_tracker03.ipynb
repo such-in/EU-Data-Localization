{
 "cells": [
  {
   "cell_type": "markdown",
   "id": "d1ce869f-2def-4748-9864-f59810c8ec1c",
   "metadata": {},
   "source": [
    "# 1. Import packages"
   ]
  },
  {
   "cell_type": "code",
   "execution_count": 18,
   "id": "43555b46-8a81-404e-987e-6d12064e2098",
   "metadata": {},
   "outputs": [],
   "source": [
    "import copy\n",
    "import os\n",
    "import pandas as pd\n",
    "\n",
    "from tld import get_fld"
   ]
  },
  {
   "cell_type": "markdown",
   "id": "31ebf1cf-99cc-4e0a-bf14-5c9e4ab32fdd",
   "metadata": {},
   "source": [
    "# 2. Read a TXT"
   ]
  },
  {
   "cell_type": "markdown",
   "id": "a96bce02-2ce7-4066-b6b6-9d40fbdaa51c",
   "metadata": {},
   "source": [
    "## 2.1. Change to input directory"
   ]
  },
  {
   "cell_type": "code",
   "execution_count": 2,
   "id": "126f78a3-19b3-4572-920f-f0e8ecfe7c34",
   "metadata": {},
   "outputs": [
    {
     "name": "stdout",
     "output_type": "stream",
     "text": [
      "/Users/immanuel/Documents/NEU/05_Spring_2022/CS7675_ResAppr/tasks/MyLab/task18_tracker_domain_tracker\n",
      "/Users/immanuel/Documents/NEU/05_Spring_2022/CS7675_ResAppr/tasks/MyLab/task18_tracker_domain_tracker/input\n"
     ]
    }
   ],
   "source": [
    "print(os.getcwd())\n",
    "input_path_s = \"/input/\"\n",
    "input_path_s = os.getcwd() + input_path_s\n",
    "output_path_s = \"/output/\"\n",
    "output_path_s = os.getcwd() + output_path_s\n",
    "os.chdir(input_path_s)\n",
    "print(os.getcwd())"
   ]
  },
  {
   "cell_type": "markdown",
   "id": "b4ea73c0-61b2-49f9-ab36-91b40a658d51",
   "metadata": {},
   "source": [
    "## 2.2. Read additional-trackers-all-sources.txt"
   ]
  },
  {
   "cell_type": "code",
   "execution_count": 3,
   "id": "b52663ac-c44d-43ea-960b-754e9047382d",
   "metadata": {},
   "outputs": [
    {
     "name": "stdout",
     "output_type": "stream",
     "text": [
      "(273, 1)\n"
     ]
    }
   ],
   "source": [
    "tracker_df = pd.read_csv(\"additional-trackers-all-sources.txt\", header=None)\n",
    "print(tracker_df.shape)"
   ]
  },
  {
   "cell_type": "code",
   "execution_count": 4,
   "id": "e355d118-9347-473d-a314-aa8232245ea9",
   "metadata": {},
   "outputs": [
    {
     "name": "stdout",
     "output_type": "stream",
     "text": [
      "273\n",
      "['fwmrm.net', 'ad.gt', 'teads.tv', 'dotomi.com', 'ads-twitter.com', 'intelligenceadx.com', 'strossle.com', 'adskeeper.com', 'pagefair.net', 'crm4d.com']\n"
     ]
    }
   ],
   "source": [
    "tracker_l = list(tracker_df[0])\n",
    "del tracker_df\n",
    "print(len(tracker_l))\n",
    "print(tracker_l[:10])"
   ]
  },
  {
   "cell_type": "markdown",
   "id": "9a67d372-6f58-4c3a-88fd-0b458d6a226c",
   "metadata": {},
   "source": [
    "## 2.3. Read measurement_ids_kicho_tracker.txt"
   ]
  },
  {
   "cell_type": "code",
   "execution_count": 5,
   "id": "1e64e56c-b5ef-4b8d-9043-ed2e96786b50",
   "metadata": {},
   "outputs": [
    {
     "name": "stdout",
     "output_type": "stream",
     "text": [
      "(494261, 6)\n"
     ]
    }
   ],
   "source": [
    "target_domain_df = pd.read_csv(\"measurement_ids_kicho_tracker.txt\", header=None)\n",
    "print(target_domain_df.shape)"
   ]
  },
  {
   "cell_type": "code",
   "execution_count": 6,
   "id": "4acef471-0041-48e2-ab6e-4ac71f3c45eb",
   "metadata": {},
   "outputs": [
    {
     "data": {
      "text/html": [
       "<div>\n",
       "<style scoped>\n",
       "    .dataframe tbody tr th:only-of-type {\n",
       "        vertical-align: middle;\n",
       "    }\n",
       "\n",
       "    .dataframe tbody tr th {\n",
       "        vertical-align: top;\n",
       "    }\n",
       "\n",
       "    .dataframe thead th {\n",
       "        text-align: right;\n",
       "    }\n",
       "</style>\n",
       "<table border=\"1\" class=\"dataframe\">\n",
       "  <thead>\n",
       "    <tr style=\"text-align: right;\">\n",
       "      <th></th>\n",
       "      <th>0</th>\n",
       "      <th>1</th>\n",
       "      <th>2</th>\n",
       "      <th>3</th>\n",
       "      <th>4</th>\n",
       "      <th>5</th>\n",
       "    </tr>\n",
       "  </thead>\n",
       "  <tbody>\n",
       "    <tr>\n",
       "      <th>0</th>\n",
       "      <td>0</td>\n",
       "      <td>de</td>\n",
       "      <td>39835</td>\n",
       "      <td>www.instagram.com</td>\n",
       "      <td>42506263.0</td>\n",
       "      <td>False</td>\n",
       "    </tr>\n",
       "    <tr>\n",
       "      <th>1</th>\n",
       "      <td>1</td>\n",
       "      <td>de</td>\n",
       "      <td>39835</td>\n",
       "      <td>twitter.com</td>\n",
       "      <td>42506264.0</td>\n",
       "      <td>True</td>\n",
       "    </tr>\n",
       "    <tr>\n",
       "      <th>2</th>\n",
       "      <td>2</td>\n",
       "      <td>de</td>\n",
       "      <td>39835</td>\n",
       "      <td>s0.2mdn.net</td>\n",
       "      <td>42506265.0</td>\n",
       "      <td>False</td>\n",
       "    </tr>\n",
       "    <tr>\n",
       "      <th>3</th>\n",
       "      <td>3</td>\n",
       "      <td>de</td>\n",
       "      <td>39835</td>\n",
       "      <td>www.clarity.ms</td>\n",
       "      <td>42506266.0</td>\n",
       "      <td>False</td>\n",
       "    </tr>\n",
       "    <tr>\n",
       "      <th>4</th>\n",
       "      <td>4</td>\n",
       "      <td>de</td>\n",
       "      <td>39835</td>\n",
       "      <td>www.filmix.ac</td>\n",
       "      <td>42506267.0</td>\n",
       "      <td>False</td>\n",
       "    </tr>\n",
       "    <tr>\n",
       "      <th>...</th>\n",
       "      <td>...</td>\n",
       "      <td>...</td>\n",
       "      <td>...</td>\n",
       "      <td>...</td>\n",
       "      <td>...</td>\n",
       "      <td>...</td>\n",
       "    </tr>\n",
       "    <tr>\n",
       "      <th>494256</th>\n",
       "      <td>494256</td>\n",
       "      <td>cz</td>\n",
       "      <td>44489</td>\n",
       "      <td>cdn.speedcurve.com</td>\n",
       "      <td>43832951.0</td>\n",
       "      <td>False</td>\n",
       "    </tr>\n",
       "    <tr>\n",
       "      <th>494257</th>\n",
       "      <td>494257</td>\n",
       "      <td>cz</td>\n",
       "      <td>44489</td>\n",
       "      <td>img.kurzy.cz</td>\n",
       "      <td>43832953.0</td>\n",
       "      <td>False</td>\n",
       "    </tr>\n",
       "    <tr>\n",
       "      <th>494258</th>\n",
       "      <td>494258</td>\n",
       "      <td>cz</td>\n",
       "      <td>44489</td>\n",
       "      <td>report.prozeny.cz</td>\n",
       "      <td>43832954.0</td>\n",
       "      <td>False</td>\n",
       "    </tr>\n",
       "    <tr>\n",
       "      <th>494259</th>\n",
       "      <td>494259</td>\n",
       "      <td>cz</td>\n",
       "      <td>44489</td>\n",
       "      <td>pro.mapy.cz</td>\n",
       "      <td>43832955.0</td>\n",
       "      <td>False</td>\n",
       "    </tr>\n",
       "    <tr>\n",
       "      <th>494260</th>\n",
       "      <td>494260</td>\n",
       "      <td>cz</td>\n",
       "      <td>44489</td>\n",
       "      <td>region1.analytics.google.com</td>\n",
       "      <td>43832956.0</td>\n",
       "      <td>True</td>\n",
       "    </tr>\n",
       "  </tbody>\n",
       "</table>\n",
       "<p>494261 rows × 6 columns</p>\n",
       "</div>"
      ],
      "text/plain": [
       "             0   1      2                             3           4      5\n",
       "0            0  de  39835             www.instagram.com  42506263.0  False\n",
       "1            1  de  39835                   twitter.com  42506264.0   True\n",
       "2            2  de  39835                   s0.2mdn.net  42506265.0  False\n",
       "3            3  de  39835                www.clarity.ms  42506266.0  False\n",
       "4            4  de  39835                 www.filmix.ac  42506267.0  False\n",
       "...        ...  ..    ...                           ...         ...    ...\n",
       "494256  494256  cz  44489            cdn.speedcurve.com  43832951.0  False\n",
       "494257  494257  cz  44489                  img.kurzy.cz  43832953.0  False\n",
       "494258  494258  cz  44489             report.prozeny.cz  43832954.0  False\n",
       "494259  494259  cz  44489                   pro.mapy.cz  43832955.0  False\n",
       "494260  494260  cz  44489  region1.analytics.google.com  43832956.0   True\n",
       "\n",
       "[494261 rows x 6 columns]"
      ]
     },
     "execution_count": 6,
     "metadata": {},
     "output_type": "execute_result"
    }
   ],
   "source": [
    "target_domain_df"
   ]
  },
  {
   "cell_type": "code",
   "execution_count": 7,
   "id": "02553c46-6168-49b1-a401-b4e864c63150",
   "metadata": {},
   "outputs": [],
   "source": [
    "target_domain_df.columns = [\"seq\", \"country\", \"asn\", \"target_domain\", \"measurement_id\", \"is_tracker\"]"
   ]
  },
  {
   "cell_type": "code",
   "execution_count": 8,
   "id": "bb156528-12af-4343-93ab-f12647a7a293",
   "metadata": {},
   "outputs": [
    {
     "data": {
      "text/html": [
       "<div>\n",
       "<style scoped>\n",
       "    .dataframe tbody tr th:only-of-type {\n",
       "        vertical-align: middle;\n",
       "    }\n",
       "\n",
       "    .dataframe tbody tr th {\n",
       "        vertical-align: top;\n",
       "    }\n",
       "\n",
       "    .dataframe thead th {\n",
       "        text-align: right;\n",
       "    }\n",
       "</style>\n",
       "<table border=\"1\" class=\"dataframe\">\n",
       "  <thead>\n",
       "    <tr style=\"text-align: right;\">\n",
       "      <th></th>\n",
       "      <th>seq</th>\n",
       "      <th>country</th>\n",
       "      <th>asn</th>\n",
       "      <th>target_domain</th>\n",
       "      <th>measurement_id</th>\n",
       "      <th>is_tracker</th>\n",
       "    </tr>\n",
       "  </thead>\n",
       "  <tbody>\n",
       "    <tr>\n",
       "      <th>0</th>\n",
       "      <td>0</td>\n",
       "      <td>de</td>\n",
       "      <td>39835</td>\n",
       "      <td>www.instagram.com</td>\n",
       "      <td>42506263.0</td>\n",
       "      <td>False</td>\n",
       "    </tr>\n",
       "    <tr>\n",
       "      <th>1</th>\n",
       "      <td>1</td>\n",
       "      <td>de</td>\n",
       "      <td>39835</td>\n",
       "      <td>twitter.com</td>\n",
       "      <td>42506264.0</td>\n",
       "      <td>True</td>\n",
       "    </tr>\n",
       "    <tr>\n",
       "      <th>2</th>\n",
       "      <td>2</td>\n",
       "      <td>de</td>\n",
       "      <td>39835</td>\n",
       "      <td>s0.2mdn.net</td>\n",
       "      <td>42506265.0</td>\n",
       "      <td>False</td>\n",
       "    </tr>\n",
       "    <tr>\n",
       "      <th>3</th>\n",
       "      <td>3</td>\n",
       "      <td>de</td>\n",
       "      <td>39835</td>\n",
       "      <td>www.clarity.ms</td>\n",
       "      <td>42506266.0</td>\n",
       "      <td>False</td>\n",
       "    </tr>\n",
       "    <tr>\n",
       "      <th>4</th>\n",
       "      <td>4</td>\n",
       "      <td>de</td>\n",
       "      <td>39835</td>\n",
       "      <td>www.filmix.ac</td>\n",
       "      <td>42506267.0</td>\n",
       "      <td>False</td>\n",
       "    </tr>\n",
       "  </tbody>\n",
       "</table>\n",
       "</div>"
      ],
      "text/plain": [
       "   seq country    asn      target_domain  measurement_id  is_tracker\n",
       "0    0      de  39835  www.instagram.com      42506263.0       False\n",
       "1    1      de  39835        twitter.com      42506264.0        True\n",
       "2    2      de  39835        s0.2mdn.net      42506265.0       False\n",
       "3    3      de  39835     www.clarity.ms      42506266.0       False\n",
       "4    4      de  39835      www.filmix.ac      42506267.0       False"
      ]
     },
     "execution_count": 8,
     "metadata": {},
     "output_type": "execute_result"
    }
   ],
   "source": [
    "target_domain_df.head(5)"
   ]
  },
  {
   "cell_type": "markdown",
   "id": "4b7efce2-1cf1-4981-a4aa-86d6528f0a48",
   "metadata": {},
   "source": [
    "## 2.4. tld_l and two_letter_tld_set"
   ]
  },
  {
   "cell_type": "code",
   "execution_count": 40,
   "id": "f415ada4-7d82-43cb-a638-d1585f6967d5",
   "metadata": {},
   "outputs": [],
   "source": [
    "tld_l = list(pd.read_csv(\"tld-list-basic.txt\", header=None)[0])"
   ]
  },
  {
   "cell_type": "code",
   "execution_count": 41,
   "id": "aaccb6b2-d4e7-4334-84c3-be54b07cec96",
   "metadata": {},
   "outputs": [
    {
     "name": "stdout",
     "output_type": "stream",
     "text": [
      "317\n",
      "{'.um', '.ag', '.nc', '.ml', '.bg', '.台灣', '.jo', '.af', '.sc', '.tl', '.st', '.cr', '.cy', '.nz', '.mk', '.ar', '.gs', '.hu', '.be', '.dk', '.cg', '.jm', '.mm', '.bi', '.am', '.al', '.hk', '.je', '.pf', '.ht', '.co', '.la', '.vu', '.au', '.移动', '.世界', '.tk', '.cv', '.健康', '.cx', '.cz', '.sz', '.信息', '.pe', '.公益', '.gd', '.td', '.mr', '.lt', '.mz', '.ad', '.珠宝', '.vg', '.mh', '.bz', '.cf', '.es', '.qa', '.购物', '.ne', '.aq', '.ge', '.kw', '.cu', '.嘉里', '.ao', '.ke', '.測試', '.ls', '.mn', '.jp', '.广东', '.pk', '.商城', '.zw', '.rw', '.br', '.lu', '.网店', '.测试', '.dj', '.eu', '.八卦', '.通販', '.gn', '.澳門', '.gh', '.佛山', '.by', '.გე', '.pa', '.ms', '.ec', '.su', '.pt', '.cd', '.bn', '.中国', '.fr', '.mq', '.tz', '.pn', '.ie', '.mc', '.no', '.sg', '.娱乐', '.tw', '.集团', '.lr', '.tc', '.kh', '.eg', '.cw', '.sr', '.md', '.gf', '.ki', '.tj', '.ευ', '.zm', '.py', '.pl', '.时尚', '.mg', '.餐厅', '.vi', '.tp', '.nl', '.mo', '.sb', '.im', '.vc', '.mf', '.机构', '.li', '.kg', '.닷넷', '.lb', '.bf', '.ma', '.手机', '.fj', '.商店', '.ua', '.vn', '.bd', '.бг', '.an', '.ky', '.so', '.ci', '.uy', '.コム', '.中國', '.ga', '.fk', '.gm', '.dz', '.kr', '.삼성', '.az', '.it', '.il', '.gp', '.lc', '.mu', '.et', '.慈善', '.gu', '.ye', '.gl', '.fo', '.ae', '.网站', '.za', '.pg', '.sd', '.bb', '.gw', '.pw', '.政府', '.fm', '.lv', '.do', '.微博', '.谷歌', '.us', '.ir', '.yt', '.gq', '.dm', '.to', '.企业', '.sk', '.me', '.si', '.at', '.eh', '.ro', '.tm', '.uz', '.de', '.cn', '.cm', '.sj', '.tn', '.rs', '.bv', '.家電', '.ею', '.ug', '.한국', '.mx', '.my', '.mp', '.ph', '.ac', '.bj', '.hm', '.tv', '.ca', '.sh', '.大拿', '.gr', '.id', '.招聘', '.台湾', '.公司', '.食品', '.bw', '.na', '.ck', '.bm', '.ws', '.bs', '.tg', '.uk', '.kn', '.gt', '.ee', '.th', '.er', '.hn', '.工行', '.手表', '.联通', '.cc', '.wf', '.re', '.mw', '.hr', '.ni', '.ss', '.在线', '.新闻', '.sn', '.gb', '.游戏', '.pm', '.cl', '.ch', '.ps', '.gg', '.iq', '.書籍', '.点看', '.km', '.bh', '.se', '.닷컴', '.nu', '.mt', '.as', '.pr', '.ru', '.is', '.aw', '.ba', '.ve', '.tt', '.lk', '.bq', '.tf', '.tr', '.网址', '.sv', '.sx', '.bo', '.sm', '.bt', '.bl', '.ελ', '.in', '.网络', '.gy', '.kp', '.kz', '.gi', '.sl', '.政务', '.sy', '.商标', '.om', '.中信', '.nf', '.va', '.fi', '.ax', '.ly', '.sa', '.nr', '.рф', '.ng', '.香港', '.np', '.mv'}\n"
     ]
    }
   ],
   "source": [
    "two_letter_tld_set = set()\n",
    "\n",
    "# I am pretty sure there is a way to parse and read at the same time, instead of reading all at once.\n",
    "for tld in tld_l:\n",
    "    if len(tld) == 2:\n",
    "        two_letter_tld_set.add(\".\" + tld)\n",
    "\n",
    "two_letter_tld_set -= set([\".ai\", \".io\"])\n",
    "print(len(two_letter_tld_set))\n",
    "print(two_letter_tld_set)"
   ]
  },
  {
   "cell_type": "markdown",
   "id": "35c509ef-e300-4df5-af18-1fc1102e247f",
   "metadata": {},
   "source": [
    "# 3. Validate the current input files"
   ]
  },
  {
   "cell_type": "markdown",
   "id": "20e63811-39a9-455c-af1e-a4425836be61",
   "metadata": {},
   "source": [
    "## 3.1 All FLD in tracker_l?"
   ]
  },
  {
   "cell_type": "code",
   "execution_count": 9,
   "id": "a8e4717c-c682-4b34-95ba-1383b1e2f79c",
   "metadata": {},
   "outputs": [
    {
     "name": "stdout",
     "output_type": "stream",
     "text": [
      "adskeeper.co.uk\n",
      "anm.co.uk\n",
      "dmgmediaprivacy.co.uk\n",
      "google.com.sv\n",
      "google.com.tr\n"
     ]
    }
   ],
   "source": [
    "for tracker in tracker_l:\n",
    "    if tracker.count(\".\") > 1:\n",
    "        print(tracker)"
   ]
  },
  {
   "cell_type": "markdown",
   "id": "60373a13-c23d-4d93-81e8-8e881cd3b37e",
   "metadata": {},
   "source": [
    "## 3.2. How many true in the last column in target_domain_df?"
   ]
  },
  {
   "cell_type": "code",
   "execution_count": 10,
   "id": "fb1a2714-150b-4972-9f38-0c47fa282e5c",
   "metadata": {},
   "outputs": [
    {
     "data": {
      "text/plain": [
       "False    401228\n",
       "True      93033\n",
       "Name: is_tracker, dtype: int64"
      ]
     },
     "execution_count": 10,
     "metadata": {},
     "output_type": "execute_result"
    }
   ],
   "source": [
    "target_domain_df[\"is_tracker\"].value_counts()"
   ]
  },
  {
   "cell_type": "code",
   "execution_count": 11,
   "id": "806bfd40-1912-49f1-9f76-fe9d1cc6cc31",
   "metadata": {},
   "outputs": [
    {
     "data": {
      "text/plain": [
       "False    0.811774\n",
       "True     0.188226\n",
       "Name: is_tracker, dtype: float64"
      ]
     },
     "execution_count": 11,
     "metadata": {},
     "output_type": "execute_result"
    }
   ],
   "source": [
    "target_domain_df[\"is_tracker\"].value_counts(normalize=True)"
   ]
  },
  {
   "cell_type": "markdown",
   "id": "31add739-0505-492f-bfd5-c08b4b7fc1c1",
   "metadata": {},
   "source": [
    "## 3.3. Is tracker_l unique?"
   ]
  },
  {
   "cell_type": "code",
   "execution_count": 12,
   "id": "fb19518e-2425-4e8c-8b9f-285cec663795",
   "metadata": {},
   "outputs": [
    {
     "name": "stdout",
     "output_type": "stream",
     "text": [
      "False\n",
      "-1\n"
     ]
    }
   ],
   "source": [
    "print(len(set(tracker_l)) == len(tracker_l))\n",
    "print(len(set(tracker_l)) - len(tracker_l))"
   ]
  },
  {
   "cell_type": "markdown",
   "id": "70cfd369-a3b8-4db6-a312-c3c1ae216a1e",
   "metadata": {},
   "source": [
    "### 3.3.1. Use tracker_set"
   ]
  },
  {
   "cell_type": "code",
   "execution_count": 13,
   "id": "b8842462-be40-4f6e-bcb0-e7d757b9a46d",
   "metadata": {},
   "outputs": [],
   "source": [
    "tracker_set = set(tracker_l)"
   ]
  },
  {
   "cell_type": "markdown",
   "id": "22d90cd4-4395-44b2-916b-dd40abcf38c4",
   "metadata": {},
   "source": [
    "# 4. FLD column"
   ]
  },
  {
   "cell_type": "markdown",
   "id": "073c8749-50e3-49e6-88cb-f76de7099697",
   "metadata": {},
   "source": [
    "## 4.1. Initial target_domain_fld_l"
   ]
  },
  {
   "cell_type": "code",
   "execution_count": 16,
   "id": "af3f0657-6863-42a7-b455-e6cd8c0f9904",
   "metadata": {},
   "outputs": [
    {
     "name": "stdout",
     "output_type": "stream",
     "text": [
      "172.31.2.38\n",
      "192.168.8.1\n",
      "192.168.8.1\n",
      "188.191.200.4\n",
      "192.168.8.1\n",
      "192.168.8.1\n",
      "192.168.8.1\n",
      "192.168.8.1\n",
      "192.168.8.1\n",
      "192.168.8.1\n",
      "192.168.8.1\n",
      "True\n",
      "['instagram.com', 'twitter.com', '2mdn.net', 'clarity.ms', 'filmix.ac', 'quantserve.com', 'gls-pakete.de', 'telewebion.com', 'n-tv.de', 'media.net', 'wt-safetag.com', 'googletagservices.com', 'relap.info', 'outbrain.com', 'wetter.com', 'amazonaws.com', 'akamaihd.net', 'aparat.com', 'vk.com', 'ssl-images-amazon.com']\n"
     ]
    }
   ],
   "source": [
    "target_domain_fld_l = []\n",
    "\n",
    "for target_domain in target_domain_df[\"target_domain\"]:\n",
    "    try:\n",
    "        target_domain_fld_l.append(get_fld(target_domain, fix_protocol=True))\n",
    "    except:\n",
    "        print(target_domain)\n",
    "        target_domain_fld_l.append(target_domain)\n",
    "        \n",
    "print(len(target_domain_fld_l) == len(target_domain_df))\n",
    "print(target_domain_fld_l[:20])"
   ]
  },
  {
   "cell_type": "markdown",
   "id": "719268e8-7ce1-4e80-87e9-400d3df9e67a",
   "metadata": {},
   "source": [
    "## 4.2. get_fld_by_reversing()"
   ]
  },
  {
   "cell_type": "code",
   "execution_count": 51,
   "id": "0c74fa50-92e0-4b94-8eca-31c26ed31113",
   "metadata": {},
   "outputs": [],
   "source": [
    "def get_fld_by_reversing(url):\n",
    "    if url[-3:] not in two_letter_tld_set and not url[-1].isnumeric():\n",
    "        reversed_url = url[::-1]\n",
    "        first_dot_i = reversed_url.index(\".\")\n",
    "        second_dot_i = reversed_url[first_dot_i+1:].index(\".\")\n",
    "        return url[-(first_dot_i+1+second_dot_i):]\n",
    "    # else:\n",
    "    #     return url"
   ]
  },
  {
   "cell_type": "markdown",
   "id": "ae821a59-bc4f-4ab2-be3f-dd7e349291c9",
   "metadata": {},
   "source": [
    "## 4.3. fld_to_clean_set"
   ]
  },
  {
   "cell_type": "code",
   "execution_count": 55,
   "id": "616bf7c9-e601-42b7-9b4e-cb9d412765f6",
   "metadata": {},
   "outputs": [
    {
     "name": "stdout",
     "output_type": "stream",
     "text": [
      "11\n",
      "{'googleapis.com', 'cloudfunctions.net', 'appspot.com', 'amazonaws.com', 'cloudfront.net', 'cdn77.org', 'fastly.net', 'azurewebsites.net', 'run.app', 'github.io', None}\n"
     ]
    }
   ],
   "source": [
    "fld_to_clean_set = set()\n",
    "\n",
    "for fld in target_domain_fld_l:\n",
    "    if fld.count(\".\") > 1:\n",
    "        fld_to_clean_set.add(get_fld_by_reversing(fld))\n",
    "\n",
    "print(len(fld_to_clean_set))\n",
    "print(fld_to_clean_set)"
   ]
  },
  {
   "cell_type": "code",
   "execution_count": 56,
   "id": "dd3f2504-10d6-469f-b1d7-8ce974ff6868",
   "metadata": {},
   "outputs": [
    {
     "name": "stdout",
     "output_type": "stream",
     "text": [
      "{'googleapis.com', 'cloudfunctions.net', 'appspot.com', 'amazonaws.com', 'cloudfront.net', 'cdn77.org', 'fastly.net', 'azurewebsites.net', 'run.app', 'github.io'}\n"
     ]
    }
   ],
   "source": [
    "fld_to_clean_set.remove(None)\n",
    "print(fld_to_clean_set)"
   ]
  },
  {
   "cell_type": "markdown",
   "id": "3ed8e88d-efa7-48af-bedb-adb4b1f5d25d",
   "metadata": {},
   "source": [
    "## 4.4. Clean target_domain_fld_l"
   ]
  },
  {
   "cell_type": "code",
   "execution_count": 59,
   "id": "cbe4f41a-bc26-4166-81f1-b7878f5e507a",
   "metadata": {},
   "outputs": [],
   "source": [
    "dirty_target_domain_fld_l = copy.deepcopy(target_domain_fld_l)"
   ]
  },
  {
   "cell_type": "code",
   "execution_count": 60,
   "id": "4ef4c5b1-7717-4f74-bf97-e3adeff17655",
   "metadata": {},
   "outputs": [
    {
     "name": "stdout",
     "output_type": "stream",
     "text": [
      "8593\n"
     ]
    }
   ],
   "source": [
    "count = 0\n",
    "for i, fld in enumerate(target_domain_fld_l):\n",
    "    for clean_fld in fld_to_clean_set:\n",
    "        if clean_fld in fld:\n",
    "            target_domain_fld_l[i] = clean_fld\n",
    "            count += 1\n",
    "            \n",
    "print(count)"
   ]
  },
  {
   "cell_type": "markdown",
   "id": "87699f28-f942-4278-a95d-9c57c8fc829c",
   "metadata": {},
   "source": [
    "## 4.5. Add a column: target_domain_fld"
   ]
  },
  {
   "cell_type": "code",
   "execution_count": 73,
   "id": "ccf1d373-4813-4bfe-a9b9-b1175e1c7a8a",
   "metadata": {},
   "outputs": [
    {
     "data": {
      "text/plain": [
       "(494261, 6)"
      ]
     },
     "execution_count": 73,
     "metadata": {},
     "output_type": "execute_result"
    }
   ],
   "source": [
    "target_domain_df.shape"
   ]
  },
  {
   "cell_type": "code",
   "execution_count": 74,
   "id": "098343db-8397-4cdb-9bde-0771e389a25e",
   "metadata": {},
   "outputs": [],
   "source": [
    "target_domain_6col_df = copy.deepcopy(target_domain_df)"
   ]
  },
  {
   "cell_type": "code",
   "execution_count": 75,
   "id": "0cc189f3-6056-40f8-851d-857cfb21544b",
   "metadata": {},
   "outputs": [
    {
     "name": "stdout",
     "output_type": "stream",
     "text": [
      "(494261, 7)\n"
     ]
    }
   ],
   "source": [
    "target_domain_df[\"target_domain_fld\"] = target_domain_fld_l\n",
    "print(target_domain_df.shape)"
   ]
  },
  {
   "cell_type": "code",
   "execution_count": 76,
   "id": "ed04227d-bfa0-487f-beb4-8ee5cbaec6d1",
   "metadata": {},
   "outputs": [
    {
     "data": {
      "text/html": [
       "<div>\n",
       "<style scoped>\n",
       "    .dataframe tbody tr th:only-of-type {\n",
       "        vertical-align: middle;\n",
       "    }\n",
       "\n",
       "    .dataframe tbody tr th {\n",
       "        vertical-align: top;\n",
       "    }\n",
       "\n",
       "    .dataframe thead th {\n",
       "        text-align: right;\n",
       "    }\n",
       "</style>\n",
       "<table border=\"1\" class=\"dataframe\">\n",
       "  <thead>\n",
       "    <tr style=\"text-align: right;\">\n",
       "      <th></th>\n",
       "      <th>seq</th>\n",
       "      <th>country</th>\n",
       "      <th>asn</th>\n",
       "      <th>target_domain</th>\n",
       "      <th>measurement_id</th>\n",
       "      <th>is_tracker</th>\n",
       "      <th>target_domain_fld</th>\n",
       "    </tr>\n",
       "  </thead>\n",
       "  <tbody>\n",
       "    <tr>\n",
       "      <th>0</th>\n",
       "      <td>0</td>\n",
       "      <td>de</td>\n",
       "      <td>39835</td>\n",
       "      <td>www.instagram.com</td>\n",
       "      <td>42506263.0</td>\n",
       "      <td>False</td>\n",
       "      <td>instagram.com</td>\n",
       "    </tr>\n",
       "    <tr>\n",
       "      <th>1</th>\n",
       "      <td>1</td>\n",
       "      <td>de</td>\n",
       "      <td>39835</td>\n",
       "      <td>twitter.com</td>\n",
       "      <td>42506264.0</td>\n",
       "      <td>True</td>\n",
       "      <td>twitter.com</td>\n",
       "    </tr>\n",
       "    <tr>\n",
       "      <th>2</th>\n",
       "      <td>2</td>\n",
       "      <td>de</td>\n",
       "      <td>39835</td>\n",
       "      <td>s0.2mdn.net</td>\n",
       "      <td>42506265.0</td>\n",
       "      <td>False</td>\n",
       "      <td>2mdn.net</td>\n",
       "    </tr>\n",
       "    <tr>\n",
       "      <th>3</th>\n",
       "      <td>3</td>\n",
       "      <td>de</td>\n",
       "      <td>39835</td>\n",
       "      <td>www.clarity.ms</td>\n",
       "      <td>42506266.0</td>\n",
       "      <td>False</td>\n",
       "      <td>clarity.ms</td>\n",
       "    </tr>\n",
       "    <tr>\n",
       "      <th>4</th>\n",
       "      <td>4</td>\n",
       "      <td>de</td>\n",
       "      <td>39835</td>\n",
       "      <td>www.filmix.ac</td>\n",
       "      <td>42506267.0</td>\n",
       "      <td>False</td>\n",
       "      <td>filmix.ac</td>\n",
       "    </tr>\n",
       "    <tr>\n",
       "      <th>...</th>\n",
       "      <td>...</td>\n",
       "      <td>...</td>\n",
       "      <td>...</td>\n",
       "      <td>...</td>\n",
       "      <td>...</td>\n",
       "      <td>...</td>\n",
       "      <td>...</td>\n",
       "    </tr>\n",
       "    <tr>\n",
       "      <th>494256</th>\n",
       "      <td>494256</td>\n",
       "      <td>cz</td>\n",
       "      <td>44489</td>\n",
       "      <td>cdn.speedcurve.com</td>\n",
       "      <td>43832951.0</td>\n",
       "      <td>False</td>\n",
       "      <td>speedcurve.com</td>\n",
       "    </tr>\n",
       "    <tr>\n",
       "      <th>494257</th>\n",
       "      <td>494257</td>\n",
       "      <td>cz</td>\n",
       "      <td>44489</td>\n",
       "      <td>img.kurzy.cz</td>\n",
       "      <td>43832953.0</td>\n",
       "      <td>False</td>\n",
       "      <td>kurzy.cz</td>\n",
       "    </tr>\n",
       "    <tr>\n",
       "      <th>494258</th>\n",
       "      <td>494258</td>\n",
       "      <td>cz</td>\n",
       "      <td>44489</td>\n",
       "      <td>report.prozeny.cz</td>\n",
       "      <td>43832954.0</td>\n",
       "      <td>False</td>\n",
       "      <td>prozeny.cz</td>\n",
       "    </tr>\n",
       "    <tr>\n",
       "      <th>494259</th>\n",
       "      <td>494259</td>\n",
       "      <td>cz</td>\n",
       "      <td>44489</td>\n",
       "      <td>pro.mapy.cz</td>\n",
       "      <td>43832955.0</td>\n",
       "      <td>False</td>\n",
       "      <td>mapy.cz</td>\n",
       "    </tr>\n",
       "    <tr>\n",
       "      <th>494260</th>\n",
       "      <td>494260</td>\n",
       "      <td>cz</td>\n",
       "      <td>44489</td>\n",
       "      <td>region1.analytics.google.com</td>\n",
       "      <td>43832956.0</td>\n",
       "      <td>True</td>\n",
       "      <td>google.com</td>\n",
       "    </tr>\n",
       "  </tbody>\n",
       "</table>\n",
       "<p>494261 rows × 7 columns</p>\n",
       "</div>"
      ],
      "text/plain": [
       "           seq country    asn                 target_domain  measurement_id  \\\n",
       "0            0      de  39835             www.instagram.com      42506263.0   \n",
       "1            1      de  39835                   twitter.com      42506264.0   \n",
       "2            2      de  39835                   s0.2mdn.net      42506265.0   \n",
       "3            3      de  39835                www.clarity.ms      42506266.0   \n",
       "4            4      de  39835                 www.filmix.ac      42506267.0   \n",
       "...        ...     ...    ...                           ...             ...   \n",
       "494256  494256      cz  44489            cdn.speedcurve.com      43832951.0   \n",
       "494257  494257      cz  44489                  img.kurzy.cz      43832953.0   \n",
       "494258  494258      cz  44489             report.prozeny.cz      43832954.0   \n",
       "494259  494259      cz  44489                   pro.mapy.cz      43832955.0   \n",
       "494260  494260      cz  44489  region1.analytics.google.com      43832956.0   \n",
       "\n",
       "        is_tracker target_domain_fld  \n",
       "0            False     instagram.com  \n",
       "1             True       twitter.com  \n",
       "2            False          2mdn.net  \n",
       "3            False        clarity.ms  \n",
       "4            False         filmix.ac  \n",
       "...            ...               ...  \n",
       "494256       False    speedcurve.com  \n",
       "494257       False          kurzy.cz  \n",
       "494258       False        prozeny.cz  \n",
       "494259       False           mapy.cz  \n",
       "494260        True        google.com  \n",
       "\n",
       "[494261 rows x 7 columns]"
      ]
     },
     "execution_count": 76,
     "metadata": {},
     "output_type": "execute_result"
    }
   ],
   "source": [
    "target_domain_df"
   ]
  },
  {
   "cell_type": "markdown",
   "id": "0e6d388e-df71-4533-bd80-dcfc35791c78",
   "metadata": {},
   "source": [
    "# 5. Be consistent in tracker marking in target_domain_df"
   ]
  },
  {
   "cell_type": "markdown",
   "id": "0e402566-5204-49de-a67a-31e3153342aa",
   "metadata": {},
   "source": [
    "## 5.1. is_tracker_fld_set"
   ]
  },
  {
   "cell_type": "code",
   "execution_count": 78,
   "id": "9d10175a-2d4f-4ea4-9464-76ed58fcd7a6",
   "metadata": {},
   "outputs": [
    {
     "data": {
      "text/html": [
       "<div>\n",
       "<style scoped>\n",
       "    .dataframe tbody tr th:only-of-type {\n",
       "        vertical-align: middle;\n",
       "    }\n",
       "\n",
       "    .dataframe tbody tr th {\n",
       "        vertical-align: top;\n",
       "    }\n",
       "\n",
       "    .dataframe thead th {\n",
       "        text-align: right;\n",
       "    }\n",
       "</style>\n",
       "<table border=\"1\" class=\"dataframe\">\n",
       "  <thead>\n",
       "    <tr style=\"text-align: right;\">\n",
       "      <th></th>\n",
       "      <th>seq</th>\n",
       "      <th>country</th>\n",
       "      <th>asn</th>\n",
       "      <th>target_domain</th>\n",
       "      <th>measurement_id</th>\n",
       "      <th>is_tracker</th>\n",
       "      <th>target_domain_fld</th>\n",
       "    </tr>\n",
       "  </thead>\n",
       "  <tbody>\n",
       "    <tr>\n",
       "      <th>0</th>\n",
       "      <td>189728</td>\n",
       "      <td>se</td>\n",
       "      <td>2833</td>\n",
       "      <td>www.1177.se</td>\n",
       "      <td>43345322.0</td>\n",
       "      <td>False</td>\n",
       "      <td>1177.se</td>\n",
       "    </tr>\n",
       "    <tr>\n",
       "      <th>1</th>\n",
       "      <td>186574</td>\n",
       "      <td>se</td>\n",
       "      <td>2119</td>\n",
       "      <td>www.1177.se</td>\n",
       "      <td>43340394.0</td>\n",
       "      <td>False</td>\n",
       "      <td>1177.se</td>\n",
       "    </tr>\n",
       "    <tr>\n",
       "      <th>2</th>\n",
       "      <td>181448</td>\n",
       "      <td>se</td>\n",
       "      <td>42303</td>\n",
       "      <td>www.1177.se</td>\n",
       "      <td>43332830.0</td>\n",
       "      <td>False</td>\n",
       "      <td>1177.se</td>\n",
       "    </tr>\n",
       "    <tr>\n",
       "      <th>3</th>\n",
       "      <td>181040</td>\n",
       "      <td>se</td>\n",
       "      <td>35100</td>\n",
       "      <td>www.1177.se</td>\n",
       "      <td>43332284.0</td>\n",
       "      <td>False</td>\n",
       "      <td>1177.se</td>\n",
       "    </tr>\n",
       "    <tr>\n",
       "      <th>4</th>\n",
       "      <td>179460</td>\n",
       "      <td>se</td>\n",
       "      <td>51929</td>\n",
       "      <td>www.1177.se</td>\n",
       "      <td>43329833.0</td>\n",
       "      <td>False</td>\n",
       "      <td>1177.se</td>\n",
       "    </tr>\n",
       "    <tr>\n",
       "      <th>...</th>\n",
       "      <td>...</td>\n",
       "      <td>...</td>\n",
       "      <td>...</td>\n",
       "      <td>...</td>\n",
       "      <td>...</td>\n",
       "      <td>...</td>\n",
       "      <td>...</td>\n",
       "    </tr>\n",
       "    <tr>\n",
       "      <th>494256</th>\n",
       "      <td>259407</td>\n",
       "      <td>fr</td>\n",
       "      <td>8362</td>\n",
       "      <td>a.zxcvads.com</td>\n",
       "      <td>43474978.0</td>\n",
       "      <td>False</td>\n",
       "      <td>zxcvads.com</td>\n",
       "    </tr>\n",
       "    <tr>\n",
       "      <th>494257</th>\n",
       "      <td>272167</td>\n",
       "      <td>fr</td>\n",
       "      <td>51207</td>\n",
       "      <td>a.zxcvads.com</td>\n",
       "      <td>43492070.0</td>\n",
       "      <td>False</td>\n",
       "      <td>zxcvads.com</td>\n",
       "    </tr>\n",
       "    <tr>\n",
       "      <th>494258</th>\n",
       "      <td>260201</td>\n",
       "      <td>fr</td>\n",
       "      <td>8218</td>\n",
       "      <td>a.zxcvads.com</td>\n",
       "      <td>43476138.0</td>\n",
       "      <td>False</td>\n",
       "      <td>zxcvads.com</td>\n",
       "    </tr>\n",
       "    <tr>\n",
       "      <th>494259</th>\n",
       "      <td>270236</td>\n",
       "      <td>fr</td>\n",
       "      <td>34970</td>\n",
       "      <td>a.zxcvads.com</td>\n",
       "      <td>43489380.0</td>\n",
       "      <td>False</td>\n",
       "      <td>zxcvads.com</td>\n",
       "    </tr>\n",
       "    <tr>\n",
       "      <th>494260</th>\n",
       "      <td>271000</td>\n",
       "      <td>fr</td>\n",
       "      <td>8487</td>\n",
       "      <td>a.zxcvads.com</td>\n",
       "      <td>43490480.0</td>\n",
       "      <td>False</td>\n",
       "      <td>zxcvads.com</td>\n",
       "    </tr>\n",
       "  </tbody>\n",
       "</table>\n",
       "<p>494261 rows × 7 columns</p>\n",
       "</div>"
      ],
      "text/plain": [
       "           seq country    asn  target_domain  measurement_id  is_tracker  \\\n",
       "0       189728      se   2833    www.1177.se      43345322.0       False   \n",
       "1       186574      se   2119    www.1177.se      43340394.0       False   \n",
       "2       181448      se  42303    www.1177.se      43332830.0       False   \n",
       "3       181040      se  35100    www.1177.se      43332284.0       False   \n",
       "4       179460      se  51929    www.1177.se      43329833.0       False   \n",
       "...        ...     ...    ...            ...             ...         ...   \n",
       "494256  259407      fr   8362  a.zxcvads.com      43474978.0       False   \n",
       "494257  272167      fr  51207  a.zxcvads.com      43492070.0       False   \n",
       "494258  260201      fr   8218  a.zxcvads.com      43476138.0       False   \n",
       "494259  270236      fr  34970  a.zxcvads.com      43489380.0       False   \n",
       "494260  271000      fr   8487  a.zxcvads.com      43490480.0       False   \n",
       "\n",
       "       target_domain_fld  \n",
       "0                1177.se  \n",
       "1                1177.se  \n",
       "2                1177.se  \n",
       "3                1177.se  \n",
       "4                1177.se  \n",
       "...                  ...  \n",
       "494256       zxcvads.com  \n",
       "494257       zxcvads.com  \n",
       "494258       zxcvads.com  \n",
       "494259       zxcvads.com  \n",
       "494260       zxcvads.com  \n",
       "\n",
       "[494261 rows x 7 columns]"
      ]
     },
     "execution_count": 78,
     "metadata": {},
     "output_type": "execute_result"
    }
   ],
   "source": [
    "target_domain_df = target_domain_df.sort_values(by=['target_domain_fld'], ignore_index=True)\n",
    "target_domain_df"
   ]
  },
  {
   "cell_type": "code",
   "execution_count": 79,
   "id": "bec90d24-679b-41af-904c-f1df43a8d2d5",
   "metadata": {},
   "outputs": [
    {
     "name": "stdout",
     "output_type": "stream",
     "text": [
      "284\n",
      "{'welt.de', 'cognitivlabs.com', 'naszemiasto.pl', 'outbrain.com', 'yle.fi', 'chip.de', 'epimg.net', 'facebook.net', 'bamgrid.com', 'mgid.com', 'gazeta.pl', 'licdn.com', '24.hu', 'google.com.ua', 'taboola.com', 'googleapis.com', 'list-manage.com', 'reevoo.com', 'onetrust.com', 'linkedin.com', 'baqend.com', 'siteimproveanalytics.io', 'ispot.tv', 'telekom.de', 'redditmedia.com', 'pix.pub', 'viafoura.co', 'm6r.eu', 'mirror.co.uk', 'pswec.com', 'focus.de', 'liveperson.net', 'parsely.com', 'cxense.com', 'pinterest.com', 'typicalairplane.com', 'azure.com', 'sentry-cdn.com', 'datadome.co', 'sensic.net', 'dailymotion.com', 'gedidigital.it', 'bbc.co.uk', 'vulcan.net.pl', 'stroeerdigitalgroup.de', 'mediaset.it', 'a2z.com', 'seznam.cz', 'screen9.com', 'placed.com', 'ok.ru', 'mrf.io', 'nelonenmedia.fi', 'optimizely.com', 'pghub.io', 'sascdn.com', 'google.com', 'stackadapt.com', 'suomi.fi', 't-online.de', 'lijit.com', 'scottishdailyexpress.co.uk', 'samsung.com', 'rumble.com', 'sanoma-sndp.fi', 'yadro.ru', 'appier.net', 'google.com.sv', 'unpkg.com', 'web.de', 'gmx.net', 'datafront.co', 'dpgmedia.net', 'ioam.de', 'owneriq.net', 'tiktok.com', 'dmgmediaprivacy.co.uk', 'polarcdn-pentos.com', 'run.app', 'immobilienscout24.de', 'pinimg.com', 'anm.co.uk', 'yottlyscript.com', 'rcsmetrics.it', 'post.cz', 'abtasty.com', 'bbc.com', 'byside.com', 'bild.de', 'marfeelcache.com', 'ekstrabladet.dk', 'microsoft.com', 'xl.pt', 'arcpublishing.com', 'sentry.io', 'pmdstatic.net', 'trafficbass.com', 'cloudflare.com', 'telenet.be', 'elpais.com', 'sharethis.com', 'apple.com', 'imrworldwide.com', 'google.com.ar', 'yahoo.com', 'walmart.com', 'appsflyer.com', 'igodigital.com', 'videa.hu', 'gemius.pl', 'indeed.com', 'brightcove.com', 'outbrainimg.com', 'snapchat.com', 'svenskaspel.se', 'onetag-sys.com', 'agorahtag.tech', 'duckduckgo.com', 'datadoghq.com', 'mathtag.com', 'windows.net', 'narrative.io', 'ipinfo.io', 'tiktokv.com', 'weather.com', 'onesignal.com', 'dreamlab.pl', 'turner.com', 'woopic.com', '1gr.cz', 'mediaset.es', 'almamedia.fi', 'opecloud.com', 'alza.cz', 'hubvisor.io', 'bidr.io', 'facebook.com', 'tv2.dk', 'quantcast.com', 'lwadm.com', 'akamaihd.net', 'imgsmail.ru', 'visualstudio.com', 'inforsea.com', 'as.com', 'aswpsdkus.com', 'adtarget.com.tr', 'h-cdn.com', 'wp.pl', 'onet.pl', 'msn.com', 'vk.com', 'btloader.com', 'aticdn.net', 'office.com', 'google.co.uk', 'lemonde.fr', 'usercentrics.eu', 'trackjs.com', 'toplist.cz', 'pahtag.tech', 'wikia-services.com', 'agrvt.com', 'taobao.com', 'super.cz', 'threetruck.com', 'sc-static.net', 'cpex.cz', 'krone.at', 'id5-sync.com', 'adskeeper.co.uk', 'mail.ru', 'theguardian.com', 'google.com.tr', 'rackcdn.com', 'weborama.com', 'adobedtm.com', 'bing.com', 'msecnd.net', 'spiegel.de', 'tim.it', 'ebu.io', 'olx-st.com', 'aswpsdkeu.com', 'derstandard.at', 'gigya.com', 'businessinsider.com.pl', 'perfdrive.com', 'jbzd.com.pl', 'permutive.app', 'schibsted.com', 'guim.co.uk', 'proximus.be', 'bbci.co.uk', '20minutes.fr', 'codigo.se', 'appspot.com', 'index.hu', 'clickiocdn.com', 'prisasd.com', 'actu.fr', 'inpref.com', 'novinky.cz', 'streamtheworld.com', 'telekom-dienste.de', 'addthis.com', 'origo.hu', 'tvn.pl', 'kununu.cz', 'altex.ro', 'advertising.com', 'newsroom.bi', 'styria.hr', 'aghtag.tech', 'capturly.com', 'discord.com', 'omtrdc.net', 'geolocation-db.com', 'wp.com', 'hocgeese.com', 'es.io', 'googlesyndication.com', 'quantserve.com', 'iol.it', 'bitmovin.com', 'criteo.com', 'ingatlan.com', 'sky.it', 'piwik.pro', 'nsaudience.pl', 'ocdn.eu', 'vk-portal.net', 'reachgeneric.co.uk', 'amazonaws.com', 'contentexchange.me', 'webpushr.com', 'guardianapps.co.uk', 'ad4m.at', 'cloudfront.net', 'roblox.com', 'thrtle.com', 'consensu.org', 'newrelic.com', 'doubleclick.net', 'twitter.com', 'cncenter.cz', 'tgtag.io', 'ethn.io', 'dailymail.co.uk', 'nmrodam.com', 'webvisor.org', 'trustedshops.com', 'spotify.com', 'schibsted.io', 't.co', 'telekom.com', 'azet.sk', 'imedia.cz', 'media-amazon.com', 'qualtrics.com', 'dyntrk.com', 'counter.dev', 's-onetag.com', 'tm-awx.com', 'rapid7.com', 'reddit.com', 'smartmeapp.com', 'amazon.co.uk', 'medietall.no', 'sfr.fr', 'impots.gouv.fr', 'arc.pub', 'interia.pl', 'zoom.us', 'krxd.net', 'confirmit.com', 'fbcdn.net', 'paypal.com', '192.168.8.1', 'siteimproveanalytics.com', 'fastly.net', 'gstatic.com', 'imdb.com', 'topky.sk'}\n"
     ]
    }
   ],
   "source": [
    "is_tracker_fld_set = set()\n",
    "\n",
    "for i in range(len(target_domain_df)):\n",
    "    if target_domain_df[\"is_tracker\"][i]:\n",
    "        is_tracker_fld_set.add(target_domain_df[\"target_domain_fld\"][i])\n",
    "        \n",
    "print(len(is_tracker_fld_set))\n",
    "print(is_tracker_fld_set)"
   ]
  },
  {
   "cell_type": "markdown",
   "id": "4f704a24-7f74-470a-ad2b-0de789099544",
   "metadata": {},
   "source": [
    "## 5.2. Update is_tracker"
   ]
  },
  {
   "cell_type": "code",
   "execution_count": 80,
   "id": "9c4d3008-08ce-4979-b734-ffdc240d9ee2",
   "metadata": {},
   "outputs": [
    {
     "data": {
      "text/plain": [
       "False    401228\n",
       "True      93033\n",
       "Name: is_tracker, dtype: int64"
      ]
     },
     "execution_count": 80,
     "metadata": {},
     "output_type": "execute_result"
    }
   ],
   "source": [
    "target_domain_df[\"is_tracker\"].value_counts()"
   ]
  },
  {
   "cell_type": "code",
   "execution_count": 81,
   "id": "c206a091-26f4-4bc6-9f25-f01fbc64deb8",
   "metadata": {},
   "outputs": [],
   "source": [
    "for i in range(len(target_domain_df)):\n",
    "    if target_domain_df[\"target_domain_fld\"][i] in is_tracker_fld_set:\n",
    "        target_domain_df.loc[i, \"is_tracker\"] = True"
   ]
  },
  {
   "cell_type": "code",
   "execution_count": 82,
   "id": "7ae377a0-9de8-4a17-91d5-83841b934f6c",
   "metadata": {},
   "outputs": [
    {
     "data": {
      "text/plain": [
       "False    300647\n",
       "True     193614\n",
       "Name: is_tracker, dtype: int64"
      ]
     },
     "execution_count": 82,
     "metadata": {},
     "output_type": "execute_result"
    }
   ],
   "source": [
    "target_domain_df[\"is_tracker\"].value_counts()"
   ]
  },
  {
   "cell_type": "code",
   "execution_count": 83,
   "id": "deeb6401-7b50-46b8-aeb4-be2f8d7de2d3",
   "metadata": {},
   "outputs": [
    {
     "data": {
      "text/plain": [
       "(494261, 7)"
      ]
     },
     "execution_count": 83,
     "metadata": {},
     "output_type": "execute_result"
    }
   ],
   "source": [
    "target_domain_df.shape"
   ]
  },
  {
   "cell_type": "code",
   "execution_count": 84,
   "id": "3308554d-ee3b-45fa-bd54-97c05df958a2",
   "metadata": {},
   "outputs": [],
   "source": [
    "target_domain_7col_df = copy.deepcopy(target_domain_df)"
   ]
  },
  {
   "cell_type": "markdown",
   "id": "943401c6-da2b-48d6-a2a9-d67e60b1d51a",
   "metadata": {},
   "source": [
    "# 6. is_more_tracker_l"
   ]
  },
  {
   "cell_type": "code",
   "execution_count": 89,
   "id": "9e579d45-847e-4fba-a4ec-e5d7e99f9b50",
   "metadata": {},
   "outputs": [
    {
     "name": "stdout",
     "output_type": "stream",
     "text": [
      "True\n",
      "False    436656\n",
      "True      57605\n",
      "dtype: int64\n",
      "[False, False, False, False, False, False, False, False, False, False, False, False, False, False, False, False, False, False, False, False]\n"
     ]
    }
   ],
   "source": [
    "is_more_tracker_l = [False] * len(target_domain_df)\n",
    "\n",
    "for i, fld in enumerate(target_domain_df[\"target_domain_fld\"]):\n",
    "    if fld in tracker_set:\n",
    "        is_more_tracker_l[i] = True\n",
    "\n",
    "print(len(is_more_tracker_l) == len(target_domain_df))\n",
    "print(pd.DataFrame(is_more_tracker_l).value_counts())\n",
    "print(is_more_tracker_l[:20])"
   ]
  },
  {
   "cell_type": "markdown",
   "id": "8afed75b-7ed7-4e88-b24d-e6b85adf6cc8",
   "metadata": {},
   "source": [
    "# 6. is_new_tracker_l"
   ]
  },
  {
   "cell_type": "markdown",
   "id": "b09ba2ac-3e10-43dd-b4e0-a1085a39b695",
   "metadata": {},
   "source": [
    "## 6.1. is_new_tracker_l"
   ]
  },
  {
   "cell_type": "raw",
   "id": "7ddea199-21c2-487f-b60a-c8f7937106d5",
   "metadata": {},
   "source": [
    "# is_new_tracker_l = OR(is_more_tracker_l, is_tracker)"
   ]
  },
  {
   "cell_type": "code",
   "execution_count": 97,
   "id": "c87646c8-1edc-417b-8ac2-6fbce3ef2bfc",
   "metadata": {},
   "outputs": [
    {
     "name": "stdout",
     "output_type": "stream",
     "text": [
      "True\n",
      "True     251066\n",
      "False    243195\n",
      "dtype: int64\n",
      "[False, False, False, False, False, False, False, False, False, False, False, False, False, False, False, False, False, False, False, False]\n"
     ]
    }
   ],
   "source": [
    "is_new_tracker_l = [None] * len(target_domain_df)\n",
    "new_tracker_index_l = []\n",
    "\n",
    "for index, original_tracker in enumerate(target_domain_df[\"is_tracker\"]):\n",
    "    if original_tracker is True:\n",
    "        is_new_tracker_l[index] = True\n",
    "    elif original_tracker is False and is_more_tracker_l[index] is True:\n",
    "        new_tracker_index_l.append(index)\n",
    "        is_new_tracker_l[index] = True\n",
    "    else:\n",
    "        is_new_tracker_l[index] = False\n",
    "\n",
    "print(len(is_new_tracker_l) == len(target_domain_df))\n",
    "print(pd.DataFrame(is_new_tracker_l).value_counts())\n",
    "print(is_new_tracker_l[:20])"
   ]
  },
  {
   "cell_type": "code",
   "execution_count": 98,
   "id": "b698a036-a8e3-4796-97f7-78657e4b4af6",
   "metadata": {},
   "outputs": [
    {
     "data": {
      "text/plain": [
       "True"
      ]
     },
     "execution_count": 98,
     "metadata": {},
     "output_type": "execute_result"
    }
   ],
   "source": [
    "list(target_domain_df[\"is_tracker\"]).count(True) < is_new_tracker_l.count(True)"
   ]
  },
  {
   "cell_type": "markdown",
   "id": "999a70da-4406-4994-b0c9-24061fbac5dc",
   "metadata": {},
   "source": [
    "## 6.2. List of newly discovered target_domain"
   ]
  },
  {
   "cell_type": "code",
   "execution_count": 99,
   "id": "999a8ce0-7c9c-4b4f-891e-437a4642b65b",
   "metadata": {},
   "outputs": [
    {
     "name": "stdout",
     "output_type": "stream",
     "text": [
      "57452\n",
      "[777, 778, 779, 780, 781, 782, 783, 784, 785, 786]\n"
     ]
    }
   ],
   "source": [
    "print(len(new_tracker_index_l))\n",
    "print(new_tracker_index_l[:10])"
   ]
  },
  {
   "cell_type": "code",
   "execution_count": 100,
   "id": "86b388c0-51e3-4716-b26a-01a87dd12fc0",
   "metadata": {},
   "outputs": [
    {
     "data": {
      "text/plain": [
       "False"
      ]
     },
     "execution_count": 100,
     "metadata": {},
     "output_type": "execute_result"
    }
   ],
   "source": [
    "# Is any of the pre-existing tracker True? There should be no True.\n",
    "# Thus, False would be an output from this any()\n",
    "any(target_domain_df.iloc[new_tracker_index_l, target_domain_df.columns == \"is_tracker\"].squeeze())"
   ]
  },
  {
   "cell_type": "code",
   "execution_count": 101,
   "id": "12076c71-9758-47e2-b841-736bbc5f798c",
   "metadata": {},
   "outputs": [
    {
     "data": {
      "text/html": [
       "<div>\n",
       "<style scoped>\n",
       "    .dataframe tbody tr th:only-of-type {\n",
       "        vertical-align: middle;\n",
       "    }\n",
       "\n",
       "    .dataframe tbody tr th {\n",
       "        vertical-align: top;\n",
       "    }\n",
       "\n",
       "    .dataframe thead th {\n",
       "        text-align: right;\n",
       "    }\n",
       "</style>\n",
       "<table border=\"1\" class=\"dataframe\">\n",
       "  <thead>\n",
       "    <tr style=\"text-align: right;\">\n",
       "      <th></th>\n",
       "      <th>target_domain</th>\n",
       "    </tr>\n",
       "  </thead>\n",
       "  <tbody>\n",
       "    <tr>\n",
       "      <th>777</th>\n",
       "      <td>sync.1rx.io</td>\n",
       "    </tr>\n",
       "    <tr>\n",
       "      <th>778</th>\n",
       "      <td>sync.1rx.io</td>\n",
       "    </tr>\n",
       "    <tr>\n",
       "      <th>779</th>\n",
       "      <td>sync.1rx.io</td>\n",
       "    </tr>\n",
       "    <tr>\n",
       "      <th>780</th>\n",
       "      <td>sync.1rx.io</td>\n",
       "    </tr>\n",
       "    <tr>\n",
       "      <th>781</th>\n",
       "      <td>sync.1rx.io</td>\n",
       "    </tr>\n",
       "    <tr>\n",
       "      <th>...</th>\n",
       "      <td>...</td>\n",
       "    </tr>\n",
       "    <tr>\n",
       "      <th>494256</th>\n",
       "      <td>a.zxcvads.com</td>\n",
       "    </tr>\n",
       "    <tr>\n",
       "      <th>494257</th>\n",
       "      <td>a.zxcvads.com</td>\n",
       "    </tr>\n",
       "    <tr>\n",
       "      <th>494258</th>\n",
       "      <td>a.zxcvads.com</td>\n",
       "    </tr>\n",
       "    <tr>\n",
       "      <th>494259</th>\n",
       "      <td>a.zxcvads.com</td>\n",
       "    </tr>\n",
       "    <tr>\n",
       "      <th>494260</th>\n",
       "      <td>a.zxcvads.com</td>\n",
       "    </tr>\n",
       "  </tbody>\n",
       "</table>\n",
       "<p>57452 rows × 1 columns</p>\n",
       "</div>"
      ],
      "text/plain": [
       "        target_domain\n",
       "777       sync.1rx.io\n",
       "778       sync.1rx.io\n",
       "779       sync.1rx.io\n",
       "780       sync.1rx.io\n",
       "781       sync.1rx.io\n",
       "...               ...\n",
       "494256  a.zxcvads.com\n",
       "494257  a.zxcvads.com\n",
       "494258  a.zxcvads.com\n",
       "494259  a.zxcvads.com\n",
       "494260  a.zxcvads.com\n",
       "\n",
       "[57452 rows x 1 columns]"
      ]
     },
     "execution_count": 101,
     "metadata": {},
     "output_type": "execute_result"
    }
   ],
   "source": [
    "new_tracker_target_domain_df = target_domain_df.iloc[new_tracker_index_l, target_domain_df.columns == \"target_domain\"]\n",
    "new_tracker_target_domain_df"
   ]
  },
  {
   "cell_type": "markdown",
   "id": "d04f173f-e335-499f-9d22-a8b08dd23216",
   "metadata": {},
   "source": [
    "# 7. Output dfs"
   ]
  },
  {
   "cell_type": "markdown",
   "id": "dfb76748-c22b-40e8-871c-02a6e5e972f6",
   "metadata": {},
   "source": [
    "## 7.1. new_target_domain_df"
   ]
  },
  {
   "cell_type": "code",
   "execution_count": 102,
   "id": "a59a3cd1-5052-4ee6-afbd-466675dc73dd",
   "metadata": {},
   "outputs": [
    {
     "data": {
      "text/html": [
       "<div>\n",
       "<style scoped>\n",
       "    .dataframe tbody tr th:only-of-type {\n",
       "        vertical-align: middle;\n",
       "    }\n",
       "\n",
       "    .dataframe tbody tr th {\n",
       "        vertical-align: top;\n",
       "    }\n",
       "\n",
       "    .dataframe thead th {\n",
       "        text-align: right;\n",
       "    }\n",
       "</style>\n",
       "<table border=\"1\" class=\"dataframe\">\n",
       "  <thead>\n",
       "    <tr style=\"text-align: right;\">\n",
       "      <th></th>\n",
       "      <th>seq</th>\n",
       "      <th>country</th>\n",
       "      <th>asn</th>\n",
       "      <th>target_domain</th>\n",
       "      <th>measurement_id</th>\n",
       "      <th>is_tracker</th>\n",
       "      <th>target_domain_fld</th>\n",
       "    </tr>\n",
       "  </thead>\n",
       "  <tbody>\n",
       "    <tr>\n",
       "      <th>0</th>\n",
       "      <td>189728</td>\n",
       "      <td>se</td>\n",
       "      <td>2833</td>\n",
       "      <td>www.1177.se</td>\n",
       "      <td>43345322.0</td>\n",
       "      <td>False</td>\n",
       "      <td>1177.se</td>\n",
       "    </tr>\n",
       "    <tr>\n",
       "      <th>1</th>\n",
       "      <td>186574</td>\n",
       "      <td>se</td>\n",
       "      <td>2119</td>\n",
       "      <td>www.1177.se</td>\n",
       "      <td>43340394.0</td>\n",
       "      <td>False</td>\n",
       "      <td>1177.se</td>\n",
       "    </tr>\n",
       "    <tr>\n",
       "      <th>2</th>\n",
       "      <td>181448</td>\n",
       "      <td>se</td>\n",
       "      <td>42303</td>\n",
       "      <td>www.1177.se</td>\n",
       "      <td>43332830.0</td>\n",
       "      <td>False</td>\n",
       "      <td>1177.se</td>\n",
       "    </tr>\n",
       "    <tr>\n",
       "      <th>3</th>\n",
       "      <td>181040</td>\n",
       "      <td>se</td>\n",
       "      <td>35100</td>\n",
       "      <td>www.1177.se</td>\n",
       "      <td>43332284.0</td>\n",
       "      <td>False</td>\n",
       "      <td>1177.se</td>\n",
       "    </tr>\n",
       "    <tr>\n",
       "      <th>4</th>\n",
       "      <td>179460</td>\n",
       "      <td>se</td>\n",
       "      <td>51929</td>\n",
       "      <td>www.1177.se</td>\n",
       "      <td>43329833.0</td>\n",
       "      <td>False</td>\n",
       "      <td>1177.se</td>\n",
       "    </tr>\n",
       "    <tr>\n",
       "      <th>...</th>\n",
       "      <td>...</td>\n",
       "      <td>...</td>\n",
       "      <td>...</td>\n",
       "      <td>...</td>\n",
       "      <td>...</td>\n",
       "      <td>...</td>\n",
       "      <td>...</td>\n",
       "    </tr>\n",
       "    <tr>\n",
       "      <th>494256</th>\n",
       "      <td>259407</td>\n",
       "      <td>fr</td>\n",
       "      <td>8362</td>\n",
       "      <td>a.zxcvads.com</td>\n",
       "      <td>43474978.0</td>\n",
       "      <td>False</td>\n",
       "      <td>zxcvads.com</td>\n",
       "    </tr>\n",
       "    <tr>\n",
       "      <th>494257</th>\n",
       "      <td>272167</td>\n",
       "      <td>fr</td>\n",
       "      <td>51207</td>\n",
       "      <td>a.zxcvads.com</td>\n",
       "      <td>43492070.0</td>\n",
       "      <td>False</td>\n",
       "      <td>zxcvads.com</td>\n",
       "    </tr>\n",
       "    <tr>\n",
       "      <th>494258</th>\n",
       "      <td>260201</td>\n",
       "      <td>fr</td>\n",
       "      <td>8218</td>\n",
       "      <td>a.zxcvads.com</td>\n",
       "      <td>43476138.0</td>\n",
       "      <td>False</td>\n",
       "      <td>zxcvads.com</td>\n",
       "    </tr>\n",
       "    <tr>\n",
       "      <th>494259</th>\n",
       "      <td>270236</td>\n",
       "      <td>fr</td>\n",
       "      <td>34970</td>\n",
       "      <td>a.zxcvads.com</td>\n",
       "      <td>43489380.0</td>\n",
       "      <td>False</td>\n",
       "      <td>zxcvads.com</td>\n",
       "    </tr>\n",
       "    <tr>\n",
       "      <th>494260</th>\n",
       "      <td>271000</td>\n",
       "      <td>fr</td>\n",
       "      <td>8487</td>\n",
       "      <td>a.zxcvads.com</td>\n",
       "      <td>43490480.0</td>\n",
       "      <td>False</td>\n",
       "      <td>zxcvads.com</td>\n",
       "    </tr>\n",
       "  </tbody>\n",
       "</table>\n",
       "<p>494261 rows × 7 columns</p>\n",
       "</div>"
      ],
      "text/plain": [
       "           seq country    asn  target_domain  measurement_id  is_tracker  \\\n",
       "0       189728      se   2833    www.1177.se      43345322.0       False   \n",
       "1       186574      se   2119    www.1177.se      43340394.0       False   \n",
       "2       181448      se  42303    www.1177.se      43332830.0       False   \n",
       "3       181040      se  35100    www.1177.se      43332284.0       False   \n",
       "4       179460      se  51929    www.1177.se      43329833.0       False   \n",
       "...        ...     ...    ...            ...             ...         ...   \n",
       "494256  259407      fr   8362  a.zxcvads.com      43474978.0       False   \n",
       "494257  272167      fr  51207  a.zxcvads.com      43492070.0       False   \n",
       "494258  260201      fr   8218  a.zxcvads.com      43476138.0       False   \n",
       "494259  270236      fr  34970  a.zxcvads.com      43489380.0       False   \n",
       "494260  271000      fr   8487  a.zxcvads.com      43490480.0       False   \n",
       "\n",
       "       target_domain_fld  \n",
       "0                1177.se  \n",
       "1                1177.se  \n",
       "2                1177.se  \n",
       "3                1177.se  \n",
       "4                1177.se  \n",
       "...                  ...  \n",
       "494256       zxcvads.com  \n",
       "494257       zxcvads.com  \n",
       "494258       zxcvads.com  \n",
       "494259       zxcvads.com  \n",
       "494260       zxcvads.com  \n",
       "\n",
       "[494261 rows x 7 columns]"
      ]
     },
     "execution_count": 102,
     "metadata": {},
     "output_type": "execute_result"
    }
   ],
   "source": [
    "target_domain_df"
   ]
  },
  {
   "cell_type": "code",
   "execution_count": 103,
   "id": "83e083c2-9f68-4812-b3c2-dfdb9339b56f",
   "metadata": {},
   "outputs": [
    {
     "data": {
      "text/html": [
       "<div>\n",
       "<style scoped>\n",
       "    .dataframe tbody tr th:only-of-type {\n",
       "        vertical-align: middle;\n",
       "    }\n",
       "\n",
       "    .dataframe tbody tr th {\n",
       "        vertical-align: top;\n",
       "    }\n",
       "\n",
       "    .dataframe thead th {\n",
       "        text-align: right;\n",
       "    }\n",
       "</style>\n",
       "<table border=\"1\" class=\"dataframe\">\n",
       "  <thead>\n",
       "    <tr style=\"text-align: right;\">\n",
       "      <th></th>\n",
       "      <th>seq</th>\n",
       "      <th>country</th>\n",
       "      <th>asn</th>\n",
       "      <th>target_domain</th>\n",
       "      <th>measurement_id</th>\n",
       "    </tr>\n",
       "  </thead>\n",
       "  <tbody>\n",
       "    <tr>\n",
       "      <th>0</th>\n",
       "      <td>189728</td>\n",
       "      <td>se</td>\n",
       "      <td>2833</td>\n",
       "      <td>www.1177.se</td>\n",
       "      <td>43345322.0</td>\n",
       "    </tr>\n",
       "    <tr>\n",
       "      <th>1</th>\n",
       "      <td>186574</td>\n",
       "      <td>se</td>\n",
       "      <td>2119</td>\n",
       "      <td>www.1177.se</td>\n",
       "      <td>43340394.0</td>\n",
       "    </tr>\n",
       "    <tr>\n",
       "      <th>2</th>\n",
       "      <td>181448</td>\n",
       "      <td>se</td>\n",
       "      <td>42303</td>\n",
       "      <td>www.1177.se</td>\n",
       "      <td>43332830.0</td>\n",
       "    </tr>\n",
       "    <tr>\n",
       "      <th>3</th>\n",
       "      <td>181040</td>\n",
       "      <td>se</td>\n",
       "      <td>35100</td>\n",
       "      <td>www.1177.se</td>\n",
       "      <td>43332284.0</td>\n",
       "    </tr>\n",
       "    <tr>\n",
       "      <th>4</th>\n",
       "      <td>179460</td>\n",
       "      <td>se</td>\n",
       "      <td>51929</td>\n",
       "      <td>www.1177.se</td>\n",
       "      <td>43329833.0</td>\n",
       "    </tr>\n",
       "    <tr>\n",
       "      <th>...</th>\n",
       "      <td>...</td>\n",
       "      <td>...</td>\n",
       "      <td>...</td>\n",
       "      <td>...</td>\n",
       "      <td>...</td>\n",
       "    </tr>\n",
       "    <tr>\n",
       "      <th>494256</th>\n",
       "      <td>259407</td>\n",
       "      <td>fr</td>\n",
       "      <td>8362</td>\n",
       "      <td>a.zxcvads.com</td>\n",
       "      <td>43474978.0</td>\n",
       "    </tr>\n",
       "    <tr>\n",
       "      <th>494257</th>\n",
       "      <td>272167</td>\n",
       "      <td>fr</td>\n",
       "      <td>51207</td>\n",
       "      <td>a.zxcvads.com</td>\n",
       "      <td>43492070.0</td>\n",
       "    </tr>\n",
       "    <tr>\n",
       "      <th>494258</th>\n",
       "      <td>260201</td>\n",
       "      <td>fr</td>\n",
       "      <td>8218</td>\n",
       "      <td>a.zxcvads.com</td>\n",
       "      <td>43476138.0</td>\n",
       "    </tr>\n",
       "    <tr>\n",
       "      <th>494259</th>\n",
       "      <td>270236</td>\n",
       "      <td>fr</td>\n",
       "      <td>34970</td>\n",
       "      <td>a.zxcvads.com</td>\n",
       "      <td>43489380.0</td>\n",
       "    </tr>\n",
       "    <tr>\n",
       "      <th>494260</th>\n",
       "      <td>271000</td>\n",
       "      <td>fr</td>\n",
       "      <td>8487</td>\n",
       "      <td>a.zxcvads.com</td>\n",
       "      <td>43490480.0</td>\n",
       "    </tr>\n",
       "  </tbody>\n",
       "</table>\n",
       "<p>494261 rows × 5 columns</p>\n",
       "</div>"
      ],
      "text/plain": [
       "           seq country    asn  target_domain  measurement_id\n",
       "0       189728      se   2833    www.1177.se      43345322.0\n",
       "1       186574      se   2119    www.1177.se      43340394.0\n",
       "2       181448      se  42303    www.1177.se      43332830.0\n",
       "3       181040      se  35100    www.1177.se      43332284.0\n",
       "4       179460      se  51929    www.1177.se      43329833.0\n",
       "...        ...     ...    ...            ...             ...\n",
       "494256  259407      fr   8362  a.zxcvads.com      43474978.0\n",
       "494257  272167      fr  51207  a.zxcvads.com      43492070.0\n",
       "494258  260201      fr   8218  a.zxcvads.com      43476138.0\n",
       "494259  270236      fr  34970  a.zxcvads.com      43489380.0\n",
       "494260  271000      fr   8487  a.zxcvads.com      43490480.0\n",
       "\n",
       "[494261 rows x 5 columns]"
      ]
     },
     "execution_count": 103,
     "metadata": {},
     "output_type": "execute_result"
    }
   ],
   "source": [
    "new_target_domain_df = target_domain_df.drop([\"is_tracker\", \"target_domain_fld\"], axis=1)\n",
    "new_target_domain_df"
   ]
  },
  {
   "cell_type": "markdown",
   "id": "6cf217d0-3e16-49ce-a459-3338776b9dcf",
   "metadata": {},
   "source": [
    "## 7.2. Add a column: is_new_tracker"
   ]
  },
  {
   "cell_type": "code",
   "execution_count": 104,
   "id": "c7e96367-3f30-4f09-a1ad-69368ae2f24d",
   "metadata": {},
   "outputs": [
    {
     "data": {
      "text/html": [
       "<div>\n",
       "<style scoped>\n",
       "    .dataframe tbody tr th:only-of-type {\n",
       "        vertical-align: middle;\n",
       "    }\n",
       "\n",
       "    .dataframe tbody tr th {\n",
       "        vertical-align: top;\n",
       "    }\n",
       "\n",
       "    .dataframe thead th {\n",
       "        text-align: right;\n",
       "    }\n",
       "</style>\n",
       "<table border=\"1\" class=\"dataframe\">\n",
       "  <thead>\n",
       "    <tr style=\"text-align: right;\">\n",
       "      <th></th>\n",
       "      <th>seq</th>\n",
       "      <th>country</th>\n",
       "      <th>asn</th>\n",
       "      <th>target_domain</th>\n",
       "      <th>measurement_id</th>\n",
       "      <th>is_new_tracker</th>\n",
       "    </tr>\n",
       "  </thead>\n",
       "  <tbody>\n",
       "    <tr>\n",
       "      <th>0</th>\n",
       "      <td>189728</td>\n",
       "      <td>se</td>\n",
       "      <td>2833</td>\n",
       "      <td>www.1177.se</td>\n",
       "      <td>43345322.0</td>\n",
       "      <td>False</td>\n",
       "    </tr>\n",
       "    <tr>\n",
       "      <th>1</th>\n",
       "      <td>186574</td>\n",
       "      <td>se</td>\n",
       "      <td>2119</td>\n",
       "      <td>www.1177.se</td>\n",
       "      <td>43340394.0</td>\n",
       "      <td>False</td>\n",
       "    </tr>\n",
       "    <tr>\n",
       "      <th>2</th>\n",
       "      <td>181448</td>\n",
       "      <td>se</td>\n",
       "      <td>42303</td>\n",
       "      <td>www.1177.se</td>\n",
       "      <td>43332830.0</td>\n",
       "      <td>False</td>\n",
       "    </tr>\n",
       "    <tr>\n",
       "      <th>3</th>\n",
       "      <td>181040</td>\n",
       "      <td>se</td>\n",
       "      <td>35100</td>\n",
       "      <td>www.1177.se</td>\n",
       "      <td>43332284.0</td>\n",
       "      <td>False</td>\n",
       "    </tr>\n",
       "    <tr>\n",
       "      <th>4</th>\n",
       "      <td>179460</td>\n",
       "      <td>se</td>\n",
       "      <td>51929</td>\n",
       "      <td>www.1177.se</td>\n",
       "      <td>43329833.0</td>\n",
       "      <td>False</td>\n",
       "    </tr>\n",
       "    <tr>\n",
       "      <th>...</th>\n",
       "      <td>...</td>\n",
       "      <td>...</td>\n",
       "      <td>...</td>\n",
       "      <td>...</td>\n",
       "      <td>...</td>\n",
       "      <td>...</td>\n",
       "    </tr>\n",
       "    <tr>\n",
       "      <th>494256</th>\n",
       "      <td>259407</td>\n",
       "      <td>fr</td>\n",
       "      <td>8362</td>\n",
       "      <td>a.zxcvads.com</td>\n",
       "      <td>43474978.0</td>\n",
       "      <td>True</td>\n",
       "    </tr>\n",
       "    <tr>\n",
       "      <th>494257</th>\n",
       "      <td>272167</td>\n",
       "      <td>fr</td>\n",
       "      <td>51207</td>\n",
       "      <td>a.zxcvads.com</td>\n",
       "      <td>43492070.0</td>\n",
       "      <td>True</td>\n",
       "    </tr>\n",
       "    <tr>\n",
       "      <th>494258</th>\n",
       "      <td>260201</td>\n",
       "      <td>fr</td>\n",
       "      <td>8218</td>\n",
       "      <td>a.zxcvads.com</td>\n",
       "      <td>43476138.0</td>\n",
       "      <td>True</td>\n",
       "    </tr>\n",
       "    <tr>\n",
       "      <th>494259</th>\n",
       "      <td>270236</td>\n",
       "      <td>fr</td>\n",
       "      <td>34970</td>\n",
       "      <td>a.zxcvads.com</td>\n",
       "      <td>43489380.0</td>\n",
       "      <td>True</td>\n",
       "    </tr>\n",
       "    <tr>\n",
       "      <th>494260</th>\n",
       "      <td>271000</td>\n",
       "      <td>fr</td>\n",
       "      <td>8487</td>\n",
       "      <td>a.zxcvads.com</td>\n",
       "      <td>43490480.0</td>\n",
       "      <td>True</td>\n",
       "    </tr>\n",
       "  </tbody>\n",
       "</table>\n",
       "<p>494261 rows × 6 columns</p>\n",
       "</div>"
      ],
      "text/plain": [
       "           seq country    asn  target_domain  measurement_id  is_new_tracker\n",
       "0       189728      se   2833    www.1177.se      43345322.0           False\n",
       "1       186574      se   2119    www.1177.se      43340394.0           False\n",
       "2       181448      se  42303    www.1177.se      43332830.0           False\n",
       "3       181040      se  35100    www.1177.se      43332284.0           False\n",
       "4       179460      se  51929    www.1177.se      43329833.0           False\n",
       "...        ...     ...    ...            ...             ...             ...\n",
       "494256  259407      fr   8362  a.zxcvads.com      43474978.0            True\n",
       "494257  272167      fr  51207  a.zxcvads.com      43492070.0            True\n",
       "494258  260201      fr   8218  a.zxcvads.com      43476138.0            True\n",
       "494259  270236      fr  34970  a.zxcvads.com      43489380.0            True\n",
       "494260  271000      fr   8487  a.zxcvads.com      43490480.0            True\n",
       "\n",
       "[494261 rows x 6 columns]"
      ]
     },
     "execution_count": 104,
     "metadata": {},
     "output_type": "execute_result"
    }
   ],
   "source": [
    "new_target_domain_df[\"is_new_tracker\"] = is_new_tracker_l\n",
    "new_target_domain_df"
   ]
  },
  {
   "cell_type": "markdown",
   "id": "8da3b4f7-56d2-49ad-8350-c1313250ab68",
   "metadata": {},
   "source": [
    "# 8. Sanity Check"
   ]
  },
  {
   "cell_type": "markdown",
   "id": "18c99b80-3541-454a-a169-c2dbace20929",
   "metadata": {},
   "source": [
    "## 8.1. sanity_check_df"
   ]
  },
  {
   "cell_type": "code",
   "execution_count": 131,
   "id": "a0b911ae-2fc9-4b48-84bf-a8a86aba43c4",
   "metadata": {},
   "outputs": [],
   "source": [
    "original_target_domain_fld_l = copy.deepcopy(target_domain_fld_l)"
   ]
  },
  {
   "cell_type": "code",
   "execution_count": 132,
   "id": "a8ba4e0e-ebd3-4710-96d0-e88962848404",
   "metadata": {},
   "outputs": [
    {
     "data": {
      "text/plain": [
       "['instagram.com',\n",
       " 'twitter.com',\n",
       " '2mdn.net',\n",
       " 'clarity.ms',\n",
       " 'filmix.ac',\n",
       " 'quantserve.com',\n",
       " 'gls-pakete.de',\n",
       " 'telewebion.com',\n",
       " 'n-tv.de',\n",
       " 'media.net']"
      ]
     },
     "execution_count": 132,
     "metadata": {},
     "output_type": "execute_result"
    }
   ],
   "source": [
    "target_domain_fld_l[:10]"
   ]
  },
  {
   "cell_type": "code",
   "execution_count": 133,
   "id": "3dd969cf-ab97-4fa2-824d-1cf8a6848af6",
   "metadata": {},
   "outputs": [
    {
     "name": "stdout",
     "output_type": "stream",
     "text": [
      "0             1177.se\n",
      "1             1177.se\n",
      "2             1177.se\n",
      "3             1177.se\n",
      "4             1177.se\n",
      "             ...     \n",
      "494256    zxcvads.com\n",
      "494257    zxcvads.com\n",
      "494258    zxcvads.com\n",
      "494259    zxcvads.com\n",
      "494260    zxcvads.com\n",
      "Name: target_domain_fld, Length: 494261, dtype: object\n"
     ]
    }
   ],
   "source": [
    "target_domain_fld_l = target_domain_df[\"target_domain_fld\"]\n",
    "print(target_domain_fld_l)"
   ]
  },
  {
   "cell_type": "code",
   "execution_count": 134,
   "id": "81c92bbe-be49-4e5b-8506-85f2a2d78425",
   "metadata": {},
   "outputs": [
    {
     "data": {
      "text/html": [
       "<div>\n",
       "<style scoped>\n",
       "    .dataframe tbody tr th:only-of-type {\n",
       "        vertical-align: middle;\n",
       "    }\n",
       "\n",
       "    .dataframe tbody tr th {\n",
       "        vertical-align: top;\n",
       "    }\n",
       "\n",
       "    .dataframe thead th {\n",
       "        text-align: right;\n",
       "    }\n",
       "</style>\n",
       "<table border=\"1\" class=\"dataframe\">\n",
       "  <thead>\n",
       "    <tr style=\"text-align: right;\">\n",
       "      <th></th>\n",
       "      <th>target_domain_fld</th>\n",
       "      <th>is_new_tracker</th>\n",
       "    </tr>\n",
       "  </thead>\n",
       "  <tbody>\n",
       "    <tr>\n",
       "      <th>0</th>\n",
       "      <td>1177.se</td>\n",
       "      <td>False</td>\n",
       "    </tr>\n",
       "    <tr>\n",
       "      <th>1</th>\n",
       "      <td>1177.se</td>\n",
       "      <td>False</td>\n",
       "    </tr>\n",
       "    <tr>\n",
       "      <th>2</th>\n",
       "      <td>1177.se</td>\n",
       "      <td>False</td>\n",
       "    </tr>\n",
       "    <tr>\n",
       "      <th>3</th>\n",
       "      <td>1177.se</td>\n",
       "      <td>False</td>\n",
       "    </tr>\n",
       "    <tr>\n",
       "      <th>4</th>\n",
       "      <td>1177.se</td>\n",
       "      <td>False</td>\n",
       "    </tr>\n",
       "    <tr>\n",
       "      <th>...</th>\n",
       "      <td>...</td>\n",
       "      <td>...</td>\n",
       "    </tr>\n",
       "    <tr>\n",
       "      <th>494256</th>\n",
       "      <td>zxcvads.com</td>\n",
       "      <td>True</td>\n",
       "    </tr>\n",
       "    <tr>\n",
       "      <th>494257</th>\n",
       "      <td>zxcvads.com</td>\n",
       "      <td>True</td>\n",
       "    </tr>\n",
       "    <tr>\n",
       "      <th>494258</th>\n",
       "      <td>zxcvads.com</td>\n",
       "      <td>True</td>\n",
       "    </tr>\n",
       "    <tr>\n",
       "      <th>494259</th>\n",
       "      <td>zxcvads.com</td>\n",
       "      <td>True</td>\n",
       "    </tr>\n",
       "    <tr>\n",
       "      <th>494260</th>\n",
       "      <td>zxcvads.com</td>\n",
       "      <td>True</td>\n",
       "    </tr>\n",
       "  </tbody>\n",
       "</table>\n",
       "<p>494261 rows × 2 columns</p>\n",
       "</div>"
      ],
      "text/plain": [
       "       target_domain_fld  is_new_tracker\n",
       "0                1177.se           False\n",
       "1                1177.se           False\n",
       "2                1177.se           False\n",
       "3                1177.se           False\n",
       "4                1177.se           False\n",
       "...                  ...             ...\n",
       "494256       zxcvads.com            True\n",
       "494257       zxcvads.com            True\n",
       "494258       zxcvads.com            True\n",
       "494259       zxcvads.com            True\n",
       "494260       zxcvads.com            True\n",
       "\n",
       "[494261 rows x 2 columns]"
      ]
     },
     "execution_count": 134,
     "metadata": {},
     "output_type": "execute_result"
    }
   ],
   "source": [
    "sanity_check_df = pd.DataFrame({\"target_domain_fld\": target_domain_fld_l, \"is_new_tracker\": is_new_tracker_l})\n",
    "sanity_check_df"
   ]
  },
  {
   "cell_type": "markdown",
   "id": "e4e47de3-847f-4c2f-8d2f-c87dc8092e78",
   "metadata": {},
   "source": [
    "## 8.2. FLD-level check"
   ]
  },
  {
   "cell_type": "code",
   "execution_count": 135,
   "id": "033f54b7-800d-4920-90f6-4369f065f527",
   "metadata": {},
   "outputs": [
    {
     "name": "stdout",
     "output_type": "stream",
     "text": [
      "set()\n"
     ]
    }
   ],
   "source": [
    "target_domain_fld_s = \"\"\n",
    "inconsistent_target_domain_set = set()\n",
    "\n",
    "for i in range(len(sanity_check_df)):\n",
    "    if target_domain_fld_l[i] != target_domain_fld_s:\n",
    "        target_domain_fld_s = target_domain_fld_l[i]\n",
    "        is_new_tracker_bool = is_new_tracker_l[i]\n",
    "    else:\n",
    "        if is_new_tracker_l[i] != is_new_tracker_bool:\n",
    "            inconsistent_target_domain_set.add(target_domain_fld_l[i])\n",
    "\n",
    "# It should print an empty set.\n",
    "print(inconsistent_target_domain_set)"
   ]
  },
  {
   "cell_type": "markdown",
   "id": "e96a7290-6c75-45f5-8309-f060a50d3e92",
   "metadata": {},
   "source": [
    "## 8.3. tracker_set-level check"
   ]
  },
  {
   "cell_type": "code",
   "execution_count": 156,
   "id": "de5ffe4f-675f-4301-b3a4-0de29dff804a",
   "metadata": {},
   "outputs": [
    {
     "name": "stdout",
     "output_type": "stream",
     "text": [
      "True\n"
     ]
    }
   ],
   "source": [
    "should_be_all_true_l = list()\n",
    "\n",
    "for problematic_fld_s in tracker_set:\n",
    "    if problematic_fld_s in target_domain_fld_l:\n",
    "        problematic_fld_count_i = target_domain_fld_l.count(problematic_fld_s)\n",
    "        problematic_fld_index_i = target_domain_fld_l.index(problematic_fld_s)\n",
    "        should_be_all_true_l.append(all(is_new_tracker_l[problematic_fld_index_i:problematic_fld_index_i+problematic_fld_count_i]))\n",
    "\n",
    "# It should print True for all([True, True, True, ...]).\n",
    "print(all(should_be_all_true_l))"
   ]
  },
  {
   "cell_type": "markdown",
   "id": "ee9ff4c7-7bb4-4efc-820f-1659ad6efc4f",
   "metadata": {},
   "source": [
    "## 8.4. Individual check"
   ]
  },
  {
   "cell_type": "markdown",
   "id": "44302242-1843-4ed0-925f-aa2738510c25",
   "metadata": {},
   "source": [
    "### 8.4.1. focus.de"
   ]
  },
  {
   "cell_type": "code",
   "execution_count": 136,
   "id": "b1399f92-7977-45d7-a18d-d82b1ede6c3d",
   "metadata": {},
   "outputs": [
    {
     "name": "stdout",
     "output_type": "stream",
     "text": [
      "False\n",
      "       target_domain_fld  is_new_tracker\n",
      "145649          focus.de            True\n",
      "145650          focus.de            True\n",
      "145651          focus.de            True\n",
      "145652          focus.de            True\n",
      "145653          focus.de            True\n",
      "...                  ...             ...\n",
      "149056          focus.de            True\n",
      "149057          focus.de            True\n",
      "149058          focus.de            True\n",
      "149059          focus.de            True\n",
      "149060          focus.de            True\n",
      "\n",
      "[3412 rows x 2 columns]\n",
      "True\n"
     ]
    }
   ],
   "source": [
    "problematic_fld_s = \"focus.de\"\n",
    "print(problematic_fld_s in tracker_set)\n",
    "\n",
    "problematic_fld_count_i = list(target_domain_fld_l).count(problematic_fld_s)\n",
    "problematic_fld_index_i = list(target_domain_fld_l).index(problematic_fld_s)\n",
    "\n",
    "print(sanity_check_df.iloc[problematic_fld_index_i:problematic_fld_index_i+problematic_fld_count_i])\n",
    "print(all(is_new_tracker_l[problematic_fld_index_i:problematic_fld_index_i+problematic_fld_count_i]))"
   ]
  },
  {
   "cell_type": "markdown",
   "id": "40640a78-2302-48f6-a612-069535f90203",
   "metadata": {},
   "source": [
    "### 8.4.2. fwmrm.net"
   ]
  },
  {
   "cell_type": "code",
   "execution_count": 137,
   "id": "d2eba3ab-9e8e-4261-8d50-005e1152e92f",
   "metadata": {},
   "outputs": [
    {
     "name": "stdout",
     "output_type": "stream",
     "text": [
      "True\n",
      "       target_domain_fld  is_new_tracker\n",
      "151350         fwmrm.net            True\n",
      "151351         fwmrm.net            True\n",
      "151352         fwmrm.net            True\n",
      "151353         fwmrm.net            True\n",
      "151354         fwmrm.net            True\n",
      "151355         fwmrm.net            True\n",
      "151356         fwmrm.net            True\n",
      "151357         fwmrm.net            True\n",
      "151358         fwmrm.net            True\n",
      "151359         fwmrm.net            True\n",
      "151360         fwmrm.net            True\n",
      "151361         fwmrm.net            True\n",
      "151362         fwmrm.net            True\n",
      "151363         fwmrm.net            True\n",
      "151364         fwmrm.net            True\n",
      "151365         fwmrm.net            True\n",
      "151366         fwmrm.net            True\n",
      "151367         fwmrm.net            True\n",
      "151368         fwmrm.net            True\n",
      "151369         fwmrm.net            True\n",
      "151370         fwmrm.net            True\n",
      "151371         fwmrm.net            True\n",
      "True\n"
     ]
    }
   ],
   "source": [
    "problematic_fld_s = \"fwmrm.net\"\n",
    "print(problematic_fld_s in tracker_set)\n",
    "\n",
    "problematic_fld_count_i = list(target_domain_fld_l).count(problematic_fld_s)\n",
    "problematic_fld_index_i = list(target_domain_fld_l).index(problematic_fld_s)\n",
    "\n",
    "print(sanity_check_df.iloc[problematic_fld_index_i:problematic_fld_index_i+problematic_fld_count_i])\n",
    "print(all(is_new_tracker_l[problematic_fld_index_i:problematic_fld_index_i+problematic_fld_count_i]))"
   ]
  },
  {
   "cell_type": "markdown",
   "id": "28d771c8-dc9f-4fb0-a81e-2284cbe1189e",
   "metadata": {},
   "source": [
    "### 8.4.3. instagram.com"
   ]
  },
  {
   "cell_type": "code",
   "execution_count": 151,
   "id": "6311995d-514f-4da2-b58c-5abff9d146da",
   "metadata": {},
   "outputs": [
    {
     "name": "stdout",
     "output_type": "stream",
     "text": [
      "False\n",
      "       target_domain_fld  is_new_tracker\n",
      "225195     instagram.com           False\n",
      "225196     instagram.com           False\n",
      "225197     instagram.com           False\n",
      "225198     instagram.com           False\n",
      "225199     instagram.com           False\n",
      "...                  ...             ...\n",
      "226860     instagram.com           False\n",
      "226861     instagram.com           False\n",
      "226862     instagram.com           False\n",
      "226863     instagram.com           False\n",
      "226864     instagram.com           False\n",
      "\n",
      "[1670 rows x 2 columns]\n",
      "False\n"
     ]
    }
   ],
   "source": [
    "problematic_fld_s = \"instagram.com\"\n",
    "print(problematic_fld_s in tracker_set)\n",
    "\n",
    "problematic_fld_count_i = list(target_domain_fld_l).count(problematic_fld_s)\n",
    "problematic_fld_index_i = list(target_domain_fld_l).index(problematic_fld_s)\n",
    "\n",
    "print(sanity_check_df.iloc[problematic_fld_index_i:problematic_fld_index_i+problematic_fld_count_i])\n",
    "print(any(is_new_tracker_l[problematic_fld_index_i:problematic_fld_index_i+problematic_fld_count_i]))"
   ]
  },
  {
   "cell_type": "code",
   "execution_count": 152,
   "id": "fdac3b51-461d-4bd3-a51d-650f8ddf6af2",
   "metadata": {},
   "outputs": [
    {
     "data": {
      "text/plain": [
       "False"
      ]
     },
     "execution_count": 152,
     "metadata": {},
     "output_type": "execute_result"
    }
   ],
   "source": [
    "any([False, False, False])"
   ]
  },
  {
   "cell_type": "code",
   "execution_count": 154,
   "id": "da3b646f-bc4e-4fcb-a9c7-2a923f6d6da1",
   "metadata": {},
   "outputs": [
    {
     "data": {
      "text/plain": [
       "False"
      ]
     },
     "execution_count": 154,
     "metadata": {},
     "output_type": "execute_result"
    }
   ],
   "source": [
    "all([False, False, False])"
   ]
  },
  {
   "cell_type": "markdown",
   "id": "20090b69-0231-40c0-9ecb-4f4548a07bfd",
   "metadata": {},
   "source": [
    "### 8.4.4. twitter.com"
   ]
  },
  {
   "cell_type": "code",
   "execution_count": 158,
   "id": "568be91b-fbcc-4109-842e-c72c7edff3c3",
   "metadata": {},
   "outputs": [
    {
     "name": "stdout",
     "output_type": "stream",
     "text": [
      "False\n",
      "       target_domain_fld  is_new_tracker\n",
      "440618       twitter.com            True\n",
      "440619       twitter.com            True\n",
      "440620       twitter.com            True\n",
      "440621       twitter.com            True\n",
      "440622       twitter.com            True\n",
      "...                  ...             ...\n",
      "445904       twitter.com            True\n",
      "445905       twitter.com            True\n",
      "445906       twitter.com            True\n",
      "445907       twitter.com            True\n",
      "445908       twitter.com            True\n",
      "\n",
      "[5291 rows x 2 columns]\n",
      "True\n"
     ]
    }
   ],
   "source": [
    "problematic_fld_s = \"twitter.com\"\n",
    "print(problematic_fld_s in tracker_set)\n",
    "\n",
    "problematic_fld_count_i = list(target_domain_fld_l).count(problematic_fld_s)\n",
    "problematic_fld_index_i = list(target_domain_fld_l).index(problematic_fld_s)\n",
    "\n",
    "print(sanity_check_df.iloc[problematic_fld_index_i:problematic_fld_index_i+problematic_fld_count_i])\n",
    "print(any(is_new_tracker_l[problematic_fld_index_i:problematic_fld_index_i+problematic_fld_count_i]))"
   ]
  },
  {
   "cell_type": "markdown",
   "id": "8e0acb37-44fe-4cf4-8c6d-0de60a93f4df",
   "metadata": {},
   "source": [
    "# 9. Save as TXT"
   ]
  },
  {
   "cell_type": "markdown",
   "id": "7de5f154-49d8-4ce6-a7e7-169ab6eb9503",
   "metadata": {},
   "source": [
    "## 9.1. Save new_target_domain_df as TXT"
   ]
  },
  {
   "cell_type": "code",
   "execution_count": 122,
   "id": "0af5a109-9f37-43c1-a00d-53b755a62443",
   "metadata": {},
   "outputs": [
    {
     "name": "stdout",
     "output_type": "stream",
     "text": [
      "/Users/immanuel/Documents/NEU/05_Spring_2022/CS7675_ResAppr/tasks/MyLab/task18_tracker_domain_tracker/output\n"
     ]
    }
   ],
   "source": [
    "os.chdir(output_path_s)\n",
    "print(os.getcwd())"
   ]
  },
  {
   "cell_type": "code",
   "execution_count": 148,
   "id": "c9ac276a-9735-417d-a712-091a779e4d51",
   "metadata": {},
   "outputs": [
    {
     "data": {
      "text/html": [
       "<div>\n",
       "<style scoped>\n",
       "    .dataframe tbody tr th:only-of-type {\n",
       "        vertical-align: middle;\n",
       "    }\n",
       "\n",
       "    .dataframe tbody tr th {\n",
       "        vertical-align: top;\n",
       "    }\n",
       "\n",
       "    .dataframe thead th {\n",
       "        text-align: right;\n",
       "    }\n",
       "</style>\n",
       "<table border=\"1\" class=\"dataframe\">\n",
       "  <thead>\n",
       "    <tr style=\"text-align: right;\">\n",
       "      <th></th>\n",
       "      <th>seq</th>\n",
       "      <th>country</th>\n",
       "      <th>asn</th>\n",
       "      <th>target_domain</th>\n",
       "      <th>measurement_id</th>\n",
       "      <th>is_new_tracker</th>\n",
       "    </tr>\n",
       "  </thead>\n",
       "  <tbody>\n",
       "    <tr>\n",
       "      <th>0</th>\n",
       "      <td>0</td>\n",
       "      <td>de</td>\n",
       "      <td>39835</td>\n",
       "      <td>www.instagram.com</td>\n",
       "      <td>42506263.0</td>\n",
       "      <td>False</td>\n",
       "    </tr>\n",
       "    <tr>\n",
       "      <th>1</th>\n",
       "      <td>1</td>\n",
       "      <td>de</td>\n",
       "      <td>39835</td>\n",
       "      <td>twitter.com</td>\n",
       "      <td>42506264.0</td>\n",
       "      <td>True</td>\n",
       "    </tr>\n",
       "    <tr>\n",
       "      <th>2</th>\n",
       "      <td>2</td>\n",
       "      <td>de</td>\n",
       "      <td>39835</td>\n",
       "      <td>s0.2mdn.net</td>\n",
       "      <td>42506265.0</td>\n",
       "      <td>True</td>\n",
       "    </tr>\n",
       "    <tr>\n",
       "      <th>3</th>\n",
       "      <td>3</td>\n",
       "      <td>de</td>\n",
       "      <td>39835</td>\n",
       "      <td>www.clarity.ms</td>\n",
       "      <td>42506266.0</td>\n",
       "      <td>False</td>\n",
       "    </tr>\n",
       "    <tr>\n",
       "      <th>4</th>\n",
       "      <td>4</td>\n",
       "      <td>de</td>\n",
       "      <td>39835</td>\n",
       "      <td>www.filmix.ac</td>\n",
       "      <td>42506267.0</td>\n",
       "      <td>False</td>\n",
       "    </tr>\n",
       "    <tr>\n",
       "      <th>...</th>\n",
       "      <td>...</td>\n",
       "      <td>...</td>\n",
       "      <td>...</td>\n",
       "      <td>...</td>\n",
       "      <td>...</td>\n",
       "      <td>...</td>\n",
       "    </tr>\n",
       "    <tr>\n",
       "      <th>494256</th>\n",
       "      <td>494256</td>\n",
       "      <td>cz</td>\n",
       "      <td>44489</td>\n",
       "      <td>cdn.speedcurve.com</td>\n",
       "      <td>43832951.0</td>\n",
       "      <td>False</td>\n",
       "    </tr>\n",
       "    <tr>\n",
       "      <th>494257</th>\n",
       "      <td>494257</td>\n",
       "      <td>cz</td>\n",
       "      <td>44489</td>\n",
       "      <td>img.kurzy.cz</td>\n",
       "      <td>43832953.0</td>\n",
       "      <td>False</td>\n",
       "    </tr>\n",
       "    <tr>\n",
       "      <th>494258</th>\n",
       "      <td>494258</td>\n",
       "      <td>cz</td>\n",
       "      <td>44489</td>\n",
       "      <td>report.prozeny.cz</td>\n",
       "      <td>43832954.0</td>\n",
       "      <td>False</td>\n",
       "    </tr>\n",
       "    <tr>\n",
       "      <th>494259</th>\n",
       "      <td>494259</td>\n",
       "      <td>cz</td>\n",
       "      <td>44489</td>\n",
       "      <td>pro.mapy.cz</td>\n",
       "      <td>43832955.0</td>\n",
       "      <td>False</td>\n",
       "    </tr>\n",
       "    <tr>\n",
       "      <th>494260</th>\n",
       "      <td>494260</td>\n",
       "      <td>cz</td>\n",
       "      <td>44489</td>\n",
       "      <td>region1.analytics.google.com</td>\n",
       "      <td>43832956.0</td>\n",
       "      <td>True</td>\n",
       "    </tr>\n",
       "  </tbody>\n",
       "</table>\n",
       "<p>494261 rows × 6 columns</p>\n",
       "</div>"
      ],
      "text/plain": [
       "           seq country    asn                 target_domain  measurement_id  \\\n",
       "0            0      de  39835             www.instagram.com      42506263.0   \n",
       "1            1      de  39835                   twitter.com      42506264.0   \n",
       "2            2      de  39835                   s0.2mdn.net      42506265.0   \n",
       "3            3      de  39835                www.clarity.ms      42506266.0   \n",
       "4            4      de  39835                 www.filmix.ac      42506267.0   \n",
       "...        ...     ...    ...                           ...             ...   \n",
       "494256  494256      cz  44489            cdn.speedcurve.com      43832951.0   \n",
       "494257  494257      cz  44489                  img.kurzy.cz      43832953.0   \n",
       "494258  494258      cz  44489             report.prozeny.cz      43832954.0   \n",
       "494259  494259      cz  44489                   pro.mapy.cz      43832955.0   \n",
       "494260  494260      cz  44489  region1.analytics.google.com      43832956.0   \n",
       "\n",
       "        is_new_tracker  \n",
       "0                False  \n",
       "1                 True  \n",
       "2                 True  \n",
       "3                False  \n",
       "4                False  \n",
       "...                ...  \n",
       "494256           False  \n",
       "494257           False  \n",
       "494258           False  \n",
       "494259           False  \n",
       "494260            True  \n",
       "\n",
       "[494261 rows x 6 columns]"
      ]
     },
     "execution_count": 148,
     "metadata": {},
     "output_type": "execute_result"
    }
   ],
   "source": [
    "new_target_domain_df = new_target_domain_df.sort_values(by=['seq'], ignore_index=True)\n",
    "new_target_domain_df"
   ]
  },
  {
   "cell_type": "code",
   "execution_count": 149,
   "id": "196bbcc0-ce8b-433f-a3c0-a9b42f7d843a",
   "metadata": {},
   "outputs": [],
   "source": [
    "new_target_domain_df.to_csv(\"measurement_ids_kicho_tracker_20221013.txt\", header=False, index=False)"
   ]
  },
  {
   "cell_type": "markdown",
   "id": "6a609daf-9666-4ceb-9ac4-ae40b9578678",
   "metadata": {},
   "source": [
    "## 9.2. Save new_tracker_target_domain_df as TXT"
   ]
  },
  {
   "cell_type": "code",
   "execution_count": 144,
   "id": "aa369342-6b9d-4542-ae89-f54bcffc1d1a",
   "metadata": {},
   "outputs": [],
   "source": [
    "pd.DataFrame(set(new_tracker_target_domain_df[\"target_domain\"])).to_csv(\"new_tracker_target_domain_20221013.txt\", header=False, index=False)"
   ]
  },
  {
   "cell_type": "code",
   "execution_count": null,
   "id": "130e9450-d5aa-4a1a-94ca-4c8034fadb38",
   "metadata": {},
   "outputs": [],
   "source": []
  }
 ],
 "metadata": {
  "kernelspec": {
   "display_name": "Python 3 (ipykernel)",
   "language": "python",
   "name": "python3"
  },
  "language_info": {
   "codemirror_mode": {
    "name": "ipython",
    "version": 3
   },
   "file_extension": ".py",
   "mimetype": "text/x-python",
   "name": "python",
   "nbconvert_exporter": "python",
   "pygments_lexer": "ipython3",
   "version": "3.9.7"
  }
 },
 "nbformat": 4,
 "nbformat_minor": 5
}
