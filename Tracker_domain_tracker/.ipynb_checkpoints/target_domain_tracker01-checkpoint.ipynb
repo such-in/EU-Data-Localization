{
 "cells": [
  {
   "cell_type": "markdown",
   "id": "d1ce869f-2def-4748-9864-f59810c8ec1c",
   "metadata": {},
   "source": [
    "# 1. Import packages"
   ]
  },
  {
   "cell_type": "code",
   "execution_count": 65,
   "id": "43555b46-8a81-404e-987e-6d12064e2098",
   "metadata": {},
   "outputs": [],
   "source": [
    "import os\n",
    "import pandas as pd"
   ]
  },
  {
   "cell_type": "markdown",
   "id": "31ebf1cf-99cc-4e0a-bf14-5c9e4ab32fdd",
   "metadata": {},
   "source": [
    "# 2. Read a TXT"
   ]
  },
  {
   "cell_type": "markdown",
   "id": "a96bce02-2ce7-4066-b6b6-9d40fbdaa51c",
   "metadata": {},
   "source": [
    "## 2.1. Change to input directory"
   ]
  },
  {
   "cell_type": "code",
   "execution_count": 2,
   "id": "126f78a3-19b3-4572-920f-f0e8ecfe7c34",
   "metadata": {},
   "outputs": [
    {
     "name": "stdout",
     "output_type": "stream",
     "text": [
      "/Users/immanuel/Documents/NEU/05_Spring_2022/CS7675_ResAppr/tasks/MyLab/task18_tracker_domain_tracker\n",
      "/Users/immanuel/Documents/NEU/05_Spring_2022/CS7675_ResAppr/tasks/MyLab/task18_tracker_domain_tracker/input\n"
     ]
    }
   ],
   "source": [
    "print(os.getcwd())\n",
    "input_path_s = \"/input/\"\n",
    "input_path_s = os.getcwd() + input_path_s\n",
    "output_path_s = \"/output/\"\n",
    "output_path_s = os.getcwd() + output_path_s\n",
    "os.chdir(input_path_s)\n",
    "print(os.getcwd())"
   ]
  },
  {
   "cell_type": "markdown",
   "id": "b4ea73c0-61b2-49f9-ab36-91b40a658d51",
   "metadata": {},
   "source": [
    "## 2.2. Read additional-trackers-all-sources.txt"
   ]
  },
  {
   "cell_type": "code",
   "execution_count": 3,
   "id": "b52663ac-c44d-43ea-960b-754e9047382d",
   "metadata": {},
   "outputs": [
    {
     "name": "stdout",
     "output_type": "stream",
     "text": [
      "(273, 1)\n"
     ]
    }
   ],
   "source": [
    "tracker_df = pd.read_csv(\"additional-trackers-all-sources.txt\", header=None)\n",
    "print(tracker_df.shape)"
   ]
  },
  {
   "cell_type": "code",
   "execution_count": 4,
   "id": "e355d118-9347-473d-a314-aa8232245ea9",
   "metadata": {},
   "outputs": [
    {
     "name": "stdout",
     "output_type": "stream",
     "text": [
      "273\n",
      "['fwmrm.net', 'ad.gt', 'teads.tv', 'dotomi.com', 'ads-twitter.com', 'intelligenceadx.com', 'strossle.com', 'adskeeper.com', 'pagefair.net', 'crm4d.com']\n"
     ]
    }
   ],
   "source": [
    "tracker_l = list(tracker_df[0])\n",
    "del tracker_df\n",
    "print(len(tracker_l))\n",
    "print(tracker_l[:10])"
   ]
  },
  {
   "cell_type": "markdown",
   "id": "9a67d372-6f58-4c3a-88fd-0b458d6a226c",
   "metadata": {},
   "source": [
    "## 2.3. Read measurement_ids_kicho_tracker.txt"
   ]
  },
  {
   "cell_type": "code",
   "execution_count": 5,
   "id": "1e64e56c-b5ef-4b8d-9043-ed2e96786b50",
   "metadata": {},
   "outputs": [
    {
     "name": "stdout",
     "output_type": "stream",
     "text": [
      "(494261, 6)\n"
     ]
    }
   ],
   "source": [
    "target_domain_df = pd.read_csv(\"measurement_ids_kicho_tracker.txt\", header=None)\n",
    "print(target_domain_df.shape)"
   ]
  },
  {
   "cell_type": "code",
   "execution_count": 6,
   "id": "4acef471-0041-48e2-ab6e-4ac71f3c45eb",
   "metadata": {},
   "outputs": [
    {
     "data": {
      "text/html": [
       "<div>\n",
       "<style scoped>\n",
       "    .dataframe tbody tr th:only-of-type {\n",
       "        vertical-align: middle;\n",
       "    }\n",
       "\n",
       "    .dataframe tbody tr th {\n",
       "        vertical-align: top;\n",
       "    }\n",
       "\n",
       "    .dataframe thead th {\n",
       "        text-align: right;\n",
       "    }\n",
       "</style>\n",
       "<table border=\"1\" class=\"dataframe\">\n",
       "  <thead>\n",
       "    <tr style=\"text-align: right;\">\n",
       "      <th></th>\n",
       "      <th>0</th>\n",
       "      <th>1</th>\n",
       "      <th>2</th>\n",
       "      <th>3</th>\n",
       "      <th>4</th>\n",
       "      <th>5</th>\n",
       "    </tr>\n",
       "  </thead>\n",
       "  <tbody>\n",
       "    <tr>\n",
       "      <th>0</th>\n",
       "      <td>0</td>\n",
       "      <td>de</td>\n",
       "      <td>39835</td>\n",
       "      <td>www.instagram.com</td>\n",
       "      <td>42506263.0</td>\n",
       "      <td>False</td>\n",
       "    </tr>\n",
       "    <tr>\n",
       "      <th>1</th>\n",
       "      <td>1</td>\n",
       "      <td>de</td>\n",
       "      <td>39835</td>\n",
       "      <td>twitter.com</td>\n",
       "      <td>42506264.0</td>\n",
       "      <td>True</td>\n",
       "    </tr>\n",
       "    <tr>\n",
       "      <th>2</th>\n",
       "      <td>2</td>\n",
       "      <td>de</td>\n",
       "      <td>39835</td>\n",
       "      <td>s0.2mdn.net</td>\n",
       "      <td>42506265.0</td>\n",
       "      <td>False</td>\n",
       "    </tr>\n",
       "    <tr>\n",
       "      <th>3</th>\n",
       "      <td>3</td>\n",
       "      <td>de</td>\n",
       "      <td>39835</td>\n",
       "      <td>www.clarity.ms</td>\n",
       "      <td>42506266.0</td>\n",
       "      <td>False</td>\n",
       "    </tr>\n",
       "    <tr>\n",
       "      <th>4</th>\n",
       "      <td>4</td>\n",
       "      <td>de</td>\n",
       "      <td>39835</td>\n",
       "      <td>www.filmix.ac</td>\n",
       "      <td>42506267.0</td>\n",
       "      <td>False</td>\n",
       "    </tr>\n",
       "    <tr>\n",
       "      <th>...</th>\n",
       "      <td>...</td>\n",
       "      <td>...</td>\n",
       "      <td>...</td>\n",
       "      <td>...</td>\n",
       "      <td>...</td>\n",
       "      <td>...</td>\n",
       "    </tr>\n",
       "    <tr>\n",
       "      <th>494256</th>\n",
       "      <td>494256</td>\n",
       "      <td>cz</td>\n",
       "      <td>44489</td>\n",
       "      <td>cdn.speedcurve.com</td>\n",
       "      <td>43832951.0</td>\n",
       "      <td>False</td>\n",
       "    </tr>\n",
       "    <tr>\n",
       "      <th>494257</th>\n",
       "      <td>494257</td>\n",
       "      <td>cz</td>\n",
       "      <td>44489</td>\n",
       "      <td>img.kurzy.cz</td>\n",
       "      <td>43832953.0</td>\n",
       "      <td>False</td>\n",
       "    </tr>\n",
       "    <tr>\n",
       "      <th>494258</th>\n",
       "      <td>494258</td>\n",
       "      <td>cz</td>\n",
       "      <td>44489</td>\n",
       "      <td>report.prozeny.cz</td>\n",
       "      <td>43832954.0</td>\n",
       "      <td>False</td>\n",
       "    </tr>\n",
       "    <tr>\n",
       "      <th>494259</th>\n",
       "      <td>494259</td>\n",
       "      <td>cz</td>\n",
       "      <td>44489</td>\n",
       "      <td>pro.mapy.cz</td>\n",
       "      <td>43832955.0</td>\n",
       "      <td>False</td>\n",
       "    </tr>\n",
       "    <tr>\n",
       "      <th>494260</th>\n",
       "      <td>494260</td>\n",
       "      <td>cz</td>\n",
       "      <td>44489</td>\n",
       "      <td>region1.analytics.google.com</td>\n",
       "      <td>43832956.0</td>\n",
       "      <td>True</td>\n",
       "    </tr>\n",
       "  </tbody>\n",
       "</table>\n",
       "<p>494261 rows × 6 columns</p>\n",
       "</div>"
      ],
      "text/plain": [
       "             0   1      2                             3           4      5\n",
       "0            0  de  39835             www.instagram.com  42506263.0  False\n",
       "1            1  de  39835                   twitter.com  42506264.0   True\n",
       "2            2  de  39835                   s0.2mdn.net  42506265.0  False\n",
       "3            3  de  39835                www.clarity.ms  42506266.0  False\n",
       "4            4  de  39835                 www.filmix.ac  42506267.0  False\n",
       "...        ...  ..    ...                           ...         ...    ...\n",
       "494256  494256  cz  44489            cdn.speedcurve.com  43832951.0  False\n",
       "494257  494257  cz  44489                  img.kurzy.cz  43832953.0  False\n",
       "494258  494258  cz  44489             report.prozeny.cz  43832954.0  False\n",
       "494259  494259  cz  44489                   pro.mapy.cz  43832955.0  False\n",
       "494260  494260  cz  44489  region1.analytics.google.com  43832956.0   True\n",
       "\n",
       "[494261 rows x 6 columns]"
      ]
     },
     "execution_count": 6,
     "metadata": {},
     "output_type": "execute_result"
    }
   ],
   "source": [
    "target_domain_df"
   ]
  },
  {
   "cell_type": "code",
   "execution_count": 7,
   "id": "02553c46-6168-49b1-a401-b4e864c63150",
   "metadata": {},
   "outputs": [],
   "source": [
    "target_domain_df.columns = [\"seq\", \"country\", \"asn\", \"target_domain\", \"measurement_id\", \"is_tracker\"]"
   ]
  },
  {
   "cell_type": "code",
   "execution_count": 8,
   "id": "bb156528-12af-4343-93ab-f12647a7a293",
   "metadata": {},
   "outputs": [
    {
     "data": {
      "text/html": [
       "<div>\n",
       "<style scoped>\n",
       "    .dataframe tbody tr th:only-of-type {\n",
       "        vertical-align: middle;\n",
       "    }\n",
       "\n",
       "    .dataframe tbody tr th {\n",
       "        vertical-align: top;\n",
       "    }\n",
       "\n",
       "    .dataframe thead th {\n",
       "        text-align: right;\n",
       "    }\n",
       "</style>\n",
       "<table border=\"1\" class=\"dataframe\">\n",
       "  <thead>\n",
       "    <tr style=\"text-align: right;\">\n",
       "      <th></th>\n",
       "      <th>seq</th>\n",
       "      <th>country</th>\n",
       "      <th>asn</th>\n",
       "      <th>target_domain</th>\n",
       "      <th>measurement_id</th>\n",
       "      <th>is_tracker</th>\n",
       "    </tr>\n",
       "  </thead>\n",
       "  <tbody>\n",
       "    <tr>\n",
       "      <th>0</th>\n",
       "      <td>0</td>\n",
       "      <td>de</td>\n",
       "      <td>39835</td>\n",
       "      <td>www.instagram.com</td>\n",
       "      <td>42506263.0</td>\n",
       "      <td>False</td>\n",
       "    </tr>\n",
       "    <tr>\n",
       "      <th>1</th>\n",
       "      <td>1</td>\n",
       "      <td>de</td>\n",
       "      <td>39835</td>\n",
       "      <td>twitter.com</td>\n",
       "      <td>42506264.0</td>\n",
       "      <td>True</td>\n",
       "    </tr>\n",
       "    <tr>\n",
       "      <th>2</th>\n",
       "      <td>2</td>\n",
       "      <td>de</td>\n",
       "      <td>39835</td>\n",
       "      <td>s0.2mdn.net</td>\n",
       "      <td>42506265.0</td>\n",
       "      <td>False</td>\n",
       "    </tr>\n",
       "    <tr>\n",
       "      <th>3</th>\n",
       "      <td>3</td>\n",
       "      <td>de</td>\n",
       "      <td>39835</td>\n",
       "      <td>www.clarity.ms</td>\n",
       "      <td>42506266.0</td>\n",
       "      <td>False</td>\n",
       "    </tr>\n",
       "    <tr>\n",
       "      <th>4</th>\n",
       "      <td>4</td>\n",
       "      <td>de</td>\n",
       "      <td>39835</td>\n",
       "      <td>www.filmix.ac</td>\n",
       "      <td>42506267.0</td>\n",
       "      <td>False</td>\n",
       "    </tr>\n",
       "  </tbody>\n",
       "</table>\n",
       "</div>"
      ],
      "text/plain": [
       "   seq country    asn      target_domain  measurement_id  is_tracker\n",
       "0    0      de  39835  www.instagram.com      42506263.0       False\n",
       "1    1      de  39835        twitter.com      42506264.0        True\n",
       "2    2      de  39835        s0.2mdn.net      42506265.0       False\n",
       "3    3      de  39835     www.clarity.ms      42506266.0       False\n",
       "4    4      de  39835      www.filmix.ac      42506267.0       False"
      ]
     },
     "execution_count": 8,
     "metadata": {},
     "output_type": "execute_result"
    }
   ],
   "source": [
    "target_domain_df.head(5)"
   ]
  },
  {
   "cell_type": "markdown",
   "id": "35c509ef-e300-4df5-af18-1fc1102e247f",
   "metadata": {},
   "source": [
    "# 3. Validate the current input files"
   ]
  },
  {
   "cell_type": "markdown",
   "id": "20e63811-39a9-455c-af1e-a4425836be61",
   "metadata": {},
   "source": [
    "## 3.1 All FLD in tracker_l?"
   ]
  },
  {
   "cell_type": "code",
   "execution_count": 9,
   "id": "a8e4717c-c682-4b34-95ba-1383b1e2f79c",
   "metadata": {},
   "outputs": [
    {
     "name": "stdout",
     "output_type": "stream",
     "text": [
      "adskeeper.co.uk\n",
      "anm.co.uk\n",
      "dmgmediaprivacy.co.uk\n",
      "google.com.sv\n",
      "google.com.tr\n"
     ]
    }
   ],
   "source": [
    "for tracker in tracker_l:\n",
    "    if tracker.count(\".\") > 1:\n",
    "        print(tracker)"
   ]
  },
  {
   "cell_type": "markdown",
   "id": "60373a13-c23d-4d93-81e8-8e881cd3b37e",
   "metadata": {},
   "source": [
    "## 3.2. How many true in the last column in target_domain_df?"
   ]
  },
  {
   "cell_type": "code",
   "execution_count": 10,
   "id": "fb1a2714-150b-4972-9f38-0c47fa282e5c",
   "metadata": {},
   "outputs": [
    {
     "data": {
      "text/plain": [
       "False    401228\n",
       "True      93033\n",
       "Name: is_tracker, dtype: int64"
      ]
     },
     "execution_count": 10,
     "metadata": {},
     "output_type": "execute_result"
    }
   ],
   "source": [
    "target_domain_df[\"is_tracker\"].value_counts()"
   ]
  },
  {
   "cell_type": "code",
   "execution_count": 11,
   "id": "806bfd40-1912-49f1-9f76-fe9d1cc6cc31",
   "metadata": {},
   "outputs": [
    {
     "data": {
      "text/plain": [
       "False    0.811774\n",
       "True     0.188226\n",
       "Name: is_tracker, dtype: float64"
      ]
     },
     "execution_count": 11,
     "metadata": {},
     "output_type": "execute_result"
    }
   ],
   "source": [
    "target_domain_df[\"is_tracker\"].value_counts(normalize=True)"
   ]
  },
  {
   "cell_type": "markdown",
   "id": "31add739-0505-492f-bfd5-c08b4b7fc1c1",
   "metadata": {},
   "source": [
    "## 3.3. Is tracker_l unique?"
   ]
  },
  {
   "cell_type": "code",
   "execution_count": 12,
   "id": "fb19518e-2425-4e8c-8b9f-285cec663795",
   "metadata": {},
   "outputs": [
    {
     "name": "stdout",
     "output_type": "stream",
     "text": [
      "False\n",
      "-1\n"
     ]
    }
   ],
   "source": [
    "print(len(set(tracker_l)) == len(tracker_l))\n",
    "print(len(set(tracker_l)) - len(tracker_l))"
   ]
  },
  {
   "cell_type": "markdown",
   "id": "70cfd369-a3b8-4db6-a312-c3c1ae216a1e",
   "metadata": {},
   "source": [
    "### 3.3.1. Use tracker_set"
   ]
  },
  {
   "cell_type": "code",
   "execution_count": 13,
   "id": "b8842462-be40-4f6e-bcb0-e7d757b9a46d",
   "metadata": {},
   "outputs": [],
   "source": [
    "tracker_set = set(tracker_l)"
   ]
  },
  {
   "cell_type": "markdown",
   "id": "943401c6-da2b-48d6-a2a9-d67e60b1d51a",
   "metadata": {},
   "source": [
    "# 4. is_more_tracker_l: The crux of this entire code."
   ]
  },
  {
   "cell_type": "code",
   "execution_count": 14,
   "id": "9e579d45-847e-4fba-a4ec-e5d7e99f9b50",
   "metadata": {},
   "outputs": [
    {
     "name": "stdout",
     "output_type": "stream",
     "text": [
      "True\n",
      "False    436656\n",
      "True      57605\n",
      "dtype: int64\n",
      "[False, False, True, False, False, False, False, False, False, False, False, True, False, False, False, False, False, False, False, False]\n"
     ]
    }
   ],
   "source": [
    "is_more_tracker_l = [False] * len(target_domain_df)\n",
    "\n",
    "for tracker in tracker_set:\n",
    "    for i, target_domain in enumerate(target_domain_df[\"target_domain\"]):\n",
    "        if tracker in target_domain:\n",
    "            is_more_tracker_l[i] = True\n",
    "\n",
    "print(len(is_more_tracker_l) == len(target_domain_df))\n",
    "print(pd.DataFrame(is_more_tracker_l).value_counts())\n",
    "print(is_more_tracker_l[:20])"
   ]
  },
  {
   "cell_type": "markdown",
   "id": "8afed75b-7ed7-4e88-b24d-e6b85adf6cc8",
   "metadata": {},
   "source": [
    "# 5. is_new_tracker_l"
   ]
  },
  {
   "cell_type": "markdown",
   "id": "b09ba2ac-3e10-43dd-b4e0-a1085a39b695",
   "metadata": {},
   "source": [
    "## 5.1. is_new_tracker_l"
   ]
  },
  {
   "cell_type": "code",
   "execution_count": 15,
   "id": "9108db31-cecd-40a9-a207-46dc7486b77c",
   "metadata": {},
   "outputs": [
    {
     "data": {
      "text/plain": [
       "False    401228\n",
       "True      93033\n",
       "Name: is_tracker, dtype: int64"
      ]
     },
     "execution_count": 15,
     "metadata": {},
     "output_type": "execute_result"
    }
   ],
   "source": [
    "target_domain_df[\"is_tracker\"].value_counts()"
   ]
  },
  {
   "cell_type": "code",
   "execution_count": 16,
   "id": "c87646c8-1edc-417b-8ac2-6fbce3ef2bfc",
   "metadata": {},
   "outputs": [
    {
     "name": "stdout",
     "output_type": "stream",
     "text": [
      "True\n",
      "False    343776\n",
      "True     150485\n",
      "dtype: int64\n",
      "[False, True, True, False, False, False, False, False, False, False, False, True, False, True, False, True, True, False, False, False]\n"
     ]
    }
   ],
   "source": [
    "is_new_tracker_l = [None] * len(target_domain_df)\n",
    "discovery_l = []\n",
    "\n",
    "for index, original_tracker in enumerate(target_domain_df[\"is_tracker\"]):\n",
    "    if original_tracker is True:\n",
    "        is_new_tracker_l[index] = True\n",
    "    elif original_tracker is False and is_more_tracker_l[index] is True:\n",
    "        discovery_l.append(index)\n",
    "        is_new_tracker_l[index] = True\n",
    "    else:\n",
    "        is_new_tracker_l[index] = False\n",
    "\n",
    "print(len(is_new_tracker_l) == len(target_domain_df))\n",
    "print(pd.DataFrame(is_new_tracker_l).value_counts())\n",
    "print(is_new_tracker_l[:20])"
   ]
  },
  {
   "cell_type": "code",
   "execution_count": 17,
   "id": "b698a036-a8e3-4796-97f7-78657e4b4af6",
   "metadata": {},
   "outputs": [
    {
     "data": {
      "text/plain": [
       "True"
      ]
     },
     "execution_count": 17,
     "metadata": {},
     "output_type": "execute_result"
    }
   ],
   "source": [
    "list(target_domain_df[\"is_tracker\"]).count(True) < is_new_tracker_l.count(True)"
   ]
  },
  {
   "cell_type": "markdown",
   "id": "999a70da-4406-4994-b0c9-24061fbac5dc",
   "metadata": {},
   "source": [
    "## 5.2. List of newly discovered target_main"
   ]
  },
  {
   "cell_type": "code",
   "execution_count": 18,
   "id": "999a8ce0-7c9c-4b4f-891e-437a4642b65b",
   "metadata": {},
   "outputs": [
    {
     "data": {
      "text/plain": [
       "57452"
      ]
     },
     "execution_count": 18,
     "metadata": {},
     "output_type": "execute_result"
    }
   ],
   "source": [
    "len(discovery_l)"
   ]
  },
  {
   "cell_type": "code",
   "execution_count": 19,
   "id": "86b388c0-51e3-4716-b26a-01a87dd12fc0",
   "metadata": {},
   "outputs": [
    {
     "data": {
      "text/plain": [
       "False"
      ]
     },
     "execution_count": 19,
     "metadata": {},
     "output_type": "execute_result"
    }
   ],
   "source": [
    "# Is any of the pre-existing tracker True? There should be no True.\n",
    "# Thus, False would be an output from this any()\n",
    "any(target_domain_df.iloc[discovery_l, target_domain_df.columns == \"is_tracker\"].squeeze())"
   ]
  },
  {
   "cell_type": "code",
   "execution_count": 20,
   "id": "12076c71-9758-47e2-b841-736bbc5f798c",
   "metadata": {},
   "outputs": [
    {
     "data": {
      "text/html": [
       "<div>\n",
       "<style scoped>\n",
       "    .dataframe tbody tr th:only-of-type {\n",
       "        vertical-align: middle;\n",
       "    }\n",
       "\n",
       "    .dataframe tbody tr th {\n",
       "        vertical-align: top;\n",
       "    }\n",
       "\n",
       "    .dataframe thead th {\n",
       "        text-align: right;\n",
       "    }\n",
       "</style>\n",
       "<table border=\"1\" class=\"dataframe\">\n",
       "  <thead>\n",
       "    <tr style=\"text-align: right;\">\n",
       "      <th></th>\n",
       "      <th>target_domain</th>\n",
       "    </tr>\n",
       "  </thead>\n",
       "  <tbody>\n",
       "    <tr>\n",
       "      <th>2</th>\n",
       "      <td>s0.2mdn.net</td>\n",
       "    </tr>\n",
       "    <tr>\n",
       "      <th>11</th>\n",
       "      <td>www.googletagservices.com</td>\n",
       "    </tr>\n",
       "    <tr>\n",
       "      <th>46</th>\n",
       "      <td>ad.yieldlab.net</td>\n",
       "    </tr>\n",
       "    <tr>\n",
       "      <th>53</th>\n",
       "      <td>gdpr-tcfv2.sp-prod.net</td>\n",
       "    </tr>\n",
       "    <tr>\n",
       "      <th>62</th>\n",
       "      <td>tags.tiqcdn.com</td>\n",
       "    </tr>\n",
       "    <tr>\n",
       "      <th>...</th>\n",
       "      <td>...</td>\n",
       "    </tr>\n",
       "    <tr>\n",
       "      <th>494233</th>\n",
       "      <td>trackad.cz</td>\n",
       "    </tr>\n",
       "    <tr>\n",
       "      <th>494234</th>\n",
       "      <td>aax-eu.amazon-adsystem.com</td>\n",
       "    </tr>\n",
       "    <tr>\n",
       "      <th>494235</th>\n",
       "      <td>js.adscale.de</td>\n",
       "    </tr>\n",
       "    <tr>\n",
       "      <th>494242</th>\n",
       "      <td>d46-a.sdn.cz</td>\n",
       "    </tr>\n",
       "    <tr>\n",
       "      <th>494247</th>\n",
       "      <td>d21-a.sdn.cz</td>\n",
       "    </tr>\n",
       "  </tbody>\n",
       "</table>\n",
       "<p>57452 rows × 1 columns</p>\n",
       "</div>"
      ],
      "text/plain": [
       "                     target_domain\n",
       "2                      s0.2mdn.net\n",
       "11       www.googletagservices.com\n",
       "46                 ad.yieldlab.net\n",
       "53          gdpr-tcfv2.sp-prod.net\n",
       "62                 tags.tiqcdn.com\n",
       "...                            ...\n",
       "494233                  trackad.cz\n",
       "494234  aax-eu.amazon-adsystem.com\n",
       "494235               js.adscale.de\n",
       "494242                d46-a.sdn.cz\n",
       "494247                d21-a.sdn.cz\n",
       "\n",
       "[57452 rows x 1 columns]"
      ]
     },
     "execution_count": 20,
     "metadata": {},
     "output_type": "execute_result"
    }
   ],
   "source": [
    "new_tracker_target_domain_df = target_domain_df.iloc[discovery_l, target_domain_df.columns == \"target_domain\"]\n",
    "new_tracker_target_domain_df"
   ]
  },
  {
   "cell_type": "markdown",
   "id": "d04f173f-e335-499f-9d22-a8b08dd23216",
   "metadata": {},
   "source": [
    "# 6. Output dfs"
   ]
  },
  {
   "cell_type": "markdown",
   "id": "dfb76748-c22b-40e8-871c-02a6e5e972f6",
   "metadata": {},
   "source": [
    "## 6.1. new_target_domain_df"
   ]
  },
  {
   "cell_type": "code",
   "execution_count": 21,
   "id": "a59a3cd1-5052-4ee6-afbd-466675dc73dd",
   "metadata": {},
   "outputs": [
    {
     "data": {
      "text/html": [
       "<div>\n",
       "<style scoped>\n",
       "    .dataframe tbody tr th:only-of-type {\n",
       "        vertical-align: middle;\n",
       "    }\n",
       "\n",
       "    .dataframe tbody tr th {\n",
       "        vertical-align: top;\n",
       "    }\n",
       "\n",
       "    .dataframe thead th {\n",
       "        text-align: right;\n",
       "    }\n",
       "</style>\n",
       "<table border=\"1\" class=\"dataframe\">\n",
       "  <thead>\n",
       "    <tr style=\"text-align: right;\">\n",
       "      <th></th>\n",
       "      <th>seq</th>\n",
       "      <th>country</th>\n",
       "      <th>asn</th>\n",
       "      <th>target_domain</th>\n",
       "      <th>measurement_id</th>\n",
       "      <th>is_tracker</th>\n",
       "    </tr>\n",
       "  </thead>\n",
       "  <tbody>\n",
       "    <tr>\n",
       "      <th>0</th>\n",
       "      <td>0</td>\n",
       "      <td>de</td>\n",
       "      <td>39835</td>\n",
       "      <td>www.instagram.com</td>\n",
       "      <td>42506263.0</td>\n",
       "      <td>False</td>\n",
       "    </tr>\n",
       "    <tr>\n",
       "      <th>1</th>\n",
       "      <td>1</td>\n",
       "      <td>de</td>\n",
       "      <td>39835</td>\n",
       "      <td>twitter.com</td>\n",
       "      <td>42506264.0</td>\n",
       "      <td>True</td>\n",
       "    </tr>\n",
       "    <tr>\n",
       "      <th>2</th>\n",
       "      <td>2</td>\n",
       "      <td>de</td>\n",
       "      <td>39835</td>\n",
       "      <td>s0.2mdn.net</td>\n",
       "      <td>42506265.0</td>\n",
       "      <td>False</td>\n",
       "    </tr>\n",
       "    <tr>\n",
       "      <th>3</th>\n",
       "      <td>3</td>\n",
       "      <td>de</td>\n",
       "      <td>39835</td>\n",
       "      <td>www.clarity.ms</td>\n",
       "      <td>42506266.0</td>\n",
       "      <td>False</td>\n",
       "    </tr>\n",
       "    <tr>\n",
       "      <th>4</th>\n",
       "      <td>4</td>\n",
       "      <td>de</td>\n",
       "      <td>39835</td>\n",
       "      <td>www.filmix.ac</td>\n",
       "      <td>42506267.0</td>\n",
       "      <td>False</td>\n",
       "    </tr>\n",
       "    <tr>\n",
       "      <th>...</th>\n",
       "      <td>...</td>\n",
       "      <td>...</td>\n",
       "      <td>...</td>\n",
       "      <td>...</td>\n",
       "      <td>...</td>\n",
       "      <td>...</td>\n",
       "    </tr>\n",
       "    <tr>\n",
       "      <th>494256</th>\n",
       "      <td>494256</td>\n",
       "      <td>cz</td>\n",
       "      <td>44489</td>\n",
       "      <td>cdn.speedcurve.com</td>\n",
       "      <td>43832951.0</td>\n",
       "      <td>False</td>\n",
       "    </tr>\n",
       "    <tr>\n",
       "      <th>494257</th>\n",
       "      <td>494257</td>\n",
       "      <td>cz</td>\n",
       "      <td>44489</td>\n",
       "      <td>img.kurzy.cz</td>\n",
       "      <td>43832953.0</td>\n",
       "      <td>False</td>\n",
       "    </tr>\n",
       "    <tr>\n",
       "      <th>494258</th>\n",
       "      <td>494258</td>\n",
       "      <td>cz</td>\n",
       "      <td>44489</td>\n",
       "      <td>report.prozeny.cz</td>\n",
       "      <td>43832954.0</td>\n",
       "      <td>False</td>\n",
       "    </tr>\n",
       "    <tr>\n",
       "      <th>494259</th>\n",
       "      <td>494259</td>\n",
       "      <td>cz</td>\n",
       "      <td>44489</td>\n",
       "      <td>pro.mapy.cz</td>\n",
       "      <td>43832955.0</td>\n",
       "      <td>False</td>\n",
       "    </tr>\n",
       "    <tr>\n",
       "      <th>494260</th>\n",
       "      <td>494260</td>\n",
       "      <td>cz</td>\n",
       "      <td>44489</td>\n",
       "      <td>region1.analytics.google.com</td>\n",
       "      <td>43832956.0</td>\n",
       "      <td>True</td>\n",
       "    </tr>\n",
       "  </tbody>\n",
       "</table>\n",
       "<p>494261 rows × 6 columns</p>\n",
       "</div>"
      ],
      "text/plain": [
       "           seq country    asn                 target_domain  measurement_id  \\\n",
       "0            0      de  39835             www.instagram.com      42506263.0   \n",
       "1            1      de  39835                   twitter.com      42506264.0   \n",
       "2            2      de  39835                   s0.2mdn.net      42506265.0   \n",
       "3            3      de  39835                www.clarity.ms      42506266.0   \n",
       "4            4      de  39835                 www.filmix.ac      42506267.0   \n",
       "...        ...     ...    ...                           ...             ...   \n",
       "494256  494256      cz  44489            cdn.speedcurve.com      43832951.0   \n",
       "494257  494257      cz  44489                  img.kurzy.cz      43832953.0   \n",
       "494258  494258      cz  44489             report.prozeny.cz      43832954.0   \n",
       "494259  494259      cz  44489                   pro.mapy.cz      43832955.0   \n",
       "494260  494260      cz  44489  region1.analytics.google.com      43832956.0   \n",
       "\n",
       "        is_tracker  \n",
       "0            False  \n",
       "1             True  \n",
       "2            False  \n",
       "3            False  \n",
       "4            False  \n",
       "...            ...  \n",
       "494256       False  \n",
       "494257       False  \n",
       "494258       False  \n",
       "494259       False  \n",
       "494260        True  \n",
       "\n",
       "[494261 rows x 6 columns]"
      ]
     },
     "execution_count": 21,
     "metadata": {},
     "output_type": "execute_result"
    }
   ],
   "source": [
    "target_domain_df"
   ]
  },
  {
   "cell_type": "code",
   "execution_count": 22,
   "id": "83e083c2-9f68-4812-b3c2-dfdb9339b56f",
   "metadata": {},
   "outputs": [
    {
     "data": {
      "text/html": [
       "<div>\n",
       "<style scoped>\n",
       "    .dataframe tbody tr th:only-of-type {\n",
       "        vertical-align: middle;\n",
       "    }\n",
       "\n",
       "    .dataframe tbody tr th {\n",
       "        vertical-align: top;\n",
       "    }\n",
       "\n",
       "    .dataframe thead th {\n",
       "        text-align: right;\n",
       "    }\n",
       "</style>\n",
       "<table border=\"1\" class=\"dataframe\">\n",
       "  <thead>\n",
       "    <tr style=\"text-align: right;\">\n",
       "      <th></th>\n",
       "      <th>seq</th>\n",
       "      <th>country</th>\n",
       "      <th>asn</th>\n",
       "      <th>target_domain</th>\n",
       "      <th>measurement_id</th>\n",
       "    </tr>\n",
       "  </thead>\n",
       "  <tbody>\n",
       "    <tr>\n",
       "      <th>0</th>\n",
       "      <td>0</td>\n",
       "      <td>de</td>\n",
       "      <td>39835</td>\n",
       "      <td>www.instagram.com</td>\n",
       "      <td>42506263.0</td>\n",
       "    </tr>\n",
       "    <tr>\n",
       "      <th>1</th>\n",
       "      <td>1</td>\n",
       "      <td>de</td>\n",
       "      <td>39835</td>\n",
       "      <td>twitter.com</td>\n",
       "      <td>42506264.0</td>\n",
       "    </tr>\n",
       "    <tr>\n",
       "      <th>2</th>\n",
       "      <td>2</td>\n",
       "      <td>de</td>\n",
       "      <td>39835</td>\n",
       "      <td>s0.2mdn.net</td>\n",
       "      <td>42506265.0</td>\n",
       "    </tr>\n",
       "    <tr>\n",
       "      <th>3</th>\n",
       "      <td>3</td>\n",
       "      <td>de</td>\n",
       "      <td>39835</td>\n",
       "      <td>www.clarity.ms</td>\n",
       "      <td>42506266.0</td>\n",
       "    </tr>\n",
       "    <tr>\n",
       "      <th>4</th>\n",
       "      <td>4</td>\n",
       "      <td>de</td>\n",
       "      <td>39835</td>\n",
       "      <td>www.filmix.ac</td>\n",
       "      <td>42506267.0</td>\n",
       "    </tr>\n",
       "    <tr>\n",
       "      <th>...</th>\n",
       "      <td>...</td>\n",
       "      <td>...</td>\n",
       "      <td>...</td>\n",
       "      <td>...</td>\n",
       "      <td>...</td>\n",
       "    </tr>\n",
       "    <tr>\n",
       "      <th>494256</th>\n",
       "      <td>494256</td>\n",
       "      <td>cz</td>\n",
       "      <td>44489</td>\n",
       "      <td>cdn.speedcurve.com</td>\n",
       "      <td>43832951.0</td>\n",
       "    </tr>\n",
       "    <tr>\n",
       "      <th>494257</th>\n",
       "      <td>494257</td>\n",
       "      <td>cz</td>\n",
       "      <td>44489</td>\n",
       "      <td>img.kurzy.cz</td>\n",
       "      <td>43832953.0</td>\n",
       "    </tr>\n",
       "    <tr>\n",
       "      <th>494258</th>\n",
       "      <td>494258</td>\n",
       "      <td>cz</td>\n",
       "      <td>44489</td>\n",
       "      <td>report.prozeny.cz</td>\n",
       "      <td>43832954.0</td>\n",
       "    </tr>\n",
       "    <tr>\n",
       "      <th>494259</th>\n",
       "      <td>494259</td>\n",
       "      <td>cz</td>\n",
       "      <td>44489</td>\n",
       "      <td>pro.mapy.cz</td>\n",
       "      <td>43832955.0</td>\n",
       "    </tr>\n",
       "    <tr>\n",
       "      <th>494260</th>\n",
       "      <td>494260</td>\n",
       "      <td>cz</td>\n",
       "      <td>44489</td>\n",
       "      <td>region1.analytics.google.com</td>\n",
       "      <td>43832956.0</td>\n",
       "    </tr>\n",
       "  </tbody>\n",
       "</table>\n",
       "<p>494261 rows × 5 columns</p>\n",
       "</div>"
      ],
      "text/plain": [
       "           seq country    asn                 target_domain  measurement_id\n",
       "0            0      de  39835             www.instagram.com      42506263.0\n",
       "1            1      de  39835                   twitter.com      42506264.0\n",
       "2            2      de  39835                   s0.2mdn.net      42506265.0\n",
       "3            3      de  39835                www.clarity.ms      42506266.0\n",
       "4            4      de  39835                 www.filmix.ac      42506267.0\n",
       "...        ...     ...    ...                           ...             ...\n",
       "494256  494256      cz  44489            cdn.speedcurve.com      43832951.0\n",
       "494257  494257      cz  44489                  img.kurzy.cz      43832953.0\n",
       "494258  494258      cz  44489             report.prozeny.cz      43832954.0\n",
       "494259  494259      cz  44489                   pro.mapy.cz      43832955.0\n",
       "494260  494260      cz  44489  region1.analytics.google.com      43832956.0\n",
       "\n",
       "[494261 rows x 5 columns]"
      ]
     },
     "execution_count": 22,
     "metadata": {},
     "output_type": "execute_result"
    }
   ],
   "source": [
    "new_target_domain_df = target_domain_df.loc[:, target_domain_df.columns != \"is_tracker\"]\n",
    "new_target_domain_df"
   ]
  },
  {
   "cell_type": "markdown",
   "id": "6cf217d0-3e16-49ce-a459-3338776b9dcf",
   "metadata": {},
   "source": [
    "## 6.2. Add a column"
   ]
  },
  {
   "cell_type": "code",
   "execution_count": 23,
   "id": "c7e96367-3f30-4f09-a1ad-69368ae2f24d",
   "metadata": {},
   "outputs": [
    {
     "data": {
      "text/html": [
       "<div>\n",
       "<style scoped>\n",
       "    .dataframe tbody tr th:only-of-type {\n",
       "        vertical-align: middle;\n",
       "    }\n",
       "\n",
       "    .dataframe tbody tr th {\n",
       "        vertical-align: top;\n",
       "    }\n",
       "\n",
       "    .dataframe thead th {\n",
       "        text-align: right;\n",
       "    }\n",
       "</style>\n",
       "<table border=\"1\" class=\"dataframe\">\n",
       "  <thead>\n",
       "    <tr style=\"text-align: right;\">\n",
       "      <th></th>\n",
       "      <th>seq</th>\n",
       "      <th>country</th>\n",
       "      <th>asn</th>\n",
       "      <th>target_domain</th>\n",
       "      <th>measurement_id</th>\n",
       "      <th>is_new_tracker_l</th>\n",
       "    </tr>\n",
       "  </thead>\n",
       "  <tbody>\n",
       "    <tr>\n",
       "      <th>0</th>\n",
       "      <td>0</td>\n",
       "      <td>de</td>\n",
       "      <td>39835</td>\n",
       "      <td>www.instagram.com</td>\n",
       "      <td>42506263.0</td>\n",
       "      <td>False</td>\n",
       "    </tr>\n",
       "    <tr>\n",
       "      <th>1</th>\n",
       "      <td>1</td>\n",
       "      <td>de</td>\n",
       "      <td>39835</td>\n",
       "      <td>twitter.com</td>\n",
       "      <td>42506264.0</td>\n",
       "      <td>True</td>\n",
       "    </tr>\n",
       "    <tr>\n",
       "      <th>2</th>\n",
       "      <td>2</td>\n",
       "      <td>de</td>\n",
       "      <td>39835</td>\n",
       "      <td>s0.2mdn.net</td>\n",
       "      <td>42506265.0</td>\n",
       "      <td>True</td>\n",
       "    </tr>\n",
       "    <tr>\n",
       "      <th>3</th>\n",
       "      <td>3</td>\n",
       "      <td>de</td>\n",
       "      <td>39835</td>\n",
       "      <td>www.clarity.ms</td>\n",
       "      <td>42506266.0</td>\n",
       "      <td>False</td>\n",
       "    </tr>\n",
       "    <tr>\n",
       "      <th>4</th>\n",
       "      <td>4</td>\n",
       "      <td>de</td>\n",
       "      <td>39835</td>\n",
       "      <td>www.filmix.ac</td>\n",
       "      <td>42506267.0</td>\n",
       "      <td>False</td>\n",
       "    </tr>\n",
       "    <tr>\n",
       "      <th>...</th>\n",
       "      <td>...</td>\n",
       "      <td>...</td>\n",
       "      <td>...</td>\n",
       "      <td>...</td>\n",
       "      <td>...</td>\n",
       "      <td>...</td>\n",
       "    </tr>\n",
       "    <tr>\n",
       "      <th>494256</th>\n",
       "      <td>494256</td>\n",
       "      <td>cz</td>\n",
       "      <td>44489</td>\n",
       "      <td>cdn.speedcurve.com</td>\n",
       "      <td>43832951.0</td>\n",
       "      <td>False</td>\n",
       "    </tr>\n",
       "    <tr>\n",
       "      <th>494257</th>\n",
       "      <td>494257</td>\n",
       "      <td>cz</td>\n",
       "      <td>44489</td>\n",
       "      <td>img.kurzy.cz</td>\n",
       "      <td>43832953.0</td>\n",
       "      <td>False</td>\n",
       "    </tr>\n",
       "    <tr>\n",
       "      <th>494258</th>\n",
       "      <td>494258</td>\n",
       "      <td>cz</td>\n",
       "      <td>44489</td>\n",
       "      <td>report.prozeny.cz</td>\n",
       "      <td>43832954.0</td>\n",
       "      <td>False</td>\n",
       "    </tr>\n",
       "    <tr>\n",
       "      <th>494259</th>\n",
       "      <td>494259</td>\n",
       "      <td>cz</td>\n",
       "      <td>44489</td>\n",
       "      <td>pro.mapy.cz</td>\n",
       "      <td>43832955.0</td>\n",
       "      <td>False</td>\n",
       "    </tr>\n",
       "    <tr>\n",
       "      <th>494260</th>\n",
       "      <td>494260</td>\n",
       "      <td>cz</td>\n",
       "      <td>44489</td>\n",
       "      <td>region1.analytics.google.com</td>\n",
       "      <td>43832956.0</td>\n",
       "      <td>True</td>\n",
       "    </tr>\n",
       "  </tbody>\n",
       "</table>\n",
       "<p>494261 rows × 6 columns</p>\n",
       "</div>"
      ],
      "text/plain": [
       "           seq country    asn                 target_domain  measurement_id  \\\n",
       "0            0      de  39835             www.instagram.com      42506263.0   \n",
       "1            1      de  39835                   twitter.com      42506264.0   \n",
       "2            2      de  39835                   s0.2mdn.net      42506265.0   \n",
       "3            3      de  39835                www.clarity.ms      42506266.0   \n",
       "4            4      de  39835                 www.filmix.ac      42506267.0   \n",
       "...        ...     ...    ...                           ...             ...   \n",
       "494256  494256      cz  44489            cdn.speedcurve.com      43832951.0   \n",
       "494257  494257      cz  44489                  img.kurzy.cz      43832953.0   \n",
       "494258  494258      cz  44489             report.prozeny.cz      43832954.0   \n",
       "494259  494259      cz  44489                   pro.mapy.cz      43832955.0   \n",
       "494260  494260      cz  44489  region1.analytics.google.com      43832956.0   \n",
       "\n",
       "        is_new_tracker_l  \n",
       "0                  False  \n",
       "1                   True  \n",
       "2                   True  \n",
       "3                  False  \n",
       "4                  False  \n",
       "...                  ...  \n",
       "494256             False  \n",
       "494257             False  \n",
       "494258             False  \n",
       "494259             False  \n",
       "494260              True  \n",
       "\n",
       "[494261 rows x 6 columns]"
      ]
     },
     "execution_count": 23,
     "metadata": {},
     "output_type": "execute_result"
    }
   ],
   "source": [
    "new_target_domain_df[\"is_new_tracker\"] = is_new_tracker_l\n",
    "new_target_domain_df"
   ]
  },
  {
   "cell_type": "markdown",
   "id": "8da3b4f7-56d2-49ad-8350-c1313250ab68",
   "metadata": {},
   "source": [
    "# 7. Sanity Check"
   ]
  },
  {
   "cell_type": "code",
   "execution_count": 62,
   "id": "7882eec9-bbb0-43f6-b753-64a9a5b1fdfd",
   "metadata": {},
   "outputs": [
    {
     "name": "stdout",
     "output_type": "stream",
     "text": [
      "                                            target_domain  is_new_tracker\n",
      "0       0002ef56d2c36b3315aeec9d9463703c.safeframe.goo...            True\n",
      "1       00036b125863effb351e99df49faae0b.safeframe.goo...            True\n",
      "2       0003c659403d033f1a571364cbe76e38.safeframe.goo...            True\n",
      "3       0005411b011b785b82253cf23efb3ed8.safeframe.goo...            True\n",
      "4       0007775d4d08874afa37e5e80743ec11a391ae0bb1f810...            True\n",
      "...                                                   ...             ...\n",
      "494256  zzn11mlfqj1wu89ixcvzpvdditey61659888169.nuid.i...            True\n",
      "494257  zzpm1e2a1zkqwfmg2zemlkcjkgnkd1659876170.nuid.i...            True\n",
      "494258  zzuww23heszseumt2koxyvvg7xtzh1659958571.nuid.n...            True\n",
      "494259  zzvpgcjgzueh78etb7lqarrbkref11659845481.nuid.i...            True\n",
      "494260  zzwthiostbmynhdupqcewzhjut5tl1658207632.nuid.n...            True\n",
      "\n",
      "[494261 rows x 2 columns]\n"
     ]
    }
   ],
   "source": [
    "sanity_check_df = new_target_domain_df[[\"target_domain\", \"is_new_tracker\"]]\n",
    "sanity_check_df = sanity_check_df.sort_values(by=\"target_domain\")\n",
    "sanity_check_df = sanity_check_df.reset_index(drop=True)\n",
    "print(sanity_check_df)"
   ]
  },
  {
   "cell_type": "code",
   "execution_count": 64,
   "id": "033f54b7-800d-4920-90f6-4369f065f527",
   "metadata": {},
   "outputs": [
    {
     "name": "stdout",
     "output_type": "stream",
     "text": [
      "set()\n"
     ]
    }
   ],
   "source": [
    "target_domain_s = \"\"\n",
    "inconsistent_target_domain_set = set()\n",
    "\n",
    "for i in range(len(sanity_check_df)):\n",
    "    if sanity_check_df[\"target_domain\"][i] != target_domain_s:\n",
    "        is_new_tracker_bool = sanity_check_df[\"is_new_tracker\"][i]\n",
    "    else:\n",
    "        if sanity_check_df[\"is_new_tracker\"][i] != is_new_tracker_bool:\n",
    "            inconsistent_target_domain_set.add(sanity_check_df[\"target_domain\"][i])\n",
    "\n",
    "# It should print an empty set.\n",
    "print(inconsistent_target_domain_set)"
   ]
  },
  {
   "cell_type": "markdown",
   "id": "8e0acb37-44fe-4cf4-8c6d-0de60a93f4df",
   "metadata": {},
   "source": [
    "# 8. Save as TXT"
   ]
  },
  {
   "cell_type": "markdown",
   "id": "7de5f154-49d8-4ce6-a7e7-169ab6eb9503",
   "metadata": {},
   "source": [
    "## 8.1. Save new_target_domain_df as TXT"
   ]
  },
  {
   "cell_type": "code",
   "execution_count": 24,
   "id": "0af5a109-9f37-43c1-a00d-53b755a62443",
   "metadata": {},
   "outputs": [],
   "source": [
    "os.chdir(output_path_s)\n",
    "print(os.getcwd())"
   ]
  },
  {
   "cell_type": "code",
   "execution_count": 25,
   "id": "196bbcc0-ce8b-433f-a3c0-a9b42f7d843a",
   "metadata": {},
   "outputs": [],
   "source": [
    "new_target_domain_df.to_csv(\"measurement_ids_kicho_tracker_20221007.txt\", header=False, index=False)"
   ]
  },
  {
   "cell_type": "markdown",
   "id": "6a609daf-9666-4ceb-9ac4-ae40b9578678",
   "metadata": {},
   "source": [
    "## 8.2. Save new_tracker_target_domain_df as TXT"
   ]
  },
  {
   "cell_type": "code",
   "execution_count": 26,
   "id": "aa369342-6b9d-4542-ae89-f54bcffc1d1a",
   "metadata": {},
   "outputs": [],
   "source": [
    "new_tracker_target_domain_df.to_csv(\"new_tracker_target_domain_20221007.txt\", header=False, index=False)"
   ]
  },
  {
   "cell_type": "code",
   "execution_count": null,
   "id": "130e9450-d5aa-4a1a-94ca-4c8034fadb38",
   "metadata": {},
   "outputs": [],
   "source": []
  }
 ],
 "metadata": {
  "kernelspec": {
   "display_name": "Python 3 (ipykernel)",
   "language": "python",
   "name": "python3"
  },
  "language_info": {
   "codemirror_mode": {
    "name": "ipython",
    "version": 3
   },
   "file_extension": ".py",
   "mimetype": "text/x-python",
   "name": "python",
   "nbconvert_exporter": "python",
   "pygments_lexer": "ipython3",
   "version": "3.9.7"
  }
 },
 "nbformat": 4,
 "nbformat_minor": 5
}
